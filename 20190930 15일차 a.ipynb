{
 "cells": [
  {
   "cell_type": "markdown",
   "metadata": {},
   "source": [
    "# Linked-list 형태의 Posting\n",
    "- Inverted Index 사용\n",
    "    - Inverted index의 장점 -> 수정이 쉽다.\n",
    "- Posting 방식\n",
    "    - TDM에서 Document(postings)를 디스크에 따로 둔다. (메모리에 올리지 않아도 됨)\n",
    "        - FILE(각 문서) ----- V(Controled Vocabulary) : 둘을 분리 시킨다.\n",
    "\n",
    "    - **포인터** 개념으로 posting에 **효율적인 액세스** 구조\n",
    "- 아래 예제에서는 포인터의 개념만 이해하기 위해서 postings를 메모리에 올린 채로 실습한다. 디스크에 분리하는 방법은 나중에 또 실습할 것임."
   ]
  },
  {
   "cell_type": "code",
   "execution_count": 1,
   "metadata": {},
   "outputs": [],
   "source": [
    "from konlpy.corpus import kobill\n",
    "from konlpy.tag import Kkma"
   ]
  },
  {
   "cell_type": "code",
   "execution_count": 2,
   "metadata": {},
   "outputs": [
    {
     "name": "stderr",
     "output_type": "stream",
     "text": [
      "C:\\Users\\JINHYO\\Anaconda3\\lib\\site-packages\\jpype\\_core.py:210: UserWarning: \n",
      "-------------------------------------------------------------------------------\n",
      "Deprecated: convertStrings was not specified when starting the JVM. The default\n",
      "behavior in JPype will be False starting in JPype 0.8. The recommended setting\n",
      "for new code is convertStrings=False.  The legacy value of True was assumed for\n",
      "this session. If you are a user of an application that reported this warning,\n",
      "please file a ticket with the developer.\n",
      "-------------------------------------------------------------------------------\n",
      "\n",
      "  \"\"\")\n"
     ]
    }
   ],
   "source": [
    "from collections import defaultdict\n",
    "\n",
    "Documents = list()\n",
    "\n",
    "kkma = Kkma()\n",
    "Lexicon = list()\n",
    "\n",
    "t2i = lambda t:Lexicon.index(t)\n",
    "i2t = lambda t:Lexicon[t]\n",
    "\n",
    "d2i = lambda t:Documents.index(t)\n",
    "i2d = lambda t:Documents[t]\n",
    "\n",
    "Dicts = defaultdict(lambda: -1)\n",
    "Postings = list()\n",
    "\n",
    "for document in [kobill.open(_).read()\n",
    "                 for _ in kobill.fileids()]:\n",
    "    Documents.append(document)\n",
    "    docID = d2i(document)\n",
    "    for term in [_ for _ in kkma.morphs(document)\n",
    "              if 1 < len(_) < 6]:\n",
    "        if term not in Lexicon:\n",
    "            Lexicon.append(term)\n",
    "            \n",
    "        ptr = Dicts[term] # 포인터 = next\n",
    "        termID = t2i(term)\n",
    "        postingPtr= len(Postings)\n",
    "        Postings.append((termID, docID, 1, ptr)) \n",
    "            # 원래 1 대신에 들어가야하는 것은 frequency이다.                     \n",
    "            # 지금은 boolean 모델이므로 term이 document에 있냐 없냐만 중요하다.\n",
    "            # Ranking model에서는 frequency가 필요하다.\n",
    "            # frequency 계산하는 실습은 뒤이어서 해볼 것이다.\n",
    "        Dicts[term] = postingPtr"
   ]
  },
  {
   "cell_type": "code",
   "execution_count": 3,
   "metadata": {},
   "outputs": [
    {
     "data": {
      "text/plain": [
       "(1139, 10, 6438)"
      ]
     },
     "execution_count": 3,
     "metadata": {},
     "output_type": "execute_result"
    }
   ],
   "source": [
    "len(Lexicon), len(Documents), Dicts[\"국민\"]"
   ]
  },
  {
   "cell_type": "code",
   "execution_count": 4,
   "metadata": {},
   "outputs": [
    {
     "data": {
      "text/plain": [
       "(0, 8, 1, 6660)"
      ]
     },
     "execution_count": 4,
     "metadata": {},
     "output_type": "execute_result"
    }
   ],
   "source": [
    "Postings[Dicts[i2t(0)]]"
   ]
  },
  {
   "cell_type": "code",
   "execution_count": 5,
   "metadata": {},
   "outputs": [
    {
     "name": "stdout",
     "output_type": "stream",
     "text": [
      "인덱스, (termID, docID, freq, ptr)\n"
     ]
    },
    {
     "data": {
      "text/plain": [
       "[(5, (5, 0, 1, -1)),\n",
       " (14, (5, 0, 1, 5)),\n",
       " (560, (5, 0, 1, 14)),\n",
       " (888, (5, 1, 1, 560)),\n",
       " (897, (5, 1, 1, 888)),\n",
       " (1443, (5, 1, 1, 897)),\n",
       " (1771, (5, 2, 1, 1443)),\n",
       " (1780, (5, 2, 1, 1771)),\n",
       " (2482, (5, 2, 1, 1780)),\n",
       " (2816, (5, 3, 1, 2482)),\n",
       " (2825, (5, 3, 1, 2816)),\n",
       " (3375, (5, 3, 1, 2825)),\n",
       " (5143, (5, 6, 1, 3375)),\n",
       " (5146, (5, 6, 1, 5143)),\n",
       " (5157, (5, 6, 1, 5146))]"
      ]
     },
     "execution_count": 5,
     "metadata": {},
     "output_type": "execute_result"
    }
   ],
   "source": [
    "# ptr는 Postings에서 자기 앞에 있는 자기와 같은 term의 위치를 나타낸다.\n",
    "# 아래 출력을 보면, 아래에서부터 ptr은 바로 위의 인덱스와 같다.\n",
    "\n",
    "print(\"인덱스, (termID, docID, freq, ptr)\")\n",
    "[(i, _) for i, _ in enumerate(Postings) if _[0]==5]"
   ]
  },
  {
   "cell_type": "code",
   "execution_count": 7,
   "metadata": {},
   "outputs": [
    {
     "name": "stdout",
     "output_type": "stream",
     "text": [
      "Query: 지방 docID: 8 next: 6660\n",
      "Query: 지방 docID: 7 next: 3627\n",
      "Query: 지방 docID: 3 next: 3233\n",
      "Query: 지방 docID: 3 next: 3197\n",
      "Query: 지방 docID: 3 next: 3124\n",
      "Query: 지방 docID: 3 next: 3121\n",
      "Query: 지방 docID: 3 next: 2734\n",
      "Query: 지방 docID: 2 next: 2340\n",
      "Query: 지방 docID: 2 next: 2304\n",
      "Query: 지방 docID: 2 next: 2231\n",
      "Query: 지방 docID: 2 next: 2228\n",
      "Query: 지방 docID: 2 next: 1695\n",
      "Query: 지방 docID: 1 next: 1301\n",
      "Query: 지방 docID: 1 next: 1265\n",
      "Query: 지방 docID: 1 next: 1192\n",
      "Query: 지방 docID: 1 next: 1189\n",
      "Query: 지방 docID: 1 next: 812\n",
      "Query: 지방 docID: 0 next: 418\n",
      "Query: 지방 docID: 0 next: 382\n",
      "Query: 지방 docID: 0 next: 309\n",
      "Query: 지방 docID: 0 next: 306\n",
      "Query: 지방 docID: 0 next: 279\n",
      "Query: 지방 docID: 0 next: 78\n",
      "Query: 지방 docID: 0 next: 73\n",
      "Query: 지방 docID: 0 next: 0\n",
      "Query: 지방 docID: 0 next: -1\n"
     ]
    }
   ],
   "source": [
    "ptr = Dicts[i2t(0)] # 첫번째 pointer가 필요함.\n",
    "                    # Dicts는 가장 마지막 ptr를 가지고 있음.\n",
    "while ptr != -1: # ptr가 -1이면 마지막이다. \n",
    "    _struct = Postings[ptr]\n",
    "    print(\"Query:\", i2t(_struct[0]), \"docID:\", _struct[1], \"next:\", _struct[-1])\n",
    "    ptr = _struct[-1]"
   ]
  },
  {
   "cell_type": "code",
   "execution_count": 8,
   "metadata": {},
   "outputs": [
    {
     "data": {
      "text/plain": [
       "[9, 9, 6, 6, 5, 5, 4, 4, 3, 3, 2, 2, 1, 1, 0, 0]"
      ]
     },
     "execution_count": 8,
     "metadata": {},
     "output_type": "execute_result"
    }
   ],
   "source": [
    "Query = \"법안 의원\"\n",
    "Result = list()\n",
    "for q in [_ for _ in kkma.morphs(Query)\n",
    "         if 1 < len(_) < 6]:\n",
    "    candidates = list()\n",
    "    ptr = Dicts[q]\n",
    "    while ptr != -1:\n",
    "        _struct = Postings[ptr]\n",
    "        candidates.append(_struct[1])\n",
    "        ptr = _struct[-1]\n",
    "    Result.append(candidates)\n",
    "candidates"
   ]
  },
  {
   "cell_type": "markdown",
   "metadata": {},
   "source": [
    "---"
   ]
  },
  {
   "cell_type": "markdown",
   "metadata": {},
   "source": [
    "### term frequency 포함해서 Posting하기"
   ]
  },
  {
   "cell_type": "code",
   "execution_count": 9,
   "metadata": {},
   "outputs": [],
   "source": [
    "Documents = list()\n",
    "\n",
    "kkma = Kkma()\n",
    "Lexicon = list()\n",
    "\n",
    "t2i = lambda t:Lexicon.index(t)\n",
    "i2t = lambda t:Lexicon[t]\n",
    "\n",
    "d2i = lambda t:Documents.index(t)\n",
    "i2d = lambda t:Documents[t]\n",
    "\n",
    "Dicts = defaultdict(lambda: -1)\n",
    "Postings = list()\n",
    "\n",
    "for docName in kobill.fileids():\n",
    "    document = kobill.open(docName).read()\n",
    "    Documents.append(docName)\n",
    "    docID = d2i(docName)\n",
    "    localPostings = defaultdict(int)\n",
    "    for term in [_ for _ in kkma.morphs(document)\n",
    "              if 1 < len(_) < 6]:\n",
    "        if term not in Lexicon:\n",
    "            Lexicon.append(term)\n",
    "        localPostings[term] += 1\n",
    "            \n",
    "    for term, freq in localPostings.items():\n",
    "        ptr = Dicts[term]\n",
    "        termID = t2i(term)\n",
    "        postingPtr= len(Postings)\n",
    "        Postings.append((termID, docID, freq, ptr)) # frequency 넣음\n",
    "        Dicts[term] = postingPtr"
   ]
  },
  {
   "cell_type": "code",
   "execution_count": 10,
   "metadata": {
    "scrolled": true
   },
   "outputs": [
    {
     "data": {
      "text/plain": [
       "(2390, (236, 9, 2, 1343))"
      ]
     },
     "execution_count": 10,
     "metadata": {},
     "output_type": "execute_result"
    }
   ],
   "source": [
    "Dicts[\"행정\"], Postings[2390]"
   ]
  },
  {
   "cell_type": "markdown",
   "metadata": {},
   "source": [
    "---"
   ]
  },
  {
   "cell_type": "markdown",
   "metadata": {},
   "source": [
    "# 오늘 공부 내용\n",
    "- Day 1: Boolean and vector space model\n",
    "- http://www.cs.virginia.edu/~hw5x/Course/IR2015/_site/docs/PDFs/Boolean&VS%20model.pdf"
   ]
  },
  {
   "cell_type": "markdown",
   "metadata": {},
   "source": [
    "# Boolean model\n",
    "- 문서 내에 query가 있냐 없냐로만 검색함. -> 모든 검색 결과를 제공한다.(순위가 없다)\n",
    "- 논리 연산자에 따라서 query 검색결과를 조합한다.\n",
    "    - AND: 교집합\n",
    "    - OR: 합집합\n",
    "    - NOT: 차집합\n",
    "- 단점: \n",
    "    - query가 너무 특이해서 검색결과가 없는 경우\n",
    "    - query가 너무 흔해서 검색결과가 너무 많은 경우\n",
    "    - 사용자가 query를 잘 써야함.(일반인에게 난이도가 높을 수 있음)\n",
    "    - 문서 중에 어느게 더 중요한지 순위를 매길 수 없음.\n",
    "- 전문적으로 해야하는 검색에서 사용함 \n",
    "    - 예) 법령 검색, 헌법 검색, 유사특허검색, 도서관 사서 등\n",
    "    \n",
    "- 한계:\n",
    "    - 사용자의 needs에 따라서 query는 다른 중요성을 갖는다.\n",
    "    - 모든 문서는 동등하게 중요할 수 없다.  \n",
    "        => 중요성은 정도의 문제이므로 0과 1로 구분할 수 없다. \n",
    "        \n",
    "        \n",
    "- 지금까지 실습했던 내용들은  Boolean model이었다."
   ]
  },
  {
   "cell_type": "markdown",
   "metadata": {},
   "source": [
    "---"
   ]
  },
  {
   "cell_type": "markdown",
   "metadata": {},
   "source": [
    "# Ranking model\n",
    "- Relevance\n",
    "    - 정도를 표현할 수 있다. -> 비교할 수 있다. -> 순위를 매길 수 있다.\n",
    "- Relevance 종류\n",
    "    - **Similarity** \\* 가장 사랑받는 녀석!\n",
    "        - Bag of Words 를 쓸 수 있다.(벡터로 표현 가능)\n",
    "    - Probability of Relevance\n",
    "        - Bag of Words를 쓸 수 없다(모든 문서는 동등하지 않다고 가정함.)\n",
    "    - Probabilistic inferenced\n",
    "        - Bag of Words를 쓸 수 없다(모든 문서는 동등하지 않다고 가정함.)"
   ]
  },
  {
   "attachments": {},
   "cell_type": "markdown",
   "metadata": {},
   "source": [
    "# 벡터 공간 모델(VS Model, Vector Space Model)\n",
    "- Ranking model의 relevance를 similarity로 구한다.\n",
    "- Query와 documents는 같은 형식으로 표현할 수 있음을 가정한다.\n",
    "    - concept vector로 표현한다.\n",
    "    - 각 concept는 하나의 dimension을 정의한다.\n",
    "    - vector의 요소는 weight(가중치)이다.\n",
    "- concept space 내에서 query vector와 document vector 간의 거리로 유사도(similarity)를 구할 수 있다.\n"
   ]
  },
  {
   "attachments": {
    "image.png": {
     "image/png": "[encoded data removed]"
    }
   },
   "cell_type": "markdown",
   "metadata": {},
   "source": [
    "- 개념도\n",
    "![image.png](attachment:image.png)"
   ]
  },
  {
   "cell_type": "markdown",
   "metadata": {},
   "source": [
    "- 모든 vector는 Orthogonal해야한다.\n",
    "    - 모든 term은 independent해야 한다. \n",
    "    - N-gram, BOW(bag-of-words)를 쓸 수 있다.\n",
    "- weight를 산출하는 것은 중요하다.\n",
    "    - Query 측면: 모든 query term이 동일한 가치를 지니고 있지 않으므로 가중치가 필요\n",
    "    - Doc 측면: 어떠한 term은 콘텐츠에 대해서 더 많은 정보를 가지고 있으므로 가중치가 필요"
   ]
  },
  {
   "cell_type": "markdown",
   "metadata": {},
   "source": [
    "# TF-IDF\n",
    "1. VS model의 heuristic한 concepts\n",
    "1. TF와 IDF를 결합하여 단어의 중요도를 수치로 표현한 것.\n",
    "2. **TF-IDF**는 모든 문서에서 자주 등장하는 단어는 중요도가 낮다고 판단하며, 특정 문서에서만 자주 등장하는 단어는 중요도가 높다고 판단합니다. 단어에 가중치를 매기는 방법입니다.\n",
    "\n",
    "3. TF-IDF는 zipf's law에 기반합니다.\n",
    "    - 빈도가 너무 많거나, 너무 적으면 가중치를 낮게 준다. => 중간 단어가 가중치가 높다.\n",
    "\n",
    "\n",
    "### TF(Term Frequecny)\n",
    "- 한 document 내에서 term이 등장하는 빈도\n",
    "- TF가 높다 => term의 중요도가 높다\n",
    "- 왜냐? 여러번 등장한다는 것은 해당 document의 main topic일 확률이 높기 때문이다.\n",
    "- 예시: (경제기사에서) 시황, 주가, 호황, 영업이익 / (의료분야에서) 간암, 메스, 수술, 회복\n",
    "- 다음과 같이 표현한다.\n",
    "$$\n",
    "tf(t,d)\n",
    "$$\n",
    "    \n",
    "    \n",
    "### IDF(Inverted Document Frequency)\n",
    "- 전체 document 중에서 term이 1번이라도 등장했던 document의 빈도(=DF) 의 역\n",
    "- DF가 높다 => term의 중요도가 낮다\n",
    "- IDF가 높다 => term의 중요도가 높다 (DF의 역이므로)\n",
    "- 왜냐? 많은 document에서 자주 쓰이는 term은 불용어일 확률이 높기 때문이다.\n",
    "- 예시: 나는, 습니다, 읍니다, I, am, a, the 등\n",
    "    "
   ]
  },
  {
   "cell_type": "markdown",
   "metadata": {},
   "source": [
    "- IDF의 계산식 설명\n",
    "    - 단순히 Document Frequency의 역이라면 N/df(t)이어야하는데 아래와 같은 식이 나온 이유\n",
    "$$\n",
    "IDF(t) = log(\\frac{N}{df(t) + 1})\n",
    "$$\n",
    "    - log를 사용하는 이유: 전체 document의 갯수인 N이 커질수록 IDF의 값이 너무 커지는 것을 방지하기 위해서 사용함.\n",
    "    - df(t)에 1을 더하는 이유: t가 모든 document에서 등장하지 않아 0일때 나눗셈 에러를 대비한 스무딩 기법."
   ]
  },
  {
   "cell_type": "markdown",
   "metadata": {},
   "source": [
    "### tf-idf 실습 해봅시다!"
   ]
  },
  {
   "cell_type": "code",
   "execution_count": 11,
   "metadata": {},
   "outputs": [],
   "source": [
    "# TF(Term-Frequency)\n",
    "from math import log\n",
    "\n",
    "tf1 = lambda t: 1\n",
    "tf2 = lambda _struct: _struct[1]\n",
    "tf3 = lambda t:0\n",
    "tf4 = lambda _struct, t: log(1 + _struct[1])\n",
    "tf6 = lambda tf, maxtf, a:a+(1-a)*(tf/maxtf)\n",
    "tf5 = lambda tf, maxtf: tf6(tf, maxtf, 0.5)"
   ]
  },
  {
   "cell_type": "code",
   "execution_count": 12,
   "metadata": {},
   "outputs": [],
   "source": [
    "_Collections = [\n",
    "    [\"A\", \"A\", \"A\",  \"A\", \"A\"],\n",
    "    [\"A\", \"A\", \"A\",  \"A\", \"B\"],\n",
    "    [\"A\", \"A\", \"A\",  \"A\", \"C\"],\n",
    "]\n",
    "\n",
    "_Vocabulary = [\"A\", \"B\", \"C\"]\n",
    "_Lexicon = defaultdict(lambda: -1)\n",
    "_Document = defaultdict(int)\n",
    "_Posting = list()\n",
    "\n",
    "for d in _Collections:\n",
    "    _localPosting = defaultdict(int)\n",
    "    for t in d:\n",
    "        if t not in _Vocabulary:\n",
    "            _Vocabulary.append(t)\n",
    "        _localPosting[t] += 1\n",
    "    docID = len(_Document)\n",
    "    _Document[docID] = max(_localPosting.values())\n",
    "    for t, f in _localPosting.items():\n",
    "        ptr = _Lexicon[t]\n",
    "        nextPtr = len(_Posting)\n",
    "        _Posting.append((docID, f, ptr)) \n",
    "        # 이번 실습에서는 termID를 빼고 _Posting에 저장하므로 헷갈리지 않도록 주의!\n",
    "        _Lexicon[t] = nextPtr"
   ]
  },
  {
   "cell_type": "code",
   "execution_count": 13,
   "metadata": {},
   "outputs": [
    {
     "data": {
      "text/plain": [
       "(defaultdict(<function __main__.<lambda>()>, {'A': 3, 'B': 2, 'C': 4}),\n",
       " defaultdict(int, {0: 5, 1: 4, 2: 4}),\n",
       " ['A', 'B', 'C'])"
      ]
     },
     "execution_count": 13,
     "metadata": {},
     "output_type": "execute_result"
    }
   ],
   "source": [
    "_Lexicon, _Document, _Vocabulary"
   ]
  },
  {
   "cell_type": "code",
   "execution_count": 14,
   "metadata": {},
   "outputs": [
    {
     "data": {
      "text/plain": [
       "[(0, 5, -1), (1, 4, 0), (1, 1, -1), (2, 4, 1), (2, 1, -1)]"
      ]
     },
     "execution_count": 14,
     "metadata": {},
     "output_type": "execute_result"
    }
   ],
   "source": [
    "_Posting"
   ]
  },
  {
   "cell_type": "code",
   "execution_count": 15,
   "metadata": {},
   "outputs": [
    {
     "name": "stdout",
     "output_type": "stream",
     "text": [
      "단어:A, 문서:2, 빈도:4, 최고빈도:4\n",
      "단어:A, 문서:1, 빈도:4, 최고빈도:4\n",
      "단어:A, 문서:0, 빈도:5, 최고빈도:5\n",
      "단어:B, 문서:1, 빈도:1, 최고빈도:4\n",
      "단어:C, 문서:2, 빈도:1, 최고빈도:4\n"
     ]
    }
   ],
   "source": [
    "for t, ptr in _Lexicon.items():\n",
    "    while ptr != -1:\n",
    "        _struct = _Posting[ptr]\n",
    "        print(\"단어:{0}, 문서:{1}, 빈도:{2}, 최고빈도:{3}\"\n",
    "              .format(\n",
    "                  t, _struct[0], _struct[1],\n",
    "                  _Document[_struct[0]]))\n",
    "        ptr = _struct[-1]"
   ]
  },
  {
   "cell_type": "code",
   "execution_count": 17,
   "metadata": {},
   "outputs": [
    {
     "name": "stdout",
     "output_type": "stream",
     "text": [
      "단어:A, 문서:2, 빈도:4, 최고빈도:4\n",
      "TF1=1\n",
      "TF2=4\n",
      "TF4=1.6094379124341003\n",
      "TF5=1.0\n",
      "TF6=1.0\n",
      "\n",
      "단어:A, 문서:1, 빈도:4, 최고빈도:4\n",
      "TF1=1\n",
      "TF2=4\n",
      "TF4=1.6094379124341003\n",
      "TF5=1.0\n",
      "TF6=1.0\n",
      "\n",
      "단어:A, 문서:0, 빈도:5, 최고빈도:5\n",
      "TF1=1\n",
      "TF2=5\n",
      "TF4=1.791759469228055\n",
      "TF5=1.0\n",
      "TF6=1.0\n",
      "\n",
      "단어:B, 문서:1, 빈도:1, 최고빈도:4\n",
      "TF1=1\n",
      "TF2=1\n",
      "TF4=0.6931471805599453\n",
      "TF5=0.625\n",
      "TF6=0.25\n",
      "\n",
      "단어:C, 문서:2, 빈도:1, 최고빈도:4\n",
      "TF1=1\n",
      "TF2=1\n",
      "TF4=0.6931471805599453\n",
      "TF5=0.625\n",
      "TF6=0.25\n",
      "\n"
     ]
    }
   ],
   "source": [
    "for t, ptr in _Lexicon.items():\n",
    "    while ptr != -1:\n",
    "        _struct = _Posting[ptr]\n",
    "        tf = _struct[1]\n",
    "        maxtf = _Document[_struct[0]]\n",
    "        print(\"단어:{0}, 문서:{1}, 빈도:{2}, 최고빈도:{3}\"\n",
    "              .format(\n",
    "                  t, _struct[0], tf, maxtf))\n",
    "        print(\"TF1={}\".format(tf1(t)))\n",
    "        print(\"TF2={}\".format(tf2(_struct)))\n",
    "        print(\"TF4={}\".format(tf4(_struct, t)))\n",
    "        print(\"TF5={}\".format(tf5(tf, maxtf)))\n",
    "        print(\"TF6={}\".format(tf6(tf, maxtf, 0)))\n",
    "        print()\n",
    "        ptr = _struct[-1]"
   ]
  },
  {
   "cell_type": "code",
   "execution_count": 18,
   "metadata": {},
   "outputs": [],
   "source": [
    "# IDF(Inversed Document Frequency)\n",
    "\n",
    "idf1 = lambda df, N:log(N/df) # inverse document frequency\n",
    "idf2 = lambda df, N:log(N/(1+df)) # inverse document frequency smooth\n",
    "idf3 = lambda df, N:log((1 + N-df)/df) "
   ]
  },
  {
   "cell_type": "code",
   "execution_count": 19,
   "metadata": {},
   "outputs": [
    {
     "name": "stdout",
     "output_type": "stream",
     "text": [
      "단어:A, 문서:2, 빈도:4, 최고빈도:4\n",
      "TF1=1\n",
      "TF2=4\n",
      "TF4=1.6094379124341003\n",
      "TF5=1.0\n",
      "TF6=1.0\n",
      "IDF1=0.0\n",
      "IDF2=-0.2876820724517809\n",
      "IDF3=-1.0986122886681098\n",
      "0.0\n",
      "0.0\n",
      "\n",
      "단어:A, 문서:1, 빈도:4, 최고빈도:4\n",
      "TF1=1\n",
      "TF2=4\n",
      "TF4=1.6094379124341003\n",
      "TF5=1.0\n",
      "TF6=1.0\n",
      "IDF1=0.0\n",
      "IDF2=-0.2876820724517809\n",
      "IDF3=-1.0986122886681098\n",
      "0.0\n",
      "0.0\n",
      "\n",
      "단어:A, 문서:0, 빈도:5, 최고빈도:4\n",
      "TF1=1\n",
      "TF2=5\n",
      "TF4=1.791759469228055\n",
      "TF5=1.125\n",
      "TF6=1.25\n",
      "IDF1=0.0\n",
      "IDF2=-0.2876820724517809\n",
      "IDF3=-1.0986122886681098\n",
      "0.0\n",
      "0.0\n",
      "\n",
      "단어:B, 문서:1, 빈도:1, 최고빈도:4\n",
      "TF1=1\n",
      "TF2=1\n",
      "TF4=0.6931471805599453\n",
      "TF5=0.625\n",
      "TF6=0.25\n",
      "IDF1=1.0986122886681098\n",
      "IDF2=0.4054651081081644\n",
      "IDF3=1.0986122886681098\n",
      "0.27465307216702745\n",
      "0.6866326804175686\n",
      "\n",
      "단어:C, 문서:2, 빈도:1, 최고빈도:4\n",
      "TF1=1\n",
      "TF2=1\n",
      "TF4=0.6931471805599453\n",
      "TF5=0.625\n",
      "TF6=0.25\n",
      "IDF1=1.0986122886681098\n",
      "IDF2=0.4054651081081644\n",
      "IDF3=1.0986122886681098\n",
      "0.27465307216702745\n",
      "0.6866326804175686\n",
      "\n"
     ]
    }
   ],
   "source": [
    "N = len(_Collections)\n",
    "\n",
    "for t, ptr in _Lexicon.items():\n",
    "    dfPtr = ptr\n",
    "    df = 0\n",
    "    while dfPtr != -1:\n",
    "        _struct = _Posting[dfPtr]\n",
    "        dfPtr = _struct[-1]\n",
    "        df += 1\n",
    "    while ptr != -1:\n",
    "        _struct = _Posting[ptr]\n",
    "        tf = _struct[1]\n",
    "        print(\"단어:{0}, 문서:{1}, 빈도:{2}, 최고빈도:{3}\"\n",
    "              .format(\n",
    "                  t, _struct[0], _struct[1],\n",
    "                  maxtf))\n",
    "        print(\"TF1={}\".format(tf1(t)))\n",
    "        print(\"TF2={}\".format(tf2(_struct)))\n",
    "        print(\"TF4={}\".format(tf4(_struct, t)))\n",
    "        print(\"TF5={}\".format(tf5(tf, maxtf)))\n",
    "        print(\"TF6={}\".format(tf6(tf, maxtf, 0)))\n",
    "        print(\"IDF1={}\".format(idf1(df, N)))\n",
    "        print(\"IDF2={}\".format(idf2(df, N)))\n",
    "        print(\"IDF3={}\".format(idf3(df, N)))\n",
    "        print(tf6(tf, maxtf, 0)*idf1(df, N))\n",
    "        print(tf5(tf, maxtf)*idf1(df, N))\n",
    "        \n",
    "        print()\n",
    "        ptr = _struct[-1]"
   ]
  },
  {
   "cell_type": "code",
   "execution_count": null,
   "metadata": {},
   "outputs": [],
   "source": []
  }
 ],
 "metadata": {
  "kernelspec": {
   "display_name": "Python 3",
   "language": "python",
   "name": "python3"
  },
  "language_info": {
   "codemirror_mode": {
    "name": "ipython",
    "version": 3
   },
   "file_extension": ".py",
   "mimetype": "text/x-python",
   "name": "python",
   "nbconvert_exporter": "python",
   "pygments_lexer": "ipython3",
   "version": "3.7.3"
  }
 },
 "nbformat": 4,
 "nbformat_minor": 2
}
