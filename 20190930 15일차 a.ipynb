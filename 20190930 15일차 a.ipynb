{
 "cells": [
  {
   "cell_type": "code",
   "execution_count": null,
   "metadata": {},
   "outputs": [],
   "source": [
    "# Linked-list 형태의 Posting(Inverted Index/Document)\n",
    "\n",
    "FILE(각 문서)                                   | V(Controled Vocabulary)"
   ]
  },
  {
   "cell_type": "code",
   "execution_count": 1,
   "metadata": {},
   "outputs": [],
   "source": [
    "from konlpy.corpus import kobill\n",
    "from konlpy.tag import Kkma"
   ]
  },
  {
   "cell_type": "code",
   "execution_count": 18,
   "metadata": {},
   "outputs": [],
   "source": [
    "# Inverted index의 장점 -> 수정이 쉽다.\n",
    "from collections import defaultdict\n",
    "\n",
    "Documents = list()\n",
    "\n",
    "kkma = Kkma()\n",
    "Lexicon = list()\n",
    "\n",
    "t2i = lambda t:Lexicon.index(t)\n",
    "i2t = lambda t:Lexicon[t]\n",
    "\n",
    "d2i = lambda t:Documents.index(t)\n",
    "i2d = lambda t:Documents[t]\n",
    "\n",
    "Dicts = defaultdict(lambda: -1)\n",
    "Postings = list()\n",
    "\n",
    "for document in [kobill.open(_).read()\n",
    "                 for _ in kobill.fileids()]:\n",
    "    Documents.append(document)\n",
    "    docID = d2i(document)\n",
    "    for term in [_ for _ in kkma.morphs(document)\n",
    "              if 1 < len(_) < 6]:\n",
    "        if term not in Lexicon:\n",
    "            Lexicon.append(term)\n",
    "            \n",
    "        ptr = Dicts[term] # 포인터 = next\n",
    "        termID = t2i(term)\n",
    "        postingPtr= len(Postings)\n",
    "        Postings.append((termID, docID, 1, ptr))\n",
    "        Dicts[term] = postingPtr"
   ]
  },
  {
   "cell_type": "code",
   "execution_count": 19,
   "metadata": {},
   "outputs": [
    {
     "data": {
      "text/plain": [
       "(1139, 10, 6438)"
      ]
     },
     "execution_count": 19,
     "metadata": {},
     "output_type": "execute_result"
    }
   ],
   "source": [
    "len(Lexicon), len(Documents), Dicts[\"국민\"]"
   ]
  },
  {
   "cell_type": "code",
   "execution_count": 28,
   "metadata": {},
   "outputs": [
    {
     "data": {
      "text/plain": [
       "(0, 8, 1, 6660)"
      ]
     },
     "execution_count": 28,
     "metadata": {},
     "output_type": "execute_result"
    }
   ],
   "source": [
    "Postings[Dicts[i2t(0)]]"
   ]
  },
  {
   "cell_type": "code",
   "execution_count": 20,
   "metadata": {},
   "outputs": [
    {
     "name": "stdout",
     "output_type": "stream",
     "text": [
      "지방 8 6660\n",
      "지방 7 3627\n",
      "지방 3 3233\n",
      "지방 3 3197\n",
      "지방 3 3124\n",
      "지방 3 3121\n",
      "지방 3 2734\n",
      "지방 2 2340\n",
      "지방 2 2304\n",
      "지방 2 2231\n",
      "지방 2 2228\n",
      "지방 2 1695\n",
      "지방 1 1301\n",
      "지방 1 1265\n",
      "지방 1 1192\n",
      "지방 1 1189\n",
      "지방 1 812\n",
      "지방 0 418\n",
      "지방 0 382\n",
      "지방 0 309\n",
      "지방 0 306\n",
      "지방 0 279\n",
      "지방 0 78\n",
      "지방 0 73\n",
      "지방 0 0\n",
      "지방 0 -1\n"
     ]
    }
   ],
   "source": [
    "ptr = Dicts[i2t(0)]\n",
    "while ptr != -1:\n",
    "    _struct = Postings[ptr]\n",
    "    print(i2t(_struct[0]), _struct[1], _struct[-1])\n",
    "    ptr = _struct[-1]"
   ]
  },
  {
   "cell_type": "code",
   "execution_count": 21,
   "metadata": {},
   "outputs": [],
   "source": [
    "Query = \"법안 의원\"\n",
    "Result = list()\n",
    "for q in [_ for _ in kkma.morphs(Query)\n",
    "         if 1 < len(_) < 6]:\n",
    "    candidates = list()\n",
    "    ptr = Dicts[q]\n",
    "    while ptr != -1:\n",
    "        _struct = Postings[ptr]\n",
    "        candidates.append(_struct[1])\n",
    "        ptr = _struct[-1]\n",
    "    Result.append(candidates)"
   ]
  },
  {
   "cell_type": "markdown",
   "metadata": {},
   "source": [
    "---"
   ]
  },
  {
   "cell_type": "markdown",
   "metadata": {},
   "source": [
    "# Boolean model\n",
    "- 문서 내에 query가 있냐 없냐로만 검색함.\n",
    "- 논리 연산자에 따라서 query 검색결과를 조합한다.\n",
    "    - AND: 교집합\n",
    "    - OR: 합집합\n",
    "    - NOT: 차집합\n",
    "- 단점: \n",
    "    - query가 너무 특이해서 검색결과가 없는 경우\n",
    "    - query가 너무 흔해서 검색결과가 너무 많은 경우\n",
    "    - 사용자가 query를 잘 써야함.(일반인에게 난이도가 높을 수 있음)\n",
    "    - 문서 중에 어느게 더 중요한지 순위를 매길 수 없음.\n",
    "- 전문적으로 해야하는 검색에서 사용함 \n",
    "    - 예) 법령 검색, 헌법 검색, 유사특허검색, 도서관 사서 등\n",
    "    \n",
    "- 한계:\n",
    "    - 사용자의 needs에 따라서 query는 다른 중요성을 갖는다.\n",
    "    - 모든 문서는 동등하게 중요할 수 없다. \n",
    "        => 중요성은 정도의 문제이므로 0과 1로 구분할 수 없다. "
   ]
  },
  {
   "cell_type": "markdown",
   "metadata": {},
   "source": [
    "# Ranking model\n",
    "- Relevance\n",
    "    - Similarity\n",
    "        \\* 가장 사랑받는 녀석!\n",
    "        - Bag of Words 를 쓸 수 있다.(벡터로 표현 가능)\n",
    "    - Probability of Relevance\n",
    "        - Bag of Words를 쓸 수 없다(모든 문서는 동등하지 않다고 가정함.)\n",
    "    - Probabilistic inferenced\n",
    "        - Bag of Words를 쓸 수 없다(모든 문서는 동등하지 않다고 가정함.)"
   ]
  },
  {
   "cell_type": "markdown",
   "metadata": {},
   "source": [
    "# TF (Term Frequency)\n",
    "    - 단어에 가중치를 매긴다.\n",
    "    - zipf's law에 기반한다."
   ]
  },
  {
   "cell_type": "markdown",
   "metadata": {},
   "source": [
    "# IDF (Inverse Document Frequency)\n",
    "    - TF와 같이 쓴다. \n",
    "    - 빈도가 너무 많거나, 너무 적으면 가중치를 낮게 준다. => 중간 단어가 가중치가 높다.\n",
    "    - zipf's law에 기반한다."
   ]
  },
  {
   "attachments": {
    "image.png": {
     "image/png": "[encoded data removed]"
    }
   },
   "cell_type": "markdown",
   "metadata": {},
   "source": [
    "![image.png](attachment:image.png)"
   ]
  },
  {
   "cell_type": "code",
   "execution_count": 83,
   "metadata": {},
   "outputs": [],
   "source": [
    "Documents = list()\n",
    "\n",
    "kkma = Kkma()\n",
    "Lexicon = list()\n",
    "\n",
    "t2i = lambda t:Lexicon.index(t)\n",
    "i2t = lambda t:Lexicon[t]\n",
    "\n",
    "d2i = lambda t:Documents.index(t)\n",
    "i2d = lambda t:Documents[t]\n",
    "\n",
    "Dicts = defaultdict(lambda: -1)\n",
    "Postings = list()\n",
    "\n",
    "for docName in kobill.fileids():\n",
    "    document = kobill.open(docName).read()\n",
    "    Documents.append(docName)\n",
    "    docID = d2i(docName)\n",
    "    localPostings = defaultdict(int)\n",
    "    for term in [_ for _ in kkma.morphs(document)\n",
    "              if 1 < len(_) < 6]:\n",
    "        if term not in Lexicon:\n",
    "            Lexicon.append(term)\n",
    "        localPostings[term] += 1\n",
    "            \n",
    "    for term, freq in localPostings.items():\n",
    "        ptr = Dicts[term] # 포인터 = next\n",
    "        termID = t2i(term)\n",
    "        postingPtr= len(Postings)\n",
    "        Postings.append((termID, docID, freq, ptr))\n",
    "        Dicts[term] = postingPtr"
   ]
  },
  {
   "cell_type": "code",
   "execution_count": 84,
   "metadata": {},
   "outputs": [
    {
     "data": {
      "text/plain": [
       "(['1809890.txt',\n",
       "  '1809891.txt',\n",
       "  '1809892.txt',\n",
       "  '1809893.txt',\n",
       "  '1809894.txt',\n",
       "  '1809895.txt',\n",
       "  '1809896.txt',\n",
       "  '1809897.txt',\n",
       "  '1809898.txt',\n",
       "  '1809899.txt'],\n",
       " 6)"
      ]
     },
     "execution_count": 84,
     "metadata": {},
     "output_type": "execute_result"
    }
   ],
   "source": [
    "Documents, d2i('1809896.txt')"
   ]
  },
  {
   "cell_type": "code",
   "execution_count": 85,
   "metadata": {},
   "outputs": [
    {
     "data": {
      "text/plain": [
       "(2390, (236, 9, 2, 1343))"
      ]
     },
     "execution_count": 85,
     "metadata": {},
     "output_type": "execute_result"
    }
   ],
   "source": [
    "# 왜 선생님과 값이 다를까?\n",
    "\n",
    "Dicts[\"행정\"], Postings[2390]"
   ]
  },
  {
   "cell_type": "code",
   "execution_count": 86,
   "metadata": {},
   "outputs": [],
   "source": [
    "# TF(Term-Frequency)\n",
    "from math import log\n",
    "\n",
    "tf1 = lambda t: 1\n",
    "tf2 = lambda _struct: _struct[1]\n",
    "tf3 = lambda t:0\n",
    "tf4 = lambda _struct, t: log(1 + _struct[1])\n",
    "tf6 = lambda tf, maxtf, a:a+(1-a)*(tf/maxtf)\n",
    "tf5 = lambda tf, maxtf: tf6(tf, maxtf, 0.5)"
   ]
  },
  {
   "cell_type": "code",
   "execution_count": 87,
   "metadata": {},
   "outputs": [],
   "source": [
    "_Collections = [\n",
    "    [\"A\", \"A\", \"A\",  \"A\", \"A\"],\n",
    "    [\"A\", \"A\", \"A\",  \"A\", \"B\"],\n",
    "    [\"A\", \"A\", \"A\",  \"A\", \"C\"],\n",
    "]\n",
    "\n",
    "_Vocabulary = [\"A\", \"B\", \"C\"]\n",
    "_Lexicon = defaultdict(lambda: -1)\n",
    "_Document = defaultdict(int)\n",
    "_Posting = list()\n",
    "\n",
    "for d in _Collections:\n",
    "    _localPosting = defaultdict(int)\n",
    "    for t in d:\n",
    "        if t not in _Vocabulary:\n",
    "            _Vocabulary.append(t)\n",
    "        _localPosting[t] += 1\n",
    "    docID = len(_Document)\n",
    "    _Document[docID] = max(_localPosting.values())\n",
    "    for t, f in _localPosting.items():\n",
    "        ptr = _Lexicon[t]\n",
    "        nextPtr = len(_Posting)\n",
    "        _Posting.append((docID, f, ptr))\n",
    "        _Lexicon[t] = nextPtr"
   ]
  },
  {
   "cell_type": "code",
   "execution_count": 88,
   "metadata": {},
   "outputs": [
    {
     "data": {
      "text/plain": [
       "(defaultdict(<function __main__.<lambda>()>, {'A': 3, 'B': 2, 'C': 4}),\n",
       " defaultdict(int, {0: 5, 1: 4, 2: 4}),\n",
       " ['A', 'B', 'C'])"
      ]
     },
     "execution_count": 88,
     "metadata": {},
     "output_type": "execute_result"
    }
   ],
   "source": [
    "_Lexicon, _Document, _Vocabulary"
   ]
  },
  {
   "cell_type": "code",
   "execution_count": 89,
   "metadata": {},
   "outputs": [
    {
     "name": "stdout",
     "output_type": "stream",
     "text": [
      "단어:A, 문서:2, 빈도:4, 최고빈도:4\n",
      "단어:A, 문서:1, 빈도:4, 최고빈도:4\n",
      "단어:A, 문서:0, 빈도:5, 최고빈도:5\n",
      "단어:B, 문서:1, 빈도:1, 최고빈도:4\n",
      "단어:C, 문서:2, 빈도:1, 최고빈도:4\n"
     ]
    }
   ],
   "source": [
    "for t, ptr in _Lexicon.items():\n",
    "    while ptr != -1:\n",
    "        _struct = _Posting[ptr]\n",
    "        print(\"단어:{0}, 문서:{1}, 빈도:{2}, 최고빈도:{3}\"\n",
    "              .format(\n",
    "                  t, _struct[0], _struct[1],\n",
    "                  _Document[_struct[0]]))\n",
    "        ptr = _struct[-1]"
   ]
  },
  {
   "cell_type": "code",
   "execution_count": 90,
   "metadata": {},
   "outputs": [
    {
     "name": "stdout",
     "output_type": "stream",
     "text": [
      "단어:A, 문서:2, 빈도:4, 최고빈도:4\n",
      "TF1=1\n",
      "TF2=4\n",
      "TF4=1.6094379124341003\n",
      "TF5=1.0\n",
      "TF6=1.0\n",
      "\n",
      "단어:A, 문서:1, 빈도:4, 최고빈도:4\n",
      "TF1=1\n",
      "TF2=4\n",
      "TF4=1.6094379124341003\n",
      "TF5=1.0\n",
      "TF6=1.0\n",
      "\n",
      "단어:A, 문서:0, 빈도:5, 최고빈도:5\n",
      "TF1=1\n",
      "TF2=5\n",
      "TF4=1.791759469228055\n",
      "TF5=1.0\n",
      "TF6=1.0\n",
      "\n",
      "단어:B, 문서:1, 빈도:1, 최고빈도:4\n",
      "TF1=1\n",
      "TF2=1\n",
      "TF4=0.6931471805599453\n",
      "TF5=0.625\n",
      "TF6=0.25\n",
      "\n",
      "단어:C, 문서:2, 빈도:1, 최고빈도:4\n",
      "TF1=1\n",
      "TF2=1\n",
      "TF4=0.6931471805599453\n",
      "TF5=0.625\n",
      "TF6=0.25\n",
      "\n"
     ]
    }
   ],
   "source": [
    "for t, ptr in _Lexicon.items():\n",
    "    while ptr != -1:\n",
    "        _struct = _Posting[ptr]\n",
    "        tf = _struct[1]\n",
    "        maxtf = _Document[_struct[0]]\n",
    "        print(\"단어:{0}, 문서:{1}, 빈도:{2}, 최고빈도:{3}\"\n",
    "              .format(\n",
    "                  t, _struct[0], _struct[1],\n",
    "                  _Document[_struct[0]]))\n",
    "        print(\"TF1={}\".format(tf1(t)))\n",
    "        print(\"TF2={}\".format(tf2(_struct)))\n",
    "        print(\"TF4={}\".format(tf4(_struct, t)))\n",
    "        print(\"TF5={}\".format(tf5(tf, maxtf)))\n",
    "        print(\"TF6={}\".format(tf6(tf, maxtf, 0)))\n",
    "        print()\n",
    "        ptr = _struct[-1]"
   ]
  },
  {
   "cell_type": "code",
   "execution_count": 91,
   "metadata": {},
   "outputs": [],
   "source": [
    "idf1 = lambda df, N:log(N/df)\n",
    "idf2 = lambda df, N:log(N/(1+df))\n",
    "idf3 = lambda df, N:log((1 + N-df)/df)"
   ]
  },
  {
   "cell_type": "code",
   "execution_count": 96,
   "metadata": {},
   "outputs": [
    {
     "name": "stdout",
     "output_type": "stream",
     "text": [
      "단어:A, 문서:2, 빈도:4, 최고빈도:4\n",
      "TF1=1\n",
      "TF2=4\n",
      "TF4=1.6094379124341003\n",
      "TF5=1.0\n",
      "TF6=1.0\n",
      "IDF1=0.0\n",
      "IDF2=-0.2876820724517809\n",
      "IDF3=-1.0986122886681098\n",
      "0.0\n",
      "0.0\n",
      "\n",
      "단어:A, 문서:1, 빈도:4, 최고빈도:4\n",
      "TF1=1\n",
      "TF2=4\n",
      "TF4=1.6094379124341003\n",
      "TF5=1.0\n",
      "TF6=1.0\n",
      "IDF1=0.0\n",
      "IDF2=-0.2876820724517809\n",
      "IDF3=-1.0986122886681098\n",
      "0.0\n",
      "0.0\n",
      "\n",
      "단어:A, 문서:0, 빈도:5, 최고빈도:4\n",
      "TF1=1\n",
      "TF2=5\n",
      "TF4=1.791759469228055\n",
      "TF5=1.125\n",
      "TF6=1.25\n",
      "IDF1=0.0\n",
      "IDF2=-0.2876820724517809\n",
      "IDF3=-1.0986122886681098\n",
      "0.0\n",
      "0.0\n",
      "\n",
      "단어:B, 문서:1, 빈도:1, 최고빈도:4\n",
      "TF1=1\n",
      "TF2=1\n",
      "TF4=0.6931471805599453\n",
      "TF5=0.625\n",
      "TF6=0.25\n",
      "IDF1=1.0986122886681098\n",
      "IDF2=0.4054651081081644\n",
      "IDF3=1.0986122886681098\n",
      "0.27465307216702745\n",
      "0.6866326804175686\n",
      "\n",
      "단어:C, 문서:2, 빈도:1, 최고빈도:4\n",
      "TF1=1\n",
      "TF2=1\n",
      "TF4=0.6931471805599453\n",
      "TF5=0.625\n",
      "TF6=0.25\n",
      "IDF1=1.0986122886681098\n",
      "IDF2=0.4054651081081644\n",
      "IDF3=1.0986122886681098\n",
      "0.27465307216702745\n",
      "0.6866326804175686\n",
      "\n"
     ]
    }
   ],
   "source": [
    "N = len(_Collections)\n",
    "\n",
    "for t, ptr in _Lexicon.items():\n",
    "    dfPtr = ptr\n",
    "    df = 0\n",
    "    while dfPtr != -1:\n",
    "        _struct = _Posting[dfPtr]\n",
    "        dfPtr = _struct[-1]\n",
    "        df += 1\n",
    "    while ptr != -1:\n",
    "        _struct = _Posting[ptr]\n",
    "        tf = _struct[1]\n",
    "        print(\"단어:{0}, 문서:{1}, 빈도:{2}, 최고빈도:{3}\"\n",
    "              .format(\n",
    "                  t, _struct[0], _struct[1],\n",
    "                  maxtf))\n",
    "        print(\"TF1={}\".format(tf1(t)))\n",
    "        print(\"TF2={}\".format(tf2(_struct)))\n",
    "        print(\"TF4={}\".format(tf4(_struct, t)))\n",
    "        print(\"TF5={}\".format(tf5(tf, maxtf)))\n",
    "        print(\"TF6={}\".format(tf6(tf, maxtf, 0)))\n",
    "        print(\"IDF1={}\".format(idf1(df, N)))\n",
    "        print(\"IDF2={}\".format(idf2(df, N)))\n",
    "        print(\"IDF3={}\".format(idf3(df, N)))\n",
    "        print(tf6(tf, maxtf, 0)*idf1(df, N))\n",
    "        print(tf5(tf, maxtf)*idf1(df, N))\n",
    "        \n",
    "        print()\n",
    "        ptr = _struct[-1]"
   ]
  },
  {
   "cell_type": "code",
   "execution_count": null,
   "metadata": {},
   "outputs": [],
   "source": []
  }
 ],
 "metadata": {
  "kernelspec": {
   "display_name": "Python 3",
   "language": "python",
   "name": "python3"
  },
  "language_info": {
   "codemirror_mode": {
    "name": "ipython",
    "version": 3
   },
   "file_extension": ".py",
   "mimetype": "text/x-python",
   "name": "python",
   "nbconvert_exporter": "python",
   "pygments_lexer": "ipython3",
   "version": "3.7.3"
  }
 },
 "nbformat": 4,
 "nbformat_minor": 2
}
