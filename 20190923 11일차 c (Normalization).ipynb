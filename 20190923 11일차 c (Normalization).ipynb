{
 "cells": [
  {
   "cell_type": "code",
   "execution_count": 4,
   "metadata": {},
   "outputs": [],
   "source": [
    "from nltk.tokenize import word_tokenize, sent_tokenize\n",
    "from nltk.tag import pos_tag"
   ]
  },
  {
   "cell_type": "code",
   "execution_count": 12,
   "metadata": {},
   "outputs": [],
   "source": [
    "sentence = \"I'd like to learn more somthing. \\\n",
    "            I'd like to learn more somthing.\""
   ]
  },
  {
   "cell_type": "code",
   "execution_count": 13,
   "metadata": {},
   "outputs": [
    {
     "data": {
      "text/plain": [
       "['I', \"'d\", 'like', 'to', 'learn', 'more', 'somthing', '.']"
      ]
     },
     "execution_count": 13,
     "metadata": {},
     "output_type": "execute_result"
    }
   ],
   "source": [
    "word_tokenize(sent_tokenize(sentence)[-1])"
   ]
  },
  {
   "cell_type": "code",
   "execution_count": 96,
   "metadata": {},
   "outputs": [],
   "source": [
    "sentence = \"I'd like to learn more somthing. \\\n",
    "            I'd like to learn more somthing. \\\n",
    "            what're i'm, isn't\""
   ]
  },
  {
   "cell_type": "code",
   "execution_count": 98,
   "metadata": {},
   "outputs": [
    {
     "data": {
      "text/plain": [
       "(['what', \"'re\", 'i', \"'m\", ',', 'is', \"n't\"],\n",
       " [('what', 'WP'),\n",
       "  (\"'re\", 'VBP'),\n",
       "  ('i', 'JJ'),\n",
       "  (\"'m\", 'VBP'),\n",
       "  (',', ','),\n",
       "  ('is', 'VBZ'),\n",
       "  (\"n't\", 'RB')])"
      ]
     },
     "execution_count": 98,
     "metadata": {},
     "output_type": "execute_result"
    }
   ],
   "source": [
    "word_tokenize(sent_tokenize(sentence)[-1]), \\\n",
    "pos_tag(word_tokenize(sent_tokenize(sentence)[-1]))"
   ]
  },
  {
   "cell_type": "code",
   "execution_count": 99,
   "metadata": {},
   "outputs": [
    {
     "data": {
      "text/plain": [
       "[\"'우리나라\", \"'\", '의', '국화는', '무궁화', '!', '입니다', '.']"
      ]
     },
     "execution_count": 99,
     "metadata": {},
     "output_type": "execute_result"
    }
   ],
   "source": [
    "# 한글은 지원하지 않기때문에 단순한 기준(공백, punkt)에 따라서 split함\n",
    "\n",
    "word_tokenize(\"'우리나라'의 국화는 무궁화! 입니다.\")"
   ]
  },
  {
   "cell_type": "code",
   "execution_count": 100,
   "metadata": {},
   "outputs": [
    {
     "data": {
      "text/plain": [
       "['state-of-the-art']"
      ]
     },
     "execution_count": 100,
     "metadata": {},
     "output_type": "execute_result"
    }
   ],
   "source": [
    "# 이런건 하나의 뜻을 가진 관용표현이므로 split하지 않음.\n",
    "\n",
    "word_tokenize(\"state-of-the-art\")"
   ]
  },
  {
   "cell_type": "code",
   "execution_count": 101,
   "metadata": {},
   "outputs": [
    {
     "data": {
      "text/plain": [
       "'!\"#$%&\\'()*+,-./:;<=>?@[\\\\]^_`{|}~'"
      ]
     },
     "execution_count": 101,
     "metadata": {},
     "output_type": "execute_result"
    }
   ],
   "source": [
    "from string import punctuation\n",
    "import re\n",
    "punctuation"
   ]
  },
  {
   "cell_type": "code",
   "execution_count": 102,
   "metadata": {},
   "outputs": [
    {
     "data": {
      "text/plain": [
       "'I d like to learn more somthing              I d like to learn more somthing              what re i m  isn t'"
      ]
     },
     "execution_count": 102,
     "metadata": {},
     "output_type": "execute_result"
    }
   ],
   "source": [
    "re.sub(r\"[{}]\".format(re.escape(punctuation)),\n",
    "       \" \", sentence)"
   ]
  },
  {
   "cell_type": "code",
   "execution_count": 103,
   "metadata": {},
   "outputs": [
    {
     "data": {
      "text/plain": [
       "['우리나라', '의', '국화는', '무궁화', '입니다']"
      ]
     },
     "execution_count": 103,
     "metadata": {},
     "output_type": "execute_result"
    }
   ],
   "source": [
    "re.sub(r\"[{}]\".format(re.escape(punctuation)),\n",
    "       \" \", \"'우리나라'의 국화는 무궁화! 입니다.\").split()"
   ]
  },
  {
   "cell_type": "code",
   "execution_count": 104,
   "metadata": {},
   "outputs": [
    {
     "data": {
      "text/plain": [
       "['state', 'of', 'the', 'art']"
      ]
     },
     "execution_count": 104,
     "metadata": {},
     "output_type": "execute_result"
    }
   ],
   "source": [
    "re.sub(r\"[{}]\".format(re.escape(punctuation)),\n",
    "       \" \", \"state-of-the-art\").split()"
   ]
  },
  {
   "cell_type": "code",
   "execution_count": 105,
   "metadata": {},
   "outputs": [
    {
     "data": {
      "text/plain": [
       "\"i'd like to learn more somthing.             i'd like to learn more somthing.             what're i'm, isn't\""
      ]
     },
     "execution_count": 105,
     "metadata": {},
     "output_type": "execute_result"
    }
   ],
   "source": [
    "sentence.lower()"
   ]
  },
  {
   "cell_type": "code",
   "execution_count": 106,
   "metadata": {},
   "outputs": [
    {
     "data": {
      "text/plain": [
       "['arabic',\n",
       " 'azerbaijani',\n",
       " 'danish',\n",
       " 'dutch',\n",
       " 'english',\n",
       " 'finnish',\n",
       " 'french',\n",
       " 'german',\n",
       " 'greek',\n",
       " 'hungarian',\n",
       " 'indonesian',\n",
       " 'italian',\n",
       " 'kazakh',\n",
       " 'nepali',\n",
       " 'norwegian',\n",
       " 'portuguese',\n",
       " 'romanian',\n",
       " 'russian',\n",
       " 'slovene',\n",
       " 'spanish',\n",
       " 'swedish',\n",
       " 'tajik',\n",
       " 'turkish']"
      ]
     },
     "execution_count": 106,
     "metadata": {},
     "output_type": "execute_result"
    }
   ],
   "source": [
    "from  nltk.corpus import stopwords\n",
    "\n",
    "# 국가별로 있다.\n",
    "stopwords.fileids()"
   ]
  },
  {
   "cell_type": "code",
   "execution_count": 107,
   "metadata": {},
   "outputs": [
    {
     "data": {
      "text/plain": [
       "['i',\n",
       " 'me',\n",
       " 'my',\n",
       " 'myself',\n",
       " 'we',\n",
       " 'our',\n",
       " 'ours',\n",
       " 'ourselves',\n",
       " 'you',\n",
       " \"you're\",\n",
       " \"you've\",\n",
       " \"you'll\",\n",
       " \"you'd\",\n",
       " 'your',\n",
       " 'yours',\n",
       " 'yourself',\n",
       " 'yourselves',\n",
       " 'he',\n",
       " 'him',\n",
       " 'his',\n",
       " 'himself',\n",
       " 'she',\n",
       " \"she's\",\n",
       " 'her',\n",
       " 'hers',\n",
       " 'herself',\n",
       " 'it',\n",
       " \"it's\",\n",
       " 'its',\n",
       " 'itself',\n",
       " 'they',\n",
       " 'them',\n",
       " 'their',\n",
       " 'theirs',\n",
       " 'themselves',\n",
       " 'what',\n",
       " 'which',\n",
       " 'who',\n",
       " 'whom',\n",
       " 'this',\n",
       " 'that',\n",
       " \"that'll\",\n",
       " 'these',\n",
       " 'those',\n",
       " 'am',\n",
       " 'is',\n",
       " 'are',\n",
       " 'was',\n",
       " 'were',\n",
       " 'be',\n",
       " 'been',\n",
       " 'being',\n",
       " 'have',\n",
       " 'has',\n",
       " 'had',\n",
       " 'having',\n",
       " 'do',\n",
       " 'does',\n",
       " 'did',\n",
       " 'doing',\n",
       " 'a',\n",
       " 'an',\n",
       " 'the',\n",
       " 'and',\n",
       " 'but',\n",
       " 'if',\n",
       " 'or',\n",
       " 'because',\n",
       " 'as',\n",
       " 'until',\n",
       " 'while',\n",
       " 'of',\n",
       " 'at',\n",
       " 'by',\n",
       " 'for',\n",
       " 'with',\n",
       " 'about',\n",
       " 'against',\n",
       " 'between',\n",
       " 'into',\n",
       " 'through',\n",
       " 'during',\n",
       " 'before',\n",
       " 'after',\n",
       " 'above',\n",
       " 'below',\n",
       " 'to',\n",
       " 'from',\n",
       " 'up',\n",
       " 'down',\n",
       " 'in',\n",
       " 'out',\n",
       " 'on',\n",
       " 'off',\n",
       " 'over',\n",
       " 'under',\n",
       " 'again',\n",
       " 'further',\n",
       " 'then',\n",
       " 'once',\n",
       " 'here',\n",
       " 'there',\n",
       " 'when',\n",
       " 'where',\n",
       " 'why',\n",
       " 'how',\n",
       " 'all',\n",
       " 'any',\n",
       " 'both',\n",
       " 'each',\n",
       " 'few',\n",
       " 'more',\n",
       " 'most',\n",
       " 'other',\n",
       " 'some',\n",
       " 'such',\n",
       " 'no',\n",
       " 'nor',\n",
       " 'not',\n",
       " 'only',\n",
       " 'own',\n",
       " 'same',\n",
       " 'so',\n",
       " 'than',\n",
       " 'too',\n",
       " 'very',\n",
       " 's',\n",
       " 't',\n",
       " 'can',\n",
       " 'will',\n",
       " 'just',\n",
       " 'don',\n",
       " \"don't\",\n",
       " 'should',\n",
       " \"should've\",\n",
       " 'now',\n",
       " 'd',\n",
       " 'll',\n",
       " 'm',\n",
       " 'o',\n",
       " 're',\n",
       " 've',\n",
       " 'y',\n",
       " 'ain',\n",
       " 'aren',\n",
       " \"aren't\",\n",
       " 'couldn',\n",
       " \"couldn't\",\n",
       " 'didn',\n",
       " \"didn't\",\n",
       " 'doesn',\n",
       " \"doesn't\",\n",
       " 'hadn',\n",
       " \"hadn't\",\n",
       " 'hasn',\n",
       " \"hasn't\",\n",
       " 'haven',\n",
       " \"haven't\",\n",
       " 'isn',\n",
       " \"isn't\",\n",
       " 'ma',\n",
       " 'mightn',\n",
       " \"mightn't\",\n",
       " 'mustn',\n",
       " \"mustn't\",\n",
       " 'needn',\n",
       " \"needn't\",\n",
       " 'shan',\n",
       " \"shan't\",\n",
       " 'shouldn',\n",
       " \"shouldn't\",\n",
       " 'wasn',\n",
       " \"wasn't\",\n",
       " 'weren',\n",
       " \"weren't\",\n",
       " 'won',\n",
       " \"won't\",\n",
       " 'wouldn',\n",
       " \"wouldn't\"]"
      ]
     },
     "execution_count": 107,
     "metadata": {},
     "output_type": "execute_result"
    }
   ],
   "source": [
    "stopwords.open(\"english\").read().split()"
   ]
  },
  {
   "cell_type": "code",
   "execution_count": 108,
   "metadata": {},
   "outputs": [
    {
     "data": {
      "text/plain": [
       "'I like learn somthing I like learn somthing'"
      ]
     },
     "execution_count": 108,
     "metadata": {},
     "output_type": "execute_result"
    }
   ],
   "source": [
    "stop = stopwords.open(\"english\").read().split()\n",
    "tokens = list()\n",
    "for _ in re.sub(r\"[{}]\".format(re.escape(punctuation)),\n",
    "        \" \", sentence).split():\n",
    "    if not _ in stop:\n",
    "        tokens.append(_)\n",
    "\" \".join(tokens)"
   ]
  },
  {
   "cell_type": "code",
   "execution_count": 109,
   "metadata": {},
   "outputs": [
    {
     "name": "stdout",
     "output_type": "stream",
     "text": [
      "Skipped i\n",
      "Skipped you\n"
     ]
    },
    {
     "data": {
      "text/plain": [
       "'like'"
      ]
     },
     "execution_count": 109,
     "metadata": {},
     "output_type": "execute_result"
    }
   ],
   "source": [
    "tokens = []\n",
    "for _ in \"I Like You\".lower().split():\n",
    "    if _ in stop:\n",
    "        print(\"Skipped\", _)\n",
    "    else:\n",
    "        tokens.append(_)\n",
    "        \n",
    "\" \".join(tokens)"
   ]
  },
  {
   "cell_type": "code",
   "execution_count": 56,
   "metadata": {},
   "outputs": [
    {
     "data": {
      "text/plain": [
       "(17409, 8406, 17286, 7433)"
      ]
     },
     "execution_count": 56,
     "metadata": {},
     "output_type": "execute_result"
    }
   ],
   "source": [
    "from nltk.corpus import gutenberg\n",
    "removePunc = lambda t: re.sub(r\"[{}]\".format(re.escape(punctuation)),\n",
    "                             \" \", t)\n",
    "removeStop = lambda t: [_ for _ in t.split()\n",
    "                       if _ not in stop]\n",
    "emma = gutenberg.open(gutenberg.fileids()[0]).read()\n",
    "len(set(emma.split())), len(set(word_tokenize(emma))), \\\n",
    "len(set(removeStop(emma))), \\\n",
    "len(set(removeStop(removePunc(emma))))\n"
   ]
  },
  {
   "cell_type": "code",
   "execution_count": 59,
   "metadata": {},
   "outputs": [
    {
     "data": {
      "text/plain": [
       "([('to', 5041),\n",
       "  ('the', 4813),\n",
       "  ('and', 4305),\n",
       "  ('of', 4187),\n",
       "  ('a', 2958),\n",
       "  ('I', 2602),\n",
       "  ('was', 2297),\n",
       "  ('in', 2034),\n",
       "  ('not', 2013),\n",
       "  ('her', 1915)],\n",
       " [(',', 12016),\n",
       "  ('.', 6355),\n",
       "  ('to', 5125),\n",
       "  ('the', 4844),\n",
       "  ('and', 4653),\n",
       "  ('of', 4272),\n",
       "  ('I', 3177),\n",
       "  ('--', 3100),\n",
       "  ('a', 3001),\n",
       "  (\"''\", 2452)],\n",
       " [('I', 2602),\n",
       "  ('Mr.', 1097),\n",
       "  ('would', 792),\n",
       "  ('could', 792),\n",
       "  ('Mrs.', 675),\n",
       "  ('Miss', 561),\n",
       "  ('must', 542),\n",
       "  ('She', 492),\n",
       "  ('Emma', 481),\n",
       "  ('much', 424)],\n",
       " [('I', 3192),\n",
       "  ('Mr', 1154),\n",
       "  ('Emma', 865),\n",
       "  ('could', 825),\n",
       "  ('would', 816),\n",
       "  ('Mrs', 701),\n",
       "  ('Miss', 595),\n",
       "  ('She', 570),\n",
       "  ('must', 568),\n",
       "  ('Harriet', 506)])"
      ]
     },
     "execution_count": 59,
     "metadata": {},
     "output_type": "execute_result"
    }
   ],
   "source": [
    "from nltk import Text\n",
    "Text(emma.split()).vocab().most_common(10), \\\n",
    "Text(word_tokenize(emma)).vocab().most_common(10),\\\n",
    "Text(removeStop(emma)).vocab().most_common(10), \\\n",
    "Text(removeStop(removePunc(emma))).vocab().most_common(10)"
   ]
  },
  {
   "cell_type": "code",
   "execution_count": null,
   "metadata": {},
   "outputs": [],
   "source": [
    "# lower 했었어야 햇다!"
   ]
  },
  {
   "cell_type": "markdown",
   "metadata": {},
   "source": [
    "---"
   ]
  },
  {
   "cell_type": "markdown",
   "metadata": {},
   "source": [
    "# korstop"
   ]
  },
  {
   "cell_type": "code",
   "execution_count": 62,
   "metadata": {},
   "outputs": [
    {
     "data": {
      "text/plain": [
       "('나 에게 너 는 사랑 이다 ', ['나', '너', '사랑'])"
      ]
     },
     "execution_count": 62,
     "metadata": {},
     "output_type": "execute_result"
    }
   ],
   "source": [
    "stop = \"은\\n는\\n이\\n가\\n에게\\n이다\"\n",
    "sentence = \"나 에게 너 는 사랑 이다.\"\n",
    "removePunc(sentence), \\\n",
    "removeStop(removePunc(sentence))"
   ]
  },
  {
   "cell_type": "code",
   "execution_count": 63,
   "metadata": {},
   "outputs": [
    {
     "data": {
      "text/plain": [
       "6"
      ]
     },
     "execution_count": 63,
     "metadata": {},
     "output_type": "execute_result"
    }
   ],
   "source": [
    "len(sentence.split())"
   ]
  },
  {
   "cell_type": "code",
   "execution_count": 66,
   "metadata": {},
   "outputs": [],
   "source": [
    "from konlpy.corpus import kolaw\n",
    "from collections import defaultdict"
   ]
  },
  {
   "cell_type": "code",
   "execution_count": 70,
   "metadata": {},
   "outputs": [],
   "source": [
    "corpus = kolaw.open(kolaw.fileids()[0]).read()\n",
    "# 대소문자 => 한글이니까 생략\n",
    "# 구두점 => ' '\n",
    "corpus = removePunc(corpus)\n",
    "# 어절분리(토큰분리 - 형태소, 품사, 정규식, word_tokenize, BPE, ngram)\n",
    "corpus = corpus.split()\n",
    "\n",
    "tokens1 = defaultdict(int)\n",
    "for _ in corpus:\n",
    "    tokens1[_] += 1\n",
    "\n",
    "# 단어의 길이로 정규화\n",
    "tokens2 = {t:f for t, f in tokens1.items()\n",
    "         if len(t) > 1}\n",
    "\n",
    "# 단어의 빈도로 정규화(저빈도)\n",
    "tokens3 = {t:f for t, f in tokens2.items()\n",
    "         if f > 2}"
   ]
  },
  {
   "cell_type": "code",
   "execution_count": 72,
   "metadata": {},
   "outputs": [
    {
     "data": {
      "text/plain": [
       "(4180, 4180, 3859, 1846)"
      ]
     },
     "execution_count": 72,
     "metadata": {},
     "output_type": "execute_result"
    }
   ],
   "source": [
    "# 전체 단어 갯수 4180개가 1846까지 줄어들었다.\n",
    "\n",
    "len(corpus), sum(tokens1.values()), \\\n",
    "sum(tokens2.values()), sum(tokens3.values())"
   ]
  },
  {
   "cell_type": "code",
   "execution_count": 74,
   "metadata": {},
   "outputs": [
    {
     "data": {
      "text/plain": [
       "(2018, 1994, 228)"
      ]
     },
     "execution_count": 74,
     "metadata": {},
     "output_type": "execute_result"
    }
   ],
   "source": [
    "# 유니크한 단어의 갯수도 228개 까지 줄어들었다.\n",
    "\n",
    "len(tokens1), len(tokens2), len(tokens3)"
   ]
  },
  {
   "cell_type": "code",
   "execution_count": null,
   "metadata": {},
   "outputs": [],
   "source": []
  }
 ],
 "metadata": {
  "kernelspec": {
   "display_name": "Python 3",
   "language": "python",
   "name": "python3"
  },
  "language_info": {
   "codemirror_mode": {
    "name": "ipython",
    "version": 3
   },
   "file_extension": ".py",
   "mimetype": "text/x-python",
   "name": "python",
   "nbconvert_exporter": "python",
   "pygments_lexer": "ipython3",
   "version": "3.7.3"
  }
 },
 "nbformat": 4,
 "nbformat_minor": 2
}
