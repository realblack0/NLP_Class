{
 "cells": [
  {
   "cell_type": "markdown",
   "metadata": {},
   "source": [
    "# Project(실습)\n",
    "#### 뉴스 수집\n",
    "- news.naver.com에서 다음의 카테고리별 뉴스 수집\n",
    "    - 정치, 경제, 사회, 생활/문화, 세계, IT/과학\n",
    "- 파일이름: 카테고리-고유번호.txr"
   ]
  },
  {
   "cell_type": "code",
   "execution_count": 1,
   "metadata": {},
   "outputs": [],
   "source": [
    "import requests\n",
    "from bs4 import BeautifulSoup"
   ]
  },
  {
   "cell_type": "code",
   "execution_count": 2,
   "metadata": {},
   "outputs": [],
   "source": [
    "headers = {\"user-agent\":\"Mozilla/5.0 (Windows NT 10.0; Win64; x64) AppleWebKit/537.36 (KHTML, like Gecko) Chrome/77.0.3865.75 Safari/537.36\"}\n",
    "url = \"https://news.naver.com/main/main.nhn\"\n",
    "params = {\"mode\":\"LSD\",\n",
    "          \"mid\":\"shm\",\n",
    "          \"sid1\":100}\n",
    "categories = {\"정치\":100, \"경제\":101, \"사회\":102, \"생활 문화\":103, \"세계\":104, \"IT 과학\":105}"
   ]
  },
  {
   "cell_type": "code",
   "execution_count": 3,
   "metadata": {},
   "outputs": [],
   "source": [
    "resp = requests.request(\"get\", url, params=params, headers=headers)\n",
    "dom = BeautifulSoup(resp.text, \"lxml\")"
   ]
  },
  {
   "cell_type": "code",
   "execution_count": 4,
   "metadata": {
    "scrolled": true
   },
   "outputs": [
    {
     "name": "stdout",
     "output_type": "stream",
     "text": [
      "미래 먹거리 콘텐츠산업 육성…2022년까지 정책금융 1조 확대(종합)\n",
      "https://news.naver.com/main/read.nhn?mode=LSD&mid=shm&sid1=100&oid=001&aid=0011085852\n",
      "文 “한류 생산유발 효과 20조…창작자 노력에 날개 달겠다”\n",
      "https://news.naver.com/main/read.nhn?mode=LSD&mid=shm&sid1=100&oid=081&aid=0003029429\n",
      "文대통령 \"콘텐츠는 미래 먹거리…마음껏 상상하고 도전하라\"\n",
      "https://news.naver.com/main/read.nhn?mode=LSD&mid=shm&sid1=100&oid=001&aid=0011085158\n",
      "\"BTS·나영석 같은 창작자가 콘텐츠 강국 만들어\"\n",
      "https://news.naver.com/main/read.nhn?mode=LSD&mid=shm&sid1=100&oid=006&aid=0000098764\n",
      "\"김정은 눈치 보는 정권\" \"젊은 청년 두 번 죽여”… 野, 하재헌 중사 공상 판정 맹비난\n",
      "https://news.naver.com/main/read.nhn?mode=LSD&mid=shm&sid1=100&oid=022&aid=0003397964\n",
      "유승민 “북한의 보훈처냐…온 나라가 미쳐가고 있다”\n",
      "https://news.naver.com/main/read.nhn?mode=LSD&mid=shm&sid1=100&oid=005&aid=0001240086\n",
      "하재헌 중사 ‘공상’ 논란 정치권 확산…野 “관련자 문책해야”\n",
      "https://news.naver.com/main/read.nhn?mode=LSD&mid=shm&sid1=100&oid=081&aid=0003029417\n",
      "“대통령 정상 아니라서”… ‘북한 지뢰’ 공상 논란 목소리 높인 野\n",
      "https://news.naver.com/main/read.nhn?mode=LSD&mid=shm&sid1=100&oid=469&aid=0000422831\n",
      "유성엽, 인사 온 조국에 “내려놓는 게 좋지 않겠나”…사퇴 요구\n",
      "https://news.naver.com/main/read.nhn?mode=LSD&mid=shm&sid1=100&oid=081&aid=0003029435\n",
      "\"검찰개혁\"엔 열리고 \"사퇴\" 쓴소리엔 열리지 않은 조국 수첩\n",
      "https://news.naver.com/main/read.nhn?mode=LSD&mid=shm&sid1=100&oid=025&aid=0002937720\n",
      "오전엔 환대,오후엔 질책…냉·온탕 오간 조국의 하루\n",
      "https://news.naver.com/main/read.nhn?mode=LSD&mid=shm&sid1=100&oid=421&aid=0004200169\n",
      "심상정 \"개혁 위해 조국에 자기결단 요구할 수도\"\n",
      "https://news.naver.com/main/read.nhn?mode=LSD&mid=shm&sid1=100&oid=002&aid=0002103799\n",
      "황교안 이어 김문수·강효상도 릴레이 삭발…다음은 누구?\n",
      "https://news.naver.com/main/read.nhn?mode=LSD&mid=shm&sid1=100&oid=003&aid=0009457143\n",
      "“백성 분노하면 임금도 뒤집는다” 강효상도 릴레이 삭발 동참\n",
      "https://news.naver.com/main/read.nhn?mode=LSD&mid=shm&sid1=100&oid=025&aid=0002937700\n",
      "강효상 삭발투쟁 동참..野 인사 6명째\n",
      "https://news.naver.com/main/read.nhn?mode=LSD&mid=shm&sid1=100&oid=011&aid=0003619867\n",
      "강효상도 삭발…\"백성이 분노하면 임금도 뒤집을 수 있다\"\n",
      "https://news.naver.com/main/read.nhn?mode=LSD&mid=shm&sid1=100&oid=277&aid=0004537562\n",
      "'조국 사퇴' 野 릴레이 삭발…김문수·강효상 참여\n",
      "https://news.naver.com/main/read.nhn?mode=LSD&mid=shm&sid1=100&oid=079&aid=0003270695\n",
      "[현장] 김문수 삭발 동참…\"머리 깎고 의원직 던지자\"\n",
      "https://news.naver.com/main/read.nhn?mode=LSD&mid=shm&sid1=100&oid=422&aid=0000392820\n",
      "김문수 \"조국을 감옥으로\" 눈물의 삭발식\n",
      "https://news.naver.com/main/read.nhn?mode=LSD&mid=shm&sid1=100&oid=002&aid=0002103754\n",
      "이언주·김문수 '눈물', 황교안 '눈 꼬옥~'…삭발의 기술\n",
      "https://news.naver.com/main/read.nhn?mode=LSD&mid=shm&sid1=100&oid=008&aid=0004278909\n",
      "靑·외교부 잇딴 해명에도…꺼지지 않는 강경화-김현종 '불화설'\n",
      "https://news.naver.com/main/read.nhn?mode=LSD&mid=shm&sid1=100&oid=018&aid=0004469681\n",
      "탈 많은 ‘김현종 스타일’ 어떻길래?…저돌적이고 성과 강조하는 터프가이\n",
      "https://news.naver.com/main/read.nhn?mode=LSD&mid=shm&sid1=100&oid=005&aid=0001240057\n",
      "강경화-김현종 갈등 노출...靑 \"확대해석인 듯\"\n",
      "https://news.naver.com/main/read.nhn?mode=LSD&mid=shm&sid1=100&oid=052&aid=0001343366\n",
      "강경화 장관과 김현종 靑차장, 왜 싸웠나\n",
      "https://news.naver.com/main/read.nhn?mode=LSD&mid=shm&sid1=100&oid=421&aid=0004199967\n",
      "파주 돼지열병에 9.19 평양공동선언 1주년 행사도 '비상'\n",
      "https://news.naver.com/main/read.nhn?mode=LSD&mid=shm&sid1=100&oid=079&aid=0003270724\n",
      "9·19평양선언 기념행사 취소도 검토…돼지열병에 유탄\n",
      "https://news.naver.com/main/read.nhn?mode=LSD&mid=shm&sid1=100&oid=277&aid=0004537460\n",
      "9·19선언 1주년 행사, 아프리카돼지열병에 ‘빨간불’\n",
      "https://news.naver.com/main/read.nhn?mode=LSD&mid=shm&sid1=100&oid=014&aid=0004295432\n",
      "[ASF발생]9.19 행사 놓고 고심깊은 통일부 '이러지도 저러지도'\n",
      "https://news.naver.com/main/read.nhn?mode=LSD&mid=shm&sid1=100&oid=018&aid=0004469604\n",
      "심상정 \"황교안 보면서 '삭발은 빨갱이나 하는 짓'이라던 공안검사 생각났다\"\n",
      "https://news.naver.com/main/read.nhn?mode=LSD&mid=shm&sid1=100&oid=032&aid=0002963203\n",
      "\"빨갱이짓이라더니···\" 심상정, '삭발' 황교안에 \"약자 코스프레\" 맹비난\n",
      "https://news.naver.com/main/read.nhn?mode=LSD&mid=shm&sid1=100&oid=011&aid=0003619834\n"
     ]
    }
   ],
   "source": [
    "# 정치 카테고리의 하이라이트 기사만 수집\n",
    "# 제목과 url만 뽑아보자.\n",
    "\n",
    "for _ in dom.select(\".cluster_text > a\"):\n",
    "        print(_.text)\n",
    "        print(_[\"href\"])"
   ]
  },
  {
   "cell_type": "code",
   "execution_count": 5,
   "metadata": {},
   "outputs": [],
   "source": [
    "# 실습파일 저장용 폴더 생성\n",
    "\n",
    "import os\n",
    "\n",
    "if not os.path.exists(\"8일차_실습_project\"):\n",
    "    os.mkdir(\"8일차_실습_project\")\n",
    "if not os.path.exists(\"8일차_실습_project/헤드라인\"):\n",
    "    os.mkdir(\"8일차_실습_project/헤드라인\")\n",
    "if not os.path.exists(\"8일차_실습_project/일반기사\"):\n",
    "    os.mkdir(\"8일차_실습_project/일반기사\")"
   ]
  },
  {
   "cell_type": "code",
   "execution_count": 6,
   "metadata": {},
   "outputs": [
    {
     "name": "stdout",
     "output_type": "stream",
     "text": [
      "정치 30\n",
      "경제 22\n",
      "사회 28\n",
      "생활 문화 20\n",
      "세계 24\n",
      "IT 과학 20\n"
     ]
    }
   ],
   "source": [
    "# 하이라이트 기사만 수집\n",
    "\n",
    "headers = {\"user-agent\":\"Mozilla/5.0 (Windows NT 10.0; Win64; x64) AppleWebKit/537.36 (KHTML, like Gecko) Chrome/77.0.3865.75 Safari/537.36\"}\n",
    "url = \"https://news.naver.com/main/main.nhn\"\n",
    "params = {\"mode\":\"LSD\",\n",
    "          \"mid\":\"shm\",\n",
    "          \"sid1\":None}\n",
    "categories = {\"정치\":100, \"경제\":101, \"사회\":102, \"생활 문화\":103, \"세계\":104, \"IT 과학\":105}\n",
    "\n",
    "# catecory마다 크로울링하는 반복문\n",
    "for category, num in categories.items():\n",
    "    params[\"sid1\"] = num\n",
    "    resp = requests.request(\"get\", url, params=params, headers=headers)\n",
    "    dom = BeautifulSoup(resp.text, \"lxml\")\n",
    "    print(category, len(dom.select(\".cluster_text > a\")))\n",
    "    \n",
    "    # 헤드라인 기사를 추출하는 반복문\n",
    "    for _ in dom.select(\".cluster_text > a\"):\n",
    "#         print(_.text)\n",
    "#         print(_[\"href\"])\n",
    "        \n",
    "        # 헤드라인 기사 제목과 url만 저장하는 txt 파일.\n",
    "        with open(\"8일차_실습_project/헤드라인/\"+\"{}.txt\".format(category), \"a\", encoding=\"utf-8\") as fp:\n",
    "            fp.write(\",\".join([_.text, _[\"href\"]]) + \"\\n\")\n",
    "        \n",
    "        # 개별 기사 내용 수집\n",
    "        articleResp = requests.request(\"get\", _[\"href\"], headers=headers)\n",
    "        articleDom = BeautifulSoup(articleResp.text, \"lxml\")\n",
    "        body = articleDom.select(\"#articleBodyContents\")[0].text.strip()\n",
    "        articleID = _[\"href\"].split(\"=\")[-1]\n",
    "        \n",
    "        # 개별 기사의 본문을 저장하는 txt파일\n",
    "        with open(\"8일차_실습_project/헤드라인/\"+\"{}-{}.txt\".format(category, articleID), \"w\", encoding=\"utf-8\") as fp:\n",
    "            fp.write(body)"
   ]
  },
  {
   "cell_type": "markdown",
   "metadata": {},
   "source": [
    "---"
   ]
  },
  {
   "cell_type": "markdown",
   "metadata": {},
   "source": [
    "# selenium 이용하기"
   ]
  },
  {
   "cell_type": "code",
   "execution_count": 7,
   "metadata": {},
   "outputs": [],
   "source": [
    "from selenium import webdriver\n",
    "driver = webdriver.Chrome()"
   ]
  },
  {
   "cell_type": "code",
   "execution_count": 8,
   "metadata": {},
   "outputs": [],
   "source": [
    "url = \"https://news.naver.com\"\n",
    "driver.get(url)"
   ]
  },
  {
   "cell_type": "code",
   "execution_count": 9,
   "metadata": {},
   "outputs": [
    {
     "name": "stdout",
     "output_type": "stream",
     "text": [
      "정치\n",
      "경제\n",
      "사회\n",
      "생활/문화\n",
      "세계\n",
      "IT/과학\n"
     ]
    }
   ],
   "source": [
    "# 카테고리 태그 찾기\n",
    "\n",
    "for _ in driver.find_elements_by_css_selector(\".tx\")[2:8]:\n",
    "    print(_.text)"
   ]
  },
  {
   "cell_type": "code",
   "execution_count": 10,
   "metadata": {},
   "outputs": [],
   "source": [
    "# 카테고리 클릭\n",
    "\n",
    "driver.find_elements_by_css_selector(\".tx\")[2].click()"
   ]
  },
  {
   "cell_type": "code",
   "execution_count": 11,
   "metadata": {},
   "outputs": [],
   "source": [
    "dom = BeautifulSoup(driver.page_source, \"lxml\")"
   ]
  },
  {
   "cell_type": "code",
   "execution_count": 12,
   "metadata": {},
   "outputs": [
    {
     "name": "stdout",
     "output_type": "stream",
     "text": [
      "‘공정·사상·단식’ 앞세워 조국 투쟁 이어가는 한국당\n",
      "https://news.naver.com/main/read.nhn?mode=LSD&mid=shm&sid1=100&oid=018&aid=0004469721\n",
      "[단독]서훈 국정원장 극비 해외출장, 북미대화 지원차 미국 갔나\n",
      "https://news.naver.com/main/read.nhn?mode=LSD&mid=shm&sid1=100&oid=081&aid=0003029443\n",
      "격려·당부·사퇴요구…치열했던 '조국 국회 예방'\n",
      "https://news.naver.com/main/read.nhn?mode=LSD&mid=shm&sid1=100&oid=006&aid=0000098767\n",
      "북한 지뢰에 두 다리 잃은 예비역 군인, 보훈처 “‘전상’(戰傷)이 아닌 ‘공상’(公傷)” 판정에 분노\n",
      "https://news.naver.com/main/read.nhn?mode=LSD&mid=shm&sid1=100&oid=022&aid=0003397977\n",
      "민주당 총선대비 물갈이 탄력…양정철·백원우 불출마 의사\n",
      "https://news.naver.com/main/read.nhn?mode=LSD&mid=shm&sid1=100&oid=009&aid=0004428772\n",
      "조국 \"수사 공보준칙 개정이 나 때문? 오해다\"\n",
      "https://news.naver.com/main/read.nhn?mode=LSD&mid=shm&sid1=100&oid=047&aid=0002240354\n",
      "유성엽 \"자진사퇴 깊이 생각해야\", 조국 \"형사절차 통해 진위 밝혀질 것\"\n",
      "https://news.naver.com/main/read.nhn?mode=LSD&mid=shm&sid1=100&oid=123&aid=0002212005\n",
      "[순간포착]“수사공보준칙 개정 부적절…왜? 조국이 하니까”\n",
      "https://news.naver.com/main/read.nhn?mode=LSD&mid=shm&sid1=100&oid=449&aid=0000177817\n",
      "與 \"민생 방치말라\"·野 \"조국 파면하라\"…정기국회 대치 심화(종합)\n",
      "https://news.naver.com/main/read.nhn?mode=LSD&mid=shm&sid1=100&oid=001&aid=0011085887\n",
      "\"검찰개혁\"엔 열리고 \"사퇴\" 쓴소리엔 열리지 않은 조국 수첩\n",
      "https://news.naver.com/main/read.nhn?mode=LSD&mid=shm&sid1=100&oid=025&aid=0002937720\n",
      "박지원 '삭발, 구정치'…한국당 \"정치쇼 원조, 훈수할 자격있나\"\n",
      "https://news.naver.com/main/read.nhn?mode=LSD&mid=shm&sid1=100&oid=003&aid=0009457262\n",
      "여 \"민생 방치\" 야 \"조국 파면\"…정기국회 대치 심화\n",
      "https://news.naver.com/main/read.nhn?mode=LSD&mid=shm&sid1=100&oid=437&aid=0000219820\n",
      "평화·대안정치 '反조국 연대' 존재감…한국당 연일 러브콜\n",
      "https://news.naver.com/main/read.nhn?mode=LSD&mid=shm&sid1=100&oid=421&aid=0004200175\n",
      "당정 \"아프리카 돼지열병 北서 유입? 원인 확정해선 안 돼\"(종합)\n",
      "https://news.naver.com/main/read.nhn?mode=LSD&mid=shm&sid1=100&oid=003&aid=0009457240\n",
      "오전엔 환대,오후엔 질책…냉·온탕 오간 조국의 하루\n",
      "https://news.naver.com/main/read.nhn?mode=LSD&mid=shm&sid1=100&oid=421&aid=0004200169\n",
      "[단독]조국, 문희상 의장 만나 “힘들다” 토로...문 의장 “국가과 국민 위한 일 하라”\n",
      "https://news.naver.com/main/read.nhn?mode=LSD&mid=shm&sid1=100&oid=030&aid=0002841192\n",
      "대안정치, 조국 해임건의 가능성 시사…캐스팅보트 되나\n",
      "https://news.naver.com/main/read.nhn?mode=LSD&mid=shm&sid1=100&oid=079&aid=0003270741\n",
      "방위비분담금 협상대표 곧 임명할 듯…정은보 검토\n",
      "https://news.naver.com/main/read.nhn?mode=LSD&mid=shm&sid1=100&oid=001&aid=0011085864\n",
      "유성엽, 인사 온 조국에 “내려놓는 게 좋지 않겠나”…사퇴 요구\n",
      "https://news.naver.com/main/read.nhn?mode=LSD&mid=shm&sid1=100&oid=081&aid=0003029435\n",
      "피의사실공표금지 추진…속으로 웃는 건 국회의원(?)\n",
      "https://news.naver.com/main/read.nhn?mode=LSD&mid=shm&sid1=100&oid=008&aid=0004279062\n"
     ]
    }
   ],
   "source": [
    "for _ in [_.find_next_sibling().select_one(\"a\") for _ in dom.select(\"#section_body .photo\")]:\n",
    "    print(_.text)\n",
    "    print(requests.compat.urljoin(url, _[\"href\"]))"
   ]
  },
  {
   "cell_type": "code",
   "execution_count": 13,
   "metadata": {},
   "outputs": [],
   "source": [
    "driver.close()"
   ]
  },
  {
   "cell_type": "code",
   "execution_count": 14,
   "metadata": {},
   "outputs": [
    {
     "name": "stdout",
     "output_type": "stream",
     "text": [
      "정치 20\n",
      "경제 18\n",
      "사회 20\n",
      "생활 문화 19\n",
      "세계 20\n",
      "IT 과학 19\n"
     ]
    }
   ],
   "source": [
    "# 헤드라인 이외의 기사만 수집\n",
    "\n",
    "driver = webdriver.Chrome()\n",
    "url = \"https://news.naver.com\"\n",
    "driver.get(url)\n",
    "\n",
    "for catnum in range(2,8):\n",
    "    category = driver.find_elements_by_css_selector(\".tx\")[catnum].text.replace(\"/\", \" \")\n",
    "    driver.find_elements_by_css_selector(\".tx\")[catnum].click()\n",
    "    dom = BeautifulSoup(driver.page_source, \"lxml\")\n",
    "    articles = [_.find_next_sibling().select_one(\"a\") for _ in dom.select(\"#section_body .photo\")]\n",
    "    print(category, len(articles))\n",
    "    \n",
    "    for _ in articles:\n",
    "        # 기사의 제목과 url만 저장하는 txt 파일\n",
    "        with open(\"8일차_실습_project/일반기사/\"+category+\" 일반기사.txt\", \"a\", encoding=\"utf-8\") as fp:\n",
    "            fp.write(\n",
    "                \",\".join(\n",
    "                    [\n",
    "                        _.text, \n",
    "                        requests.compat.urljoin(url, _[\"href\"])\n",
    "                    ]\n",
    "                ) + \"\\n\")\n",
    "\n",
    "        # 개별 기사 내용 수집\n",
    "        articleResp = requests.request(\"get\", \n",
    "                                       requests.compat.urljoin(url, _[\"href\"]), \n",
    "                                       headers=headers)\n",
    "        articleDom = BeautifulSoup(articleResp.text, \"lxml\")\n",
    "        body = articleDom.select(\"#articleBodyContents\")[0].text.strip()\n",
    "        articleID = _[\"href\"].split(\"=\")[-1]\n",
    "\n",
    "        # 개별 기사의 본문을 저장하는 txt파일\n",
    "        with open(\"8일차_실습_project/일반기사/\"+\"{}-{}.txt\".format(category, articleID), \"w\", encoding=\"utf-8\") as fp:\n",
    "            fp.write(body)\n",
    "            \n",
    "driver.close()"
   ]
  },
  {
   "cell_type": "markdown",
   "metadata": {},
   "source": [
    "---"
   ]
  },
  {
   "cell_type": "markdown",
   "metadata": {},
   "source": [
    "# 기사 더보기\n",
    "- 기사 더보기를 눌러서 추가되는 기사를 스크랩해보자"
   ]
  },
  {
   "cell_type": "code",
   "execution_count": 22,
   "metadata": {},
   "outputs": [],
   "source": [
    "driver = webdriver.Chrome()\n",
    "driver.get(\"https://news.naver.com\")\n",
    "driver.find_elements_by_css_selector(\".tx\")[2].click() # 정치 카테고리로 이동"
   ]
  },
  {
   "cell_type": "code",
   "execution_count": 23,
   "metadata": {},
   "outputs": [
    {
     "data": {
      "text/plain": [
       "56"
      ]
     },
     "execution_count": 23,
     "metadata": {},
     "output_type": "execute_result"
    }
   ],
   "source": [
    "# 더보기 클릭하기 전 dom을 만들자.\n",
    "# 더보기 클릭하기 전 기사 갯수\n",
    "\n",
    "before = BeautifulSoup(driver.page_source, \"lxml\")\n",
    "len(before.select(\"div.cluster_text a\"))"
   ]
  },
  {
   "cell_type": "code",
   "execution_count": 24,
   "metadata": {},
   "outputs": [
    {
     "name": "stdout",
     "output_type": "stream",
     "text": [
      "헤드라인 더보기\n"
     ]
    }
   ],
   "source": [
    "# 더보기 클릭\n",
    "\n",
    "print(driver.find_element_by_css_selector(\".cluster_more_inner\").text)\n",
    "driver.find_element_by_css_selector(\".cluster_more_inner\").click()"
   ]
  },
  {
   "cell_type": "markdown",
   "metadata": {},
   "source": [
    "> selenium은 브라우저가 페이지를 렌더링하는 시간이 걸린다.\n",
    ">\n",
    "> 페이지 렌더링하는 속도보다 코드 실행하는 속도가 더 빠르기 때문에 연달아 코드를 실행하면 문제가 생길 수 있다.\n",
    ">\n",
    "> 연달아 실행할 때는 time.sleep(5)"
   ]
  },
  {
   "cell_type": "code",
   "execution_count": 25,
   "metadata": {},
   "outputs": [
    {
     "data": {
      "text/plain": [
       "69"
      ]
     },
     "execution_count": 25,
     "metadata": {},
     "output_type": "execute_result"
    }
   ],
   "source": [
    "# 더보기 클릭한 후 dom\n",
    "# 더보기 클릭한 후 기사 갯수가 늘었다.\n",
    "\n",
    "after = BeautifulSoup(driver.page_source, \"lxml\")\n",
    "len(after.select(\"div.cluster_text a\"))"
   ]
  },
  {
   "cell_type": "code",
   "execution_count": 26,
   "metadata": {},
   "outputs": [
    {
     "name": "stdout",
     "output_type": "stream",
     "text": [
      "미래 먹거리 콘텐츠산업 육성…2022년까지 정책금융 1조 확대(종합)\n",
      "30이상+\n",
      "200이상+\n",
      "文 “한류 생산유발 효과 20조…창작자 노력에 날개 달겠다”\n",
      "1,600이상+\n",
      "文대통령 \"콘텐츠는 미래 먹거리…마음껏 상상하고 도전하라\"\n",
      "200이상+\n",
      "\"BTS·나영석 같은 창작자가 콘텐츠 강국 만들어\"\n",
      "\"김정은 눈치 보는 정권\" \"젊은 청년 두 번 죽여”… 野, 하재헌 중사 공상 판정 맹비난\n",
      "500이상+\n",
      "300이상+\n",
      "유승민 “북한의 보훈처냐…온 나라가 미쳐가고 있다”\n",
      "400이상+\n",
      "하재헌 중사 ‘공상’ 논란 정치권 확산…野 “관련자 문책해야”\n",
      "300이상+\n",
      "“대통령 정상 아니라서”… ‘북한 지뢰’ 공상 논란 목소리 높인 野\n",
      "유성엽, 인사 온 조국에 “내려놓는 게 좋지 않겠나”…사퇴 요구\n",
      "50이상+\n",
      "30이상+\n",
      "\"검찰개혁\"엔 열리고 \"사퇴\" 쓴소리엔 열리지 않은 조국 수첩\n",
      "10이상+\n",
      "오전엔 환대,오후엔 질책…냉·온탕 오간 조국의 하루\n",
      "100이상+\n",
      "심상정 \"개혁 위해 조국에 자기결단 요구할 수도\"\n",
      "황교안 이어 김문수·강효상도 릴레이 삭발…다음은 누구?\n",
      "200이상+\n",
      "500이상+\n",
      "“백성 분노하면 임금도 뒤집는다” 강효상도 릴레이 삭발 동참\n",
      "50이상+\n",
      "강효상 삭발투쟁 동참..野 인사 6명째\n",
      "200이상+\n",
      "강효상도 삭발…\"백성이 분노하면 임금도 뒤집을 수 있다\"\n",
      "'조국 사퇴' 野 릴레이 삭발…김문수·강효상 참여\n",
      "200이상+\n",
      "200이상+\n",
      "[현장] 김문수 삭발 동참…\"머리 깎고 의원직 던지자\"\n",
      "1,000이상+\n",
      "김문수 \"조국을 감옥으로\" 눈물의 삭발식\n",
      "50이상+\n",
      "이언주·김문수 '눈물', 황교안 '눈 꼬옥~'…삭발의 기술\n",
      "靑·외교부 잇딴 해명에도…꺼지지 않는 강경화-김현종 '불화설'\n",
      "30이상+\n",
      "100이상+\n",
      "탈 많은 ‘김현종 스타일’ 어떻길래?…저돌적이고 성과 강조하는 터프가이\n",
      "강경화-김현종 갈등 노출...靑 \"확대해석인 듯\"\n",
      "10이상+\n",
      "강경화 장관과 김현종 靑차장, 왜 싸웠나\n",
      "파주 돼지열병에 9.19 평양공동선언 1주년 행사도 '비상'\n",
      "10이상+\n",
      "9·19평양선언 기념행사 취소도 검토…돼지열병에 유탄\n",
      "9·19선언 1주년 행사, 아프리카돼지열병에 ‘빨간불’\n",
      "[ASF발생]9.19 행사 놓고 고심깊은 통일부 '이러지도 저러지도'\n",
      "심상정 \"황교안 보면서 '삭발은 빨갱이나 하는 짓'이라던 공안검사 생각났다\"\n",
      "6,000이상+\n",
      "\"빨갱이짓이라더니···\" 심상정, '삭발' 황교안에 \"약자 코스프레\" 맹비난\n",
      "600이상+\n"
     ]
    }
   ],
   "source": [
    "# 더보기 클릭 전 기사 목록\n",
    "\n",
    "for _ in before.select(\"div.cluster_text a\"):\n",
    "    print(_.text)"
   ]
  },
  {
   "cell_type": "code",
   "execution_count": 27,
   "metadata": {},
   "outputs": [
    {
     "name": "stdout",
     "output_type": "stream",
     "text": [
      "미래 먹거리 콘텐츠산업 육성…2022년까지 정책금융 1조 확대(종합)\n",
      "30이상+\n",
      "200이상+\n",
      "文 “한류 생산유발 효과 20조…창작자 노력에 날개 달겠다”\n",
      "1,600이상+\n",
      "文대통령 \"콘텐츠는 미래 먹거리…마음껏 상상하고 도전하라\"\n",
      "200이상+\n",
      "\"BTS·나영석 같은 창작자가 콘텐츠 강국 만들어\"\n",
      "\"김정은 눈치 보는 정권\" \"젊은 청년 두 번 죽여”… 野, 하재헌 중사 공상 판정 맹비난\n",
      "500이상+\n",
      "300이상+\n",
      "유승민 “북한의 보훈처냐…온 나라가 미쳐가고 있다”\n",
      "400이상+\n",
      "하재헌 중사 ‘공상’ 논란 정치권 확산…野 “관련자 문책해야”\n",
      "300이상+\n",
      "“대통령 정상 아니라서”… ‘북한 지뢰’ 공상 논란 목소리 높인 野\n",
      "유성엽, 인사 온 조국에 “내려놓는 게 좋지 않겠나”…사퇴 요구\n",
      "50이상+\n",
      "30이상+\n",
      "\"검찰개혁\"엔 열리고 \"사퇴\" 쓴소리엔 열리지 않은 조국 수첩\n",
      "10이상+\n",
      "오전엔 환대,오후엔 질책…냉·온탕 오간 조국의 하루\n",
      "100이상+\n",
      "심상정 \"개혁 위해 조국에 자기결단 요구할 수도\"\n",
      "황교안 이어 김문수·강효상도 릴레이 삭발…다음은 누구?\n",
      "200이상+\n",
      "500이상+\n",
      "“백성 분노하면 임금도 뒤집는다” 강효상도 릴레이 삭발 동참\n",
      "50이상+\n",
      "강효상 삭발투쟁 동참..野 인사 6명째\n",
      "200이상+\n",
      "강효상도 삭발…\"백성이 분노하면 임금도 뒤집을 수 있다\"\n",
      "'조국 사퇴' 野 릴레이 삭발…김문수·강효상 참여\n",
      "200이상+\n",
      "200이상+\n",
      "[현장] 김문수 삭발 동참…\"머리 깎고 의원직 던지자\"\n",
      "1,000이상+\n",
      "김문수 \"조국을 감옥으로\" 눈물의 삭발식\n",
      "50이상+\n",
      "이언주·김문수 '눈물', 황교안 '눈 꼬옥~'…삭발의 기술\n",
      "靑·외교부 잇딴 해명에도…꺼지지 않는 강경화-김현종 '불화설'\n",
      "30이상+\n",
      "100이상+\n",
      "탈 많은 ‘김현종 스타일’ 어떻길래?…저돌적이고 성과 강조하는 터프가이\n",
      "강경화-김현종 갈등 노출...靑 \"확대해석인 듯\"\n",
      "10이상+\n",
      "강경화 장관과 김현종 靑차장, 왜 싸웠나\n",
      "파주 돼지열병에 9.19 평양공동선언 1주년 행사도 '비상'\n",
      "10이상+\n",
      "9·19평양선언 기념행사 취소도 검토…돼지열병에 유탄\n",
      "9·19선언 1주년 행사, 아프리카돼지열병에 ‘빨간불’\n",
      "[ASF발생]9.19 행사 놓고 고심깊은 통일부 '이러지도 저러지도'\n",
      "심상정 \"황교안 보면서 '삭발은 빨갱이나 하는 짓'이라던 공안검사 생각났다\"\n",
      "6,000이상+\n",
      "\"빨갱이짓이라더니···\" 심상정, '삭발' 황교안에 \"약자 코스프레\" 맹비난\n",
      "600이상+\n",
      "당정 \"아프리카 돼지열병 北서 유입? 원인 확정해선 안 돼\"(종합)\n",
      "與, 아프리카돼지열병 긴급회의…\"골든타임 내 총력대응\"\n",
      "강경화 “한ㆍ아세안 정상회의, 10개국 맞춤형 준비 필요”\n",
      "외교부 본부에 등장한 '과학기술산업부'···어느 나라 부처?\n",
      "직접 정치나선 소상공인聯, 창당 작업 본격화\n",
      "\"20대 국회 마지막 정기국회서 소상공인기본법 제정해야\"(종합)\n",
      "돼지열병 '심각'단계 ···이총리 \"조기퇴치 성공모델 만들어야\"\n",
      "10이상+\n",
      "李총리, 돼지열병 진두지휘…\"확산 빨라 신속 대응 절실\"(종합)\n",
      "조국 \"수사 공보준칙 개정이 나 때문? 오해다\"\n",
      "30이상+\n",
      "대안연대 유성엽, 인사 온 조국 면전서 \"내려놓는 게 좋지 않겠나\"\n",
      "1,200이상+\n"
     ]
    }
   ],
   "source": [
    "# 더보기 클릭한 후 기사 목록\n",
    "\n",
    "for _ in after.select(\"div.cluster_text a\"):\n",
    "    print(_.text)"
   ]
  },
  {
   "cell_type": "code",
   "execution_count": 21,
   "metadata": {},
   "outputs": [],
   "source": [
    "driver.close()"
   ]
  },
  {
   "cell_type": "code",
   "execution_count": null,
   "metadata": {},
   "outputs": [],
   "source": []
  }
 ],
 "metadata": {
  "kernelspec": {
   "display_name": "Python 3",
   "language": "python",
   "name": "python3"
  },
  "language_info": {
   "codemirror_mode": {
    "name": "ipython",
    "version": 3
   },
   "file_extension": ".py",
   "mimetype": "text/x-python",
   "name": "python",
   "nbconvert_exporter": "python",
   "pygments_lexer": "ipython3",
   "version": "3.7.3"
  }
 },
 "nbformat": 4,
 "nbformat_minor": 2
}
