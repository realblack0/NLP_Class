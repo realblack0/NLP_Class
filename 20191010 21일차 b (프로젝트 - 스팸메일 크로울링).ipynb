{
 "cells": [
  {
   "cell_type": "code",
   "execution_count": 1,
   "metadata": {},
   "outputs": [],
   "source": [
    "from selenium import webdriver\n",
    "import json"
   ]
  },
  {
   "cell_type": "code",
   "execution_count": 2,
   "metadata": {},
   "outputs": [],
   "source": [
    "with open(\"private/naver_id.json\") as fp:\n",
    "    idpw = json.loads(fp.read())"
   ]
  },
  {
   "cell_type": "code",
   "execution_count": 3,
   "metadata": {},
   "outputs": [],
   "source": [
    "driver = webdriver.Chrome()"
   ]
  },
  {
   "cell_type": "code",
   "execution_count": 4,
   "metadata": {},
   "outputs": [],
   "source": [
    "driver.get(\"https://www.naver.com\")"
   ]
  },
  {
   "cell_type": "code",
   "execution_count": 5,
   "metadata": {},
   "outputs": [],
   "source": [
    "driver.find_element_by_css_selector(\".header .an_a.mn_mail\").click()"
   ]
  },
  {
   "cell_type": "code",
   "execution_count": 6,
   "metadata": {},
   "outputs": [],
   "source": [
    "driver.find_element_by_css_selector(\"#id\").send_keys(idpw[\"id\"])"
   ]
  },
  {
   "cell_type": "code",
   "execution_count": 7,
   "metadata": {},
   "outputs": [],
   "source": [
    "driver.find_element_by_css_selector(\"#pw\").send_keys(idpw[\"pw\"])"
   ]
  },
  {
   "cell_type": "code",
   "execution_count": 8,
   "metadata": {},
   "outputs": [],
   "source": [
    "driver.find_element_by_css_selector(\"input[type=submit]\").click()"
   ]
  },
  {
   "cell_type": "code",
   "execution_count": 10,
   "metadata": {},
   "outputs": [],
   "source": [
    "driver.find_element_by_css_selector(\".item_wrap.bu6 a\").click()"
   ]
  },
  {
   "cell_type": "code",
   "execution_count": 11,
   "metadata": {},
   "outputs": [],
   "source": [
    "spamList = [_ for _ in driver.find_elements_by_css_selector(\".mail_title\")]\n",
    "spamTitles = [_.text for _ in spamList]"
   ]
  },
  {
   "cell_type": "code",
   "execution_count": 12,
   "metadata": {},
   "outputs": [
    {
     "data": {
      "text/plain": [
       "['[DBGuide.net] 한국데이터산업진흥원 빅데이터 전문강사 모집(~10.25까지)',\n",
       " '◆실시간 카지노◆ [대출] 미녀딜러들과 함께 바카라를 즐기세요',\n",
       " '양도면 _ [후],.[불],.ㅂ┃ ,.ㅇ┏ ,.그,.ㄹ┏',\n",
       " '정품 비/아/그/라 구입 이제 집에서 클릭 한번으로 쉽게',\n",
       " \"(광고) '건축학과가 빅데이터 분석가로 전직했어요!' 현재 제조 대기업의 빅데이터 분석팀에서 일하고 있는 있습니다.\",\n",
       " 'EBRD 글로벌 자문역 및 전문가 채용박람회 안내',\n",
       " '(광고)의료실비+암+질병+상해등 모든 병원비 이거하나로 한번에 끝! 종합 국민보험 메리츠 알파플러스! 10월 새로운 보험료는?',\n",
       " '[아임웹] 이런 기능이 있었어?🤩 아임웹 추천 기능 BEST 5',\n",
       " '자바야학을 합니다',\n",
       " '남성고민 여기서 해결하세요 100%[정_품_비_아]',\n",
       " '기간한정 「내가 출세하는 8가지 이유」를 출시하였습니다.',\n",
       " 'Going live NOW! Here’s your link …',\n",
       " '태평4동 _ 무..료..머..ㄴ┃..[5].만 ..야..ㅁ┣ ..토 <릴>..게..임',\n",
       " '정/품/비/아__수많은 남성들을 위한 정품업체',\n",
       " '대한민국 성인남성 추천 사이트 [정/품/비/아] 바로Click']"
      ]
     },
     "execution_count": 12,
     "metadata": {},
     "output_type": "execute_result"
    }
   ],
   "source": [
    "spamTitles"
   ]
  },
  {
   "cell_type": "code",
   "execution_count": 13,
   "metadata": {},
   "outputs": [],
   "source": [
    "spamList[0].click()"
   ]
  },
  {
   "cell_type": "code",
   "execution_count": 14,
   "metadata": {},
   "outputs": [
    {
     "data": {
      "text/plain": [
       "'본 메일은 DBGUIDE.NET에서 발송한 메일이며 발신 전용 메일입니다.\\n수신을 원치 않으시면 이곳 ‘로그인 > 수신분야’ 에서 체크를 해지해 주시기 바립니다.\\n한국데이터산업진흥원 | 사업자등록번호 : 102-82-08963 | 서울시 중구 세종대로9길 42 부영빌딩 7~8층\\nTEL : 02-3708-5395 | FAX : 02-318-5040 | 전자우편 : webmaster@dbguide.net'"
      ]
     },
     "execution_count": 14,
     "metadata": {},
     "output_type": "execute_result"
    }
   ],
   "source": [
    "driver.find_element_by_css_selector(\"#readFrame\").text"
   ]
  },
  {
   "cell_type": "code",
   "execution_count": 20,
   "metadata": {},
   "outputs": [
    {
     "data": {
      "text/plain": [
       "[<selenium.webdriver.remote.webelement.WebElement (session=\"bdecd51ceb73b2d6c20d95ebf9ed8264\", element=\"783a6f66-729c-4580-ae09-e53e63ef3908\")>,\n",
       " <selenium.webdriver.remote.webelement.WebElement (session=\"bdecd51ceb73b2d6c20d95ebf9ed8264\", element=\"2424f818-5b3a-4c4d-a208-6f0d4cfb32ce\")>,\n",
       " <selenium.webdriver.remote.webelement.WebElement (session=\"bdecd51ceb73b2d6c20d95ebf9ed8264\", element=\"afe170c0-788c-4b46-afd4-049129ca2247\")>,\n",
       " <selenium.webdriver.remote.webelement.WebElement (session=\"bdecd51ceb73b2d6c20d95ebf9ed8264\", element=\"8942cabb-fe6c-4b23-9774-17a761ab997c\")>,\n",
       " <selenium.webdriver.remote.webelement.WebElement (session=\"bdecd51ceb73b2d6c20d95ebf9ed8264\", element=\"eefa3b1a-5656-403d-aa50-5b40075aed8c\")>,\n",
       " <selenium.webdriver.remote.webelement.WebElement (session=\"bdecd51ceb73b2d6c20d95ebf9ed8264\", element=\"ff6015ab-4dea-4e52-8b67-826cbf162dba\")>,\n",
       " <selenium.webdriver.remote.webelement.WebElement (session=\"bdecd51ceb73b2d6c20d95ebf9ed8264\", element=\"a99b2e56-5002-4644-9235-65edbcb97cae\")>,\n",
       " <selenium.webdriver.remote.webelement.WebElement (session=\"bdecd51ceb73b2d6c20d95ebf9ed8264\", element=\"5fa9c55d-985d-4896-948f-001c215e71ac\")>,\n",
       " <selenium.webdriver.remote.webelement.WebElement (session=\"bdecd51ceb73b2d6c20d95ebf9ed8264\", element=\"55ca1390-0589-4ddb-b5ab-af37831e9660\")>,\n",
       " <selenium.webdriver.remote.webelement.WebElement (session=\"bdecd51ceb73b2d6c20d95ebf9ed8264\", element=\"e0cc1e64-da93-4511-8040-5d5e3029fbb3\")>,\n",
       " <selenium.webdriver.remote.webelement.WebElement (session=\"bdecd51ceb73b2d6c20d95ebf9ed8264\", element=\"854aebff-4ec5-4b1f-9a6a-d17400ad43ef\")>,\n",
       " <selenium.webdriver.remote.webelement.WebElement (session=\"bdecd51ceb73b2d6c20d95ebf9ed8264\", element=\"dc294970-d77f-41e3-a2f6-87b824785136\")>,\n",
       " <selenium.webdriver.remote.webelement.WebElement (session=\"bdecd51ceb73b2d6c20d95ebf9ed8264\", element=\"0af20d8e-b8dd-4fa9-bac3-b1e254921f42\")>,\n",
       " <selenium.webdriver.remote.webelement.WebElement (session=\"bdecd51ceb73b2d6c20d95ebf9ed8264\", element=\"c5414473-cf09-4c16-a997-b07836ac0a26\")>,\n",
       " <selenium.webdriver.remote.webelement.WebElement (session=\"bdecd51ceb73b2d6c20d95ebf9ed8264\", element=\"6882657f-d17a-4b52-bf35-73374f060827\")>]"
      ]
     },
     "execution_count": 20,
     "metadata": {},
     "output_type": "execute_result"
    }
   ],
   "source": [
    "driver.find_elements_by_css_selector(\".mail_title\")"
   ]
  },
  {
   "cell_type": "code",
   "execution_count": 24,
   "metadata": {},
   "outputs": [],
   "source": [
    "import re\n",
    "import time"
   ]
  },
  {
   "cell_type": "code",
   "execution_count": 35,
   "metadata": {},
   "outputs": [
    {
     "name": "stdout",
     "output_type": "stream",
     "text": [
      "[DBGuide.net] 한국데이터산업진흥원 빅데이터 전문강사 모집(10.25까지)\n",
      "실시간 카지노 [대출] 미녀딜러들과 함께 바카라를 즐기세요\n",
      "양도면 _ [후].[불]. . .그.\n",
      "정품 비아그라 구입 이제 집에서 클릭 한번으로 쉽게\n",
      "(광고) 건축학과가 빅데이터 분석가로 전직했어요 현재 제조 대기업의 빅데이터 분석팀에서 일하고 있는 있습니다.\n",
      "EBRD 글로벌 자문역 및 전문가 채용박람회 안내\n",
      "(광고)의료실비암질병상해등 모든 병원비 이거하나로 한번에 끝 종합 국민보험 메리츠 알파플러스 10월 새로운 보험료는\n",
      "[아임웹] 이런 기능이 있었어 아임웹 추천 기능 BEST 5\n",
      "자바야학을 합니다\n",
      "남성고민 여기서 해결하세요 100[정_품_비_아]\n",
      "기간한정 내가 출세하는 8가지 이유를 출시하였습니다.\n",
      "Going live NOW Heres your link \n",
      "태평4동 _ 무..료..머....[5].만 ..야.. ..토 릴..게..임\n",
      "정품비아__수많은 남성들을 위한 정품업체\n",
      "대한민국 성인남성 추천 사이트 [정품비아] 바로Click\n"
     ]
    }
   ],
   "source": [
    "for i in range(15):\n",
    "    driver.find_element_by_css_selector(\".item_wrap.bu6 a\").click()\n",
    "    time.sleep(1)\n",
    "    \n",
    "    mail = driver.find_elements_by_css_selector(\".mail_title\")[i]\n",
    "    title = re.sub(r\"[^A-Za-z가-힣0-9\\[\\]\\.\\(\\)\\s_]\", \"\", mail.text)\n",
    "    mail.click()\n",
    "    time.sleep(1)\n",
    "    \n",
    "    with open(\"practice/\"+f\"spam-{i}-{title}.txt\", \"w\", encoding=\"utf-8\") as f:\n",
    "        f.write(driver.find_element_by_css_selector(\"#readFrame\").text)\n",
    "    \n",
    "    print(title)"
   ]
  },
  {
   "cell_type": "code",
   "execution_count": 36,
   "metadata": {},
   "outputs": [
    {
     "name": "stdout",
     "output_type": "stream",
     "text": [
      "[서울시 빅데이터 캠퍼스] 반출 신청 승인 메일입니다.\n",
      "[서울시 빅데이터 캠퍼스] 반출 신청 승인 메일입니다.\n",
      "[데이터청년캠퍼스] 기술특강 신청 마감\n",
      "This Week in the FCFL 10819\n",
      "신진효님 신청하신 모임이 2일 후 시작됩니다.\n",
      "한글날 맞이 나눔의 가치를 위한 스타의 손글씨 프로젝트 SBS런닝맨 전소민체\n",
      "[font.co.kr] 제573돌 한글날 기념 빙그레 메로나체 무료 배포\n",
      "[2019년 9월 소식] 국민대학교 뉴스레터\n",
      "[대한항공] 마일리지 로고상품 한정판 다이어리 출시 기념 이벤트\n",
      "[한국데이터산업진흥원] 빅데이터 청년인재 10월 1주차 추천 채용공고\n",
      "[오라클x코트라] 이노베이션챌린지(ISV경진대회)  지금 참여하세요\n",
      "[DBGuide.net] (D3 무료 온라인 사전접수 중) 제6회 Korea DataBiz Trends (더 나은 교육 혁신 데이터로 답하다)\n",
      "[멀티캠퍼스] 신진효님 문의하신 비밀번호입니다.\n",
      "우주전파재난 AI예측 경진대회 설문조사\n",
      "[서울시 빅데이터 캠퍼스 이용연장 신청] 승인 되었습니다.\n"
     ]
    }
   ],
   "source": [
    "for i in range(15):\n",
    "    driver.find_element_by_css_selector(\".item_wrap.bu2 a\").click()\n",
    "    time.sleep(1)\n",
    "\n",
    "    mail = driver.find_elements_by_css_selector(\".mail_title\")[i]\n",
    "    title = re.sub(r\"[^A-Za-z가-힣0-9\\[\\]\\.\\(\\)\\s_]\", \"\", mail.text)\n",
    "    mail.click()\n",
    "    time.sleep(1)\n",
    "    \n",
    "    with open(\"practice/\"+f\"ham-{i}-{title}.txt\", \"w\", encoding=\"utf-8\") as f:\n",
    "        f.write(driver.find_element_by_css_selector(\"#readFrame\").text)\n",
    "    \n",
    "    print(title)"
   ]
  },
  {
   "cell_type": "code",
   "execution_count": 38,
   "metadata": {},
   "outputs": [],
   "source": [
    "driver.close()"
   ]
  },
  {
   "cell_type": "code",
   "execution_count": null,
   "metadata": {},
   "outputs": [],
   "source": []
  }
 ],
 "metadata": {
  "kernelspec": {
   "display_name": "Python 3",
   "language": "python",
   "name": "python3"
  },
  "language_info": {
   "codemirror_mode": {
    "name": "ipython",
    "version": 3
   },
   "file_extension": ".py",
   "mimetype": "text/x-python",
   "name": "python",
   "nbconvert_exporter": "python",
   "pygments_lexer": "ipython3",
   "version": "3.7.3"
  }
 },
 "nbformat": 4,
 "nbformat_minor": 2
}
