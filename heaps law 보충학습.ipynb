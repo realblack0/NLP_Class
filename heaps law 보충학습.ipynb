{
 "cells": [
  {
   "cell_type": "code",
   "execution_count": 1,
   "metadata": {},
   "outputs": [
    {
     "name": "stderr",
     "output_type": "stream",
     "text": [
      "C:\\Users\\JINHYO\\Anaconda3\\lib\\importlib\\_bootstrap.py:219: RuntimeWarning: numpy.ufunc size changed, may indicate binary incompatibility. Expected 192 from C header, got 216 from PyObject\n",
      "  return f(*args, **kwds)\n",
      "C:\\Users\\JINHYO\\Anaconda3\\lib\\importlib\\_bootstrap.py:219: RuntimeWarning: numpy.ufunc size changed, may indicate binary incompatibility. Expected 192 from C header, got 216 from PyObject\n",
      "  return f(*args, **kwds)\n",
      "C:\\Users\\JINHYO\\Anaconda3\\lib\\importlib\\_bootstrap.py:219: RuntimeWarning: numpy.ufunc size changed, may indicate binary incompatibility. Expected 192 from C header, got 216 from PyObject\n",
      "  return f(*args, **kwds)\n",
      "C:\\Users\\JINHYO\\Anaconda3\\lib\\importlib\\_bootstrap.py:219: RuntimeWarning: numpy.ufunc size changed, may indicate binary incompatibility. Expected 192 from C header, got 216 from PyObject\n",
      "  return f(*args, **kwds)\n",
      "C:\\Users\\JINHYO\\Anaconda3\\lib\\importlib\\_bootstrap.py:219: RuntimeWarning: numpy.ufunc size changed, may indicate binary incompatibility. Expected 192 from C header, got 216 from PyObject\n",
      "  return f(*args, **kwds)\n"
     ]
    }
   ],
   "source": [
    "import nltk\n",
    "import konlpy\n",
    "import matplotlib.pyplot as plt"
   ]
  },
  {
   "cell_type": "code",
   "execution_count": 2,
   "metadata": {},
   "outputs": [],
   "source": [
    "from nltk.corpus import gutenberg, brown"
   ]
  },
  {
   "cell_type": "code",
   "execution_count": 7,
   "metadata": {},
   "outputs": [
    {
     "data": {
      "text/plain": [
       "18"
      ]
     },
     "execution_count": 7,
     "metadata": {},
     "output_type": "execute_result"
    }
   ],
   "source": [
    "len(gutenberg.fileids())"
   ]
  },
  {
   "cell_type": "code",
   "execution_count": 6,
   "metadata": {},
   "outputs": [
    {
     "data": {
      "text/plain": [
       "500"
      ]
     },
     "execution_count": 6,
     "metadata": {},
     "output_type": "execute_result"
    }
   ],
   "source": [
    "len(brown.fileids())"
   ]
  },
  {
   "cell_type": "code",
   "execution_count": 9,
   "metadata": {},
   "outputs": [],
   "source": [
    "from nltk.tokenize import word_tokenize\n",
    "from nltk.text import Text"
   ]
  },
  {
   "cell_type": "markdown",
   "metadata": {},
   "source": [
    "## gutenberg + heaps' law"
   ]
  },
  {
   "cell_type": "code",
   "execution_count": 26,
   "metadata": {},
   "outputs": [
    {
     "data": {
      "text/plain": [
       "[<matplotlib.lines.Line2D at 0x1bf909b7cc0>]"
      ]
     },
     "execution_count": 26,
     "metadata": {},
     "output_type": "execute_result"
    },
    {
     "data": {
      "image/png": "[encoded data removed]",
      "text/plain": [
       "<Figure size 432x288 with 1 Axes>"
      ]
     },
     "metadata": {
      "needs_background": "light"
     },
     "output_type": "display_data"
    }
   ],
   "source": [
    "k = 11 # 10~100\n",
    "b = 0.55 # 0.4~0.6\n",
    "\n",
    "eachTotal = []\n",
    "eachUnique = set()\n",
    "\n",
    "x = []\n",
    "unique = []\n",
    "heaps = []\n",
    "\n",
    "for _ in gutenberg.fileids():\n",
    "    _text = Text(word_tokenize(gutenberg.open(_).read()))\n",
    "    \n",
    "    eachTotal.append(_text.vocab().N()) # 각 corpus의 token 갯수를 수집한다.\n",
    "    eachUnique = eachUnique | set(_text.vocab().keys()) \n",
    "                # 합집합을 이용해서 새로 추가되는 unique 단어에 중복을 제거한다.\n",
    "    \n",
    "    x.append(sum(eachTotal)) # 현재까지 열어본 corpus의 총 token 갯수를 sum으로 구한다.\n",
    "    unique.append(len(eachUnique)) # 현재까지 열어본 corpus의 총 unique 단어 갯수.\n",
    "    heaps.append(k*x[-1]**b) # 현재 까지 열어본 corpus를 바탕으로 heaps 법칙 적용.\n",
    "    \n",
    "plt.plot(x, unique, \"r-\")\n",
    "plt.plot(x, heaps, \"b-\")"
   ]
  },
  {
   "cell_type": "markdown",
   "metadata": {},
   "source": [
    "> gutenberg의 corpus 갯수가 18개이다.\n",
    ">\n",
    "> heaps' law를 적용하기에는 corpus 갯수가 충분히 많지 않아서 일치하지 않는 것 같다.\n",
    ">\n",
    "> corpus가 충분히 많으면 heaps' law가 일치할 것이다."
   ]
  },
  {
   "cell_type": "markdown",
   "metadata": {},
   "source": [
    "---"
   ]
  },
  {
   "cell_type": "markdown",
   "metadata": {},
   "source": [
    "## brown + heaps' law\n",
    "    - brown은 corpus가 500개"
   ]
  },
  {
   "cell_type": "code",
   "execution_count": 22,
   "metadata": {},
   "outputs": [
    {
     "data": {
      "text/plain": [
       "[<matplotlib.lines.Line2D at 0x1bf922bb278>]"
      ]
     },
     "execution_count": 22,
     "metadata": {},
     "output_type": "execute_result"
    },
    {
     "data": {
      "image/png": "[encoded data removed]",
      "text/plain": [
       "<Figure size 432x288 with 1 Axes>"
      ]
     },
     "metadata": {
      "needs_background": "light"
     },
     "output_type": "display_data"
    }
   ],
   "source": [
    "k = 14 # 10~100\n",
    "b = 0.6 # 0.4~0.6\n",
    "\n",
    "eachTotal = []\n",
    "eachUnique = set()\n",
    "\n",
    "x = []\n",
    "unique = []\n",
    "heaps = []\n",
    "\n",
    "for _ in brown.fileids():\n",
    "    _text = Text(word_tokenize(brown.open(_).read()))\n",
    "    \n",
    "    eachTotal.append(_text.vocab().N())\n",
    "    eachUnique = eachUnique | set(_text.vocab().keys())\n",
    "    \n",
    "    x.append(sum(eachTotal))\n",
    "    unique.append(len(eachUnique))\n",
    "    heaps.append(k*x[-1]**b)\n",
    "    \n",
    "plt.plot(x, unique, \"r-\")\n",
    "plt.plot(x, heaps, \"b-\")"
   ]
  },
  {
   "cell_type": "markdown",
   "metadata": {},
   "source": [
    "> corpus가 500개로 충분히 많아서, gutenberg보다 잘 일치한다."
   ]
  },
  {
   "cell_type": "markdown",
   "metadata": {},
   "source": [
    "#### 양변에 log를 취한다."
   ]
  },
  {
   "cell_type": "code",
   "execution_count": 32,
   "metadata": {},
   "outputs": [
    {
     "data": {
      "text/plain": [
       "[<matplotlib.lines.Line2D at 0x1bf9242e978>]"
      ]
     },
     "execution_count": 32,
     "metadata": {},
     "output_type": "execute_result"
    },
    {
     "data": {
      "image/png": "[encoded data removed]",
      "text/plain": [
       "<Figure size 432x288 with 1 Axes>"
      ]
     },
     "metadata": {
      "needs_background": "light"
     },
     "output_type": "display_data"
    }
   ],
   "source": [
    "from math import log\n",
    "\n",
    "x_ = [log(_) for _ in x]\n",
    "unique_ = [log(_) for _ in unique]\n",
    "heaps_ = [log(_) for _ in heaps]\n",
    "    \n",
    "plt.plot(x_, unique_, \"r-\")\n",
    "plt.plot(x_, heaps_, \"b-\")"
   ]
  },
  {
   "cell_type": "markdown",
   "metadata": {},
   "source": [
    "> 양변에 log를 취하면 선형 그래프로 비교할 수 있다."
   ]
  },
  {
   "cell_type": "markdown",
   "metadata": {},
   "source": [
    "---"
   ]
  },
  {
   "cell_type": "markdown",
   "metadata": {},
   "source": [
    "## kobill + heaps' law"
   ]
  },
  {
   "cell_type": "code",
   "execution_count": 50,
   "metadata": {},
   "outputs": [],
   "source": [
    "from konlpy.corpus import kobill\n",
    "from konlpy.tag import Kkma"
   ]
  },
  {
   "cell_type": "code",
   "execution_count": 36,
   "metadata": {},
   "outputs": [
    {
     "data": {
      "text/plain": [
       "10"
      ]
     },
     "execution_count": 36,
     "metadata": {},
     "output_type": "execute_result"
    }
   ],
   "source": [
    "len(kobill.fileids())"
   ]
  },
  {
   "cell_type": "code",
   "execution_count": 54,
   "metadata": {},
   "outputs": [
    {
     "data": {
      "text/plain": [
       "[<matplotlib.lines.Line2D at 0x1bf90e69ac8>]"
      ]
     },
     "execution_count": 54,
     "metadata": {},
     "output_type": "execute_result"
    },
    {
     "data": {
      "image/png": "[encoded data removed]",
      "text/plain": [
       "<Figure size 432x288 with 1 Axes>"
      ]
     },
     "metadata": {
      "needs_background": "light"
     },
     "output_type": "display_data"
    }
   ],
   "source": [
    "k = 20 # 10~100\n",
    "b = 0.5 # 0.4~0.6\n",
    "\n",
    "eachTotal = []\n",
    "eachUnique = set()\n",
    "\n",
    "x = []\n",
    "unique = []\n",
    "heaps = []\n",
    "\n",
    "for _ in kobill.fileids():\n",
    "    _text = Text(word_tokenize(kobill.open(_).read()))\n",
    "    \n",
    "    eachTotal.append(_text.vocab().N())\n",
    "    eachUnique = eachUnique | set(_text.vocab().keys())\n",
    "    \n",
    "    x.append(sum(eachTotal))\n",
    "    unique.append(len(eachUnique))\n",
    "    heaps.append(k*x[-1]**b)\n",
    "    \n",
    "plt.plot(x, unique, \"r-\")\n",
    "plt.plot(x, heaps, \"b-\")"
   ]
  },
  {
   "cell_type": "markdown",
   "metadata": {},
   "source": [
    "> kobill 또한 corpus가 10개이기 때문에, 충분히 크지 않아서 일치하지 않는 것으로 보인다."
   ]
  },
  {
   "cell_type": "markdown",
   "metadata": {},
   "source": [
    "## 크로울링 뉴스기사 + heaps' law"
   ]
  },
  {
   "cell_type": "code",
   "execution_count": 55,
   "metadata": {},
   "outputs": [],
   "source": [
    "import os"
   ]
  },
  {
   "cell_type": "code",
   "execution_count": 61,
   "metadata": {},
   "outputs": [],
   "source": [
    "politics = [_ for _ in os.listdir(\"practice/8일차_실습_project/헤드라인\")\n",
    "            if _.startswith(\"정치-\")]"
   ]
  },
  {
   "cell_type": "code",
   "execution_count": 93,
   "metadata": {},
   "outputs": [
    {
     "data": {
      "text/plain": [
       "30"
      ]
     },
     "execution_count": 93,
     "metadata": {},
     "output_type": "execute_result"
    }
   ],
   "source": [
    "len(politics)"
   ]
  },
  {
   "cell_type": "code",
   "execution_count": 92,
   "metadata": {},
   "outputs": [
    {
     "data": {
      "text/plain": [
       "[<matplotlib.lines.Line2D at 0x1bf94eb60b8>]"
      ]
     },
     "execution_count": 92,
     "metadata": {},
     "output_type": "execute_result"
    },
    {
     "data": {
      "image/png": "[encoded data removed]",
      "text/plain": [
       "<Figure size 432x288 with 1 Axes>"
      ]
     },
     "metadata": {
      "needs_background": "light"
     },
     "output_type": "display_data"
    }
   ],
   "source": [
    "k = 16\n",
    "b = 0.6\n",
    "\n",
    "eachTotal = []\n",
    "eachUnique = set()\n",
    "\n",
    "x = []\n",
    "unique = []\n",
    "heaps = []\n",
    "\n",
    "for _ in politics:\n",
    "    with open(\"practice/8일차_실습_project/헤드라인/\"+_,\n",
    "              \"r\", encoding=\"utf-8\") as fp:\n",
    "        article = fp.read()\n",
    "    _text = Text(word_tokenize(article))\n",
    "    \n",
    "    eachTotal.append(_text.vocab().N())\n",
    "    eachUnique = eachUnique | set(_text.vocab().keys())\n",
    "    \n",
    "    x.append(sum(eachTotal))\n",
    "    unique.append(len(eachUnique))\n",
    "    heaps.append(k*x[-1]**b)\n",
    "    \n",
    "plt.plot(x, unique, \"r-\")\n",
    "plt.plot(x, heaps, \"b-\")"
   ]
  },
  {
   "cell_type": "markdown",
   "metadata": {},
   "source": [
    "> crawling 기사 갯수는 총 30개로, kobill보다는 많아서 heaps' lawrk 보다 잘 적용된 것으로 보인다.\n",
    ">\n",
    "> 기사 갯수가 늘어날수록, 더 잘 일치할 것이다."
   ]
  },
  {
   "cell_type": "code",
   "execution_count": null,
   "metadata": {},
   "outputs": [],
   "source": []
  }
 ],
 "metadata": {
  "kernelspec": {
   "display_name": "Python 3",
   "language": "python",
   "name": "python3"
  },
  "language_info": {
   "codemirror_mode": {
    "name": "ipython",
    "version": 3
   },
   "file_extension": ".py",
   "mimetype": "text/x-python",
   "name": "python",
   "nbconvert_exporter": "python",
   "pygments_lexer": "ipython3",
   "version": "3.7.3"
  }
 },
 "nbformat": 4,
 "nbformat_minor": 2
}
