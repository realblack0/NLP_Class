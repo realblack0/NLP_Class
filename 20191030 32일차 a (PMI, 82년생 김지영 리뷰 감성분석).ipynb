{
 "cells": [
  {
   "cell_type": "markdown",
   "metadata": {},
   "source": [
    "# 데이터 로드"
   ]
  },
  {
   "cell_type": "code",
   "execution_count": 1,
   "metadata": {},
   "outputs": [],
   "source": [
    "import pandas as pd"
   ]
  },
  {
   "cell_type": "code",
   "execution_count": 41,
   "metadata": {},
   "outputs": [],
   "source": [
    "D = pd.read_csv(\"practice/31일차_영화리뷰수집/82kimjiyoung2.csv\", \n",
    "            sep=\"|\", encoding=\"utf-8\", \n",
    "            error_bad_lines=False,\n",
    "            names=[\"score\", \"review\"])"
   ]
  },
  {
   "cell_type": "code",
   "execution_count": 42,
   "metadata": {},
   "outputs": [
    {
     "data": {
      "text/html": [
       "<div>\n",
       "<style scoped>\n",
       "    .dataframe tbody tr th:only-of-type {\n",
       "        vertical-align: middle;\n",
       "    }\n",
       "\n",
       "    .dataframe tbody tr th {\n",
       "        vertical-align: top;\n",
       "    }\n",
       "\n",
       "    .dataframe thead th {\n",
       "        text-align: right;\n",
       "    }\n",
       "</style>\n",
       "<table border=\"1\" class=\"dataframe\">\n",
       "  <thead>\n",
       "    <tr style=\"text-align: right;\">\n",
       "      <th></th>\n",
       "      <th>score</th>\n",
       "      <th>review</th>\n",
       "    </tr>\n",
       "  </thead>\n",
       "  <tbody>\n",
       "    <tr>\n",
       "      <td>0</td>\n",
       "      <td>10</td>\n",
       "      <td>NaN</td>\n",
       "    </tr>\n",
       "    <tr>\n",
       "      <td>1</td>\n",
       "      <td>10</td>\n",
       "      <td>휴지 챙기면서 좀 오바인가?했는데 오바가아니었습니다</td>\n",
       "    </tr>\n",
       "    <tr>\n",
       "      <td>2</td>\n",
       "      <td>10</td>\n",
       "      <td>NaN</td>\n",
       "    </tr>\n",
       "    <tr>\n",
       "      <td>3</td>\n",
       "      <td>10</td>\n",
       "      <td>NaN</td>\n",
       "    </tr>\n",
       "    <tr>\n",
       "      <td>4</td>\n",
       "      <td>2</td>\n",
       "      <td>솔직히 여자가 힘든게 뭐가 있어? 군대를 가? 평생 돈을 벌어야 도는 스트레스있어?...</td>\n",
       "    </tr>\n",
       "    <tr>\n",
       "      <td>...</td>\n",
       "      <td>...</td>\n",
       "      <td>...</td>\n",
       "    </tr>\n",
       "    <tr>\n",
       "      <td>31496</td>\n",
       "      <td>1</td>\n",
       "      <td>이딴게 영화라고 ㅋㅋㅋ</td>\n",
       "    </tr>\n",
       "    <tr>\n",
       "      <td>31497</td>\n",
       "      <td>10</td>\n",
       "      <td>편가르기아닙니다. 모두 한번쯤은 볼만한 영화. 재미도 있음</td>\n",
       "    </tr>\n",
       "    <tr>\n",
       "      <td>31498</td>\n",
       "      <td>1</td>\n",
       "      <td>한줄 요약 : 남자가 쪼잔하게</td>\n",
       "    </tr>\n",
       "    <tr>\n",
       "      <td>31499</td>\n",
       "      <td>10</td>\n",
       "      <td>추천하는 영화. 모두가 봐야하는 영화</td>\n",
       "    </tr>\n",
       "    <tr>\n",
       "      <td>31500</td>\n",
       "      <td>10</td>\n",
       "      <td>하도 난리치길래 책 읽었는데별 내용 없음남자 얘도 없음왜 발작하는지 모르겠네</td>\n",
       "    </tr>\n",
       "  </tbody>\n",
       "</table>\n",
       "<p>31501 rows × 2 columns</p>\n",
       "</div>"
      ],
      "text/plain": [
       "      score                                             review\n",
       "0        10                                                NaN\n",
       "1        10                       휴지 챙기면서 좀 오바인가?했는데 오바가아니었습니다\n",
       "2        10                                                NaN\n",
       "3        10                                                NaN\n",
       "4         2  솔직히 여자가 힘든게 뭐가 있어? 군대를 가? 평생 돈을 벌어야 도는 스트레스있어?...\n",
       "...     ...                                                ...\n",
       "31496     1                                       이딴게 영화라고 ㅋㅋㅋ\n",
       "31497    10                   편가르기아닙니다. 모두 한번쯤은 볼만한 영화. 재미도 있음\n",
       "31498     1                                   한줄 요약 : 남자가 쪼잔하게\n",
       "31499    10                               추천하는 영화. 모두가 봐야하는 영화\n",
       "31500    10         하도 난리치길래 책 읽었는데별 내용 없음남자 얘도 없음왜 발작하는지 모르겠네\n",
       "\n",
       "[31501 rows x 2 columns]"
      ]
     },
     "execution_count": 42,
     "metadata": {},
     "output_type": "execute_result"
    }
   ],
   "source": [
    "D"
   ]
  },
  {
   "cell_type": "markdown",
   "metadata": {},
   "source": [
    "# 데이터 전처리"
   ]
  },
  {
   "cell_type": "code",
   "execution_count": 55,
   "metadata": {},
   "outputs": [
    {
     "name": "stdout",
     "output_type": "stream",
     "text": [
      "<class 'pandas.core.frame.DataFrame'>\n",
      "Int64Index: 25874 entries, 1 to 31500\n",
      "Data columns (total 2 columns):\n",
      "score     25874 non-null object\n",
      "review    25874 non-null object\n",
      "dtypes: object(2)\n",
      "memory usage: 606.4+ KB\n"
     ]
    }
   ],
   "source": [
    "D.dropna(inplace=True)\n",
    "D.info()"
   ]
  },
  {
   "cell_type": "code",
   "execution_count": 57,
   "metadata": {},
   "outputs": [
    {
     "name": "stdout",
     "output_type": "stream",
     "text": [
      "<class 'pandas.core.frame.DataFrame'>\n",
      "Int64Index: 25546 entries, 1 to 31500\n",
      "Data columns (total 2 columns):\n",
      "score     25546 non-null object\n",
      "review    25546 non-null object\n",
      "dtypes: object(2)\n",
      "memory usage: 598.7+ KB\n"
     ]
    }
   ],
   "source": [
    "D.drop_duplicates(inplace=True)\n",
    "D.info()"
   ]
  },
  {
   "cell_type": "code",
   "execution_count": 58,
   "metadata": {},
   "outputs": [
    {
     "name": "stdout",
     "output_type": "stream",
     "text": [
      "<class 'pandas.core.frame.DataFrame'>\n",
      "Int64Index: 25283 entries, 1 to 31500\n",
      "Data columns (total 2 columns):\n",
      "score     25283 non-null object\n",
      "review    25283 non-null object\n",
      "dtypes: object(2)\n",
      "memory usage: 592.6+ KB\n"
     ]
    }
   ],
   "source": [
    "D = D[D.review.map(lambda x:len(x)>5)]\n",
    "D.info()"
   ]
  },
  {
   "cell_type": "code",
   "execution_count": 63,
   "metadata": {},
   "outputs": [],
   "source": [
    "D.reset_index(drop=True, inplace=True)"
   ]
  },
  {
   "cell_type": "code",
   "execution_count": 65,
   "metadata": {},
   "outputs": [
    {
     "name": "stderr",
     "output_type": "stream",
     "text": [
      "C:\\Users\\JINHYO\\Anaconda3\\lib\\site-packages\\ipykernel_launcher.py:1: SettingWithCopyWarning: \n",
      "A value is trying to be set on a copy of a slice from a DataFrame.\n",
      "Try using .loc[row_indexer,col_indexer] = value instead\n",
      "\n",
      "See the caveats in the documentation: http://pandas.pydata.org/pandas-docs/stable/user_guide/indexing.html#returning-a-view-versus-a-copy\n",
      "  \"\"\"Entry point for launching an IPython kernel.\n"
     ]
    }
   ],
   "source": [
    "D[\"score\"] = D.score.astype(int)"
   ]
  },
  {
   "cell_type": "code",
   "execution_count": 66,
   "metadata": {},
   "outputs": [
    {
     "name": "stdout",
     "output_type": "stream",
     "text": [
      "<class 'pandas.core.frame.DataFrame'>\n",
      "RangeIndex: 25283 entries, 0 to 25282\n",
      "Data columns (total 2 columns):\n",
      "score     25283 non-null int32\n",
      "review    25283 non-null object\n",
      "dtypes: int32(1), object(1)\n",
      "memory usage: 296.4+ KB\n"
     ]
    }
   ],
   "source": [
    "D.info()"
   ]
  },
  {
   "cell_type": "code",
   "execution_count": 68,
   "metadata": {},
   "outputs": [
    {
     "data": {
      "text/html": [
       "<div>\n",
       "<style scoped>\n",
       "    .dataframe tbody tr th:only-of-type {\n",
       "        vertical-align: middle;\n",
       "    }\n",
       "\n",
       "    .dataframe tbody tr th {\n",
       "        vertical-align: top;\n",
       "    }\n",
       "\n",
       "    .dataframe thead th {\n",
       "        text-align: right;\n",
       "    }\n",
       "</style>\n",
       "<table border=\"1\" class=\"dataframe\">\n",
       "  <thead>\n",
       "    <tr style=\"text-align: right;\">\n",
       "      <th></th>\n",
       "      <th>review</th>\n",
       "    </tr>\n",
       "    <tr>\n",
       "      <th>score</th>\n",
       "      <th></th>\n",
       "    </tr>\n",
       "  </thead>\n",
       "  <tbody>\n",
       "    <tr>\n",
       "      <td>1</td>\n",
       "      <td>9582</td>\n",
       "    </tr>\n",
       "    <tr>\n",
       "      <td>2</td>\n",
       "      <td>1138</td>\n",
       "    </tr>\n",
       "    <tr>\n",
       "      <td>3</td>\n",
       "      <td>84</td>\n",
       "    </tr>\n",
       "    <tr>\n",
       "      <td>4</td>\n",
       "      <td>193</td>\n",
       "    </tr>\n",
       "    <tr>\n",
       "      <td>5</td>\n",
       "      <td>152</td>\n",
       "    </tr>\n",
       "    <tr>\n",
       "      <td>6</td>\n",
       "      <td>303</td>\n",
       "    </tr>\n",
       "    <tr>\n",
       "      <td>7</td>\n",
       "      <td>123</td>\n",
       "    </tr>\n",
       "    <tr>\n",
       "      <td>8</td>\n",
       "      <td>545</td>\n",
       "    </tr>\n",
       "    <tr>\n",
       "      <td>9</td>\n",
       "      <td>359</td>\n",
       "    </tr>\n",
       "    <tr>\n",
       "      <td>10</td>\n",
       "      <td>12804</td>\n",
       "    </tr>\n",
       "  </tbody>\n",
       "</table>\n",
       "</div>"
      ],
      "text/plain": [
       "       review\n",
       "score        \n",
       "1        9582\n",
       "2        1138\n",
       "3          84\n",
       "4         193\n",
       "5         152\n",
       "6         303\n",
       "7         123\n",
       "8         545\n",
       "9         359\n",
       "10      12804"
      ]
     },
     "execution_count": 68,
     "metadata": {},
     "output_type": "execute_result"
    }
   ],
   "source": [
    "D.groupby(\"score\").count()"
   ]
  },
  {
   "cell_type": "code",
   "execution_count": 77,
   "metadata": {},
   "outputs": [
    {
     "data": {
      "text/plain": [
       "<matplotlib.axes._subplots.AxesSubplot at 0x1db4cdc8a90>"
      ]
     },
     "execution_count": 77,
     "metadata": {},
     "output_type": "execute_result"
    },
    {
     "data": {
      "image/png": "[encoded data removed]",
      "text/plain": [
       "<Figure size 432x288 with 1 Axes>"
      ]
     },
     "metadata": {
      "needs_background": "light"
     },
     "output_type": "display_data"
    }
   ],
   "source": [
    "%matplotlib inline\n",
    "D.groupby(\"score\").count().plot.bar()"
   ]
  },
  {
   "cell_type": "markdown",
   "metadata": {},
   "source": [
    "> 예상대로 리뷰가 1 아니면 10으로 양 극단으로 나뉘어진다."
   ]
  },
  {
   "cell_type": "markdown",
   "metadata": {},
   "source": [
    "# 감성분석 - Supervised\n",
    "#### 리뷰의 별점을 정답으로 삼는다."
   ]
  },
  {
   "cell_type": "code",
   "execution_count": 74,
   "metadata": {},
   "outputs": [],
   "source": [
    "negative = D[D[\"score\"] == 1][\"review\"]\n",
    "positive = D[D[\"score\"] == 10][\"review\"]"
   ]
  },
  {
   "cell_type": "code",
   "execution_count": 75,
   "metadata": {},
   "outputs": [
    {
     "name": "stderr",
     "output_type": "stream",
     "text": [
      "C:\\Users\\JINHYO\\Anaconda3\\lib\\site-packages\\jpype\\_core.py:210: UserWarning: \n",
      "-------------------------------------------------------------------------------\n",
      "Deprecated: convertStrings was not specified when starting the JVM. The default\n",
      "behavior in JPype will be False starting in JPype 0.8. The recommended setting\n",
      "for new code is convertStrings=False.  The legacy value of True was assumed for\n",
      "this session. If you are a user of an application that reported this warning,\n",
      "please file a ticket with the developer.\n",
      "-------------------------------------------------------------------------------\n",
      "\n",
      "  \"\"\")\n"
     ]
    },
    {
     "name": "stdout",
     "output_type": "stream",
     "text": [
      "[('감성', 'Noun'), ('팔이', 'Noun'), ('좌파', 'Noun'), ('조센징', 'Noun'), ('들', 'Suffix'), ('수준', 'Noun'), ('에', 'Josa'), ('딱', 'Adverb'), ('맞는', 'Verb'), ('영화', 'Noun'), ('나라', 'Suffix'), ('꼬', 'Noun'), ('라지', 'Josa'), ('잘', 'Verb'), ('돌아간다', 'Verb'), ('.', 'Punctuation'), ('결혼', 'Noun'), ('하지마', 'Verb'), ('이', 'Determiner'), ('년', 'Noun'), ('들', 'Suffix'), ('아', 'Josa')]\n"
     ]
    }
   ],
   "source": [
    "from konlpy.tag import Okt\n",
    "ma = Okt()\n",
    "for _ in negative:\n",
    "    print(ma.pos(_))\n",
    "    break"
   ]
  },
  {
   "cell_type": "code",
   "execution_count": 76,
   "metadata": {},
   "outputs": [
    {
     "data": {
      "text/plain": [
       "{'Adjective': '형용사',\n",
       " 'Adverb': '부사',\n",
       " 'Alpha': '알파벳',\n",
       " 'Conjunction': '접속사',\n",
       " 'Determiner': '관형사',\n",
       " 'Eomi': '어미',\n",
       " 'Exclamation': '감탄사',\n",
       " 'Foreign': '외국어, 한자 및 기타기호',\n",
       " 'Hashtag': '트위터 해쉬태그',\n",
       " 'Josa': '조사',\n",
       " 'KoreanParticle': '(ex: ㅋㅋ)',\n",
       " 'Noun': '명사',\n",
       " 'Number': '숫자',\n",
       " 'PreEomi': '선어말어미',\n",
       " 'Punctuation': '구두점',\n",
       " 'ScreenName': '트위터 아이디',\n",
       " 'Suffix': '접미사',\n",
       " 'Unknown': '미등록어',\n",
       " 'Verb': '동사'}"
      ]
     },
     "execution_count": 76,
     "metadata": {},
     "output_type": "execute_result"
    }
   ],
   "source": [
    "ma.tagset"
   ]
  },
  {
   "cell_type": "markdown",
   "metadata": {},
   "source": [
    "> subjectivity를 띄는 형용사를 우선적으로 사용하려고 했으나, 리뷰에서 형용사가 별로 없다...  \n",
    "어쩔수 없이 objectivity를 띄는 명사를 사용하기로 한다.\n"
   ]
  },
  {
   "cell_type": "code",
   "execution_count": 80,
   "metadata": {},
   "outputs": [
    {
     "data": {
      "text/plain": [
       "['안녕', '내', '이름', '코난', '탐정']"
      ]
     },
     "execution_count": 80,
     "metadata": {},
     "output_type": "execute_result"
    }
   ],
   "source": [
    "# ma.nouns는 명사만 토크나이징해준다.\n",
    "\n",
    "ma.nouns(\"안녕 내 이름은 코난, 탐정이지\")"
   ]
  },
  {
   "cell_type": "code",
   "execution_count": 83,
   "metadata": {},
   "outputs": [],
   "source": [
    "from collections import defaultdict\n",
    "ma = Okt()\n",
    "negativeTDM = defaultdict(list)\n",
    "positiveTDM = defaultdict(list)\n",
    "for i, _ in zip(negative.index, negative):\n",
    "    for t in ma.nouns(_):\n",
    "        negativeTDM[t].append(i)\n",
    "for i, _ in zip(positive.index, positive):\n",
    "    for t in ma.nouns(_):\n",
    "        positiveTDM[t].append(i)"
   ]
  },
  {
   "cell_type": "code",
   "execution_count": 84,
   "metadata": {},
   "outputs": [
    {
     "data": {
      "text/plain": [
       "(7322, 5974)"
      ]
     },
     "execution_count": 84,
     "metadata": {},
     "output_type": "execute_result"
    }
   ],
   "source": [
    "len(negativeTDM), len(positiveTDM)"
   ]
  },
  {
   "cell_type": "code",
   "execution_count": 90,
   "metadata": {},
   "outputs": [],
   "source": [
    "from collections import Counter\n",
    "negativeTerms = Counter()\n",
    "for t, df in negativeTDM.items():\n",
    "    negativeTerms[t] = len(set(df))\n",
    "    \n",
    "\n",
    "positiveTerms = Counter()\n",
    "for t, df in positiveTDM.items():\n",
    "    positiveTerms[t] = len(set(df))"
   ]
  },
  {
   "cell_type": "code",
   "execution_count": 95,
   "metadata": {},
   "outputs": [
    {
     "name": "stdout",
     "output_type": "stream",
     "text": [
      "negative,         positive\n"
     ]
    },
    {
     "data": {
      "text/plain": [
       "[(('영화', 3168), ('영화', 6435)),\n",
       " (('여자', 819), ('공감', 2386)),\n",
       " (('공감', 719), ('이야기', 1780)),\n",
       " (('페미', 709), ('엄마', 1650)),\n",
       " (('이', 585), ('생각', 1475)),\n",
       " (('점', 562), ('현실', 1341)),\n",
       " (('김지영', 516), ('이', 1302)),\n",
       " (('남자', 499), ('사람', 1275)),\n",
       " (('돈', 480), ('우리', 1187)),\n",
       " (('평점', 428), ('여자', 1144)),\n",
       " (('왜', 379), ('보고', 1131)),\n",
       " (('진짜', 376), ('눈물', 1125)),\n",
       " (('것', 359), ('김지영', 1049)),\n",
       " (('사람', 355), ('여성', 1036)),\n",
       " (('그', 353), ('정말', 1033)),\n",
       " (('여성', 352), ('것', 1019)),\n",
       " (('세대', 348), ('남자', 1007)),\n",
       " (('말', 338), ('모두', 1007)),\n",
       " (('쓰레기', 337), ('더', 992)),\n",
       " (('거', 335), ('꼭', 912))]"
      ]
     },
     "execution_count": 95,
     "metadata": {},
     "output_type": "execute_result"
    }
   ],
   "source": [
    "print(\"negative,        \", \"positive\")\n",
    "list(zip(negativeTerms.most_common(20), \n",
    "         positiveTerms.most_common(20)))"
   ]
  },
  {
   "cell_type": "code",
   "execution_count": 112,
   "metadata": {},
   "outputs": [],
   "source": [
    "from math import log\n",
    "\n",
    "V = list(set(list(positiveTerms.keys()) + \n",
    "             list(negativeTerms.keys())))\n",
    "N = negative.count() + positive.count()\n",
    "PMI = defaultdict(lambda: defaultdict(int))\n",
    "for x in V:\n",
    "    P_x = len(set(negativeTDM[x] + positiveTDM[x])) / N\n",
    "    P_neg = negative.count() / N\n",
    "    P_x_neg = len(set(negativeTDM[x])) / N\n",
    "    P_pos = positive.count() / N\n",
    "    P_x_pos = len(set(positiveTDM[x])) / N\n",
    "    \n",
    "    PMI_N = P_x_neg / (P_x * P_neg)\n",
    "    PMI_P = P_x_pos / (P_x * P_pos)\n",
    "    \n",
    "    PMI[x][\"N\"] = log(PMI_N) if PMI_N != 0 else 0\n",
    "    PMI[x][\"P\"] = log(PMI_P) if PMI_P != 0 else 0"
   ]
  },
  {
   "cell_type": "code",
   "execution_count": 113,
   "metadata": {},
   "outputs": [
    {
     "data": {
      "text/plain": [
       "[('봐줫으', 0.5586781413594593),\n",
       " ('관내', 0.5586781413594593),\n",
       " ('점심시간', 0.5586781413594593),\n",
       " ('눌린거보', 0.5586781413594593),\n",
       " ('뿐더러', 0.5586781413594593),\n",
       " ('쫄', 0.5586781413594593),\n",
       " ('미국군', 0.5586781413594593),\n",
       " ('저떻', 0.5586781413594593),\n",
       " ('경하', 0.5586781413594593),\n",
       " ('비로소', 0.5586781413594593),\n",
       " ('종군기자', 0.5586781413594593),\n",
       " ('명성', 0.5586781413594593),\n",
       " ('공격성', 0.5586781413594593),\n",
       " ('반의', 0.5586781413594593),\n",
       " ('꼽는', 0.5586781413594593),\n",
       " ('바램', 0.5586781413594593),\n",
       " ('별별', 0.5586781413594593),\n",
       " ('몫임', 0.5586781413594593),\n",
       " ('린지', 0.5586781413594593),\n",
       " ('베베', 0.5586781413594593)]"
      ]
     },
     "execution_count": 113,
     "metadata": {},
     "output_type": "execute_result"
    }
   ],
   "source": [
    "# 긍정 단어 상위 20개\n",
    "\n",
    "sorted(list(map(lambda x:(x, PMI[x][\"P\"]), PMI)),\n",
    "       key=lambda r:r[1], reverse=True)[:20]"
   ]
  },
  {
   "cell_type": "code",
   "execution_count": 114,
   "metadata": {},
   "outputs": [
    {
     "data": {
      "text/plain": [
       "[('사기', 0.8485494250061455),\n",
       " ('개꿀빨', 0.8485494250061455),\n",
       " ('메퇘지들', 0.8485494250061455),\n",
       " ('정신분열', 0.8485494250061455),\n",
       " ('우웩', 0.8485494250061455),\n",
       " ('사이코', 0.8485494250061455),\n",
       " ('테크', 0.8485494250061455),\n",
       " ('신조어', 0.8485494250061455),\n",
       " ('가산', 0.8485494250061455),\n",
       " ('배급사', 0.8485494250061455),\n",
       " ('킬로', 0.8485494250061455),\n",
       " ('한국판', 0.8485494250061455),\n",
       " ('강조', 0.8485494250061455),\n",
       " ('위안부', 0.8485494250061455),\n",
       " ('가든', 0.8485494250061455),\n",
       " ('화비', 0.8485494250061455),\n",
       " ('우욱', 0.8485494250061455),\n",
       " ('삼류', 0.8485494250061455),\n",
       " ('과학', 0.8485494250061455),\n",
       " ('메갈로돈', 0.8485494250061455)]"
      ]
     },
     "execution_count": 114,
     "metadata": {},
     "output_type": "execute_result"
    }
   ],
   "source": [
    "# 부정 단어 상위 20개\n",
    "\n",
    "sorted(list(map(lambda x:(x, PMI[x][\"N\"]), PMI)),\n",
    "       key=lambda r:r[1], reverse=True)[:20]"
   ]
  },
  {
   "cell_type": "code",
   "execution_count": 115,
   "metadata": {},
   "outputs": [],
   "source": [
    "# SO, Semantic Orientation\n",
    "SO = dict()\n",
    "for x, pmi in PMI.items():\n",
    "    SO[x] = pmi[\"P\"] - pmi[\"N\"]"
   ]
  },
  {
   "cell_type": "code",
   "execution_count": 116,
   "metadata": {},
   "outputs": [
    {
     "data": {
      "text/plain": [
       "[('리얼리즘', 4.092155351027195),\n",
       " ('여운', 3.907330664015122),\n",
       " ('김미경', 3.8690117997129856),\n",
       " ('펑펑', 3.846893994459366),\n",
       " ('남동생', 3.6419543490776394),\n",
       " ('훌쩍', 3.60194901446394),\n",
       " ('신랑', 3.5387701128424087),\n",
       " ('워킹맘', 3.4237007830576216),\n",
       " ('엉엉', 3.4237007830576216),\n",
       " ('간만', 3.39900817046725)]"
      ]
     },
     "execution_count": 116,
     "metadata": {},
     "output_type": "execute_result"
    }
   ],
   "source": [
    "sorted(SO.items(), key=lambda r:r[1], reverse=True)[:10]"
   ]
  },
  {
   "cell_type": "code",
   "execution_count": 125,
   "metadata": {},
   "outputs": [
    {
     "data": {
      "text/plain": [
       "[('코인', -4.63367670550037),\n",
       " ('광기', -4.538366525696045),\n",
       " ('노잼', -4.464258553542323),\n",
       " ('빠순이', -4.250684453244264),\n",
       " ('최악', -4.10601251737155),\n",
       " ('노답', -3.900789196290911),\n",
       " ('판타지영화', -3.8452193451361),\n",
       " ('피해망상증', -3.7556071864464124),\n",
       " ('쓰레기', -3.7120589412006777),\n",
       " ('남탓', -3.65716711363316)]"
      ]
     },
     "execution_count": 125,
     "metadata": {},
     "output_type": "execute_result"
    }
   ],
   "source": [
    "sorted(SO.items(), key=lambda r:r[1], reverse=False)[:10]"
   ]
  },
  {
   "cell_type": "code",
   "execution_count": 124,
   "metadata": {},
   "outputs": [
    {
     "name": "stdout",
     "output_type": "stream",
     "text": [
      "실제 0.252993693863921\n",
      "여자 0.04433080443998762\n",
      "시절 0.43404755558001257\n",
      "아이돌 -3.152072164576155\n",
      "온갖 -2.369312825326522\n",
      "악질 -2.7747779334346863\n",
      "액수 -0.8485494250061453\n",
      "조공 -0.8485494250061453\n",
      "부모 -0.1501093412715276\n",
      "등골 -0.8485494250061455\n",
      "빠순이 -4.250684453244264\n",
      "시절 0.43404755558001257\n",
      "남성 0.8087410050214233\n",
      "헤픈 -0.8485494250061453\n",
      "소비 -1.388483572314796\n",
      "생활 0.6264194482274686\n",
      "헛된 -0.8485494250061453\n",
      "망상 -3.213032864365842\n",
      "\n",
      "Negative\n",
      "-18.940640216851698\n"
     ]
    }
   ],
   "source": [
    "Q = \"본 사람만 평점 달 수 있으면 좋겠네요. 남자를 조롱한 것도 아니고 여성의 삶에 대해 나타낸 영화인데, 왜 성별에 대한 비하와 악플을 다는지 모르겠네요~\"\n",
    "Q = '실제 1980년대생 여자란 10대 시절엔 아이돌을 쫓아다니며 온갖 패악질과 싸움질 그리고 엄청난 액수의 조공으로 부모 등골 뽑는 \"빠순이\"로, 20대 시절에는 남성에 기댄 헤픈 소비생활과 헛된 망상적 ...'\n",
    "Sentiment = 0.0\n",
    "for t in [_ for _ in ma.nouns(Q) if len(_) > 1]:\n",
    "    if t in SO:\n",
    "        Sentiment += SO[t]\n",
    "        print(t, SO[t])\n",
    "print()\n",
    "print(\"Positive\" if Sentiment > 0 else \"Negative\")\n",
    "print(Sentiment)"
   ]
  },
  {
   "cell_type": "markdown",
   "metadata": {},
   "source": [
    "---"
   ]
  },
  {
   "cell_type": "markdown",
   "metadata": {},
   "source": [
    "# 감성분석 - Semi-Supervised\n",
    "#### score 없이 진짜 PMI만 가지고 감성분석해본다."
   ]
  },
  {
   "cell_type": "code",
   "execution_count": 144,
   "metadata": {},
   "outputs": [],
   "source": [
    "# seed를 어떤걸 고르느냐에 따라서 전체 성능이 갈린다.\n",
    "positiveSeeds = [\"엄마\", \"눈물\", \"이야기\"]\n",
    "negativeSeeds = [\"최악\", \"쓰레기\", \"페미\"]\n",
    "TDM = defaultdict(list)\n",
    "for i, d in zip(D.index, D[\"review\"]):\n",
    "    for t in [_ for _ in ma.nouns(d) if len(_) > 1]: # 정규화 - 1음절 이상만 \n",
    "        TDM[t].append(i)"
   ]
  },
  {
   "cell_type": "code",
   "execution_count": 145,
   "metadata": {},
   "outputs": [
    {
     "data": {
      "text/plain": [
       "9950"
      ]
     },
     "execution_count": 145,
     "metadata": {},
     "output_type": "execute_result"
    }
   ],
   "source": [
    "len(TDM)"
   ]
  },
  {
   "cell_type": "code",
   "execution_count": 146,
   "metadata": {},
   "outputs": [],
   "source": [
    "N = D[\"review\"].count()\n",
    "PMI = defaultdict(lambda: {\"P\":0.0, \"N\":0.0})\n",
    "for x, df in TDM.items():\n",
    "    P_x = len(set(df)) / N\n",
    "    for seed in positiveSeeds:\n",
    "        P_seed = len(set(TDM[seed])) / N\n",
    "        P_x_seed = len(set(df).intersection(set(TDM[seed]))) \\\n",
    "                    / N\n",
    "        PMI[x][\"P\"] += P_x_seed / (P_x * P_seed)\n",
    "        \n",
    "    for seed in negativeSeeds:\n",
    "        P_seed = len(set(TDM[seed])) / N\n",
    "        P_x_seed = len(set(df).intersection(set(TDM[seed]))) \\\n",
    "                    / N\n",
    "        PMI[x][\"N\"] += P_x_seed / (P_x * P_seed)"
   ]
  },
  {
   "cell_type": "code",
   "execution_count": 147,
   "metadata": {},
   "outputs": [
    {
     "data": {
      "text/plain": [
       "[('피폐', 44.47448590180669),\n",
       " ('숨막', 44.47448590180669),\n",
       " ('뻑뻑', 44.47448590180669),\n",
       " ('민하', 44.47448590180669),\n",
       " ('정적', 33.95168211047789),\n",
       " ('더보', 32.95603487674974),\n",
       " ('최상급', 32.95603487674974),\n",
       " ('나영', 32.95603487674974),\n",
       " ('안산', 32.95603487674974),\n",
       " ('막내딸', 32.95603487674974),\n",
       " ('흘렷다', 32.95603487674974),\n",
       " ('주르르', 32.95603487674974),\n",
       " ('맺혔습니', 32.95603487674974),\n",
       " ('때부타', 32.95603487674974),\n",
       " ('형부', 32.95603487674974),\n",
       " ('영화에서처럼', 32.95603487674974),\n",
       " ('딸편', 32.95603487674974),\n",
       " ('식물성', 32.95603487674974),\n",
       " ('생후', 32.95603487674974),\n",
       " ('잠도', 32.95603487674974)]"
      ]
     },
     "execution_count": 147,
     "metadata": {},
     "output_type": "execute_result"
    }
   ],
   "source": [
    "sorted(list(map(lambda x:(x, PMI[x][\"P\"]), PMI)),\n",
    "       key=lambda r:r[1], reverse=True)[:20]\n",
    "# sorted(list(map(lambda x:(x, PMI[x][\"N\"]), PMI)),\n",
    "#        key=lambda r:r[1], reverse=True)[:20]"
   ]
  },
  {
   "cell_type": "code",
   "execution_count": 148,
   "metadata": {},
   "outputs": [],
   "source": [
    "SO = dict()\n",
    "for x, pmi in PMI.items():\n",
    "    SO[x] = pmi[\"P\"] - pmi[\"N\"]"
   ]
  },
  {
   "cell_type": "code",
   "execution_count": 151,
   "metadata": {},
   "outputs": [
    {
     "name": "stdout",
     "output_type": "stream",
     "text": [
      "사람 2.0580998848195717\n",
      "평점 -0.9901379232659311\n",
      "남자 -0.34798082120055707\n",
      "조롱 0.3546257122571246\n",
      "여성 2.3772454404432324\n",
      "대해 3.8505873889423996\n",
      "영화 -1.0880562168501777\n",
      "성별 0.29257472487688885\n",
      "대한 4.267690042776484\n",
      "악플 0.7311885397025288\n",
      "\n",
      "Positive\n",
      "11.505836772501564\n"
     ]
    }
   ],
   "source": [
    "Q = \"본 사람만 평점 달 수 있으면 좋겠네요. 남자를 조롱한 것도 아니고 여성의 삶에 대해 나타낸 영화인데, 왜 성별에 대한 비하와 악플을 다는지 모르겠네요~\"\n",
    "# Q = '실제 1980년대생 여자란 10대 시절엔 아이돌을 쫓아다니며 온갖 패악질과 싸움질 그리고 엄청난 액수의 조공으로 부모 등골 뽑는 \"빠순이\"로, 20대 시절에는 남성에 기댄 헤픈 소비생활과 헛된 망상적 ...'\n",
    "Sentiment = 0.0\n",
    "for t in [_ for _ in ma.nouns(Q) if len(_) > 1]:\n",
    "    if t in SO:\n",
    "        Sentiment += SO[t]\n",
    "        print(t, SO[t])\n",
    "print()\n",
    "print(\"Positive\" if Sentiment > 0 else \"Negative\")\n",
    "print(Sentiment)"
   ]
  },
  {
   "cell_type": "code",
   "execution_count": null,
   "metadata": {},
   "outputs": [],
   "source": []
  }
 ],
 "metadata": {
  "kernelspec": {
   "display_name": "Python 3",
   "language": "python",
   "name": "python3"
  },
  "language_info": {
   "codemirror_mode": {
    "name": "ipython",
    "version": 3
   },
   "file_extension": ".py",
   "mimetype": "text/x-python",
   "name": "python",
   "nbconvert_exporter": "python",
   "pygments_lexer": "ipython3",
   "version": "3.7.3"
  }
 },
 "nbformat": 4,
 "nbformat_minor": 2
}
