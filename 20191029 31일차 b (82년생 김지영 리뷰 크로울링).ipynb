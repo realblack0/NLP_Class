{
 "cells": [
  {
   "cell_type": "markdown",
   "metadata": {},
   "source": [
    "# Sentiment Analysis\n",
    "## 데이터 수집"
   ]
  },
  {
   "cell_type": "code",
   "execution_count": 1,
   "metadata": {},
   "outputs": [],
   "source": [
    "import requests\n",
    "from bs4 import BeautifulSoup"
   ]
  },
  {
   "cell_type": "code",
   "execution_count": 59,
   "metadata": {},
   "outputs": [],
   "source": [
    "webAddress = \"https://movie.naver.com/movie/bi/mi/pointWriteFormList.nhn?code=179482&type=after&onlyActualPointYn=N&onlySpoilerPointYn=N&order=sympathyScore&page=1\""
   ]
  },
  {
   "cell_type": "code",
   "execution_count": 60,
   "metadata": {},
   "outputs": [],
   "source": [
    "url = webAddress.split(\"?\")[0]\n",
    "params = {_.split(\"=\")[0]:_.split(\"=\")[1] for _ in webAddress.split(\"?\")[1].split(\"&\")}"
   ]
  },
  {
   "cell_type": "code",
   "execution_count": 63,
   "metadata": {},
   "outputs": [],
   "source": [
    "resp = requests.request(\"get\", url, params=params)"
   ]
  },
  {
   "cell_type": "code",
   "execution_count": 64,
   "metadata": {},
   "outputs": [],
   "source": [
    "dom = BeautifulSoup(resp.text, \"lxml\")"
   ]
  },
  {
   "cell_type": "code",
   "execution_count": 65,
   "metadata": {},
   "outputs": [],
   "source": [
    "comments = dom.select(\".score_result > ul > li\")"
   ]
  },
  {
   "cell_type": "code",
   "execution_count": 66,
   "metadata": {},
   "outputs": [
    {
     "name": "stdout",
     "output_type": "stream",
     "text": [
      "평점: 10\n",
      "댓글: 본 사람만 평점 달 수 있으면 좋겠네요. 남자를 조롱한 것도 아니고 여성의 삶에 대해 나타낸 영화인데, 왜 성별에 대한 비하와 악플을 다는지 모르겠네요~\n",
      "\n",
      "평점: 10\n",
      "댓글: 아버지의 삶 고통 이런 소재도 많은데 어머니,여자로서 힘들다는 내용이 뭐가 문제가 되는지 모르겠어요ㅠㅠ 영화나 책을 본 사람들이면 내용이 전혀 남녀 갈등을 조장하는 내용이 아니란걸 알텐데요! 아직 영화는 보지 못했지...\n",
      "\n",
      "평점: 10\n",
      "댓글: 책이든 영화든 본 사람이면 불편할 요소가 없다는걸 알텐데 안 본 사람들이 이렇다 저렇다 논하는게 우습다ㅋㅋ\n",
      "\n",
      "평점: 10\n",
      "댓글: 누가보면 이 영화가 남성대상 범죄영화인줄알겠음ㅋㅋ정유미가 희대의 싸이코패스 살인마고 남자만 다 찔러죽이는 그런 영화^^ㅋㅋㅋ 여기에 별 이상한 소리하면서 댓글다는 놈들중에 책 읽은 사람 없을듯..^^ 여자들이 목소리...\n",
      "\n",
      "평점: 10\n",
      "댓글: 책을 읽지도 않았고, 영화를 보지도 않은 사람들이 손만 바쁘게 움직이면 뭐하니 ㅎ 여기에서 이래봤자 책은 베스트셀러고 영화는 예매율 1위다.\n",
      "\n",
      "평점: 10\n",
      "댓글: 이런 영화를 만들어주셔서 감사합니다.그리고 모든 김지영에게 감사하고 사랑합니다.꼭 보세요 주변에 있는 여자 남자 모두에게 당당하게 홍보하세요.\n",
      "\n",
      "평점: 10\n",
      "댓글: 돈 안드는짓만 제일 잘하네요 ..,^^\n",
      "\n",
      "평점: 10\n",
      "댓글: 보지도 않은 인간들이 별점 테러하러 올 만큼 대단한 영화입니다 꼭 보세요 ^^\n",
      "\n",
      "평점: 10\n",
      "댓글: 생각할 거리가 많은 영화.세상의 많은 김지영들이 공감할 수 있는 영화.\n",
      "\n",
      "평점: 10\n",
      "댓글: 오늘 개봉한 영화인데 평점무슨일 영화는 보고 와서 평가하는거야? 찌질해 정말...\n",
      "\n"
     ]
    }
   ],
   "source": [
    "for comment in comments:\n",
    "    print(\"평점:\", comment.select_one(\".star_score em\").text)\n",
    "    print(\"댓글:\", comment.select_one(\"[id^=_filtered_ment_]\").text.strip())\n",
    "    print()"
   ]
  },
  {
   "cell_type": "code",
   "execution_count": 74,
   "metadata": {},
   "outputs": [],
   "source": [
    "params[\"order\"] = \"newest\""
   ]
  },
  {
   "cell_type": "code",
   "execution_count": 69,
   "metadata": {},
   "outputs": [],
   "source": [
    "import os\n",
    "if not os.path.exists(\"practice/31일차_영화리뷰수집\"):\n",
    "    os.mkdir(\"practice/31일차_영화리뷰수집\")"
   ]
  },
  {
   "cell_type": "code",
   "execution_count": 80,
   "metadata": {},
   "outputs": [],
   "source": [
    "from progressbar import ProgressBar"
   ]
  },
  {
   "cell_type": "code",
   "execution_count": 92,
   "metadata": {},
   "outputs": [
    {
     "name": "stderr",
     "output_type": "stream",
     "text": [
      "100% |########################################################################|\n"
     ]
    }
   ],
   "source": [
    "# 페이지간 중복 제거\n",
    "# 크로울링 도중 새로운 리뷰 등록시 페이지 밀림 현상 대비\n",
    "\n",
    "fp = open(\"practice/31일차_영화리뷰수집/82kimjiyoung1.csv\", \"w\", encoding=\"utf-8\")\n",
    "previous = []\n",
    "pb = ProgressBar()\n",
    "for page in pb(range(1,3145)): \n",
    "    temp = []\n",
    "    \n",
    "    params[\"page\"] = page\n",
    "    resp = requests.request(\"get\", url, params=params)\n",
    "    \n",
    "    if not resp.ok:\n",
    "        print(\"error_page: \", page)\n",
    "        print(resp.status_code)\n",
    "        continue\n",
    "    \n",
    "    dom = BeautifulSoup(resp.text, \"lxml\")\n",
    "    \n",
    "    for comment in dom.select(\".score_result > ul > li\"):\n",
    "        temp.append(comment.select_one(\"[id^=_filtered_ment_]\").text.strip())\n",
    "        if temp[-1] not in previous:\n",
    "            fp.write(comment.select_one(\".star_score em\").text)\n",
    "            fp.write(\"|\")\n",
    "            fp.write(comment.select_one(\"[id^=_filtered_ment_]\").text.strip())\n",
    "            fp.write(\"\\n\")\n",
    "            \n",
    "    previous = temp\n",
    "fp.close()"
   ]
  },
  {
   "cell_type": "code",
   "execution_count": 93,
   "metadata": {},
   "outputs": [
    {
     "name": "stderr",
     "output_type": "stream",
     "text": [
      "100% |########################################################################|\n"
     ]
    }
   ],
   "source": [
    "# 중복 무시 (중복 허용)\n",
    "\n",
    "fp = open(\"practice/31일차_영화리뷰수집/82kimjiyoung2.csv\", \"w\", encoding=\"utf-8\")\n",
    "pb = ProgressBar()\n",
    "for page in pb(range(1,3151)): \n",
    "    params[\"page\"] = page\n",
    "    resp = requests.request(\"get\", url, params=params)\n",
    "    \n",
    "    if not resp.ok:\n",
    "        print(\"error_page: \", page)\n",
    "        print(resp.status_code)\n",
    "        continue\n",
    "    \n",
    "    dom = BeautifulSoup(resp.text, \"lxml\")\n",
    "    \n",
    "    for comment in dom.select(\".score_result > ul > li\"):\n",
    "        fp.write(comment.select_one(\".star_score em\").text)\n",
    "        fp.write(\"|\")\n",
    "        fp.write(comment.select_one(\"[id^=_filtered_ment_]\").text.strip())\n",
    "        fp.write(\"\\n\")\n",
    "        \n",
    "fp.close()"
   ]
  },
  {
   "cell_type": "code",
   "execution_count": null,
   "metadata": {},
   "outputs": [],
   "source": []
  }
 ],
 "metadata": {
  "kernelspec": {
   "display_name": "Python 3",
   "language": "python",
   "name": "python3"
  },
  "language_info": {
   "codemirror_mode": {
    "name": "ipython",
    "version": 3
   },
   "file_extension": ".py",
   "mimetype": "text/x-python",
   "name": "python",
   "nbconvert_exporter": "python",
   "pygments_lexer": "ipython3",
   "version": "3.7.3"
  }
 },
 "nbformat": 4,
 "nbformat_minor": 2
}
