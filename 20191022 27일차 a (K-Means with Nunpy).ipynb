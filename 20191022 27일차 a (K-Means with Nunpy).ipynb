{
 "cells": [
  {
   "cell_type": "markdown",
   "metadata": {},
   "source": [
    "# K-Means를 numpy로 구현하기\n",
    "- Numpy로 속도를 더 빠르게 할 수 있다."
   ]
  },
  {
   "cell_type": "code",
   "execution_count": 1,
   "metadata": {},
   "outputs": [],
   "source": [
    "import numpy as np\n",
    "\n",
    "K = 3 # cluster 개수\n",
    "N = 100 # data 개수\n",
    "V = 2 # 색인어(Index/Unique/Distinct terms)\n",
    "\n",
    "np.random.seed(0)\n",
    "X = np.random.randint(99, size=(N, V)) +1 # dataset\n",
    "C = np.random.randint(99, size=(K, V)) +1 # initial centroid"
   ]
  },
  {
   "cell_type": "code",
   "execution_count": 2,
   "metadata": {},
   "outputs": [
    {
     "data": {
      "image/png": "[encoded data removed]",
      "text/plain": [
       "<Figure size 432x288 with 1 Axes>"
      ]
     },
     "metadata": {
      "needs_background": "light"
     },
     "output_type": "display_data"
    }
   ],
   "source": [
    "import matplotlib.pyplot as plt\n",
    "%matplotlib inline\n",
    "\n",
    "plt.scatter(X[:,0], X[:,1], c=\"k\", s=2, alpha=0.5)\n",
    "plt.scatter(C[:,0], C[:,1], c=\"r\")\n",
    "plt.show()"
   ]
  },
  {
   "cell_type": "markdown",
   "metadata": {},
   "source": [
    "# K-means with Euclide distance"
   ]
  },
  {
   "cell_type": "code",
   "execution_count": 3,
   "metadata": {},
   "outputs": [
    {
     "name": "stdout",
     "output_type": "stream",
     "text": [
      "2309.197988874544\n",
      "2190.869848936423\n",
      "2177.278914010543\n",
      "2175.1491677408344\n",
      "2175.1491677408344\n",
      "2175.1491677408344\n",
      "2175.1491677408344\n",
      "2175.1491677408344\n",
      "2175.1491677408344\n",
      "2175.1491677408344\n"
     ]
    }
   ],
   "source": [
    "for _ in range(10):\n",
    "    # Expectation\n",
    "    R_nk = np.zeros((N, K))\n",
    "    distance = np.zeros((N, K))\n",
    "    # Ck - X 거리\n",
    "    for k in range(K):\n",
    "        distance[:,k] = np.linalg.norm(X-C[k], axis=1)\n",
    "    # 거리 가장 작은 index, R_nk[idnxex] = 1 \n",
    "    for k in range(K):\n",
    "        R_nk[np.where(\n",
    "            np.argmin(distance, axis=1) == k), k] = 1 \n",
    "\n",
    "    # Maximaization\n",
    "    SSE = 0.0\n",
    "    for k in range(K):\n",
    "        C[k] = X[np.where(R_nk[:,k] == 1)].mean(axis=0)\n",
    "        SSE += np.linalg.norm(X[np.where(R_nk[:,k] ==1)] - C[k], \n",
    "                              axis=1).sum()\n",
    "    print(SSE)"
   ]
  },
  {
   "cell_type": "code",
   "execution_count": 4,
   "metadata": {},
   "outputs": [
    {
     "data": {
      "image/png": "[encoded data removed]",
      "text/plain": [
       "<Figure size 432x288 with 1 Axes>"
      ]
     },
     "metadata": {
      "needs_background": "light"
     },
     "output_type": "display_data"
    }
   ],
   "source": [
    "import matplotlib.pyplot as plt\n",
    "color = [\"r\", \"g\", \"b\"]\n",
    "for k in range(K):\n",
    "    plt.scatter(X[np.where(R_nk[:, k]==1)][:,0],\n",
    "               X[np.where(R_nk[:, k]==1)][:,1],\n",
    "               c = color[k], s=5, alpha=0.5)\n",
    "    plt.scatter(C[k,0], C[k,1], c=color[k])\n",
    "plt.show()"
   ]
  },
  {
   "cell_type": "markdown",
   "metadata": {},
   "source": [
    "# K-Means with cosine similarity"
   ]
  },
  {
   "cell_type": "code",
   "execution_count": 5,
   "metadata": {},
   "outputs": [],
   "source": [
    "import numpy as np\n",
    "\n",
    "K = 3\n",
    "N = 100\n",
    "V = 2 # 색인어(Index/Unique/Distinct terms)\n",
    "\n",
    "np.random.seed(0)\n",
    "X = np.random.randint(99, size=(N, V)) +1\n",
    "C = np.random.randint(99, size=(K, V)) +1"
   ]
  },
  {
   "cell_type": "code",
   "execution_count": 6,
   "metadata": {},
   "outputs": [
    {
     "name": "stdout",
     "output_type": "stream",
     "text": [
      "98.58979434236662\n",
      "98.77086349429828\n",
      "98.79764883655051\n",
      "98.84424112091719\n",
      "98.88660370350914\n",
      "98.89389377247672\n",
      "98.89389377247672\n",
      "98.89389377247672\n",
      "98.89389377247672\n",
      "98.89389377247672\n"
     ]
    }
   ],
   "source": [
    "for _ in range(10):\n",
    "    # Expectation\n",
    "    R_nk = np.zeros((N, K))\n",
    "    angle = np.zeros((N, K))\n",
    "    # Ck - X 거리\n",
    "    innerproduct = X.dot(C.T)\n",
    "    Cnorm = np.linalg.norm(C, axis=1)\n",
    "    for k in range(K):\n",
    "        Xnorm = np.linalg.norm(X, axis=1)\n",
    "        angle[:,k] = innerproduct[:,k]/(Xnorm*Cnorm[k])\n",
    "    # 각도 유사도 가장 큰 index, R_nk[idnxex] = 1 \n",
    "    for k in range(K):\n",
    "        R_nk[np.where(\n",
    "            np.argmax(angle, axis=1) == k), k] = 1 \n",
    "\n",
    "    # Maximaization \n",
    "    SSE = 0.0\n",
    "    for k in range(K):\n",
    "        C[k] = X[np.where(R_nk[:,k] == 1)].mean(axis=0)\n",
    "        subX = X[np.where(R_nk[:,k] == 1)]\n",
    "        innerproduct = subX.dot(C[k].T)\n",
    "        Xnorm = np.linalg.norm(subX, axis=1)\n",
    "        Cnorm = np.linalg.norm(C[k])\n",
    "        SSE += (innerproduct/(Xnorm*Cnorm)).sum()\n",
    "    print(SSE)"
   ]
  },
  {
   "cell_type": "code",
   "execution_count": 7,
   "metadata": {},
   "outputs": [
    {
     "data": {
      "image/png": "[encoded data removed]",
      "text/plain": [
       "<Figure size 432x288 with 1 Axes>"
      ]
     },
     "metadata": {
      "needs_background": "light"
     },
     "output_type": "display_data"
    }
   ],
   "source": [
    "import matplotlib.pyplot as plt\n",
    "color = [\"r\", \"g\", \"b\"]\n",
    "for k in range(K):\n",
    "    plt.scatter(X[np.where(R_nk[:,k] == 1)][:,0],\n",
    "                X[np.where(R_nk[:,k] == 1)][:,1],\n",
    "                c=color[k], s=5, alpha=0.5)\n",
    "    plt.scatter(C[k:,0], C[k:,1], c=color[k])\n",
    "plt.show()"
   ]
  },
  {
   "cell_type": "code",
   "execution_count": null,
   "metadata": {},
   "outputs": [],
   "source": []
  },
  {
   "cell_type": "code",
   "execution_count": null,
   "metadata": {},
   "outputs": [],
   "source": []
  }
 ],
 "metadata": {
  "kernelspec": {
   "display_name": "Python 3",
   "language": "python",
   "name": "python3"
  },
  "language_info": {
   "codemirror_mode": {
    "name": "ipython",
    "version": 3
   },
   "file_extension": ".py",
   "mimetype": "text/x-python",
   "name": "python",
   "nbconvert_exporter": "python",
   "pygments_lexer": "ipython3",
   "version": "3.7.3"
  }
 },
 "nbformat": 4,
 "nbformat_minor": 2
}
