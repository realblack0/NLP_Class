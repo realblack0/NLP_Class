{
 "cells": [
  {
   "cell_type": "markdown",
   "metadata": {},
   "source": [
    "### 오늘 공부 내용\n",
    "- Web Crawling and Basic Text Analysis\n",
    "- http://www.cs.virginia.edu/~hw5x/Course/IR2015/_site/docs/PDFs/Crawler%20and%20Text%20Analysis.pdf"
   ]
  },
  {
   "cell_type": "markdown",
   "metadata": {},
   "source": [
    "collection = corpus \n",
    "vocabulary = lexicon"
   ]
  },
  {
   "cell_type": "markdown",
   "metadata": {},
   "source": [
    "Web Crawler는 ranking이나 indexer에 모두 필요하므로 IR(정보검색)에서 중요한 역할을 한다.\n",
    "    - ranking: 각 page마다 link를 찾으므로 page link ranking을 낼 수 있다.\n",
    "    - indexer: 각 page의 단어를 tagging하기 위해서 돌아다녀야한다.\n"
   ]
  },
  {
   "cell_type": "markdown",
   "metadata": {},
   "source": [
    "focused crawling이 필요한 이유\n",
    "    - 나중에 추가"
   ]
  },
  {
   "cell_type": "markdown",
   "metadata": {},
   "source": [
    "- Browsing: 내가 뭘 찾고 싶은지 모를때.\n",
    "    - 정보 제공 방식: Push\n",
    "    - 분류모델\n",
    "- Querying: 내가 뭘 찾고 싶은지 알때.\n",
    "    - 정보 제공 방식: Pull"
   ]
  },
  {
   "cell_type": "markdown",
   "metadata": {},
   "source": [
    "- tokenize\n",
    "    - 단어, 구, 문장 등 여러가지 방법으로 token을 만들 수 있다.\n",
    "        - 우리 수업에서 배운 N-gram, Byte Pair Encoding을 쓸 수도 있고, 어제 배운 stanford 형태소분석기를 쓸 수도 있고, 시간/장소를 포함하는 tokenizer도 있고 여러가지 방법이 존재한다.\n",
    "    - token을 어떻게 만드느냐에 따라서 성능이 달라진다."
   ]
  },
  {
   "cell_type": "markdown",
   "metadata": {},
   "source": [
    "### Bag Of Words(BOW)\n",
    "- 모든 단어는 순서가 상관이 없고 서로 independent하다는 가정\n",
    "- 컴퓨터가 이해할 수 있는 형태의 매트릭스\n",
    "- 장점: 설계하기 쉽고 만들기 간단하다.\n",
    "- 단점: 순서가 반영되지 않으므로, 문법적인 요소를 다 잃어버린다. 단, 문서가 엄청나게 많으면 패턴이 많이 등장해서 단점이 극복될 수 있다.\n",
    "    - NLP 쪽은 그래서 확률통계 기반 모델이 많다.\n",
    "    - 순수 NLP 쪽은 문법적인 요소를 무시할 수 없으므로 시간 순서가 중요하다. RNN 등의 딥러닝 쪽으로 시도할 수 있다."
   ]
  },
  {
   "cell_type": "markdown",
   "metadata": {},
   "source": [
    "document term matrix (DTM)\n",
    "- Bag of words로 만든 모델?"
   ]
  },
  {
   "cell_type": "markdown",
   "metadata": {},
   "source": [
    "### full text indexing(전문 색인)\n",
    "\n",
    "- N-gram을 사용하면 장점: 문맥을 고려할 수 있게 된다.\n",
    "- N-gram을 사용하면 단점: token 수가 너무 많이 늘어난다.\n",
    "- 해결책 1: 현질(메모리, 코어 등..)-최근에는 컴퓨팅능력(time complexity, space complexity)은 문제가 아니게 됨.\n",
    "- 해결책 2: Construct controlled vocabulary\n",
    "    - 모든 단어가 아니라 조금 줄이자.\n",
    "    - zipf's law를 이용해서 상위 20개 빈도 단어만 삭제해도 엄청난 수의 단어가 줄어들 것이다. (구조상 필요하고 의미를 갖지 않는 of, the 같은 단어들)\n",
    "    - zipf's law를 이용해서 하위 저빈도 단어도 삭제\n",
    "    - stopword(불용어) 처리\n",
    "    - stemming(어간 추출)로 의미있는 단어만 살리기\n",
    "    - lemantation?\n",
    "    - 신조어 처리\n",
    "    - 한글은 음절의 길이도 중요하다\n",
    "    - 영어에서는 .lower로 대소문자를 통일시켰음."
   ]
  },
  {
   "cell_type": "markdown",
   "metadata": {},
   "source": [
    "### Normalization\n",
    "- 사람이 해야한다. (컴퓨터가 해줄 수 없는 부분)\n",
    "- .lower() 소문자로 통일\n",
    "- 여러가지 표현을어떻게 표준화 시킬 것인지\n",
    "    - U.S.A를 USA로 인식시키기 위해서 .을 지워버리면 문장의 마침표도 사라지는 문제가 생긴다.\n",
    "- 결국, 데이터를 보고 데이터에 따라서 연구자가 Normalization 정책을 결정해야한다."
   ]
  },
  {
   "cell_type": "markdown",
   "metadata": {},
   "source": [
    "### Automatic text indexing\n",
    "- 현대는 컴퓨팅 파워가 좋으니, 문법적 손실이 생길 위험을 감수하지말고 데이터를 다 쓰자. \n",
    "- modern IR"
   ]
  },
  {
   "cell_type": "markdown",
   "metadata": {},
   "source": [
    "### NER(named entity recognition)\n",
    "- 어제 다운 받은 stanford 형태소 분석기 압축 파일 중에 있다.\n",
    "- 국문 버전은 etri에 있다.\n",
    "- Automatic text indexing에서 최근에 성능이 좋은 방법.\n",
    "- 전문색인에서 사용한다.(Full Automatic Text Indexing)"
   ]
  },
  {
   "cell_type": "markdown",
   "metadata": {},
   "source": [
    "- http://www.cs.virginia.edu/~hw5x/Course/IR2015/_site/docs/PDFs/Inverted%20Index.pdf"
   ]
  },
  {
   "cell_type": "markdown",
   "metadata": {},
   "source": [
    "DTM(?)의 단점\n",
    "- 3페이지\n",
    "- query term에서 단어들을 다 한번씩 찾아본다.\n",
    "- document는 엄청 많을 것이므로, 메모리에 다 올릴 수가 없어서 하나씩 열어보고 일치하는 단어가 있으면 candidtate에 추가한다. \n",
    "- document가 1000000개라고 하면 100000번 열어보므로 시간이 오래 걸릴 것이다.\n",
    "- query term이 길수록(검색 단어가 길수록) 오래 걸린다. query term의 길이만큼 문서를 열어봄\n",
    "- 각 단어에 대한 candidte를 교집합하거나 합집합해서 결과를 만든다."
   ]
  },
  {
   "cell_type": "code",
   "execution_count": 8,
   "metadata": {},
   "outputs": [],
   "source": [
    "# 얼마나 비효율적인가 봅시다.\n",
    "\n",
    "from konlpy.corpus import kobill\n",
    "from konlpy.tag import Kkma\n",
    "\n",
    "Collction = dict()\n",
    "for _ in kobill.fileids():\n",
    "    Collction[_] = kobill.open(_).read()\n",
    "    \n",
    "kkma = Kkma()\n",
    "Vocabulary = list()\n",
    "for d, t in Collction.items():\n",
    "    Vocabulary.extend([_ for _ in kkma.morphs(t) \n",
    "                       if 1 < len(_) < 7])\n",
    "    \n",
    "Vocabulary = list(set(Vocabulary))"
   ]
  },
  {
   "cell_type": "code",
   "execution_count": 14,
   "metadata": {},
   "outputs": [
    {
     "data": {
      "text/plain": [
       "1155"
      ]
     },
     "execution_count": 14,
     "metadata": {},
     "output_type": "execute_result"
    }
   ],
   "source": [
    "len(Vocabulary)"
   ]
  },
  {
   "cell_type": "code",
   "execution_count": 15,
   "metadata": {},
   "outputs": [],
   "source": [
    "t2i = lambda t: Vocabulary.index(t)\n",
    "i2t = lambda i:Vocabulary[i]"
   ]
  },
  {
   "cell_type": "code",
   "execution_count": 16,
   "metadata": {},
   "outputs": [
    {
     "data": {
      "text/plain": [
       "['안녕', '하', '세요']"
      ]
     },
     "execution_count": 16,
     "metadata": {},
     "output_type": "execute_result"
    }
   ],
   "source": [
    "# morphs는 품사태그 없이 반환함.\n",
    "\n",
    "Kkma().morphs(\"안녕하세요\")"
   ]
  },
  {
   "cell_type": "code",
   "execution_count": 17,
   "metadata": {},
   "outputs": [],
   "source": [
    "DocumentRepresentation = list(\n",
    "    list(0 for _ in range(len(Vocabulary)))\n",
    "for _ in range(len(Collction)))"
   ]
  },
  {
   "cell_type": "code",
   "execution_count": 18,
   "metadata": {},
   "outputs": [
    {
     "data": {
      "text/plain": [
       "(10, 10)"
      ]
     },
     "execution_count": 18,
     "metadata": {},
     "output_type": "execute_result"
    }
   ],
   "source": [
    "len(DocumentRepresentation), \\\n",
    "len(DocumentRepresentation)"
   ]
  },
  {
   "cell_type": "code",
   "execution_count": 19,
   "metadata": {},
   "outputs": [],
   "source": [
    "d2i = lambda d: list(Collction.keys()).index(d)\n",
    "i2d = lambda i: list(Collction.keys())[i]"
   ]
  },
  {
   "cell_type": "code",
   "execution_count": 22,
   "metadata": {},
   "outputs": [],
   "source": [
    "for d, t in Collction.items():\n",
    "    row = d2i(d)\n",
    "    for _ in kkma.morphs(t):\n",
    "        if _ in Vocabulary:\n",
    "            col = t2i(_)\n",
    "            DocumentRepresentation[row][col] = 1"
   ]
  },
  {
   "cell_type": "code",
   "execution_count": 25,
   "metadata": {},
   "outputs": [
    {
     "data": {
      "text/plain": [
       "271"
      ]
     },
     "execution_count": 25,
     "metadata": {},
     "output_type": "execute_result"
    }
   ],
   "source": [
    "sum(DocumentRepresentation[0])"
   ]
  },
  {
   "cell_type": "code",
   "execution_count": 48,
   "metadata": {},
   "outputs": [
    {
     "name": "stdout",
     "output_type": "stream",
     "text": [
      "법안\n",
      "의원\n"
     ]
    }
   ],
   "source": [
    "Query = \"법안 의원\"\n",
    "QueryRepresentation = list(0 \n",
    "                           for _ in range(len(Vocabulary)))\n",
    "for _ in kkma.morphs(Query):\n",
    "    print(_)\n",
    "    if _ in Vocabulary:\n",
    "        col = t2i(_)\n",
    "        QueryRepresentation[col] = 1"
   ]
  },
  {
   "cell_type": "code",
   "execution_count": 49,
   "metadata": {},
   "outputs": [],
   "source": [
    "# O(4 * 10 * 1144)\n",
    "CandidateList = list()\n",
    "for i in range(len(Vocabulary)):\n",
    "    if QueryRepresentation[i] == 1:\n",
    "        tempCandidate = []\n",
    "        \n",
    "        # bottle neck 구간\n",
    "        for d in range(len(Collction)):\n",
    "            for t in range(len(Vocabulary)):\n",
    "                if DocumentRepresentation[d][t] == 1 and \\\n",
    "                t == i:\n",
    "                    tempCandidate.append(i2d(d))\n",
    "                    break\n",
    "        # bottle neck 구간\n",
    "        CandidateList.append(tempCandidate)"
   ]
  },
  {
   "cell_type": "code",
   "execution_count": 50,
   "metadata": {},
   "outputs": [
    {
     "data": {
      "text/plain": [
       "[['1809890.txt',\n",
       "  '1809891.txt',\n",
       "  '1809892.txt',\n",
       "  '1809893.txt',\n",
       "  '1809894.txt',\n",
       "  '1809895.txt',\n",
       "  '1809896.txt',\n",
       "  '1809899.txt'],\n",
       " ['1809890.txt', '1809891.txt', '1809892.txt', '1809893.txt']]"
      ]
     },
     "execution_count": 50,
     "metadata": {},
     "output_type": "execute_result"
    }
   ],
   "source": [
    "CandidateList"
   ]
  },
  {
   "cell_type": "code",
   "execution_count": 51,
   "metadata": {},
   "outputs": [
    {
     "data": {
      "text/plain": [
       "['1809891.txt', '1809890.txt', '1809892.txt', '1809893.txt']"
      ]
     },
     "execution_count": 51,
     "metadata": {},
     "output_type": "execute_result"
    }
   ],
   "source": [
    "resultList = CandidateList[0]\n",
    "for _ in CandidateList[1:]:\n",
    "    resultList = list(set(resultList).intersection(_))\n",
    "resultList"
   ]
  },
  {
   "cell_type": "markdown",
   "metadata": {},
   "source": [
    "> 검색 결과에서 relevant를 알 수 가 없다. ranking을 매길 수가 없다.\n",
    ">\n",
    "> 최신순, 가나다 순으로 밖에 정렬할 수 없다."
   ]
  },
  {
   "cell_type": "markdown",
   "metadata": {},
   "source": [
    "> 지금은 문서양이 얼마 없어서 빨라보이지만 굉장히 느린 시스템이다. \n",
    ">\n",
    "> timeit해보면 알 수 있다."
   ]
  },
  {
   "cell_type": "markdown",
   "metadata": {},
   "source": [
    "### inverted indexing(역 색인)\n",
    " \n",
    "TDM(Term Document Matrix)\n",
    "    - 단어에 대하여 등장한 document를 매칭한다.\n",
    "    - Query를 미리 정해둔다.\n",
    "    - time complexity가 linear하게 나온다. "
   ]
  },
  {
   "attachments": {
    "image.png": {
     "image/png": "[encoded data removed]"
    }
   },
   "cell_type": "markdown",
   "metadata": {},
   "source": [
    "![image.png](attachment:image.png)"
   ]
  },
  {
   "cell_type": "code",
   "execution_count": 55,
   "metadata": {},
   "outputs": [],
   "source": [
    "# 위에서 만든 DTM을 TDM으로 바꿔봅시다.\n",
    "\n",
    "TDM = [list() for _ in range(len(Vocabulary))]\n",
    "for d, t in Collction.items():\n",
    "    row = d2i(d)\n",
    "    for _ in kkma.morphs(t):\n",
    "        if _ in Vocabulary:\n",
    "            col = t2i(_)\n",
    "            if row not in TDM[col]:\n",
    "                TDM[col].append(row)"
   ]
  },
  {
   "cell_type": "code",
   "execution_count": 56,
   "metadata": {},
   "outputs": [
    {
     "data": {
      "text/plain": [
       "[6]"
      ]
     },
     "execution_count": 56,
     "metadata": {},
     "output_type": "execute_result"
    }
   ],
   "source": [
    "TDM[t2i(\"규제\")]"
   ]
  },
  {
   "cell_type": "code",
   "execution_count": 60,
   "metadata": {},
   "outputs": [],
   "source": [
    "# O(4 * |L|)\n",
    "CandidateList = list()\n",
    "for q in [_ for _ in kkma.morphs(Query)\n",
    "         if _ in Vocabulary]:\n",
    "    tempCandidate = []\n",
    "    CandidateList.append([i2d(_) for _ in TDM[t2i(q)]])"
   ]
  },
  {
   "cell_type": "code",
   "execution_count": 61,
   "metadata": {},
   "outputs": [
    {
     "data": {
      "text/plain": [
       "['1809891.txt', '1809890.txt', '1809892.txt', '1809893.txt']"
      ]
     },
     "execution_count": 61,
     "metadata": {},
     "output_type": "execute_result"
    }
   ],
   "source": [
    "resultList = CandidateList[0]\n",
    "for _ in CandidateList[1:]:\n",
    "    resultList = list(set(resultList).intersection(_))\n",
    "resultList"
   ]
  },
  {
   "cell_type": "markdown",
   "metadata": {},
   "source": [
    "stay in memory\n",
    "- hash table\n",
    "- B-tree(balanced tree)\n",
    "- trie(tree 구조인데, 자식이 2개 이상/tree는 원래 자식이 2개)"
   ]
  },
  {
   "cell_type": "markdown",
   "metadata": {},
   "source": [
    "### linked list\n",
    "- TDM에서 posting은 디스크에 따로 둔다. (메모리에 올리지 않아도 됨)\n",
    "- 포인터 개념으로 posting에 효율적인 액세스 구조"
   ]
  },
  {
   "cell_type": "markdown",
   "metadata": {},
   "source": [
    "### map reduce\n",
    "- 분산처리\n",
    "- 구글이 만듦\n",
    "- "
   ]
  }
 ],
 "metadata": {
  "kernelspec": {
   "display_name": "Python 3",
   "language": "python",
   "name": "python3"
  },
  "language_info": {
   "codemirror_mode": {
    "name": "ipython",
    "version": 3
   },
   "file_extension": ".py",
   "mimetype": "text/x-python",
   "name": "python",
   "nbconvert_exporter": "python",
   "pygments_lexer": "ipython3",
   "version": "3.7.3"
  }
 },
 "nbformat": 4,
 "nbformat_minor": 2
}
