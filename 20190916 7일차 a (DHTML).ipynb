{
 "cells": [
  {
   "cell_type": "markdown",
   "metadata": {},
   "source": [
    "# DHTML\n",
    "- dynamic html\n",
    "- 개발자도구의 Network 탭을 보면, Doc은 처음에 한번만 받아오고 그 다음에 검색해도 Doc을 새로 받아오지 않는다.\n",
    "    - dom을 만들어도, 처음에 만든 dom에서 업데이트되지 않는다.\n",
    "- HTML은 템플릿으로 두고, 검색할때 json을 받아서 내용을 업데이트한다."
   ]
  },
  {
   "cell_type": "code",
   "execution_count": 37,
   "metadata": {},
   "outputs": [],
   "source": [
    "import requests\n",
    "from bs4 import BeautifulSoup\n",
    "import re"
   ]
  },
  {
   "cell_type": "markdown",
   "metadata": {},
   "source": [
    "# 연휴 끝난 기념, 몸풀기 문제\n",
    "- http://example.webscraping.com/places/default/search\n",
    "- 검색 결과 스크래핑하기\n",
    "- 지난 시간까지 배웠던 것들을 다 기억하고 있으면 금방 풀 수 있을 것이다."
   ]
  },
  {
   "cell_type": "code",
   "execution_count": 4,
   "metadata": {},
   "outputs": [],
   "source": [
    "# 개발자도구의 Network 탭에서 필요한 url을 알 수 있다.\n",
    "\n",
    "url = \"http://example.webscraping.com/places/ajax/search.json\"\n",
    "params = {\"search_term\":\"korea\",\n",
    "          \"page_size\":\"10\",\n",
    "          \"page\":\"0\"}\n",
    "resp = requests.request(\"get\", url, params=params)"
   ]
  },
  {
   "cell_type": "code",
   "execution_count": 28,
   "metadata": {},
   "outputs": [
    {
     "data": {
      "text/plain": [
       "'application/json'"
      ]
     },
     "execution_count": 28,
     "metadata": {},
     "output_type": "execute_result"
    }
   ],
   "source": [
    "# json 파일을 받아왔다.\n",
    "\n",
    "resp.headers[\"Content-type\"]"
   ]
  },
  {
   "cell_type": "markdown",
   "metadata": {},
   "source": [
    "> json 파일이므로 dom을 만들 필요가 없다."
   ]
  },
  {
   "cell_type": "code",
   "execution_count": 30,
   "metadata": {},
   "outputs": [
    {
     "data": {
      "text/plain": [
       "{'records': [{'pretty_link': '<div><a href=\"/places/default/view/North-Korea-165\"><img src=\"/places/static/images/flags/kp.png\" /> North Korea</a></div>',\n",
       "   'country': 'North Korea',\n",
       "   'id': 4908369},\n",
       "  {'pretty_link': '<div><a href=\"/places/default/view/South-Korea-211\"><img src=\"/places/static/images/flags/kr.png\" /> South Korea</a></div>',\n",
       "   'country': 'South Korea',\n",
       "   'id': 4908415}],\n",
       " 'num_pages': 1,\n",
       " 'error': ''}"
      ]
     },
     "execution_count": 30,
     "metadata": {},
     "output_type": "execute_result"
    }
   ],
   "source": [
    "# .json()메서드로 딕셔너리처럼 이용할 수 있다.\n",
    "\n",
    "resp.json()"
   ]
  },
  {
   "cell_type": "code",
   "execution_count": 29,
   "metadata": {},
   "outputs": [
    {
     "name": "stdout",
     "output_type": "stream",
     "text": [
      "North Korea\n",
      "South Korea\n"
     ]
    }
   ],
   "source": [
    "# 검색결과에서 국가 이름만 뽑아보자.\n",
    "\n",
    "for _ in resp.json()[\"records\"]:\n",
    "    print(_[\"country\"])"
   ]
  },
  {
   "cell_type": "code",
   "execution_count": 57,
   "metadata": {},
   "outputs": [
    {
     "name": "stdout",
     "output_type": "stream",
     "text": [
      "North Korea\n",
      "<div><a href=\"/places/default/view/North-Korea-165\"><img src=\"/places/static/images/flags/kp.png\" /> North Korea</a></div>\n",
      "('/places/static/images/flags/kp.png',)\n",
      "http://example.webscraping.com/places/static/images/flags/kp.png\n",
      "National Flag: Area: 120,540 square kilometresPopulation: 22,912,177Iso: KPCountry: North KoreaCapital: PyongyangContinent: ASTld: .kpCurrency Code: KPWCurrency Name: WonPhone: 850Postal Code Format: ###-###Postal Code Regex: ^(\\d{6})$Languages: ko-KPNeighbours: CN KR RU \n",
      "South Korea\n",
      "<div><a href=\"/places/default/view/South-Korea-211\"><img src=\"/places/static/images/flags/kr.png\" /> South Korea</a></div>\n",
      "('/places/static/images/flags/kr.png',)\n",
      "http://example.webscraping.com/places/static/images/flags/kr.png\n",
      "National Flag: Area: 98,480 square kilometresPopulation: 48,422,644Iso: KRCountry: South KoreaCapital: SeoulContinent: ASTld: .krCurrency Code: KRWCurrency Name: WonPhone: 82Postal Code Format: SEOUL ###-###Postal Code Regex: ^(?:SEOUL)*(\\d{6})$Languages: ko-KR,enNeighbours: KP \n"
     ]
    }
   ],
   "source": [
    "# 검색결과에서 여러가지 정보들을 뽑아보자.\n",
    "\n",
    "for _ in resp.json()[\"records\"]:\n",
    "    print(_[\"country\"])  # 국가명\n",
    "    print(_[\"pretty_link\"])  # html 코드 정보\n",
    "    print(re.search(r\"<img src=\\\"(.+)\\\" \\/>\",\n",
    "                   _[\"pretty_link\"]).groups())  # 이미지 링크\n",
    "    print(requests.compat.urljoin(resp.url,\n",
    "                                 re.findall(r\"<img src=\\\"(.+)\\\" \\/>\", _[\"pretty_link\"])[0])) # 이미지 링크 full url\n",
    "    url = requests.compat.urljoin(resp.url,\n",
    "                                 re.findall(r\"<a href=\\\"(.+)\\\">\", _[\"pretty_link\"])[0]) \n",
    "    dom = BeautifulSoup(requests.request(\"get\", url).text, \"lxml\")\n",
    "    print(dom.form.text) # 검색 결과의 내용물"
   ]
  },
  {
   "cell_type": "markdown",
   "metadata": {},
   "source": [
    "---"
   ]
  },
  {
   "cell_type": "markdown",
   "metadata": {},
   "source": [
    "### 다른 방법"
   ]
  },
  {
   "cell_type": "code",
   "execution_count": 15,
   "metadata": {},
   "outputs": [
    {
     "data": {
      "text/plain": [
       "'<div><a href=\"/places/default/view/North-Korea-165\"><img src=\"/places/static/images/flags/kp.png\" /> North Korea</a></div>'"
      ]
     },
     "execution_count": 15,
     "metadata": {},
     "output_type": "execute_result"
    }
   ],
   "source": [
    "# 검색결과에서 이미지 소스만 뽑아보자.\n",
    "\n",
    "js[\"records\"][0][\"pretty_link\"]"
   ]
  },
  {
   "cell_type": "markdown",
   "metadata": {},
   "source": [
    "> img src만 가져오기 위해서 정규식을 이용한다."
   ]
  },
  {
   "cell_type": "code",
   "execution_count": 17,
   "metadata": {},
   "outputs": [
    {
     "data": {
      "text/plain": [
       "['/places/static/images/flags/kp.png']"
      ]
     },
     "execution_count": 17,
     "metadata": {},
     "output_type": "execute_result"
    }
   ],
   "source": [
    "re.findall(r'img src=\"(.*?)\"', js[\"records\"][0][\"pretty_link\"])"
   ]
  },
  {
   "cell_type": "code",
   "execution_count": 33,
   "metadata": {},
   "outputs": [
    {
     "data": {
      "text/plain": [
       "['http://example.webscraping.com/places/static/images/flags/kp.png',\n",
       " 'http://example.webscraping.com/places/static/images/flags/kr.png']"
      ]
     },
     "execution_count": 33,
     "metadata": {},
     "output_type": "execute_result"
    }
   ],
   "source": [
    "# list comprehension으로 한번에 가져오기.\n",
    "# \n",
    "\n",
    "imgs = [requests.compat.urljoin(resp.url,\n",
    "                                re.findall(r'img src=\"(.*?)\"', _[\"pretty_link\"])[0]) \n",
    "        for _ in js[\"records\"]]\n",
    "imgs"
   ]
  },
  {
   "cell_type": "code",
   "execution_count": null,
   "metadata": {},
   "outputs": [],
   "source": []
  }
 ],
 "metadata": {
  "kernelspec": {
   "display_name": "Python 3",
   "language": "python",
   "name": "python3"
  },
  "language_info": {
   "codemirror_mode": {
    "name": "ipython",
    "version": 3
   },
   "file_extension": ".py",
   "mimetype": "text/x-python",
   "name": "python",
   "nbconvert_exporter": "python",
   "pygments_lexer": "ipython3",
   "version": "3.7.3"
  }
 },
 "nbformat": 4,
 "nbformat_minor": 2
}
