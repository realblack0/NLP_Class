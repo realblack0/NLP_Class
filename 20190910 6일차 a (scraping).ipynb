{
 "cells": [
  {
   "cell_type": "code",
   "execution_count": 1,
   "metadata": {},
   "outputs": [],
   "source": [
    "from bs4 import BeautifulSoup\n",
    "import requests\n",
    "import time\n",
    "import random"
   ]
  },
  {
   "cell_type": "code",
   "execution_count": 2,
   "metadata": {},
   "outputs": [],
   "source": [
    "headers = {\"User-Agent\": \"Mozilla/5.0 (Windows NT 10.0; Win64; x64) AppleWebKit/537.36 (KHTML, like Gecko) Chrome/76.0.3809.132 Safari/537.36\"}"
   ]
  },
  {
   "cell_type": "code",
   "execution_count": 3,
   "metadata": {},
   "outputs": [],
   "source": [
    "# 만들어뒀던 download 함수\n",
    "\n",
    "def download(method=\"get\", url=\"\", headers={}, params={}, retries=3):\n",
    "    try:\n",
    "        resp = requests.request(method, \n",
    "                                url, \n",
    "                                headers=headers,\n",
    "                                params=params if method==\"get\" else {},\n",
    "                                data = params if method==\"post\" else {}\n",
    "                               )\n",
    "        resp.raise_for_status()\n",
    "        \n",
    "    except requests.exceptions.HTTPError as e:\n",
    "        if 500 <= resp.status_code < 600 and retries > 0:\n",
    "            print(\"Retries:\",retries)\n",
    "            time.sleep(random.randint(1,5))\n",
    "            return download(method, url, headers, params, retries-1)\n",
    "            \n",
    "        else:\n",
    "            print(resp.status_code)\n",
    "            print(resp.reason)\n",
    "            print(resp.request.headers)\n",
    "            print(resp.url)\n",
    "\n",
    "    return resp\n"
   ]
  },
  {
   "cell_type": "markdown",
   "metadata": {},
   "source": [
    "# 구글에서 이미지 검색 결과를 scrap 해보자."
   ]
  },
  {
   "cell_type": "code",
   "execution_count": 341,
   "metadata": {},
   "outputs": [],
   "source": [
    "url = \"https://www.google.com/search\"\n",
    "params = {\n",
    "    \"q\":\"성소\",\n",
    "    \"source\":\"lnms\",\n",
    "    \"tbm\":\"isch\"\n",
    "}\n",
    "resp = download(\"get\", url, headers=headers, params=params)"
   ]
  },
  {
   "cell_type": "code",
   "execution_count": 342,
   "metadata": {},
   "outputs": [],
   "source": [
    "# 오늘은 parser를 바꿔보겠습니다.\n",
    "# lxml로 parsing이 잘 안되면 html.parser가 좋습니다.\n",
    "# 장점은 개떡같이 만든 html 코드도 잘 parsing한다.\n",
    "# 단점은 느리다.\n",
    "\n",
    "dom = BeautifulSoup(resp.text, \"html.parser\")"
   ]
  },
  {
   "cell_type": "code",
   "execution_count": 343,
   "metadata": {},
   "outputs": [
    {
     "name": "stdout",
     "output_type": "stream",
     "text": [
      "100\n"
     ]
    }
   ],
   "source": [
    "# 구글 이미지 검색 결과에서 이미지들은 다음과 같은 클래스를 갖고 있고, 해당 태그는 총 100개가 있다.\n",
    "\n",
    "print(len(dom.select(\".rg_ic.rg_i\")))"
   ]
  },
  {
   "cell_type": "code",
   "execution_count": 344,
   "metadata": {},
   "outputs": [
    {
     "name": "stdout",
     "output_type": "stream",
     "text": [
      "20\n"
     ]
    }
   ],
   "source": [
    "# src 속성을 갖고 있는 것들만 걸러내면 이미지는 총 20개이다.\n",
    "\n",
    "imgs = [_[\"src\"] for _ in dom.select(\".rg_ic.rg_i\")\n",
    "        if _.has_attr(\"src\")]\n",
    "\n",
    "print(len(imgs))"
   ]
  },
  {
   "cell_type": "code",
   "execution_count": 345,
   "metadata": {},
   "outputs": [
    {
     "data": {
      "text/plain": [
       "'data:image/gif;base64,R0lGODlhAQABAIAAAP///////yH5BAEKAAEALAAAAAABAAEAAAICTAEAOw=='"
      ]
     },
     "execution_count": 345,
     "metadata": {},
     "output_type": "execute_result"
    }
   ],
   "source": [
    "# base64 인코딩되어 있다.\n",
    "# image를 link로 하는 것보다 base64가 더 안전하다.\n",
    "# link로 이미지를 걸면 엑스박스가 뜰 위험이 있다.\n",
    "\n",
    "imgs[-1]"
   ]
  },
  {
   "cell_type": "code",
   "execution_count": 31,
   "metadata": {},
   "outputs": [],
   "source": [
    "import base64\n",
    "\n",
    "temp = imgs[0].split(\",\")\n",
    "ext = temp[0].split(\";\")[0].split(\"/\")[-1]\n",
    "img = base64.b64decode(temp[1].encode(\"ascii\"))"
   ]
  },
  {
   "cell_type": "code",
   "execution_count": 32,
   "metadata": {},
   "outputs": [],
   "source": [
    "with open(\"1.\"+ext, \"wb\") as fp:\n",
    "    fp.write(img)"
   ]
  },
  {
   "cell_type": "markdown",
   "metadata": {},
   "source": [
    "> base64로 이미지 저장하는 방법이 잘 안된다...\n",
    ">\n",
    "> 다른 방법을 찾아보자."
   ]
  },
  {
   "cell_type": "markdown",
   "metadata": {},
   "source": [
    "----"
   ]
  },
  {
   "cell_type": "markdown",
   "metadata": {},
   "source": [
    "> 다시할게요,,,\n",
    ">\n",
    "> 이미지 소스가 json으로 되어있는 것이 문제였다.\n",
    ">"
   ]
  },
  {
   "cell_type": "code",
   "execution_count": 346,
   "metadata": {},
   "outputs": [],
   "source": [
    "# 이미지 소스정보가 담긴 json은 다음 태그에서 얻을 수 있다.\n",
    "\n",
    "images = [_.text for _ in dom.select(\".rg_meta.notranslate\")]"
   ]
  },
  {
   "cell_type": "code",
   "execution_count": 347,
   "metadata": {},
   "outputs": [
    {
     "name": "stdout",
     "output_type": "stream",
     "text": [
      "<class 'str'>\n"
     ]
    },
    {
     "data": {
      "text/plain": [
       "'{\"cb\":12,\"cl\":15,\"cr\":21,\"id\":\"Xm3IhVOeFnfSAM:\",\"isu\":\"news.chosun.com\",\"itg\":0,\"ity\":\"jpg\",\"oh\":782,\"ou\":\"http://image.chosun.com/sitedata/image/201809/03/2018090301334_0.jpg\",\"ow\":540,\"pt\":\"SC이슈]\\\\\"컴백 NO, 예능은 OK\\\\\"\\\\u2026우주소녀 성소, 中스케줄 논란 ...\",\"rh\":\"news.chosun.com\",\"rid\":\"eNkCp7MbYFuoPM\",\"rmt\":0,\"rt\":0,\"ru\":\"http://news.chosun.com/site/data/html_dir/2018/09/03/2018090301347.html\",\"sc\":1,\"st\":\"조선일보\",\"th\":270,\"tu\":\"https://encrypted-tbn0.gstatic.com/images?q\\\\u003dtbn:ANd9GcRWPUERnmXHTdJA81s9gdcNo5tk6X9XEshi_O7ukJdoLWZcHMCtxw\",\"tw\":186}'"
      ]
     },
     "execution_count": 347,
     "metadata": {},
     "output_type": "execute_result"
    }
   ],
   "source": [
    "# json 정보의 현재 type이 str이다.\n",
    "\n",
    "print(type(images[0]))\n",
    "images[0]"
   ]
  },
  {
   "cell_type": "code",
   "execution_count": 348,
   "metadata": {},
   "outputs": [
    {
     "data": {
      "text/plain": [
       "dict"
      ]
     },
     "execution_count": 348,
     "metadata": {},
     "output_type": "execute_result"
    }
   ],
   "source": [
    "# str로 되어있는 json을 python dictionary로 바꿔주자.\n",
    "\n",
    "import json\n",
    "\n",
    "img = json.loads(images[0])\n",
    "\n",
    "type(img)"
   ]
  },
  {
   "cell_type": "code",
   "execution_count": 349,
   "metadata": {},
   "outputs": [
    {
     "data": {
      "text/plain": [
       "'http://image.chosun.com/sitedata/image/201809/03/2018090301334_0.jpg'"
      ]
     },
     "execution_count": 349,
     "metadata": {},
     "output_type": "execute_result"
    }
   ],
   "source": [
    "# dictionary의 key 호출 방식을 사용할 수 있다.\n",
    "# ou라는 key에 image 주소가 들어있다.\n",
    "\n",
    "img[\"ou\"]"
   ]
  },
  {
   "cell_type": "code",
   "execution_count": null,
   "metadata": {},
   "outputs": [],
   "source": [
    "# 확장자가 제멋대로여도 일괄적으로 맞춰주기 위한 딕셔너리를 만듦.\n",
    "ext = {\n",
    "    \"JPEG\":\"jpg\",\n",
    "    \"JPG\":\"jpg\",\n",
    "    \"PNG\":\"png\",\n",
    "    \"GIF\":\"gif\",\n",
    "    \"jpeg\":\"jpg\",\n",
    "    \"jpg\":\"jpg\",\n",
    "    \"png\":\"png\",\n",
    "    \"gif\":\"gif\"\n",
    "}\n",
    "\n",
    "# 선생님이 만드신 코드.\n",
    "for _ in images[:10]:\n",
    "    img = json.loads(_)\n",
    "    resp = download(\"get\", img[\"ou\"], headers=headers)\n",
    "    \n",
    "    if resp.headers[\"Content-Type\"].split(\"/\")[0] == \"image\":\n",
    "        imgTitle = resp.url.split(\"/\")[-1].split(\".\")[0]\n",
    "        imgExt = ext[resp.headers[\"Content-Type\"].split(\"/\")[-1]]\n",
    "        with open(imgTitle+\".\"+imgExt, \"wb\") as fp:\n",
    "            fp.write(resp.content)"
   ]
  },
  {
   "cell_type": "markdown",
   "metadata": {},
   "source": [
    "---"
   ]
  },
  {
   "cell_type": "code",
   "execution_count": 104,
   "metadata": {},
   "outputs": [],
   "source": [
    "# imgTitle에서 에러가 나서 tilte parsing부분을 수정함.\n",
    "\n",
    "for _ in images[:10]:\n",
    "    img = json.loads(_)\n",
    "    resp = download(\"get\", img[\"ou\"], headers=headers)\n",
    "    \n",
    "    if resp.headers[\"Content-Type\"].split(\"/\")[0] == \"image\":\n",
    "        if len(resp.url.split(\"/\")[-1].split(\".\")[-1]) < 5:\n",
    "            imgTitle = requests.utils.unquote(resp.url.split(\"/\")[-1].split(\".\")[0])\n",
    "        else:\n",
    "            imgTitle = img[\"pt\"] \n",
    "        imgExt = ext[resp.headers[\"Content-Type\"].split(\"/\")[-1]]\n",
    "        with open(imgTitle+\".\"+imgExt, \"wb\") as fp:\n",
    "            fp.write(resp.content)"
   ]
  },
  {
   "cell_type": "markdown",
   "metadata": {},
   "source": [
    "> 아래는 위 코드를 부연 설명하기 위한 노트입니다."
   ]
  },
  {
   "cell_type": "code",
   "execution_count": 105,
   "metadata": {},
   "outputs": [
    {
     "name": "stdout",
     "output_type": "stream",
     "text": [
      "170115_%EA%B0%95%EB%82%A8%ED%8C%AC%EC%8B%B8%EC%9D%B8%ED%9A%8C_%EC%9A%B0%EC%A3%BC%EC%86%8C%EB%85%80_%EC%9D%80%EC%84%9C_%EC%84%B1%EC%86%8C_%EC%97%AC%EB%A6%84_%281%29\n",
      "170115_강남팬싸인회_우주소녀_은서_성소_여름_(1)\n"
     ]
    }
   ],
   "source": [
    "# imgTitle이 퍼센트인코딩이 되어있으므로, 유니코드로 unquote하는 방식으로 수정함.\n",
    "\n",
    "print(resp.url.split(\"/\")[-1].split(\".\")[0])\n",
    "print(requests.utils.unquote(resp.url.split(\"/\")[-1].split(\".\")[0]))"
   ]
  },
  {
   "cell_type": "code",
   "execution_count": 361,
   "metadata": {},
   "outputs": [
    {
     "name": "stdout",
     "output_type": "stream",
     "text": [
      "http://image.chosun.com/sitedata/image/201809/03/2018090301334_0.jpg\n"
     ]
    },
    {
     "data": {
      "text/plain": [
       "'jpg'"
      ]
     },
     "execution_count": 361,
     "metadata": {},
     "output_type": "execute_result"
    }
   ],
   "source": [
    "# url이 파일명을 포함하고 있는 경우에는 맨 마지막이 .jpg 등의 확장자로 끝난다\n",
    "\n",
    "img = json.loads(images[0])\n",
    "print(img[\"ou\"])\n",
    "resp.url.split(\"/\")[-1].split(\".\")[-1]"
   ]
  },
  {
   "cell_type": "code",
   "execution_count": 112,
   "metadata": {},
   "outputs": [
    {
     "data": {
      "text/plain": [
       "'https://img1.daumcdn.net/thumb/R720x0.q80/?scode=mtistory2&fname=http%3A%2F%2Fcfile2.uf.tistory.com%2Fimage%2F998C50505AEB18F33303CE'"
      ]
     },
     "execution_count": 112,
     "metadata": {},
     "output_type": "execute_result"
    }
   ],
   "source": [
    "# url 주소가 파일명을 포함하고 있지 않은 경우가 있으면 에러가 난다.\n",
    "\n",
    "img = json.loads(images[8])\n",
    "img[\"ou\"]"
   ]
  },
  {
   "cell_type": "code",
   "execution_count": 88,
   "metadata": {},
   "outputs": [
    {
     "data": {
      "text/plain": [
       "36"
      ]
     },
     "execution_count": 88,
     "metadata": {},
     "output_type": "execute_result"
    }
   ],
   "source": [
    "# url이 파일명을 포함하고 있지 않은 경우에는 끝이 5글자를 넘어간다.\n",
    "# 보통 이미지 파일의 확장자가 5글자를 넘어가는 경우는 거의 없으므로, 이를 if문으로 만들어 예외처리하였다.\n",
    "\n",
    "len(resp.url.split(\"/\")[-1].split(\".\")[-1]) < 5"
   ]
  },
  {
   "cell_type": "code",
   "execution_count": 362,
   "metadata": {},
   "outputs": [
    {
     "name": "stdout",
     "output_type": "stream",
     "text": [
      "SC이슈]\"컴백 NO, 예능은 OK\"…우주소녀 성소, 中스케줄 논란 ...\n"
     ]
    },
    {
     "data": {
      "text/plain": [
       "{'cb': 12,\n",
       " 'cl': 15,\n",
       " 'cr': 21,\n",
       " 'id': 'Xm3IhVOeFnfSAM:',\n",
       " 'isu': 'news.chosun.com',\n",
       " 'itg': 0,\n",
       " 'ity': 'jpg',\n",
       " 'oh': 782,\n",
       " 'ou': 'http://image.chosun.com/sitedata/image/201809/03/2018090301334_0.jpg',\n",
       " 'ow': 540,\n",
       " 'pt': 'SC이슈]\"컴백 NO, 예능은 OK\"…우주소녀 성소, 中스케줄 논란 ...',\n",
       " 'rh': 'news.chosun.com',\n",
       " 'rid': 'eNkCp7MbYFuoPM',\n",
       " 'rmt': 0,\n",
       " 'rt': 0,\n",
       " 'ru': 'http://news.chosun.com/site/data/html_dir/2018/09/03/2018090301347.html',\n",
       " 'sc': 1,\n",
       " 'st': '조선일보',\n",
       " 'th': 270,\n",
       " 'tu': 'https://encrypted-tbn0.gstatic.com/images?q=tbn:ANd9GcRWPUERnmXHTdJA81s9gdcNo5tk6X9XEshi_O7ukJdoLWZcHMCtxw',\n",
       " 'tw': 186}"
      ]
     },
     "execution_count": 362,
     "metadata": {},
     "output_type": "execute_result"
    }
   ],
   "source": [
    "# if로 예외처리했을떄는 \"pt\"를 파일의 제목으로 하였다.\n",
    "\n",
    "print(img['pt'])\n",
    "img"
   ]
  },
  {
   "cell_type": "markdown",
   "metadata": {},
   "source": [
    "---"
   ]
  },
  {
   "cell_type": "markdown",
   "metadata": {},
   "source": [
    "# 네이버 블로그에서 실습\n",
    "- 네이버 블로그\n",
    "- Focused Crawling - Depth : 어제 배웠던 내용 활용\n",
    "- image scarping : 오늘 배운 내용 활용"
   ]
  },
  {
   "cell_type": "code",
   "execution_count": null,
   "metadata": {},
   "outputs": [],
   "source": [
    "# 실습용 폴더 생성\n",
    "\n",
    "import os \n",
    "\n",
    "os.mkdir(\"./6일차_실습_image\")\n",
    "os.mkdir(\"./6일차_실습_html\")"
   ]
  },
  {
   "cell_type": "code",
   "execution_count": 340,
   "metadata": {},
   "outputs": [],
   "source": [
    "naverUrl = \"https://search.naver.com/search.naver\"\n",
    "params = \"sm=top_hty&fbm=1&ie=utf8&query=성소\"\n",
    "params = params.split(\"&\")\n",
    "params = {_.split(\"=\")[0] : _.split(\"=\")[1]  for _ in params}\n",
    "\n",
    "resp = download(\"get\", naverUrl, params=params, headers=headers)\n",
    "dom = BeautifulSoup(resp.text, \"lxml\")\n",
    "\n",
    "naverResults = [(_[\"href\"], 1) for _ in dom.select(\".section .type01 dt > a\")]"
   ]
  },
  {
   "cell_type": "code",
   "execution_count": 127,
   "metadata": {},
   "outputs": [
    {
     "data": {
      "text/plain": [
       "'text/html;charset=UTF-8'"
      ]
     },
     "execution_count": 127,
     "metadata": {},
     "output_type": "execute_result"
    }
   ],
   "source": [
    "resp.headers['Content-Type']"
   ]
  },
  {
   "cell_type": "code",
   "execution_count": 140,
   "metadata": {},
   "outputs": [
    {
     "name": "stdout",
     "output_type": "stream",
     "text": [
      "https://blog.naver.com/cpflqmffor?Redirect=Log&logNo=221604798149\n",
      "80 2\n",
      "https://blogpfthumb-phinf.pstatic.net/MjAxODExMTVfMTIx/MDAxNTQyMjA5ODUzNTc2.T3WTBwbC65vaDA-B39Kqy5RGcMHi2952KQJaRMJ_KA8g.qqF7ItgPnlTcl0D06IOv7ko4eRjo4iDDd86xS68Uwwgg.JPEG.cpflqmffor/20171112105032_IMG_0629.JPG?type=s40\n",
      "https://blogimgs.pstatic.net/static/ws/btn_close.gif\n",
      "https://blogimgs.pstatic.net/imgs/btn_cancel_pop2.gif\n",
      "https://blogimgs.pstatic.net/imgs/btn_confirm_pop2.gif\n",
      "https://blogimgs.pstatic.net/nblog/guestbook/btn_close2.gif\n",
      "https://blogimgs.pstatic.net/nblog/guestbook/btn_ok.gif\n",
      "https://blogimgs.pstatic.net/nblog/widget/btn_close.gif\n",
      "https://blogimgs.pstatic.net/static/common/popup/btn_close3.gif\n",
      "https://blogimgs.pstatic.net/nblog/book/publishingcompany/btn_close.gif\n",
      "https://blogimgs.pstatic.net/nblog/ico_notice2.gif\n",
      "https://blogimgs.pstatic.net/nblog/mylog/post/tit_viewexif.gif\n",
      "https://blogimgs.pstatic.net/nblog/mylog/post/btn_originaldn.gif\n",
      "https://blogimgs.pstatic.net/nblog/mylog/post/btn_viewexif.gif\n",
      "https://blogimgs.pstatic.net/nblog/btn_close_1.gif\n",
      "https://blogimgs.pstatic.net/nblog/mylog/post/btn_cancel.gif\n",
      "https://blogimgs.pstatic.net/nblog/mylog/post/btn_confirm.gif\n",
      "https://blogimgs.pstatic.net/nblog/mylog/post/btn_close5.gif\n",
      "https://blogimgs.pstatic.net/imgs/btn_close3.gif\n",
      "https://blogimgs.pstatic.net/nblog/mylog/post/btn_cancel3.gif\n",
      "https://blogimgs.pstatic.net/nblog/mylog/post/btn_download2.gif\n",
      "https://blogimgs.pstatic.net/nblog/mylog/post/ico_file.gif\n",
      "https://blogimgs.pstatic.net/imgs/btn_close8.gif\n",
      "https://blogimgs.pstatic.net/nblog/mylog/post/btn_thin_close.gif\n",
      "https://ssl.pstatic.net/static/common/btn/btn_confirm2.gif\n",
      "https://postfiles.pstatic.net/MjAxOTA4MDRfMjUy/MDAxNTY0ODUwMjI2MjI0.-d7SM-h7dgfMQKVC74eusCYNh2vg8wJlForHsXWjkMIg.x1Dn2pL0Kz9x_SV5WSW2UjEisf26YoUFAYgytAGOT_og.JPEG.cpflqmffor/NaverBlog_20190804_013705_17.jpg?type=w2\n",
      "https://postfiles.pstatic.net/MjAxOTA4MDRfMTYy/MDAxNTY0ODUwMjI1NjA0.uiebQWJmXwwbUBxlZ-TT8zUswmS8Hkg4zfsToEIsKAog.uQD8TKOzV90aKu13H1N6CymBv1zfAT-vboJ6udOq4ewg.JPEG.cpflqmffor/NaverBlog_20190804_013701_15.jpg?type=w2\n",
      "https://postfiles.pstatic.net/MjAxOTA4MDRfNjMg/MDAxNTY0ODUwMjIxNTY1.APCrR4r9yr99X0JW0QH9RjgFAZXeqaKVHWu_64kkDuQg.-5aofF-biRcDFkowSh0_x4xAG6K5Xhc5AmmmDkUBUo8g.JPEG.cpflqmffor/NaverBlog_20190804_013701_13.jpg?type=w2\n",
      "https://postfiles.pstatic.net/MjAxOTA4MDRfMjE5/MDAxNTY0ODUwMjIwNzcx.InqTBZDF9ey9-KYEduB01T5ZsOT0FUNHm9VbepvFHFEg.ShKDKZP3RRNEQT5NfbLA3UsVPPwKhNLjAMrFuY0m4N4g.JPEG.cpflqmffor/NaverBlog_20190804_013700_11.jpg?type=w2\n",
      "https://postfiles.pstatic.net/MjAxOTA4MDRfMjU5/MDAxNTY0ODUwMjIwMTY1.gXtYVKckJ7RnErmMdyi0cZmSc88bdJRw5sW84WwIvv0g.-uXVPAaEGImZuJfvmFtxO7QbhtVGWn0ihNRgGIPFcrAg.JPEG.cpflqmffor/NaverBlog_20190804_013659_09.jpg?type=w2\n",
      "https://postfiles.pstatic.net/MjAxOTA4MDRfMjIw/MDAxNTY0ODUwMjE5NDky.37qPxBiAuhgdko8y5zEib710UqxDc0oSsOqQDXbE5Pog.whOrxVVNSjS5dTckfU0Zb3GwCDa38aBp2rGU70zlwWog.JPEG.cpflqmffor/NaverBlog_20190804_013659_08.jpg?type=w2\n",
      "https://postfiles.pstatic.net/MjAxOTA4MDRfMTkx/MDAxNTY0ODUwMjE4NzEx.gH9Y7ZWxqpkqGl_WWZ4GQfIvt_6sCMfx0dh5RMDGf0og.7FXSoy-QE9ydAieevELh90SJA-J-dAXzfwodsUO_FEMg.JPEG.cpflqmffor/NaverBlog_20190804_013658_06.jpg?type=w2\n",
      "https://postfiles.pstatic.net/MjAxOTA4MDRfNDkg/MDAxNTY0ODUwMjE4MTEz.iHCwfybu_i4If1usDbrAXiyJ9XAn5qnu-tVz97l_mxAg.VARbIp4ZjxzR8FSdMTqTUaHS7oP4F8KKU5pOXAt9pSIg.JPEG.cpflqmffor/NaverBlog_20190804_013657_05.jpg?type=w2\n",
      "https://postfiles.pstatic.net/MjAxOTA4MDRfMjY4/MDAxNTY0ODUwMjE3NDQy.usCZKGkMLSoW-RukdF2FV3oGNscAn3edslqOAo_q9jgg.vPUMRxis0VY7j8gcMS9bT71Aspsi9VLpcjXQLQNqv2wg.JPEG.cpflqmffor/NaverBlog_20190804_013657_03.jpg?type=w2\n",
      "https://postfiles.pstatic.net/MjAxOTA4MDRfMjcz/MDAxNTY0ODUwMjE2ODUy.YfSIeL5tOcqpT2MCkh6OrZ8yq9SL_jnnWv3PbPJsAFog.vV2mTl0eKXS83Ax7e2Bdvh2O9zfeJElKf8o1HU7339gg.JPEG.cpflqmffor/NaverBlog_20190804_013656_01.jpg?type=w2\n",
      "https://ssl.pstatic.net/static/blank.gif\n",
      "https://blogimgs.pstatic.net/nblog/btn_urlcopy.gif\n",
      "https://blogimgs.pstatic.net/imgs/nblog/spc.gif\n",
      "https://blogimgs.pstatic.net/imgs/head/icon_mobile_F.gif\n",
      "https://blogimgs.pstatic.net/nblog/quickeditor/btn_clse_ly2.gif\n",
      "https://blogimgs.pstatic.net/nblog/quickeditor/btn_what2.gif\n",
      "https://blogimgs.pstatic.net/nblog/quickeditor/btn_qk_set.gif\n",
      "https://blogimgs.pstatic.net/nblog/spc.gif\n",
      "https://help.naver.com/support/alias/blog/stats/stats1.naver\n",
      "37 45\n",
      "https://blog.naver.com/FILEPATH\n",
      "404\n",
      "Not Found\n",
      "{'User-Agent': 'Mozilla/5.0 (Windows NT 10.0; Win64; x64) AppleWebKit/537.36 (KHTML, like Gecko) Chrome/76.0.3809.132 Safari/537.36', 'Accept-Encoding': 'gzip, deflate', 'Accept': '*/*', 'Connection': 'keep-alive'}\n",
      "https://blog.naver.com/FILEPATH\n",
      "https://rss.blog.naver.com/cpflqmffor.xml?atom=0.3\n",
      "35 47\n",
      "https://rss.blog.naver.com/cpflqmffor.xml?rss=1.0\n",
      "34 48\n",
      "https://rss.blog.naver.com/cpflqmffor.xml\n",
      "33 49\n",
      "https://blog.naver.com/PostList.nhn?blogId=cpflqmffor&categoryNo=55&from=thumbnailList&parentCategoryNo=0\n",
      "32 50\n",
      "https://blog.naver.com/cpflqmffor/221604798149\n",
      "31 51\n",
      "https://blog.naver.com/PostList.nhn?blogId=cpflqmffor&categoryNo=12&parentCategoryNo=12&from=postList\n",
      "30 52\n",
      "https://blog.naver.com/PostList.nhn?blogId=cpflqmffor&categoryNo=55&from=postList\n",
      "29 53\n",
      "https://section.blog.naver.com/Notice.nhn?docId=10000000000020964978\n",
      "28 54\n",
      "https://admin.blog.naver.com//config/quickposting\n",
      "404\n",
      "Not Found\n",
      "{'User-Agent': 'Mozilla/5.0 (Windows NT 10.0; Win64; x64) AppleWebKit/537.36 (KHTML, like Gecko) Chrome/76.0.3809.132 Safari/537.36', 'Accept-Encoding': 'gzip, deflate', 'Accept': '*/*', 'Connection': 'keep-alive'}\n",
      "https://admin.blog.naver.com//config/quickposting\n",
      "https://guestbook.blog.naver.com/guestbook/GuestBookList.nhn?blogId=cpflqmffor&skinType=&skinId=&from=menu\n",
      "26 56\n",
      "https://blog.naver.com/memo/MemologPostList.nhn?blogId=cpflqmffor&Redirect=MemoList&skinType=&skinId=&from=menu\n",
      "25 57\n",
      "https://blog.naver.com/mapview/MapView.nhn?blogId=cpflqmffor&skinType=&skinId=&from=menu\n",
      "24 58\n",
      "https://blog.naver.com/PostList.nhn?blogId=cpflqmffor&categoryNo=12&parentCategoryNo=12&skinType=&skinId=&from=menu\n",
      "23 59\n",
      "https://blog.naver.com/PostList.nhn?blogId=cpflqmffor&categoryNo=51&parentCategoryNo=51&skinType=&skinId=&from=menu\n",
      "22 60\n",
      "https://blog.naver.com/PostList.nhn?blogId=cpflqmffor&parentCategoryNo=51&skinType=&skinId=&from=menu\n",
      "21 61\n",
      "https://blog.naver.com/prologue/PrologueList.nhn?blogId=cpflqmffor&skinType=&skinId=&from=menu\n",
      "20 62\n",
      "https://blog.naver.com/prologue/PrologueList.nhn?blogId=cpflqmffor&parentCategoryNo=51\n",
      "19 63\n",
      "https://nid.naver.com/nidlogin.login?mode=form&url=https://blog.naver.com/cpflqmffor/221604798149\n",
      "18 64\n",
      "https://nid.naver.com/nidlogin.login?mode=form&url=https://blog.naver.com/cpflqmffor\n",
      "17 65\n",
      "https://blog.naver.com/MyBlog.nhn\n",
      "16 66\n",
      "https://blog.naver.com/prologue/PrologueList.nhn?blogId=cpflqmffor\n",
      "15 67\n",
      "https://blog.naver.com/noemisuh?Redirect=Log&logNo=221628595728\n",
      "30 68\n",
      "https://blogpfthumb-phinf.pstatic.net/20131116_4/noemisuh_1384567441988TPDCP_GIF/9.gif?type=s40\n",
      "https://outlook.live.com/actions/ei?u=http%3A%2F%2Fqt.swim.org%2Fuser_dir%2Flife%2Fimages%2Flogo_gray.gif&d=2019-08-26T01%3A00%3A37.147Z\n",
      "401\n",
      "Unauthorized\n",
      "{'User-Agent': 'Mozilla/5.0 (Windows NT 10.0; Win64; x64) AppleWebKit/537.36 (KHTML, like Gecko) Chrome/76.0.3809.132 Safari/537.36', 'Accept-Encoding': 'gzip, deflate', 'Accept': '*/*', 'Connection': 'keep-alive'}\n",
      "https://outlook.live.com/actions/ei?u=http%3A%2F%2Fqt.swim.org%2Fuser_dir%2Flife%2Fimages%2Flogo_gray.gif&d=2019-08-26T01%3A00%3A37.147Z\n",
      "https://blogimgs.pstatic.net/imgs/ico_n.gif\n",
      "https://rss.blog.naver.com/noemisuh.xml?atom=0.3\n",
      "26 72\n",
      "https://rss.blog.naver.com/noemisuh.xml?rss=1.0\n",
      "25 73\n",
      "https://rss.blog.naver.com/noemisuh.xml\n",
      "24 74\n",
      "https://blog.naver.com/PostList.nhn?blogId=noemisuh&categoryNo=162&from=postList&parentCategoryNo=0\n",
      "23 75\n",
      "https://blog.naver.com/noemisuh/221628595728\n",
      "22 76\n",
      "https://blog.naver.com/PostList.nhn?blogId=noemisuh&categoryNo=162&from=postList&parentCategoryNo=162\n",
      "21 77\n",
      "https://guestbook.blog.naver.com/guestbook/GuestBookList.nhn?blogId=noemisuh&skinType=&skinId=&from=menu\n",
      "20 78\n",
      "https://blog.naver.com/memo/MemologPostList.nhn?blogId=noemisuh&Redirect=MemoList&skinType=&skinId=&from=menu\n",
      "19 79\n",
      "https://blog.naver.com/PostList.nhn?blogId=noemisuh&skinType=&skinId=&from=menu\n",
      "18 80\n",
      "https://blog.naver.com/prologue/PrologueList.nhn?blogId=noemisuh&skinType=&skinId=&from=menu\n"
     ]
    },
    {
     "name": "stdout",
     "output_type": "stream",
     "text": [
      "17 81\n",
      "https://nid.naver.com/nidlogin.login?mode=form&url=https://blog.naver.com/noemisuh/221628595728\n",
      "16 82\n",
      "https://nid.naver.com/nidlogin.login?mode=form&url=https://blog.naver.com/noemisuh\n",
      "15 83\n",
      "https://blog.naver.com/PostList.nhn?blogId=noemisuh\n",
      "14 84\n",
      "https://ponciano.blog.me/221557473384\n",
      "13 85\n",
      "https://blog.aladin.co.kr/fallen77/10379774\n",
      "158 86\n",
      "https://blog.aladin.co.kr/fallen77/subscript\n",
      "157 87\n",
      "http://blog.aladin.co.kr/fallen77/10596838 \n",
      "156 88\n",
      "http://blog.aladin.co.kr/fallen77/10712191 \n",
      "155 89\n",
      "http://blog.aladin.co.kr/fallen77/10730613 \n",
      "154 90\n",
      "http://blog.aladin.co.kr/fallen77/10777274 \n",
      "153 91\n",
      "http://blog.aladin.co.kr/fallen77/10804923 \n",
      "152 92\n",
      "http://blog.aladin.co.kr/fallen77/10826916 \n",
      "151 93\n",
      "https://blog.aladin.co.kr/fallen77/10842140 \n",
      "150 94\n",
      "https://blog.aladin.co.kr/fallen77/10879296 \n",
      "149 95\n",
      "https://blog.aladin.co.kr/fallen77/10947079 \n",
      "148 96\n",
      "https://blog.aladin.co.kr/fallen77/11005363 \n",
      "147 97\n",
      "https://blog.aladin.co.kr/fallen77/11071125#C2921172\n",
      "146 98\n",
      "https://blog.aladin.co.kr/fallen77/11071125#C2921221\n",
      "145 99\n",
      "https://blog.aladin.co.kr/fallen77/11074846#C2922085\n",
      "144 100\n",
      "https://blog.aladin.co.kr/fallen77/10939453#C2922261\n",
      "143 101\n",
      "https://blog.aladin.co.kr/fallen77/10939453#C2922365\n",
      "142 102\n",
      "https://blog.aladin.co.kr/fallen77/11074846#C2922387\n",
      "141 103\n",
      "https://blog.aladin.co.kr/fallen77/11071125#C2922393\n",
      "140 104\n",
      "https://blog.aladin.co.kr/fallen77/11036235#C2922395\n",
      "139 105\n",
      "https://blog.aladin.co.kr/fallen77/10032493#C2922467\n",
      "138 106\n",
      "https://blog.aladin.co.kr/fallen77/11074846#C2923450\n",
      "137 107\n",
      "javascript:moveBlogDateURL()\n"
     ]
    },
    {
     "ename": "InvalidSchema",
     "evalue": "No connection adapters were found for 'javascript:moveBlogDateURL()'",
     "output_type": "error",
     "traceback": [
      "\u001b[1;31m---------------------------------------------------------------------------\u001b[0m",
      "\u001b[1;31mInvalidSchema\u001b[0m                             Traceback (most recent call last)",
      "\u001b[1;32m<ipython-input-140-bc8e01d256f9>\u001b[0m in \u001b[0;36m<module>\u001b[1;34m\u001b[0m\n\u001b[0;32m     22\u001b[0m     \u001b[0mvisitedURLs\u001b[0m\u001b[1;33m.\u001b[0m\u001b[0mappend\u001b[0m\u001b[1;33m(\u001b[0m\u001b[0murls\u001b[0m\u001b[1;33m)\u001b[0m\u001b[1;33m\u001b[0m\u001b[1;33m\u001b[0m\u001b[0m\n\u001b[0;32m     23\u001b[0m \u001b[1;33m\u001b[0m\u001b[0m\n\u001b[1;32m---> 24\u001b[1;33m     \u001b[0mresp\u001b[0m \u001b[1;33m=\u001b[0m \u001b[0mdownload\u001b[0m\u001b[1;33m(\u001b[0m\u001b[1;34m\"get\"\u001b[0m\u001b[1;33m,\u001b[0m \u001b[0murl\u001b[0m\u001b[1;33m,\u001b[0m \u001b[0mheaders\u001b[0m\u001b[1;33m=\u001b[0m\u001b[0mheaders\u001b[0m\u001b[1;33m)\u001b[0m\u001b[1;33m\u001b[0m\u001b[1;33m\u001b[0m\u001b[0m\n\u001b[0m\u001b[0;32m     25\u001b[0m \u001b[1;33m\u001b[0m\u001b[0m\n\u001b[0;32m     26\u001b[0m     \u001b[1;32mif\u001b[0m \u001b[1;32mnot\u001b[0m \u001b[0mresp\u001b[0m\u001b[1;33m:\u001b[0m\u001b[1;33m\u001b[0m\u001b[1;33m\u001b[0m\u001b[0m\n",
      "\u001b[1;32m<ipython-input-3-cd00bbb6f221>\u001b[0m in \u001b[0;36mdownload\u001b[1;34m(method, url, headers, params, retries)\u001b[0m\n\u001b[0;32m      7\u001b[0m                                 \u001b[0mheaders\u001b[0m\u001b[1;33m=\u001b[0m\u001b[0mheaders\u001b[0m\u001b[1;33m,\u001b[0m\u001b[1;33m\u001b[0m\u001b[1;33m\u001b[0m\u001b[0m\n\u001b[0;32m      8\u001b[0m                                 \u001b[0mparams\u001b[0m\u001b[1;33m=\u001b[0m\u001b[0mparams\u001b[0m \u001b[1;32mif\u001b[0m \u001b[0mmethod\u001b[0m\u001b[1;33m==\u001b[0m\u001b[1;34m\"get\"\u001b[0m \u001b[1;32melse\u001b[0m \u001b[1;33m{\u001b[0m\u001b[1;33m}\u001b[0m\u001b[1;33m,\u001b[0m\u001b[1;33m\u001b[0m\u001b[1;33m\u001b[0m\u001b[0m\n\u001b[1;32m----> 9\u001b[1;33m                                 \u001b[0mdata\u001b[0m \u001b[1;33m=\u001b[0m \u001b[0mparams\u001b[0m \u001b[1;32mif\u001b[0m \u001b[0mmethod\u001b[0m\u001b[1;33m==\u001b[0m\u001b[1;34m\"post\"\u001b[0m \u001b[1;32melse\u001b[0m \u001b[1;33m{\u001b[0m\u001b[1;33m}\u001b[0m\u001b[1;33m\u001b[0m\u001b[1;33m\u001b[0m\u001b[0m\n\u001b[0m\u001b[0;32m     10\u001b[0m                                )\n\u001b[0;32m     11\u001b[0m         \u001b[0mresp\u001b[0m\u001b[1;33m.\u001b[0m\u001b[0mraise_for_status\u001b[0m\u001b[1;33m(\u001b[0m\u001b[1;33m)\u001b[0m\u001b[1;33m\u001b[0m\u001b[1;33m\u001b[0m\u001b[0m\n",
      "\u001b[1;32m~\\Anaconda3\\lib\\site-packages\\requests\\api.py\u001b[0m in \u001b[0;36mrequest\u001b[1;34m(method, url, **kwargs)\u001b[0m\n\u001b[0;32m     58\u001b[0m     \u001b[1;31m# cases, and look like a memory leak in others.\u001b[0m\u001b[1;33m\u001b[0m\u001b[1;33m\u001b[0m\u001b[1;33m\u001b[0m\u001b[0m\n\u001b[0;32m     59\u001b[0m     \u001b[1;32mwith\u001b[0m \u001b[0msessions\u001b[0m\u001b[1;33m.\u001b[0m\u001b[0mSession\u001b[0m\u001b[1;33m(\u001b[0m\u001b[1;33m)\u001b[0m \u001b[1;32mas\u001b[0m \u001b[0msession\u001b[0m\u001b[1;33m:\u001b[0m\u001b[1;33m\u001b[0m\u001b[1;33m\u001b[0m\u001b[0m\n\u001b[1;32m---> 60\u001b[1;33m         \u001b[1;32mreturn\u001b[0m \u001b[0msession\u001b[0m\u001b[1;33m.\u001b[0m\u001b[0mrequest\u001b[0m\u001b[1;33m(\u001b[0m\u001b[0mmethod\u001b[0m\u001b[1;33m=\u001b[0m\u001b[0mmethod\u001b[0m\u001b[1;33m,\u001b[0m \u001b[0murl\u001b[0m\u001b[1;33m=\u001b[0m\u001b[0murl\u001b[0m\u001b[1;33m,\u001b[0m \u001b[1;33m**\u001b[0m\u001b[0mkwargs\u001b[0m\u001b[1;33m)\u001b[0m\u001b[1;33m\u001b[0m\u001b[1;33m\u001b[0m\u001b[0m\n\u001b[0m\u001b[0;32m     61\u001b[0m \u001b[1;33m\u001b[0m\u001b[0m\n\u001b[0;32m     62\u001b[0m \u001b[1;33m\u001b[0m\u001b[0m\n",
      "\u001b[1;32m~\\Anaconda3\\lib\\site-packages\\requests\\sessions.py\u001b[0m in \u001b[0;36mrequest\u001b[1;34m(self, method, url, params, data, headers, cookies, files, auth, timeout, allow_redirects, proxies, hooks, stream, verify, cert, json)\u001b[0m\n\u001b[0;32m    531\u001b[0m         }\n\u001b[0;32m    532\u001b[0m         \u001b[0msend_kwargs\u001b[0m\u001b[1;33m.\u001b[0m\u001b[0mupdate\u001b[0m\u001b[1;33m(\u001b[0m\u001b[0msettings\u001b[0m\u001b[1;33m)\u001b[0m\u001b[1;33m\u001b[0m\u001b[1;33m\u001b[0m\u001b[0m\n\u001b[1;32m--> 533\u001b[1;33m         \u001b[0mresp\u001b[0m \u001b[1;33m=\u001b[0m \u001b[0mself\u001b[0m\u001b[1;33m.\u001b[0m\u001b[0msend\u001b[0m\u001b[1;33m(\u001b[0m\u001b[0mprep\u001b[0m\u001b[1;33m,\u001b[0m \u001b[1;33m**\u001b[0m\u001b[0msend_kwargs\u001b[0m\u001b[1;33m)\u001b[0m\u001b[1;33m\u001b[0m\u001b[1;33m\u001b[0m\u001b[0m\n\u001b[0m\u001b[0;32m    534\u001b[0m \u001b[1;33m\u001b[0m\u001b[0m\n\u001b[0;32m    535\u001b[0m         \u001b[1;32mreturn\u001b[0m \u001b[0mresp\u001b[0m\u001b[1;33m\u001b[0m\u001b[1;33m\u001b[0m\u001b[0m\n",
      "\u001b[1;32m~\\Anaconda3\\lib\\site-packages\\requests\\sessions.py\u001b[0m in \u001b[0;36msend\u001b[1;34m(self, request, **kwargs)\u001b[0m\n\u001b[0;32m    638\u001b[0m \u001b[1;33m\u001b[0m\u001b[0m\n\u001b[0;32m    639\u001b[0m         \u001b[1;31m# Get the appropriate adapter to use\u001b[0m\u001b[1;33m\u001b[0m\u001b[1;33m\u001b[0m\u001b[1;33m\u001b[0m\u001b[0m\n\u001b[1;32m--> 640\u001b[1;33m         \u001b[0madapter\u001b[0m \u001b[1;33m=\u001b[0m \u001b[0mself\u001b[0m\u001b[1;33m.\u001b[0m\u001b[0mget_adapter\u001b[0m\u001b[1;33m(\u001b[0m\u001b[0murl\u001b[0m\u001b[1;33m=\u001b[0m\u001b[0mrequest\u001b[0m\u001b[1;33m.\u001b[0m\u001b[0murl\u001b[0m\u001b[1;33m)\u001b[0m\u001b[1;33m\u001b[0m\u001b[1;33m\u001b[0m\u001b[0m\n\u001b[0m\u001b[0;32m    641\u001b[0m \u001b[1;33m\u001b[0m\u001b[0m\n\u001b[0;32m    642\u001b[0m         \u001b[1;31m# Start time (approximately) of the request\u001b[0m\u001b[1;33m\u001b[0m\u001b[1;33m\u001b[0m\u001b[1;33m\u001b[0m\u001b[0m\n",
      "\u001b[1;32m~\\Anaconda3\\lib\\site-packages\\requests\\sessions.py\u001b[0m in \u001b[0;36mget_adapter\u001b[1;34m(self, url)\u001b[0m\n\u001b[0;32m    729\u001b[0m \u001b[1;33m\u001b[0m\u001b[0m\n\u001b[0;32m    730\u001b[0m         \u001b[1;31m# Nothing matches :-/\u001b[0m\u001b[1;33m\u001b[0m\u001b[1;33m\u001b[0m\u001b[1;33m\u001b[0m\u001b[0m\n\u001b[1;32m--> 731\u001b[1;33m         \u001b[1;32mraise\u001b[0m \u001b[0mInvalidSchema\u001b[0m\u001b[1;33m(\u001b[0m\u001b[1;34m\"No connection adapters were found for '%s'\"\u001b[0m \u001b[1;33m%\u001b[0m \u001b[0murl\u001b[0m\u001b[1;33m)\u001b[0m\u001b[1;33m\u001b[0m\u001b[1;33m\u001b[0m\u001b[0m\n\u001b[0m\u001b[0;32m    732\u001b[0m \u001b[1;33m\u001b[0m\u001b[0m\n\u001b[0;32m    733\u001b[0m     \u001b[1;32mdef\u001b[0m \u001b[0mclose\u001b[0m\u001b[1;33m(\u001b[0m\u001b[0mself\u001b[0m\u001b[1;33m)\u001b[0m\u001b[1;33m:\u001b[0m\u001b[1;33m\u001b[0m\u001b[1;33m\u001b[0m\u001b[0m\n",
      "\u001b[1;31mInvalidSchema\u001b[0m: No connection adapters were found for 'javascript:moveBlogDateURL()'"
     ]
    }
   ],
   "source": [
    "# 어제 만든 코드를 그대로 이용했다.\n",
    "\n",
    "URLs = list()\n",
    "# 이 url로 request를 보내면 바로 error가 난다.\n",
    "# 네이버 블로그에 이 url이 링크로 심어져있다. \n",
    "# visitedURLs에 미리 넣어두고 걸러낼거다.\n",
    "visitedURLs = [('http://security.naver.com/index.nhn', 1)] \n",
    "URLs.extend(naverResults)\n",
    "\n",
    "lastURL = \"\"\n",
    "\n",
    "# baseURL = \"blog.naver.com\"\n",
    "baseURL = [\"blog.naver.com\", \"post.naver.com\", \"m.naver.com\"]\n",
    "useBase = False\n",
    "\n",
    "useDepth = 3\n",
    "\n",
    "while URLs:\n",
    "    urls = URLs.pop(-1)\n",
    "    \n",
    "    url = urls[0]\n",
    "    depth = urls[1] + 1 \n",
    "    print(url)\n",
    "    \n",
    "    visitedURLs.append(urls)\n",
    "\n",
    "    resp = download(\"get\", url, headers=headers)\n",
    "    \n",
    "    if not resp:\n",
    "        if 500 <= resp.status_code < 600:\n",
    "            URLs.append(url)\n",
    "        continue\n",
    "    \n",
    "    # 이미지 스크래핑\n",
    "    if resp.headers[\"Content-Type\"].split(\"/\")[0] == \"image\":\n",
    "        imgTitle = resp.url.split(\"/\")[-1].replace(\"?\", \"\")\n",
    "        imgExt = ext[resp.headers[\"Content-Type\"].split(\"/\")[-1]]\n",
    "        with open(\"6일차_실습_image/\"+imgTitle+\".\"+imgExt, \"wb\") as fp:\n",
    "            fp.write(resp.content)\n",
    "        continue\n",
    "    else:\n",
    "        htmlTitle = resp.url.split(\"/\")[-1].replace(\"?\",\"\")\n",
    "        with open(\"6일차_실습_html/\"+htmlTitle+\".html\", \"w\", encoding=\"utf-8\") as fp:\n",
    "            fp.write(resp.text)\n",
    "        \n",
    "    \n",
    "    dom = BeautifulSoup(resp.text, \"lxml\")\n",
    "    \n",
    "    # Iframe 처리\n",
    "    for _ in [requests.compat.urljoin(url, _[\"src\"])\n",
    "             for _ in dom.select(\"iframe\") \n",
    "              if _.has_attr(\"src\") and \n",
    "                _.has_attr(\"id\") and\n",
    "                _[\"id\"] == \"mainFrame\"]:\n",
    "        iframe = download(\"get\", _, headers=headers)\n",
    "        iframeDom = BeautifulSoup(iframe.text, \"lxml\")\n",
    "    \n",
    "        links = [requests.compat.urljoin(url, _[\"href\"])  \n",
    "                 for _ in iframeDom.select(\"a\")\n",
    "                 if _.has_attr(\"href\") and \n",
    "                 requests.utils.urlparse(_[\"href\"])[2]]\n",
    "        \n",
    "        # 페이지 내에 image가 있으면 이미지 주소를 crawling 하는 부분.\n",
    "        links.extend([requests.compat.urljoin(url, _[\"src\"])\n",
    "                     for _ in iframeDom.select(\"img\")\n",
    "                     if _.has_attr(\"src\")])\n",
    "\n",
    "        for link in links:\n",
    "            if useBase and requests.utils.urlparse(link)[1] in baseURL:     \n",
    "                if link not in [_[0] for _ in URLs] and \\\n",
    "                    link not in [_[0] for _ in visitedURLs]:\n",
    "                    URLs.append((link, depth))\n",
    "            if depth < useDepth:\n",
    "                if link not in [_[0] for _ in URLs] and \\\n",
    "                    link not in [_[0] for _ in visitedURLs]:\n",
    "                    URLs.append((link, depth))\n",
    "    \n",
    "    # Link 처리\n",
    "    links = [requests.compat.urljoin(url, _[\"href\"])  \n",
    "             for _ in dom.select(\"a\")\n",
    "             if _.has_attr(\"href\") and \n",
    "             requests.utils.urlparse(_[\"href\"])[2]]\n",
    "        \n",
    "    for link in links:\n",
    "        if useBase and requests.utils.urlparse(link)[1] in baseURL:     \n",
    "            if link not in [_[0] for _ in URLs] and \\\n",
    "                link not in [_[0] for _ in visitedURLs]:\n",
    "                URLs.append((link, depth))\n",
    "        if depth < useDepth:\n",
    "            if link not in [_[0] for _ in URLs] and \\\n",
    "                link not in [_[0] for _ in visitedURLs]:\n",
    "                URLs.append((link, depth))\n",
    "    \n",
    "    print(len(URLs), len(visitedURLs))\n",
    "    \n",
    "#     if requests.utils.urlparse(url)[1]  == lastURL:\n",
    "#         time.sleep(random.randint(5, 10))\n",
    "    \n",
    "    lastURL = requests.utils.urlparse(url)[1] "
   ]
  },
  {
   "cell_type": "code",
   "execution_count": 136,
   "metadata": {},
   "outputs": [
    {
     "data": {
      "text/plain": [
       "'https://blog.naver.com/FILEPATH'"
      ]
     },
     "execution_count": 136,
     "metadata": {},
     "output_type": "execute_result"
    }
   ],
   "source": [
    "resp.url"
   ]
  },
  {
   "cell_type": "code",
   "execution_count": 141,
   "metadata": {},
   "outputs": [
    {
     "data": {
      "text/plain": [
       "'javascript:moveBlogDateURL()'"
      ]
     },
     "execution_count": 141,
     "metadata": {},
     "output_type": "execute_result"
    }
   ],
   "source": [
    "url"
   ]
  },
  {
   "cell_type": "markdown",
   "metadata": {},
   "source": [
    "---"
   ]
  },
  {
   "cell_type": "markdown",
   "metadata": {},
   "source": [
    "# 뽐뿌에서 실습\n",
    "#### 미션: 게시판에서 제목, 추천수, link를 가져온다.\n",
    "\n",
    "- https://ppomppu.co.kr\n",
    "- 국내 대형 커뮤니티 중 하나이다. (그럼에도 불구하고 거지같이 만들었다.)\n",
    "- 전형적인 한국형 웹사이트이다. (거지같이 만들었다.)\n",
    "- Not Well-foremd HTML이다. (거지같다는 뜻이다.)"
   ]
  },
  {
   "cell_type": "markdown",
   "metadata": {},
   "source": [
    "- 웹사이트를 잘 만들었는지 검사해주는 사이트\n",
    "- https://validator.w3.org/\n",
    "    - well-formed HTML인지 검사한다.\n",
    "    - HTML 태그가 제대로 닫혀있는지 등을 검사해준다.\n",
    "    - ppomppu가 Not Well-formed 웹사이트라는 것을 알 수 있다."
   ]
  },
  {
   "cell_type": "code",
   "execution_count": 142,
   "metadata": {},
   "outputs": [],
   "source": [
    "resp = download(\"get\", \"https://www.ppomppu.co.kr/zboard/zboard.php\",\n",
    "               headers=headers, params={\"id\":\"ppomppu\"})\n",
    "\n",
    "# Not Well-formed이면 \"lxml\" 파서보다 \"html.parser\" 파서가 더 좋다.\n",
    "dom = BeautifulSoup(resp.text, \"html.parser\")"
   ]
  },
  {
   "cell_type": "code",
   "execution_count": 144,
   "metadata": {},
   "outputs": [
    {
     "data": {
      "text/plain": [
       "'euc-kr'"
      ]
     },
     "execution_count": 144,
     "metadata": {},
     "output_type": "execute_result"
    }
   ],
   "source": [
    "# encoding이 euc-kr이다.  =>  비표준임.\n",
    "# encoding이 utf-8이 표준이 되었음.\n",
    "# 현재 쓰는 requests 패키지는 내부적으로 encoding을 처리해서 에러가 안나지만, \n",
    "# 하위 패키지를 사용하면 encoding 옵션을 안 바꿔주면 에러가 날 것이다. ex) urllib\n",
    "\n",
    "resp.encoding"
   ]
  },
  {
   "cell_type": "code",
   "execution_count": 148,
   "metadata": {},
   "outputs": [
    {
     "data": {
      "text/plain": [
       "(20, 20)"
      ]
     },
     "execution_count": 148,
     "metadata": {},
     "output_type": "execute_result"
    }
   ],
   "source": [
    "# class^=~ 는 \"~로 시작하는 클래스\" 라는 뜻이다.\n",
    "\n",
    "len([_ for _ in dom.select(\"tr[class^=list]\")\n",
    "    if not _.has_attr(\"id\")]), \\\n",
    "len(dom.select(\"tr.list0, tr.list1\"))"
   ]
  },
  {
   "cell_type": "code",
   "execution_count": 149,
   "metadata": {},
   "outputs": [],
   "source": [
    "tr = [_ for _ in dom.select(\"tr[class^=list]\")\n",
    "     if not _.has_attr(\"id\")]"
   ]
  },
  {
   "cell_type": "code",
   "execution_count": 161,
   "metadata": {},
   "outputs": [],
   "source": [
    "items = list()\n",
    "\n",
    "for _ in tr:\n",
    "    td = _.find_all(recursive=False)\n",
    "    title = td[3].select_one(\"a > font\").text\n",
    "    url = requests.compat.urljoin(resp.url, \n",
    "                                 td[3].select_one(\"a > font\").find_parent()[\"href\"])\n",
    "    # 추천수가 없을 수도 있으므로, 에러 처리한다.\n",
    "    hits = 0 if len(td[5].text) < 1 \\\n",
    "                   else td[5].text.split(\"-\")[0].strip()\n",
    "    \n",
    "    resp = download(\"get\", url)\n",
    "    itemDom = BeautifulSoup(resp.text, \"lxml\")\n",
    "    images = [requests.compat.urljoin(url, _[\"src\"]) \n",
    "             for _ in itemDom.select(\"td.board-contents img\")\n",
    "             if _.has_attr(\"src\")]\n",
    "\n",
    "    items.append({\"title\":title, \"url\":url, \"hits\":hits, \"img\":images})\n",
    "\n",
    "#     print(td[3].text.strip())\n",
    "#     print(td[5].text)\n",
    "#     print(td[3].select_one(\"a > font\").find_parent()[\"href\"])\n",
    "#     print(td[3].select_one(\"a > font\").text)\n",
    "#     print(td[5].text.split(\"-\"))\n",
    "#     break"
   ]
  },
  {
   "cell_type": "code",
   "execution_count": 162,
   "metadata": {},
   "outputs": [
    {
     "data": {
      "text/plain": [
       "[{'title': '[위메프]메디어스 마스크팩 30매 균일가(4900원/무료)',\n",
       "  'url': 'https://www.ppomppu.co.kr/zboard/zboard.php?id=ppomppu&page=1&divpage=57&no=328836',\n",
       "  'hits': '1',\n",
       "  'img': ['https://cdn.ppomppu.co.kr/zboard/data3/2019/0910/20190910154718_niqbtgmu.png',\n",
       "   'https://cdn.ppomppu.co.kr/zboard/data3/2019/0910/20190910154721_xzepsqix.png']},\n",
       " {'title': '[인터파크] 콜맨 아웃도어 웨건  (신한카드 96,800/배송비무료)',\n",
       "  'url': 'https://www.ppomppu.co.kr/zboard/zboard.php?id=ppomppu&page=1&divpage=57&no=328834',\n",
       "  'hits': '2',\n",
       "  'img': ['https://cdn.ppomppu.co.kr/zboard/data3/2019/0910/20190910143304_qwpzzqtl.jpeg',\n",
       "   'https://cdn.ppomppu.co.kr/zboard/data3/2019/0910/20190910144150_dyhhynfn.jpeg',\n",
       "   'https://cdn.ppomppu.co.kr/zboard/data3/2019/0910/20190910143353_plwonfwu.jpeg']},\n",
       " {'title': '[위메프] 마이크로소프트 Sculpt Ergonomic Mouse 무선 마우스 병행&벌크 (36,000/2,500)',\n",
       "  'url': 'https://www.ppomppu.co.kr/zboard/zboard.php?id=ppomppu&page=1&divpage=57&no=328833',\n",
       "  'hits': 0,\n",
       "  'img': ['https://cdn.ppomppu.co.kr/zboard/data3/2019/0910/20190910141525_giqptamw.png']},\n",
       " {'title': '[위메프] LG AI ThinQ 75형 UHD 4K 스마트 TV 75UK7400KNA (1,499,000원/무료)',\n",
       "  'url': 'https://www.ppomppu.co.kr/zboard/zboard.php?id=ppomppu&page=1&divpage=57&no=328831',\n",
       "  'hits': 0,\n",
       "  'img': ['https://cdn.ppomppu.co.kr/zboard/data3/2019/0910/20190910140159_hznqoyfd.png']},\n",
       " {'title': '[위메프]통 등갈비 2kg  고기천국 등갈비 1kg+1kg(11,990원/무료)',\n",
       "  'url': 'https://www.ppomppu.co.kr/zboard/zboard.php?id=ppomppu&page=1&divpage=57&no=328828',\n",
       "  'hits': '3',\n",
       "  'img': ['https://cdn.ppomppu.co.kr/zboard/data3/2019/0910/20190910132452_ckvmpidn.png',\n",
       "   'https://cdn.ppomppu.co.kr/zboard/data3/2019/0910/20190910132453_hcasztmk.png',\n",
       "   'https://cdn.ppomppu.co.kr/zboard/data3/2019/0910/20190910132453_lcikkcpt.png',\n",
       "   'https://cdn.ppomppu.co.kr/zboard/data3/2019/0910/20190910132454_mzdnhnfy.png',\n",
       "   'https://cdn.ppomppu.co.kr/zboard/data3/2019/0910/20190910132455_xvemwpca.png']},\n",
       " {'title': '[지마켓] 햇반컵반 콩나물국밥 4*3(12930/무료)',\n",
       "  'url': 'https://www.ppomppu.co.kr/zboard/zboard.php?id=ppomppu&page=1&divpage=57&no=328827',\n",
       "  'hits': '6',\n",
       "  'img': ['https://cdn.ppomppu.co.kr/zboard/data3/2019/0910/20190910125029_cqtswzzh.png']},\n",
       " {'title': '[옥션] LG모니터 27인치 QHD NANO-IPS 27GL850 (799,000/무료)',\n",
       "  'url': 'https://www.ppomppu.co.kr/zboard/zboard.php?id=ppomppu&page=1&divpage=57&no=328826',\n",
       "  'hits': '3',\n",
       "  'img': ['https://cdn.ppomppu.co.kr/zboard/data3/2019/0910/20190910122010_aspgdcmh.png']},\n",
       " {'title': '[네이버쇼핑]  하이드로겔 마스크팩 6종 체험 세트( 100원 /무료 )',\n",
       "  'url': 'https://www.ppomppu.co.kr/zboard/zboard.php?id=ppomppu&page=1&divpage=57&no=328825',\n",
       "  'hits': '113',\n",
       "  'img': ['https://cdn.ppomppu.co.kr/zboard/data3/2019/0910/20190910122052_wqosomvv.jpg',\n",
       "   'https://cdn.ppomppu.co.kr/zboard/data3/2019/0910/20190910122653_zosyhbry.jpg']},\n",
       " {'title': '끌올 [옥션] 잘풀리는집 순수프리미엄 30m 30롤 2팩 (16,900원/무료)',\n",
       "  'url': 'https://www.ppomppu.co.kr/zboard/zboard.php?id=ppomppu&page=1&divpage=57&no=328824',\n",
       "  'hits': '9',\n",
       "  'img': ['https://cdn.ppomppu.co.kr/zboard/data3/2019/0910/20190910115745_hzhwxose.jpg']},\n",
       " {'title': '[티몬] [1212타임] 3D 풀커버강화유리필름/9H 강화유리필름1+1+1+1+1 (2,500/무료)',\n",
       "  'url': 'https://www.ppomppu.co.kr/zboard/zboard.php?id=ppomppu&page=1&divpage=57&no=328822',\n",
       "  'hits': '4',\n",
       "  'img': ['https://cdn.ppomppu.co.kr/zboard/data3/2019/0910/20190910115815_ussnsaza.jpg']},\n",
       " {'title': '[쿠팡] 토리 생수병 미니 가습기 (22,900 / 무료)',\n",
       "  'url': 'https://www.ppomppu.co.kr/zboard/zboard.php?id=ppomppu&page=1&divpage=57&no=328821',\n",
       "  'hits': '0',\n",
       "  'img': ['https://cdn.ppomppu.co.kr/zboard/data3/2019/0910/20190910113028_bbdkwyof.png',\n",
       "   'https://cdn.ppomppu.co.kr/zboard/data3/2019/0910/20190910113035_uwfxevbf.png']},\n",
       " {'title': '(gs shop] 이진욱 몽골피에 남여공용 구스다운 롱코트 NNZ4FP1991(149,000/0)',\n",
       "  'url': 'https://www.ppomppu.co.kr/zboard/zboard.php?id=ppomppu&page=1&divpage=57&no=328820',\n",
       "  'hits': '2',\n",
       "  'img': ['https://cdn.ppomppu.co.kr/zboard/data3/2019/0910/20190910113348_xufbtcxg.png']},\n",
       " {'title': '[ssg] sk매직 직수 얼음정수기 wpu-i210c (1,370,837/무료)',\n",
       "  'url': 'https://www.ppomppu.co.kr/zboard/zboard.php?id=ppomppu&page=1&divpage=57&no=328819',\n",
       "  'hits': 0,\n",
       "  'img': ['https://cdn.ppomppu.co.kr/zboard/data3/2019/0910/20190910113137_ymuovswg.jpg']},\n",
       " {'title': '[위�Y] 죠스떡볶이 1만원권(8,500/0)',\n",
       "  'url': 'https://www.ppomppu.co.kr/zboard/zboard.php?id=ppomppu&page=1&divpage=57&no=328818',\n",
       "  'hits': 0,\n",
       "  'img': ['https://cdn.ppomppu.co.kr/zboard/data3/2019/0910/20190910112816_pgarfqry.jpg']},\n",
       " {'title': '[G9]센트룸 멀티비타민 실버 남녀 275정 1+1선택(총550정) (51400/무배)+추가카드할인',\n",
       "  'url': 'https://www.ppomppu.co.kr/zboard/zboard.php?id=ppomppu&page=1&divpage=57&no=328817',\n",
       "  'hits': '5',\n",
       "  'img': ['https://cdn.ppomppu.co.kr/zboard/data3/2019/0910/20190910110818_bngmtaox.png',\n",
       "   'https://cdn.ppomppu.co.kr/zboard/data3/2019/0910/20190910110819_psqchtkm.png',\n",
       "   'https://cdn.ppomppu.co.kr/zboard/data3/2019/0910/20190910110820_bpbalefv.png',\n",
       "   'https://cdn.ppomppu.co.kr/zboard/data3/2019/0910/20190910110820_yinegrfb.png']},\n",
       " {'title': '[옥션] 쟌슨빌소시지 1810g+쉬림프너겟(21,900/무배) 등급쿠폰 적용시 19,710원',\n",
       "  'url': 'https://www.ppomppu.co.kr/zboard/zboard.php?id=ppomppu&page=1&divpage=57&no=328816',\n",
       "  'hits': '16',\n",
       "  'img': ['https://cdn.ppomppu.co.kr/zboard/data3/2019/0910/20190910110605_xuhasxof.png',\n",
       "   'https://cdn.ppomppu.co.kr/zboard/data3/2019/0910/20190910110603_ofdqlmhi.png',\n",
       "   'https://cdn.ppomppu.co.kr/zboard/data3/2019/0910/20190910110608_makewsbc.png']},\n",
       " {'title': '[밴드기프트샵] 이디야아메리카노(2,400/0)',\n",
       "  'url': 'https://www.ppomppu.co.kr/zboard/zboard.php?id=ppomppu&page=1&divpage=57&no=328815',\n",
       "  'hits': '13',\n",
       "  'img': ['https://cdn.ppomppu.co.kr/zboard/data3/2019/0910/20190910110341_lsmkrstd.png']},\n",
       " {'title': '[FLO] 스트리밍 2개월간 100원, 세번째달 정기결제 (3개월 8100원 /0)',\n",
       "  'url': 'https://www.ppomppu.co.kr/zboard/zboard.php?id=ppomppu&page=1&divpage=57&no=328813',\n",
       "  'hits': 0,\n",
       "  'img': ['https://cdn.ppomppu.co.kr/zboard/data3/2019/0910/20190910105546_hhuslqbv.png']},\n",
       " {'title': '[11번가] LG노트북 15UD490-GX76K (597,650원/무료)',\n",
       "  'url': 'https://www.ppomppu.co.kr/zboard/zboard.php?id=ppomppu&page=1&divpage=57&no=328811',\n",
       "  'hits': '3',\n",
       "  'img': []},\n",
       " {'title': '[현대몰] 바이오린클 미생음식물 처리기 (649000원/무료)기간한정',\n",
       "  'url': 'https://www.ppomppu.co.kr/zboard/zboard.php?id=ppomppu&page=1&divpage=57&no=328810',\n",
       "  'hits': 0,\n",
       "  'img': ['https://cdn.ppomppu.co.kr/zboard/data3/2019/0910/20190910103841_sdnvhtit.png',\n",
       "   'https://cdn.ppomppu.co.kr/zboard/data3/2019/0910/20190910103846_gceqbvax.png',\n",
       "   'https://cdn.ppomppu.co.kr/zboard/data3/2019/0910/20190910103850_pzldwdrq.png']}]"
      ]
     },
     "execution_count": 162,
     "metadata": {},
     "output_type": "execute_result"
    }
   ],
   "source": [
    "items"
   ]
  },
  {
   "cell_type": "markdown",
   "metadata": {},
   "source": [
    "### 추가 미션"
   ]
  },
  {
   "cell_type": "code",
   "execution_count": 165,
   "metadata": {},
   "outputs": [
    {
     "data": {
      "text/plain": [
       "['4900']"
      ]
     },
     "execution_count": 165,
     "metadata": {},
     "output_type": "execute_result"
    }
   ],
   "source": [
    "# title에서 가격만 가져오기\n",
    "import re\n",
    "re.findall(r\"\\(\\s*([0-9,.]+)\", items[0][\"title\"])"
   ]
  },
  {
   "cell_type": "code",
   "execution_count": 172,
   "metadata": {},
   "outputs": [
    {
     "name": "stdout",
     "output_type": "stream",
     "text": [
      "4900\n",
      "96800\n",
      "36000\n",
      "1499000\n",
      "11990\n",
      "12930\n",
      "799000\n",
      "100\n",
      "16900\n",
      "2500\n",
      "22900\n",
      "149000\n",
      "1370837\n",
      "8500\n",
      "51400\n",
      "21900\n",
      "2400\n",
      "3\n",
      "597650\n",
      "649000\n"
     ]
    }
   ],
   "source": [
    "for _ in items:\n",
    "    print(re.findall(r\"\\([^0-9]*([0-9,.]+)\", _[\"title\"])[-1].replace(\",\", \"\"))\n",
    "#     print(_[\"title\"])"
   ]
  },
  {
   "cell_type": "markdown",
   "metadata": {},
   "source": [
    "---\n",
    "\n"
   ]
  },
  {
   "cell_type": "markdown",
   "metadata": {},
   "source": [
    "# 과제: 뽐뿌 자유게시판\n",
    "- 제목, 링크, 댓글 가져오기."
   ]
  },
  {
   "cell_type": "markdown",
   "metadata": {},
   "source": [
    "### 과제 최종\n",
    "- 중간 과정은 아래에 있음."
   ]
  },
  {
   "cell_type": "code",
   "execution_count": 299,
   "metadata": {},
   "outputs": [],
   "source": [
    "url =\"http://www.ppomppu.co.kr/zboard/zboard.php?id=freeboard\"\n",
    "resp = download(\"get\", url, headers=headers)\n",
    "dom = BeautifulSoup(resp.text, \"html.parser\")\n",
    "tr = [_ for _ in dom.select(\"tr[class^=list]\") if not _[\"class\"] == [\"list_notice\"]]\n",
    "\n",
    "results = []\n",
    "\n",
    "for _ in tr:\n",
    "    title = _.select(\"td\")[2].select_one(\"a\").text\n",
    "    link = requests.compat.urljoin(url, \n",
    "                                  _.select(\"td\")[2].select_one(\"a\")[\"href\"])\n",
    "    # 댓글 있는지 확인하고 가져오기\n",
    "    if not tr[0].select(\"td\")[2].select(\".list_comment2\"):\n",
    "        linkResp = download(\"get\", link, headers=headers)\n",
    "        linkDom = BeautifulSoup(linkResp.text, \"html.parser\")\n",
    "        comments = [(_.select_one(\"b a\").text, _.select_one(\".han\").text) for _ in linkDom.select(\".comment_wrapper\")]\n",
    "    else:\n",
    "        comments = []\n",
    "        \n",
    "    result = {\"title\":title, \"link\":link, \"comments\":comments}\n",
    "    results.append(result)"
   ]
  },
  {
   "cell_type": "code",
   "execution_count": 300,
   "metadata": {
    "scrolled": true
   },
   "outputs": [
    {
     "data": {
      "text/plain": [
       "[{'title': '주거지 열람 제한 쉽네요.',\n",
       "  'link': 'http://www.ppomppu.co.kr/zboard/zboard.php?id=freeboard&page=1&divpage=1236&no=6624867',\n",
       "  'comments': []},\n",
       " {'title': '일본 보이그룹이 한국 등 아시아에서 먹히지 않는 이유???',\n",
       "  'link': 'http://www.ppomppu.co.kr/zboard/zboard.php?id=freeboard&page=1&divpage=1236&no=6624866',\n",
       "  'comments': [('조가라그내', '일본에도 잘생긴 애들 많던데 쟤들은 뭔지'),\n",
       "   ('뽐뿌가쟈', '무슨 만화인줄.... 오버하지마'),\n",
       "   ('까칠단혼', '왜저러는 걸까요...'),\n",
       "   ('', '합격보다 웃음에 중점을 둔 출연 아닐까....하네요'),\n",
       "   ('sekai', '밑엔 그니마 봐줄만 하네요\\n몇살이길래\\n\\xa0'),\n",
       "   ('우리결국했어요', '내 손발...'),\n",
       "   ('더블핫팩', '문복이 가면 탑 먹겠는데요 ㅎ\\xa0'),\n",
       "   ('파란돌맹', 'ㅋㅋ 코미디 프로그램인가보네요'),\n",
       "   ('', '쟤넨\\xa0 남아이돌은 호스트 같음'),\n",
       "   ('', '아..주먹이 운다..')]},\n",
       " {'title': '와.. 닭발 기사 이제 봤는데 진짜 충격적이네요.',\n",
       "  'link': 'http://www.ppomppu.co.kr/zboard/zboard.php?id=freeboard&page=1&divpage=1236&no=6624865',\n",
       "  'comments': []},\n",
       " {'title': '뇌파에서 기억을 뽑을수만 있다면',\n",
       "  'link': 'http://www.ppomppu.co.kr/zboard/zboard.php?id=freeboard&page=1&divpage=1236&no=6624864',\n",
       "  'comments': [('', '나는 썩었어..'),\n",
       "   ('', '인간은 망각의 동물이기때문에 진화한건대\\n망각을 없애면 퇴화되죠.'),\n",
       "   ('', '어떤부분이요???'),\n",
       "   ('주유비', '뇌파에는 기억이 없죠 그냥 전기적 파동')]},\n",
       " {'title': '헐~~ 탑골공원에 장윤정 나와요',\n",
       "  'link': 'http://www.ppomppu.co.kr/zboard/zboard.php?id=freeboard&page=1&divpage=1236&no=6624863',\n",
       "  'comments': [('', '탈태환골'), ('강윤중', 'ㅋㅋㅋㅋ머리 멋지네요\\xa0')]},\n",
       " {'title': '이번 이마트 대란 취소 안되신분 계신가요?',\n",
       "  'link': 'http://www.ppomppu.co.kr/zboard/zboard.php?id=freeboard&page=1&divpage=1236&no=6624862',\n",
       "  'comments': [('아사쿠사아', '다들 취소 안되고 받았어도 쉬쉬 하고 계실껄요'),\n",
       "   ('', '3개 아이디 주문 1개는 취소 확정\\n2개는 낼 받아봐야 알듯.'),\n",
       "   ('고쳐주세요', '5개햇는데4개취소됨'),\n",
       "   ('loidlore', '저는 6개 주문하고 아직 취소는 안당했네요..\\n배달은 12일에 해달라고 했어요!'),\n",
       "   ('해뽐러', '뭐가 또 대란이었나요'),\n",
       "   ('막나라', '아 쉬쉬...그렇군요!'),\n",
       "   ('', '받았다고 자랑하던\\n스팸120개 ㅋㅋ 이분이 욕쳐먹는거 보고\\n아무도 자랑하시는분 없을듯 ㅎㅎㅎㅎㅎㅎ'),\n",
       "   ('막나라', '저도 그 내일이라서 어떻게 되련지....'),\n",
       "   ('아사쿠사아', '사실 쉬쉬할 이유도 없지만 그 고액분들은 좀 그렇죠 흠;;'),\n",
       "   ('막나라', '위추드려요...ㅠ'),\n",
       "   ('막나라', '6...6개 씩이나... 두구두구두구 과연...')]},\n",
       " {'title': '뿌리펌 고민',\n",
       "  'link': 'http://www.ppomppu.co.kr/zboard/zboard.php?id=freeboard&page=1&divpage=1236&no=6624861',\n",
       "  'comments': [('Nemain', '가격보다도 샵 선생님을 잘 만나야...\\n\\n\\n')]},\n",
       " {'title': '유열의 음악앨범 어때요?',\n",
       "  'link': 'http://www.ppomppu.co.kr/zboard/zboard.php?id=freeboard&page=1&divpage=1236&no=6624860',\n",
       "  'comments': [('', '별로에요.\\n\\xa0'),\n",
       "   ('우리결국했어요', '지루하고..내용도 뻔하고\\n제목 뽑으려고 유열 끼워넣은 느낌'),\n",
       "   ('두마리고양이', '보려고 하시는 영화 둘 다 평이 별로임')]},\n",
       " {'title': '한국 교육에 꼭 필요한 과정... 그러나..',\n",
       "  'link': 'http://www.ppomppu.co.kr/zboard/zboard.php?id=freeboard&page=1&divpage=1236&no=6624859',\n",
       "  'comments': [('로댜라이', '시스템을 악용하믄 나베같은 애들이 문제')]},\n",
       " {'title': '토스정답 3000',\n",
       "  'link': 'http://www.ppomppu.co.kr/zboard/zboard.php?id=freeboard&page=1&divpage=1236&no=6624858',\n",
       "  'comments': []},\n",
       " {'title': '타짜1 저평가 받는 명대사',\n",
       "  'link': 'http://www.ppomppu.co.kr/zboard/zboard.php?id=freeboard&page=1&divpage=1236&no=6624857',\n",
       "  'comments': [('빅맨홀맨', '12년전이라 혜수누님은 젊은시절이군여\\xa0'),\n",
       "   ('', '이대 나온 여자야는 저평가가 아니라 고�y가 받고 많이 나옴'),\n",
       "   ('익호돌이', '고니를 아냐구요? 제가아는 타짜중에 최고였어요\\n\\xa0\\n\\xa0'),\n",
       "   ('red_panda', '\"마포대교는 무너졌냐 이새끼야\"'),\n",
       "   ('호무새', '나한테 화내지마!!'),\n",
       "   ('', '묻고 떠블로 가'),\n",
       "   ('red_panda', '\"늑대새끼가 어떻게 개 밑으로 들어갑니까\"'),\n",
       "   ('', '묻고 더블로 가!!'),\n",
       "   ('red_panda', '\"예림이 그 패 봐봐, 혹시 장이야?\"'),\n",
       "   ('우쥬노마넴', '어이 선장 바둑 몇급둬?')]},\n",
       " {'title': '진안 무뼈 닭발....... 다 먹고 맛있다고. 또 시켜 달라고 한게 어제 였는데.........',\n",
       "  'link': 'http://www.ppomppu.co.kr/zboard/zboard.php?id=freeboard&page=1&divpage=1236&no=6624856',\n",
       "  'comments': [('happysmile', '어제도 먹었는데ㅜㅜ\\n진안도 걸렸나요?'),\n",
       "   ('roTmfprlrkxdmssha', '이게 그건진 모르겠어요.... 전국적으로 엄청 많이 유통 된 듯 해요.... ㅜㅜ')]},\n",
       " {'title': '왜 배스킨라빈스는 매장에서 종이용기를 쓰는건가요',\n",
       "  'link': 'http://www.ppomppu.co.kr/zboard/zboard.php?id=freeboard&page=1&divpage=1236&no=6624855',\n",
       "  'comments': [('녹차생크림단팥빵', '알바생은 일하기 좋겠군요.'),\n",
       "   ('', '플라스틱만 금지고 종이는 됩니다\\xa0\\n간혹 카페중에도 종이컵에 주는곳 있어요'),\n",
       "   ('우리결국했어요',\n",
       "    '기본컨셉이 카페가 아니라서(같이 팔긴하지만) 애초부터 대부분의 매장이 제대로된 시설이 없거나 작게 설계되었을듯'),\n",
       "   ('', '판매량 종이컵수랑 맞춰본다고 ㅋㅋ'),\n",
       "   ('고쳐주세요', '그런가요....하긴 유리에 푸면 힘들됴'),\n",
       "   ('고쳐주세요', '그렇군욤...ㅜㅜ'),\n",
       "   ('고쳐주세요', 'ㅋㅋㅋㅋ그럴듯ㅅ하네여...')]},\n",
       " {'title': '오늘 진구와 도라에몽 목장이야기 샀는데 ㅎㅎ 기대되네요.',\n",
       "  'link': 'http://www.ppomppu.co.kr/zboard/zboard.php?id=freeboard&page=1&divpage=1236&no=6624854',\n",
       "  'comments': [('업비트빗썸고팍스', '스위치에 일본겜..'),\n",
       "   ('', '이시기엔 좀 참으시지..'),\n",
       "   ('', '그래픽 동화같구 예쁘더라구요')]},\n",
       " {'title': '정자게 분리 잘한거죠?',\n",
       "  'link': 'http://www.ppomppu.co.kr/zboard/zboard.php?id=freeboard&page=1&divpage=1236&no=6624853',\n",
       "  'comments': [('', '그러나 일터질때마다 정자게글이 핫게가서 영 그렇네요..'),\n",
       "   ('18391sh', '어떤분들은 전도활동해야되는데 못하니까 불편할듯 정치는 생활이다 하면서'),\n",
       "   ('로댜라이', '포농이 뻘글쓰러 자게오는 느낌 증가'),\n",
       "   ('익명익룡', '진작 했어야 했죠 근데 아직도 자게에 청치글 올리는 정치병자들이 있어서 문제죠'),\n",
       "   ('결코시간은멈춰질수없다', '처음엔 반대했는데 지금보니 잘한듯'),\n",
       "   ('', '짱짱맨'),\n",
       "   ('미미한냥덕', '누가봐도 정치글인데 아니라고 우기면서 너는 옮겨라 나는 써라 하는글들만 빼면 그나마 다행이죠'),\n",
       "   ('', '쇼핑하러와서 정치글만보니 노잼'),\n",
       "   ('두마리고양이', '인기글, 핫게만 막으면 완벽해집니다'),\n",
       "   ('', '일부러 자게에 올리는 인간들 좀 처벌했으면 하네요'),\n",
       "   ('미미한냥덕', '그냥 열심히 옮기는 수 밖에요')]},\n",
       " {'title': '배민에서  주로  뭐시켜드세요?',\n",
       "  'link': 'http://www.ppomppu.co.kr/zboard/zboard.php?id=freeboard&page=1&divpage=1236&no=6624852',\n",
       "  'comments': [('노돌', '할인많이해주는거요'),\n",
       "   ('수마수', '배민은...시켜본적이없어서....요기요만쓰네영...'),\n",
       "   ('오르테가', '싼거요'),\n",
       "   ('', '해물찜'),\n",
       "   ('부산강냉이', '더하기 쿠폰 있었을때\\n동네 국밥집 국밥 2개 9천원에 배달시켜먹었습니다'),\n",
       "   ('happysmile', '중식, 햄버거, 일식초밥류, 곱창, 분식 정도요'),\n",
       "   ('만만87', '치킨이죠ㅎㅎ'),\n",
       "   ('오늘하늘맑음', '주문수 정렬해서 리뷰보고 골라보세요 ㅋ'),\n",
       "   ('조가라그내', '어플써서 제값주고 시키는거 아닙니다. 질이나 양이 떨어져요'),\n",
       "   ('우체국', '아무거나 다 할인 다는거면\\n평소에 할인 안하는거 중에 시킵니다'),\n",
       "   ('바닐라라떼죠아', '어제\\xa0 배민어떤분이\\xa0 첫주문\\xa0 할인쿠폰\\xa0 나눔해주셔서요\\xa0 그거쓸려구요\\xa0 ㅎ'),\n",
       "   ('바닐라라떼죠아', '싼게최고죠\\xa0\\xa0'),\n",
       "   ('바닐라라떼죠아', '굿\\xa0 ~해물찜땡기네요\\xa0\\xa0'),\n",
       "   ('바닐라라떼죠아',\n",
       "    '국밥먹기에는\\xa0 흠\\xa0 배가부르네요\\xa0 직원식당에입맛저격하는반찬이나와서\\xa0 고봉밥을\\xa0 먹어서\\xa0 ㅎ\\xa0 ㅎ')]},\n",
       " {'title': '국내기업 유일무이한 전범기업 아시나요?',\n",
       "  'link': 'http://www.ppomppu.co.kr/zboard/zboard.php?id=freeboard&page=1&divpage=1236&no=6624851',\n",
       "  'comments': [('고쳐주세요', '조수애 가 여기 아들이라우결혼하지않앗나오'),\n",
       "   ('해뽐러', '사람이 먼저다!'),\n",
       "   ('슈퍼CEO', '두산 나쁜짓 겁나 많이했죠. 박가분 장난질부터 페놀사건, 두산인프라코어 정리해고 등'),\n",
       "   ('아사쿠사아', '생각보다 두산에 대한 글은 잘 안올라오드라구요'),\n",
       "   ('', '구조조정은 신입부터'),\n",
       "   ('베레타38', '전범기업의 정의를 잘못 알고 계신거 아닌가요'),\n",
       "   ('초콜릿프라푸치노', '전범기업 뜻 검색 좀 요')]},\n",
       " {'title': '엘지폰이라 이모양인지. 아.',\n",
       "  'link': 'http://www.ppomppu.co.kr/zboard/zboard.php?id=freeboard&page=1&divpage=1236&no=6624850',\n",
       "  'comments': [('부드러운여행용티슈', '전원버튼이랑 음량 마이너스 같이누르세요'),\n",
       "   ('에이스21', '감사합니다 전원 자동 오프온하네요. ㅜㅜ\\n역시뽐뿌인\\xa0'),\n",
       "   ('금위군',\n",
       "    'G3cat6 사용할 때 무한부팅의 저주 걸리고 난 후 LG 스마트폰과는 인연 끊었습니다.\\n티비, 냉장고, 컴터등의 가전제품은 LG가 좋더군요.\\n스마트폰은 전혀 아닙니다.\\n중국제보다 못한게 LG스마트폰입니다.\\n\\xa0\\n차라리 샤오미 스마트폰이 훨씬 더 나을 겁니다.\\n삼성폰>아이폰>중국 샤오미폰>>>>>>>LG폰 순서 같네요...ㅡ.ㅡ;'),\n",
       "   ('재가이',\n",
       "    'V30 1년6개월 썼는데... 나름 괜찮았지만.. 이번 업데이트 이후로 다시는 엘지 안쓰려구요\\n\\xa0\\n아 중고폰으로 구매하긴 싸서 좋아요 ^^')]},\n",
       " {'title': '청와대 국민청원 참여 부탁드립니다.',\n",
       "  'link': 'http://www.ppomppu.co.kr/zboard/zboard.php?id=freeboard&page=1&divpage=1236&no=6624849',\n",
       "  'comments': [('IT전문가',\n",
       "    '보통 인솔자면 프리라서 외주 사업자 같은 위치라 아마 병원비등을 받기 힘들껍니다.\\n\\xa0\\n그게 아니라면 법적으로 충분히 받을수 있을 꺼구요. 글을 읽어보니 법적으론 방법이 없어 도리상으로 해결해야하는 경우 같은데.\\n\\xa0\\n\\n회사입장에선 프리를 고용하는 것이 다 그런것까지 생각하고 계약하는거라....\\n')]},\n",
       " {'title': '카페에서 일회용 허용해주면 좋겠네요',\n",
       "  'link': 'http://www.ppomppu.co.kr/zboard/zboard.php?id=freeboard&page=1&divpage=1236&no=6624848',\n",
       "  'comments': [('우리결국했어요',\n",
       "    '종이컵은 허용인데요;;\\n\\xa0\\n그냥 유명 프렌차이즈 등에서 법 취지에 맞게 안쓰는거 아닐까요'),\n",
       "   ('', '종이도 문제 됩니다.\\xa0'),\n",
       "   ('암커밍', '따뜻한건 종이컵에 나오자나요 보통'),\n",
       "   ('더블핫팩', '까통법 짜증나죠 ㅋㅋㅋ\\xa0'),\n",
       "   ('조가라그내', '어차피 종이컵도 다 플라스틱 코팅 돼 있자나여? 비닐로'),\n",
       "   ('로댜라이', '둘아 싫어요 어차피 쓰레기고 환경생각하면 별롭니다.'),\n",
       "   ('boaid', '스벅가니 머그컵으로 주던데요\\n매장내에서는 안된다고'),\n",
       "   ('우리결국했어요',\n",
       "    \"이와 관련 현행법에서는 종이컵은 규제 대상이 아니다. 일회용 컵 사용의 경우 자원재활용법 제41조와 시행령에 따라 5만~200만원의 과태료를 부과할 수 있지만 종이컵은 포함되지 않는다. 이에 일각에서는 '플라스틱 사용을 줄이자'는 정책 취지가 무색해진다는 비판의 목소리도 나오고 있다.\\n\\n\\xa0\\n\\n\\n\\xa0\\n\\n\\n그니깐 그 체인이 그냥 종이컵도 환경문제로 빼버린거죠\\n\"),\n",
       "   ('뽐뿌가쟈',\n",
       "    '사실 지금 너무 불편함... 미국 다녀온 거 보면 미국 스타벅스는 예전 우리나라처럼 플라스틱컵에다 빨대 사용하고있음 ;; 우리나만 유난'),\n",
       "   ('우리결국했어요',\n",
       "    '더 못사는 나라도 하고있는 나라가 있죠..\\n미국은 정말 쓰레기 생산으로는 전세계1등 아닐까요;;\\n\\xa0\\n거긴 컵홀더도 보통 이중컵으로 쓰잖아요;;')]},\n",
       " {'title': '솔직히 이마트 요즘 문제많아 안가고 있는데',\n",
       "  'link': 'http://www.ppomppu.co.kr/zboard/zboard.php?id=freeboard&page=1&divpage=1236&no=6624847',\n",
       "  'comments': [('무소라', '취소자 많은데요ㄷㄷㄷ')]},\n",
       " {'title': '혈압주의 : 제주 카니발 가해자 구속영장기각',\n",
       "  'link': 'http://www.ppomppu.co.kr/zboard/zboard.php?id=freeboard&page=1&divpage=1236&no=6624846',\n",
       "  'comments': [('결코시간은멈춰질수없다', '헐 ㄷ ㄷ 제주경찰은 진짜....'),\n",
       "   ('조가라그내', '그냥 단순폭행 벌금형으로 끝나나 봅니다. 저러니 계속 저런인간들이 날뛰고 지랄들이지 공론화가 되도 저지랄'),\n",
       "   ('Nemain', '판사나 견찰이나..'),\n",
       "   ('슈퍼클릭2', '와 미쳐가는구나 세상이....!!!\\n피해자분 생각하면 너무 화가 나네요...'),\n",
       "   ('블랙핑크지수', '영장기각은 판사가하는데?\\xa0'),\n",
       "   ('행복우체부', '판새나 견찰이나...\\xa0'),\n",
       "   ('탁구왕홍만이', '영장은 판사가 기각하는데 댓글들 왜이래 ㅡㅡ'),\n",
       "   ('절약-재테크-주식', '경찰\\n검사\\n판사\\xa0\\n\\xa0\\n다 썩은건가?'),\n",
       "   ('', '기각이랜다;; 참 개같네;;\\n앞으로 칼치기해놓고 사람 줘패는 사건 얼마나 더 일어날까;'),\n",
       "   ('훙잉', '이렇게 크게 이슈되도 저따위니 변하는게 없는거임')]},\n",
       " {'title': '자취할때 해먹을 음식!',\n",
       "  'link': 'http://www.ppomppu.co.kr/zboard/zboard.php?id=freeboard&page=1&divpage=1236&no=6624845',\n",
       "  'comments': [('수리문제야', '참치김치찌개 엄청 간단하고 든든하게 먹기 좋쥬!'),\n",
       "   ('암커밍', '백종원 유튜브에서 골라보세요'),\n",
       "   ('109황구',\n",
       "    '저는 김치 10kg 사놓고 김치찌개/된장찌개/소고기무국/콩나물국/미역국 주마다해서 돌려먹고 반찬은 반찬가게에서 삽니다..한번 사두면 일주일씩은 먹으니 한주에 3~4만원이면 버티더라구요'),\n",
       "   ('', '계란후라이\\xa0\\n목우촌햄 1kg\\n\\xa0\\n\\xa0'),\n",
       "   ('IT전문가', '김치, 계란 , 스팸이 생활에 아주큰 도움이 될껍니다..'),\n",
       "   ('부산강냉이',\n",
       "    '참치미역국\\n계란후라이\\n동네 시장서 3팩 오천원 반찬 일주일 로테이션\\n뒷다리살 3근 만원 + 마트 양념장, 양파, 다진마늘 넣고 제육볶음\\xa0\\n고추참치 야채참치 캔\\n3분짜장,카레\\n스파게티 (라면은 절대 드시지마시길)\\n비비고 만두')]},\n",
       " {'title': '파이어폭스 잘 아시는분',\n",
       "  'link': 'http://www.ppomppu.co.kr/zboard/zboard.php?id=freeboard&page=1&divpage=1236&no=6624844',\n",
       "  'comments': [('미미한냥덕', '계정만들어서 동기화하세요'),\n",
       "   ('클랜데스틴', '네 html파일로 보내기 가능합니다\\n북마크 쪽에 가면 있습니다')]},\n",
       " {'title': '서울대의 위엄 . jpg',\n",
       "  'link': 'http://www.ppomppu.co.kr/zboard/zboard.php?id=freeboard&page=1&divpage=1236&no=6624843',\n",
       "  'comments': [('이또르', '서울대는 공부에 특화된 괴물들만 모인 곳이니 당연한 결과 같은데요'),\n",
       "   ('유연하늬', '원래 그래요, 새삼스럽게'),\n",
       "   ('', '사법시험쪽도 서울대가 거의 독점했죠... 그게 폐단이라서 문제였죠,'),\n",
       "   ('오잉어', '20살에 어떻게 서울대 3학년이 되죠 ㄷㄷ'),\n",
       "   ('슈퍼CEO', '우리나라도 사실 서울대가 이끌어가는거죠. 프랑스 그랑제꼴이랑 다름없죠.'),\n",
       "   ('그녀의팔길이는두뼘', '마치 이런거같아요\\n물\\xa0 콜라 우유를 갖다두고 우유에 칼슘이 많네요~!!!'),\n",
       "   ('우리결국했어요', '저러면 보통 서울대생 아니면 힘없을듯;;'),\n",
       "   ('', '와 단대생....'),\n",
       "   ('음향초보', '와 21살에 행시를 ㄷㄷㄷ'),\n",
       "   ('사냥가자', '역시 s대'),\n",
       "   ('', '빠른 생일에 만나이까지 계산했나보죠'),\n",
       "   ('Yeswecan', '알아보니 경북과학고 조기졸업및 서울대 조기입학생 ... 수재\\xa0')]},\n",
       " {'title': '세후 월300이면 모병제 가능하다 VS 불가능하다',\n",
       "  'link': 'http://www.ppomppu.co.kr/zboard/zboard.php?id=freeboard&page=1&divpage=1236&no=6624842',\n",
       "  'comments': [('kknd', '아이고 의미없다....'),\n",
       "   ('오잉어', '초봉 세후 월300이면 대기업 수준인데요.\\xa0'),\n",
       "   ('그녀의팔길이는두뼘', '엄청잘돌아가죠 세후 200좀 넘게 받아도 장기근무원하는 부사관들도 경쟁에 치여 다떨어져나가는데요'),\n",
       "   ('조가라그내', '돌아가죠 이것저것 수당에 복지에 혜택도 많은데'),\n",
       "   ('', '초봉이 월 세후 300이면,,,4000좀 넘는다는 얘긴데,,\\n지원자는 많을거 같은데,,,감당할 재원이 없겠네요,,ㅎ'),\n",
       "   ('Vonder', '할사람 넘쳐요.'),\n",
       "   ('', '저러면 시험봐서 들어가야될걸요?'),\n",
       "   ('고쳐주세요', '월300이면 미친거아닌가...\\n대한민국평균이 월200도안되는데'),\n",
       "   ('아나이것참', '바본가? 아님 어그로?'),\n",
       "   ('muying', '경찰고시보다 군인고시가 더 치열하겠네요.'),\n",
       "   ('유연하늬', '월 200 넘습니다. 옛날 통계이신듯'),\n",
       "   ('블랙핑크지수', '3300쯤됩니다 평균은'),\n",
       "   ('빅맨홀맨', '200은 넘어도 평균 3300은 안되요'),\n",
       "   ('블랙핑크지수',\n",
       "    'https://m.blog.naver.com/rngustn3262/221508823834\\n\\xa0\\n뉴스검색만해도3300조금넘어요'),\n",
       "   ('블랙핑크지수', '지금도 시험은봅니다 ㅋㅋ\\xa0')]},\n",
       " {'title': '\"키 작을수록 성인 당뇨병 발병 확률 높아\"',\n",
       "  'link': 'http://www.ppomppu.co.kr/zboard/zboard.php?id=freeboard&page=1&divpage=1236&no=6624841',\n",
       "  'comments': [('사랑한다고말해주세요', '에휴 어차피 일찍 죽을거 살아서 무엇하나.............. ㅠㅠ'),\n",
       "   ('', '키작은 것도 서러운데 당뇨위험까지 높네\\xa0\\n더러운 세상...'),\n",
       "   ('무소라', '수명도 짧은가ㄷㄷㄷ'),\n",
       "   ('조가라그내',\n",
       "    '극한 상황이 오면 키큰 사람이 에너지 소비가 많아서 금방 죽을걸요? 지금같은 사회에선 키작은것도 질병으로 분류해서 혜택줘야 함\\n남자한테 까이고 여자한테 까이고 여기저기 무시당하고 자신감은 개뿔 어릴때부터 당하고만 살면 성격만 삐뚤어짐'),\n",
       "   ('번개발', '근데 장수하는건 작은쪽'),\n",
       "   ('뽐뿌가쟈', '장수는 작은키...')]},\n",
       " {'title': '연휴가 짧아서 혹시나 했는데.. 내일 정상근무..',\n",
       "  'link': 'http://www.ppomppu.co.kr/zboard/zboard.php?id=freeboard&page=1&divpage=1236&no=6624840',\n",
       "  'comments': [('러스티라이언', '연차붙여쓰지도 못하게 하네요 ㅋ')]},\n",
       " {'title': '추석때 윷놀이 하고 놀면 그렇게 재밌던데ㅋㅋ',\n",
       "  'link': 'http://www.ppomppu.co.kr/zboard/zboard.php?id=freeboard&page=1&divpage=1236&no=6624839',\n",
       "  'comments': [('', '용돈이 걸려있으면...'),\n",
       "   ('별그넘', '그냥 하면 재미없고 인당 만원 걸고 하면 더 재밌던데요 ㅎ'),\n",
       "   ('팬더!',\n",
       "    '요즘엔 그런 거 안 하더군요 ㅠㅠ\\n초딩들 조련하려면 브롤스타즈 라는 게임 추천드립니다\\n저도 벌써 걱정이네요 초딩어택 어케 감당할지 ㅠㅠ'),\n",
       "   ('금위군',\n",
       "    '고려~조선시대때 윷놀이 때문에 사회적인 문제가 된 적이 많았다고 합니다.\\n농사는 안 짓고 밤새워서 남녀가 함께 모여서 놀다보니\\xa0\\n\\n조선시대때 윷놀이 때문에 윷놀이 금지령이 내려진 적이 몇 번 있었죠.\\n\\n\\n단속도 �坪鎌求鳴� 명절이외는 못하게 금지시킨적도 있었습니다.\\n\\n요즘에야 놀거리가 많았지만 그 당시엔 아주 재미난 놀이+도박이었죠.\\n\\n\\n'),\n",
       "   ('ManInTheBox',\n",
       "    '걍 10만원 출자해서 1등 5만 2등 3만 3등 2만약 한시간 동안 가족들의 마음을 살수가 있죠.세상에 공짜는 없습니다.')]},\n",
       " {'title': '이마트 주소지 변경 해서 전부 다 도착했네요',\n",
       "  'link': 'http://www.ppomppu.co.kr/zboard/zboard.php?id=freeboard&page=1&divpage=1236&no=6624838',\n",
       "  'comments': [('', '결과로는 승자 축하드려요'),\n",
       "   ('업비트빗썸고팍스', '저도 혹시나해서 시간 변경했는데 1개도착 2개는 아직 취소 안되고있네요'),\n",
       "   ('', 'ㅋㅋㅋㅋㅋㅋㅋㅋㅋㅋㅋㅋㅋㅋㅋㅋㅋㅋㅋㅋㅋㅋㅋㅋㅋㅋㅋㅋㅋㅋㅋㅋㅋ\\n\\xa0\\n축하요'),\n",
       "   ('남녀칠세마동석!', '얼마 이득본거에요?'),\n",
       "   ('강윤중', '축하드려요 !!! 주소지변경으로 성공하시다닝.... ㅠㅠ..부럽스'),\n",
       "   ('비공개님', 'ㅊㅋ')]}]"
      ]
     },
     "execution_count": 300,
     "metadata": {},
     "output_type": "execute_result"
    }
   ],
   "source": [
    "results"
   ]
  },
  {
   "cell_type": "markdown",
   "metadata": {},
   "source": [
    "> 아래는 위 과제 결과에 이르기 까지의 과정입니다."
   ]
  },
  {
   "cell_type": "code",
   "execution_count": 291,
   "metadata": {},
   "outputs": [],
   "source": [
    "url =\"http://www.ppomppu.co.kr/zboard/zboard.php?id=freeboard\"\n",
    "resp = download(\"get\", url, headers=headers)\n",
    "dom = BeautifulSoup(resp.text, \"html.parser\")"
   ]
  },
  {
   "cell_type": "code",
   "execution_count": 301,
   "metadata": {},
   "outputs": [
    {
     "data": {
      "text/plain": [
       "30"
      ]
     },
     "execution_count": 301,
     "metadata": {},
     "output_type": "execute_result"
    }
   ],
   "source": [
    "# 공지사항을 제외하고 게시판 목록을 가져온다.\n",
    "\n",
    "tr = [_ for _ in dom.select(\"tr[class^=list]\") if not _[\"class\"] == [\"list_notice\"]]\n",
    "len(tr)"
   ]
  },
  {
   "cell_type": "code",
   "execution_count": 302,
   "metadata": {},
   "outputs": [
    {
     "data": {
      "text/plain": [
       "'배민에서  주로  뭐시켜드세요?'"
      ]
     },
     "execution_count": 302,
     "metadata": {},
     "output_type": "execute_result"
    }
   ],
   "source": [
    "title = tr[15].select(\"td\")[2].select_one(\"a\").text\n",
    "title"
   ]
  },
  {
   "cell_type": "code",
   "execution_count": 303,
   "metadata": {},
   "outputs": [
    {
     "data": {
      "text/plain": [
       "[]"
      ]
     },
     "execution_count": 303,
     "metadata": {},
     "output_type": "execute_result"
    }
   ],
   "source": [
    "# 댓글이 있는지 없는지 확인 => list_comment2가 없으면 댓글 없음.\n",
    "# 제목 옆에 댓글 갯수임.\n",
    "\n",
    "tr[0].select(\"td\")[2].select(\".list_comment2\")"
   ]
  },
  {
   "cell_type": "code",
   "execution_count": 304,
   "metadata": {},
   "outputs": [
    {
     "data": {
      "text/plain": [
       "'15'"
      ]
     },
     "execution_count": 304,
     "metadata": {},
     "output_type": "execute_result"
    }
   ],
   "source": [
    "# 댓글이 있으면 span의 text를 찍으면 된다.\n",
    "\n",
    "tr[15].select(\"td\")[2].select_one(\".list_comment2 > span\").text"
   ]
  },
  {
   "cell_type": "code",
   "execution_count": 305,
   "metadata": {},
   "outputs": [
    {
     "data": {
      "text/plain": [
       "'http://www.ppomppu.co.kr/zboard/zboard.php?id=freeboard&page=1&divpage=1236&no=6624852'"
      ]
     },
     "execution_count": 305,
     "metadata": {},
     "output_type": "execute_result"
    }
   ],
   "source": [
    "# link는 urljoin까지 해야 완성형 url이 된다.\n",
    "\n",
    "link = tr[15].select(\"td\")[2].select_one(\"a\")[\"href\"]\n",
    "link = requests.compat.urljoin(url, link)\n",
    "link"
   ]
  },
  {
   "cell_type": "code",
   "execution_count": 306,
   "metadata": {},
   "outputs": [],
   "source": [
    "# 댓글을 얻기 위해서 link를 들어간다.\n",
    "\n",
    "linkResp = download(\"get\", link, headers=headers)\n",
    "linkDom = BeautifulSoup(linkResp.text, \"html.parser\")"
   ]
  },
  {
   "cell_type": "code",
   "execution_count": 331,
   "metadata": {},
   "outputs": [
    {
     "name": "stdout",
     "output_type": "stream",
     "text": [
      "div\n",
      "[<a href=\"#\" onclick=\"return false\">노돌</a>]\n",
      "div\n",
      "[<a href=\"#\" onclick=\"return false\">수마수</a>]\n",
      "div\n",
      "[<a href=\"#\" onclick=\"return false\">오르테가</a>]\n",
      "div\n",
      "[<a href=\"#\" onclick=\"return false\"><img align=\"absmiddle\" alt=\"까칠한쉘든\" border=\"0\" src=\"//nic.ppomppu.co.kr/zboard/nickcon/63223.gif?v=201909101749\" vspace=\"5\"/></a>]\n",
      "div\n",
      "[<a href=\"#\" onclick=\"return false\">부산강냉이</a>]\n",
      "div\n",
      "[<a href=\"#\" onclick=\"return false\">happysmile</a>]\n",
      "div\n",
      "[<a href=\"#\" onclick=\"return false\">만만87</a>]\n",
      "div\n",
      "[<a href=\"#\" onclick=\"return false\">오늘하늘맑음</a>]\n",
      "div\n",
      "[<a href=\"#\" onclick=\"return false\">조가라그내</a>]\n",
      "div\n",
      "[<a href=\"#\" onclick=\"return false\">우체국</a>]\n",
      "div\n",
      "[<a href=\"#\" onclick=\"return false\">바닐라라떼죠아</a>]\n",
      "div\n",
      "[<a href=\"#\" onclick=\"return false\">바닐라라떼죠아</a>]\n",
      "div\n",
      "[<a href=\"#\" onclick=\"return false\">바닐라라떼죠아</a>]\n",
      "div\n",
      "[<a href=\"#\" onclick=\"return false\">바닐라라떼죠아</a>]\n"
     ]
    }
   ],
   "source": [
    "for _ in linkDom.select(\".comment_wrapper\"):\n",
    "    print(_.name)\n",
    "    print(_.select(\"b a\"))"
   ]
  },
  {
   "cell_type": "code",
   "execution_count": null,
   "metadata": {},
   "outputs": [],
   "source": []
  },
  {
   "cell_type": "code",
   "execution_count": null,
   "metadata": {},
   "outputs": [],
   "source": []
  }
 ],
 "metadata": {
  "kernelspec": {
   "display_name": "Python 3",
   "language": "python",
   "name": "python3"
  },
  "language_info": {
   "codemirror_mode": {
    "name": "ipython",
    "version": 3
   },
   "file_extension": ".py",
   "mimetype": "text/x-python",
   "name": "python",
   "nbconvert_exporter": "python",
   "pygments_lexer": "ipython3",
   "version": "3.7.3"
  }
 },
 "nbformat": 4,
 "nbformat_minor": 2
}
