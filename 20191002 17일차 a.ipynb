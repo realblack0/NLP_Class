{
 "cells": [
  {
   "cell_type": "markdown",
   "metadata": {},
   "source": [
    "**용어**\n",
    "- BM25 (= BM11 + 14)\n",
    "    - 현존 가장 좋은 알고리즘\n",
    "    - 루씬, 엘라스틱서치에서 사용함.\n",
    "    - 확률 기반(Prob)\n",
    "- "
   ]
  },
  {
   "cell_type": "markdown",
   "metadata": {},
   "source": [
    "**들리는대로 일단 써!**\n",
    "- p(d,q)는 ni라고 한다.\n",
    "- IDF = log N/ni  -> 확률에서는 이렇게 표현한다.\n",
    "- BM25는 TF-IDF의 변형이기도 하지만, 실제 만들어진 백그라운드가 확률 기반에서 나온 모델이다.\n",
    "    - 기존 모델에 부가적인 정보를 더해보자 해서 만들어짐.\n",
    "- P(D|R,q) P(R,q) / P(d|R(머리 위에 바), q), P(R(머리 위에 바), q)\n",
    "    - odds\n",
    "    - logistic regression으로 분류\n",
    "    - "
   ]
  },
  {
   "cell_type": "markdown",
   "metadata": {},
   "source": [
    "### BM25\n",
    "- https://en.wikipedia.org/wiki/Okapi_BM25\n",
    "- 확률 기반이므로 score 자체가 곧 relevance이다. 따로 similarity 계산할 필요없이 바로 soriting만 하면 된다."
   ]
  },
  {
   "attachments": {
    "image.png": {
     "image/png": "[encoded data removed]"
    }
   },
   "cell_type": "markdown",
   "metadata": {},
   "source": [
    "![image.png](attachment:image.png)\n",
    "- 기존 모델\n",
    "---"
   ]
  },
  {
   "attachments": {
    "image.png": {
     "image/png": "[encoded data removed]"
    }
   },
   "cell_type": "markdown",
   "metadata": {},
   "source": [
    "![image.png](attachment:image.png)\n",
    "- BM25\n",
    "- 뒤에 덧붙은 식이 부가적인 정보\n",
    "- 덧붙은 식을 앞뒤로 나눠서 11, 14라고 함 (합쳐서 25라고 함)"
   ]
  },
  {
   "cell_type": "code",
   "execution_count": 4,
   "metadata": {},
   "outputs": [
    {
     "name": "stderr",
     "output_type": "stream",
     "text": [
      "C:\\Users\\JINHYO\\Anaconda3\\lib\\site-packages\\jpype\\_core.py:210: UserWarning: \n",
      "-------------------------------------------------------------------------------\n",
      "Deprecated: convertStrings was not specified when starting the JVM. The default\n",
      "behavior in JPype will be False starting in JPype 0.8. The recommended setting\n",
      "for new code is convertStrings=False.  The legacy value of True was assumed for\n",
      "this session. If you are a user of an application that reported this warning,\n",
      "please file a ticket with the developer.\n",
      "-------------------------------------------------------------------------------\n",
      "\n",
      "  \"\"\")\n"
     ]
    }
   ],
   "source": [
    "from konlpy.corpus import kobill\n",
    "from konlpy.tag import Kkma\n",
    "from struct import pack, unpack\n",
    "from collections import defaultdict\n",
    "\n",
    "\n",
    "Lexicon = defaultdict(lambda:{\"ptr\":-1, \"df\":0})\n",
    "# 단어:{위치, 총몇개의문서}\n",
    "\n",
    "Documents = defaultdict(lambda:{\n",
    "    \"length\":0.0, \"ttf\":0, \"max\":0})\n",
    "# 문서:(문서벡터의길이, 총몇개의단어, 이문서에서가장많이나온단어의빈도)\n",
    "# ttf = total term frequency\n",
    "\n",
    "DocumentsList = list()\n",
    "# 인덱스:문서의제목\n",
    "\n",
    "kkma = Kkma()\n",
    "# 형태소분석기(꼬꼬마)\n",
    "\n",
    "fp = open(\"inverted.dat\", \"wb\")\n",
    "# TDM(frequency)\n",
    "\n",
    "for docName in kobill.fileids():\n",
    "    # Local\n",
    "    document = kobill.open(docName).read() # 개별문서\n",
    "    localPostings = defaultdict(int) # 각 문서의 TDM(Vector)\n",
    "    # 문서정보 저장\n",
    "    DocID = len(DocumentsList) # 문서의 제목 -> 숫자\n",
    "    DocumentsList.append(docName) # 해당 숫자(위치)  제목 저장\n",
    "    # 각 문서에서 색인어 추출 방식 (형태소분석기, 형태소의길이로정규화)\n",
    "    for term in [_ for _ in kkma.morphs(document)\n",
    "              if 1 < len(_) < 6]:\n",
    "        localPostings[term] += 1\n",
    "        # 문서 벡터 생성 (열 단어:빈도)\n",
    "    # 문서의 통계정보 저장 => for weight\n",
    "    Documents[DocID][\"ttf\"] = sum(localPostings.values())\n",
    "    Documents[DocID][\"max\"] = max(localPostings.values())\n",
    "    # Global\n",
    "    for term, freq in localPostings.items():\n",
    "        ptr = Lexicon[term][\"ptr\"]\n",
    "        # 1. 단어가 첫 등장: 위치 ptr=-1\n",
    "        # 2. 단어가 있을 때, ptr= 마지막 저장 위치\n",
    "        postingPtr= fp.tell()\n",
    "        # 파일의 어느 위치에 저장하는 지 \n",
    "        fp.write(pack(\"iii\", DocID, freq, ptr))\n",
    "        # 구조체를 저장(int, int, int)\n",
    "        Lexicon[term][\"ptr\"] = postingPtr\n",
    "        # 1.1 위치 변경 : 파일의 위치\n",
    "        Lexicon[term][\"df\"] += 1\n",
    "        # for IDF\n",
    "        \n",
    "fp.close()"
   ]
  },
  {
   "cell_type": "code",
   "execution_count": 6,
   "metadata": {},
   "outputs": [
    {
     "name": "stdout",
     "output_type": "stream",
     "text": [
      "{6: {'각도': 2990.2534692300214, '단어수': 1803}}\n",
      "행정절차법 일부개정법률안\n",
      "\n",
      "(유선호의원 대표발의 )\n",
      "{9: {'각도': 607.1829559418804, '단어수': 1855}}\n",
      "결혼중개업의 관리에 관한 법률 일부개정법률안\n",
      "\n",
      "(한선교의원 대표발의 )\n",
      "{5: {'각도': 407.28006795344237, '단어수': 346}}\n",
      "하도급거래 공정화에 관한 법률 일부개정법률안\n",
      "\n",
      "(유선호의원 대표발의 )\n",
      "{3: {'각도': 404.6064009602216, '단어수': 893}}\n",
      "남녀고용평등과 일 ·가정 양립 지원에 관한 법률 \n",
      "\n",
      "일부개정법률안\n",
      "{1: {'각도': 395.07560184860904, '단어수': 883}}\n",
      "국가공무원법 일부개정법률안\n",
      "\n",
      "(정의화의원 대표발의 )\n",
      "{0: {'각도': 385.76766016398534, '단어수': 883}}\n",
      "지방공무원법 일부개정법률안\n",
      "\n",
      "(정의화의원 대표발의 )\n",
      "{2: {'각도': 369.5576948854862, '단어수': 1039}}\n",
      "교육공무원법 일부개정법률안\n",
      "\n",
      "(정의화의원 대표발의 )\n",
      "{7: {'각도': 357.7175587667044, '단어수': 672}}\n",
      "국군부대의 아랍에미리트(UAE)군 교육훈련 지원 등에 \n",
      "관한 파견 동의안\n",
      "\n",
      "{8: {'각도': 316.6549664702179, '단어수': 642}}\n",
      "국군부대의 소말리아 해역 파견연장 동의안\n",
      "\n",
      "의안\n",
      "{4: {'각도': 247.26542701760593, '단어수': 213}}\n",
      "고등교육법 일부개정법률안\n",
      "\n",
      "(안상수의원 대표발의 )\n"
     ]
    }
   ],
   "source": [
    "# 3. BM25\n",
    "from math import log\n",
    "\n",
    "Query = \"현행법은 입법예고와 행정예고를 통하여 정책 결정 과정에\"\n",
    "Query = kobill.open('1809896.txt').read()\n",
    "\n",
    "queryTerms = [_ for _ in kkma.morphs(Query)\n",
    "              if 1 < len(_) < 6]\n",
    "\n",
    "searchResult = defaultdict(float)\n",
    "fp = open(\"inverted.dat\", \"rb\")\n",
    "\n",
    "k = 1.2\n",
    "b = 0.75\n",
    "N = len(DocumentsList)\n",
    "sumDocLength = sum([_[\"ttf\"] for _ in Documents.values()]) \n",
    "avgDocLength = sumDocLength/N\n",
    "    \n",
    "for term in queryTerms:\n",
    "    ptr = Lexicon[term][\"ptr\"]\n",
    "    df = Lexicon[term][\"df\"]\n",
    "    while ptr != -1:\n",
    "        fp.seek(ptr)\n",
    "        _struct = unpack(\"iii\", fp.read(4*3))\n",
    "        docID = _struct[0]\n",
    "        termFreq = _struct[1]\n",
    "        docLength = Documents[docID][\"ttf\"]\n",
    "        TF = (termFreq*(k+1))/(termFreq+k*(1-b+b*(docLength/avgDocLength)))\n",
    "        IDF = log(1+(N-df+0.5)/(df+0.5))\n",
    "        searchResult[_struct[0]] += TF*IDF\n",
    "        ptr = _struct[-1]\n",
    "fp.close()\n",
    "\n",
    "for d, dist in {_[0]:_[1]\n",
    "                for _ in sorted(searchResult.items(), \n",
    "                                key=lambda r:r[1], \n",
    "                                reverse=True)}.items():\n",
    "    print({d:{\"각도\":dist, \"단어수\": Documents[d][\"ttf\"]}})\n",
    "    print(\"\\n\".join(kobill.open(DocumentsList[d]).read().\\\n",
    "                     splitlines()[:3]))"
   ]
  },
  {
   "cell_type": "markdown",
   "metadata": {},
   "source": [
    "---"
   ]
  },
  {
   "cell_type": "markdown",
   "metadata": {},
   "source": [
    "### 다음주 할거 (맛보기)"
   ]
  },
  {
   "cell_type": "code",
   "execution_count": 12,
   "metadata": {},
   "outputs": [],
   "source": [
    "from os import listdir\n",
    "fileids = lambda: [\"practice/8일차_실습_project/헤드라인/\" + _ for _\n",
    "                  in listdir(\"practice/8일차_실습_project/헤드라인/\")\n",
    "                  if _.split(\".\")[-1] == \"txt\"\n",
    "                  and len(_.split(\"-\")) > 1]"
   ]
  },
  {
   "cell_type": "code",
   "execution_count": 14,
   "metadata": {},
   "outputs": [
    {
     "data": {
      "text/plain": [
       "144"
      ]
     },
     "execution_count": 14,
     "metadata": {},
     "output_type": "execute_result"
    }
   ],
   "source": [
    "len(fileids())"
   ]
  },
  {
   "cell_type": "code",
   "execution_count": 17,
   "metadata": {},
   "outputs": [],
   "source": [
    "def read(file):\n",
    "    with open(file, \"r\", encoding=\"utf-8\") as fp:\n",
    "        doc = fp.read()\n",
    "    return doc"
   ]
  },
  {
   "cell_type": "code",
   "execution_count": 19,
   "metadata": {},
   "outputs": [
    {
     "data": {
      "text/plain": [
       "[('포드', 'NNG'), ('머', 'MAG'), ('스텡', 'UN'), ('불', 'XPN'), ('리트', 'NNG')]"
      ]
     },
     "execution_count": 19,
     "metadata": {},
     "output_type": "execute_result"
    }
   ],
   "source": [
    "# 고유명사인데 분리시키는 문제가 있음.\n",
    "# POS만 쓸수는 없음\n",
    "# N-gram 같이 쓰면 해결될 것!\n",
    "# 모든 tokenize는 하나만 써서 성능이 잘 나올 수 없음! 자기가 잘 섞어 써야지!\n",
    "\n",
    "from konlpy.tag import Kkma\n",
    "Kkma().pos(\"포드 머스텡 불리트\")"
   ]
  },
  {
   "cell_type": "markdown",
   "metadata": {},
   "source": [
    "## 복습\n",
    "\n",
    "**전처리** => RE\n",
    "\n",
    "**Tokenizing**\n",
    "    - split (원시 어절)\n",
    "    - sent_tokenize\n",
    "    - word_tokenize(구두점 분리한 어절)\n",
    "    - regexp_tokenize => re\n",
    "    - N-gram(어절, 음절), BPE(Stemming, 어간분리)\n",
    "    - Lemmatization(어근분리, 우리는 따로 안했음)->Morpheme Analyzer(with POS)\n",
    "    \n",
    "**Normalization**\n",
    "    -zipf(Text객체, freq=비율)\n",
    "    - -> 고빈도, 저빈도, 중빈도(10%)\n",
    "    -토큰의 길이, 품사로 정규화(조사, 어미, .. X)\n",
    "\n",
    "**Parse Tree**\n",
    "    -NP, Vp => 명사구"
   ]
  },
  {
   "cell_type": "code",
   "execution_count": 21,
   "metadata": {},
   "outputs": [
    {
     "data": {
      "text/plain": [
       "'// flash 오류를 우회하기 위한 함수 추가\\nfunction _flash_removeCallback() {}\\n\\nCJ ENM 및 JTBC.국내 동영상스트리밍서비스(OTT) 시장을 둘러싼 싸움이 대전으로 번지고 있다. 지상파 방송 3사(KBSㆍMBCㆍSBS)와 거대 통신사 SK텔레콤이 합작 OTT 웨이브의 출범(18일)을 알리자마자 국내 대표 케이블채널 사업자인 CJ ENM과 JTBC가 합작 OTT 설립을 발표했다. OTT를 중심으로 한 국내 방송업계 재편이 급물살을 타게 됐다.CJ ENM과 JTBC는 통합 OTT 합작법인을 내년 초까지 출범시키겠다는 내용의 양해각서(MOU)를 체결했다고 17일 밝혔다. 합작법인은 CJ ENM이 1대 주주이며, JTBC가 2대 주주로 참여한다. 통합 OTT는 CJ ENM이 운영하는 OTT 티빙을 기반으로 이뤄질 예정이다. CJ ENM은 인기 케이블채널 tvN과 OCN, 엠넷 등을 보유하고 있는 방송업계 강자다. JTBC는 종합편성(종편) 채널 중 매출액이 가장 높은 방송시장의 신흥 강호다.CJ ENM과 JTBC의 통합 OTT 설립 논의는 지난해부터 이뤄졌다. 세계 최대 OTT인 넷플릭스가 지난해부터 드라마 ‘킹덤’ 등 국내 콘텐츠 투자에 본격적으로 나서면서부터다. 픽사와 마블 등을 거린 월트 디즈니의 OTT 디즈니플러스가 내년 한국 진출을 예고한 점도 두 회사의 연합을 재촉했다. CJ ENM과 JTBC는 ‘미스터 션샤인’과 ‘스카이캐슬’ 등 자사 인기 콘텐츠의 판권을 넷플릭스에 판매하는 식으로 OTT시장에 진출하는 전략을 취해 왔었다. 국내 동영상 시장이 OTT 위주로 급속히 재편되자 합작 법인 설립으로 전략을 급선회하게 됐다. 웨이브의 출범도 두 회사의 ‘동맹’에 큰 영향을 준 것으로 보인다. JTBC 관계자는 “방송ㆍ영상 사업은 속도를 가늠하기 어려울 정도로 빠르게 변화하고 있다”며 “결국 차별화된 콘텐츠를 끊임없이 생산할 뿐만 아니라, 적절히 유통할 수 이는 시스템 구축이 필수적“이라고 밝혔다.두 회사는 콘텐츠에서 상대적 우위를 차지하고 있다. CJ ENM은 시가총액 1억9,000억원대인 국내 최대 드라마 제작사 스튜디오드래곤을 자회사로 두고 있다. 예능프로그램 ‘삼시세끼’ 등의 나영석, 드라마 ‘응답하라’ 시리즈의 신원호 등 스타 PD들이 CJ ENM에 소속돼 있다. CJ ENM은 영화 ‘명량’과 ‘극한직업’ ‘국제시장’ 등을 투자배급한 영화계 큰손이기도 하다. JTBC는 예능프로그램 ‘냉장고를 부탁해’와 ‘썰전’ 등을 방영하며 콘텐츠 경쟁력을 키워왔다.두 회사의 연합으로 전통적인 의미의 방송사 개념도 사라지게 됐다. 방송시장에서 경쟁관계인 CJ ENM과 JTBC는 합작법인을 통해 오리지널 콘텐츠를 공동 제작할 예정이다. 넷플릭스와 디즈니플러스라는 글로벌 공룡 기업과 맞서기 위한 나름의 비책인 셈이다. CJ ENM과 JTBC는 국내 OTT에 서로의 콘텐츠를 묶어서 유통할 계획도 가지고 있다. 웨이브는 오리지널 콘텐츠 확보를 위한 제작 투자(2023년까지 3,000억원)를 예고했지만, 지상파 3사의 콘텐츠 합작은 고려하지 않고 있다. CJ ENM 관계자는 “JTBC와 긴밀한 협력을 통해 국내는 물론 글로벌 시장에서 통할 수 있는 콘텐츠를 지속적으로 제작할 것”이라며 “완전한 자유경쟁시장이기에 다른 콘텐츠 사업자 및 통신사 누구와도 손을 잡을 수 있다”고 밝혔다.콘텐츠 확보 경쟁은 더욱 치열해질 전망이다. 당장 넷플릭스의 한국 내 입지가 좁아지게 됐다. CJ ENM과 JTBC는 넷플릭스에 방영권 판매를 중단하거나, 기존보다 높은 가격을 요구할 가능성이 크다. 넷플릭스는 내년부터 마블 스튜디오 영화 등, 계약기간이 종료된 디즈니 콘텐츠를 제공하지 못한다. 웨이브의 사정도 비슷하다. 소비자 입장에선 선택의 폭이 넓어졌다. OTT 경쟁이 치열해지며 요금제가 낮아질 확률이 높다. 웨이브는 기본 요금인 베이직을 월 7,900원에 책정했다. 넷플릭스가 같은 수준의 상품을 9,500원에 판매하는 것에 대한 고려로 풀이된다. CJ ENM과 JTBC 통합 OTT는 초기 회원을 확보하기 위해 이들보다 낮은 가의 요금제를 제시할 가능성이 크다.강진구 기자 realnine@hankookilbo.com▶[한국일보 페이스북 친구맺기] [한국일보 홈 바로가기]▶네이버 채널에서 한국일보를 구독하세요!'"
      ]
     },
     "execution_count": 21,
     "metadata": {},
     "output_type": "execute_result"
    }
   ],
   "source": [
    "corpus"
   ]
  },
  {
   "cell_type": "code",
   "execution_count": 30,
   "metadata": {},
   "outputs": [
    {
     "data": {
      "text/plain": [
       "['realnine@hankookilbo.com']"
      ]
     },
     "execution_count": 30,
     "metadata": {},
     "output_type": "execute_result"
    }
   ],
   "source": [
    "re.findall(\"[a-z]{3,}@[a-z]{3,}[.][a-z]{2,}\", corpus)"
   ]
  },
  {
   "cell_type": "code",
   "execution_count": 49,
   "metadata": {
    "scrolled": true
   },
   "outputs": [
    {
     "data": {
      "text/plain": [
       "' 오류를 우회하기 위한 함수 추가 및 .국내 동영상스트리밍서비스 시장을 둘러싼 싸움이 대전으로 번지고 있다. 지상파 방송 3사 와 거대 통신사 SK텔레콤이 합작 웨이브의 출범 18일 을 알리자마자 국내 대표 케이블채널 사업자인 ENM과 JTBC가 합작 설립을 발표했다. OTT를 중심으로 한 국내 방송업계 재편이 급물살을 타게 됐다. ENM과 JTBC는 통합 합작법인을 내년 초까지 출범시키겠다는 내용의 양해각서 를 체결했다고 17일 밝혔다. 합작법인은 ENM이 1대 주주이며 JTBC가 2대 주주로 참여한다. 통합 OTT는 ENM이 운영하는 티빙을 기반으로 이뤄질 예정이다. ENM은 인기 케이블채널 tvN과 엠넷 등을 보유하고 있는 방송업계 강자다. JTBC는 종합편성 종편 채널 중 매출액이 가장 높은 방송시장의 신흥 강호다. ENM과 JTBC의 통합 설립 논의는 지난해부터 이뤄졌다. 세계 최대 OTT인 넷플릭스가 지난해부터 드라마 킹덤 등 국내 콘텐츠 투자에 본격적으로 나서면서부터다. 픽사와 마블 등을 거린 월트 디즈니의 디즈니플러스가 내년 한국 진출을 예고한 점도 두 회사의 연합을 재촉했다. ENM과 JTBC는 미스터 션샤인 과 스카이캐슬 등 자사 인기 콘텐츠의 판권을 넷플릭스에 판매하는 식으로 OTT시장에 진출하는 전략을 취해 왔었다. 국내 동영상 시장이 위주로 급속히 재편되자 합작 법인 설립으로 전략을 급선회하게 됐다. 웨이브의 출범도 두 회사의 동맹 에 큰 영향을 준 것으로 보인다. 관계자는 방송ㆍ영상 사업은 속도를 가늠하기 어려울 정도로 빠르게 변화하고 있다 며 결국 차별화된 콘텐츠를 끊임없이 생산할 뿐만 아니라 적절히 유통할 수 이는 시스템 구축이 필수적 이라고 밝혔다.두 회사는 콘텐츠에서 상대적 우위를 차지하고 있다. ENM은 시가총액 1억9 000억원대인 국내 최대 드라마 제작사 스튜디오드래곤을 자회사로 두고 있다. 예능프로그램 삼시세끼 등의 나영석 드라마 응답하라 시리즈의 신원호 등 스타 PD들이 ENM에 소속돼 있다. ENM은 영화 명량 과 극한직업 국제시장 등을 투자배급한 영화계 큰손이기도 하다. JTBC는 예능프로그램 냉장고를 부탁해 와 썰전 등을 방영하며 콘텐츠 경쟁력을 키워왔다.두 회사의 연합으로 전통적인 의미의 방송사 개념도 사라지게 됐다. 방송시장에서 경쟁관계인 ENM과 JTBC는 합작법인을 통해 오리지널 콘텐츠를 공동 제작할 예정이다. 넷플릭스와 디즈니플러스라는 글로벌 공룡 기업과 맞서기 위한 나름의 비책인 셈이다. ENM과 JTBC는 국내 OTT에 서로의 콘텐츠를 묶어서 유통할 계획도 가지고 있다. 웨이브는 오리지널 콘텐츠 확보를 위한 제작 투자 2023년까지 3 000억원 를 예고했지만 지상파 3사의 콘텐츠 합작은 고려하지 않고 있다. 관계자는 JTBC와 긴밀한 협력을 통해 국내는 물론 글로벌 시장에서 통할 수 있는 콘텐츠를 지속적으로 제작할 것 이라며 완전한 자유경쟁시장이기에 다른 콘텐츠 사업자 및 통신사 누구와도 손을 잡을 수 있다 고 밝혔다.콘텐츠 확보 경쟁은 더욱 치열해질 전망이다. 당장 넷플릭스의 한국 내 입지가 좁아지게 됐다. ENM과 JTBC는 넷플릭스에 방영권 판매를 중단하거나 기존보다 높은 가격을 요구할 가능성이 크다. 넷플릭스는 내년부터 마블 스튜디오 영화 등 계약기간이 종료된 디즈니 콘텐츠를 제공하지 못한다. 웨이브의 사정도 비슷하다. 소비자 입장에선 선택의 폭이 넓어졌다. 경쟁이 치열해지며 요금제가 낮아질 확률이 높다. 웨이브는 기본 요금인 베이직을 월 7 900원에 책정했다. 넷플릭스가 같은 수준의 상품을 9 500원에 판매하는 것에 대한 고려로 풀이된다. ENM과 통합 OTT는 초기 회원을 확보하기 위해 이들보다 낮은 가의 요금제를 제시할 가능성이 크다.강진구 기자 한국일보 페이스북 친구맺기 한국일보 홈 바로가기 네이버 채널에서 한국일보를 구독하세요!'"
      ]
     },
     "execution_count": 49,
     "metadata": {},
     "output_type": "execute_result"
    }
   ],
   "source": [
    "import re\n",
    "corpus = read(fileids()[0])\n",
    "\n",
    "pattern = dict()\n",
    "pattern[\"email\"] = re.compile(\n",
    "    r\"[a-z]{3,}@[a-z]{3,}[.][a-z]{2,}\")\n",
    "pattern[\"domain\"] = re.compile(\n",
    "    r\"[a-z]{3,}[.][a-z]{2,}\")\n",
    "pattern[\"punc\"] = re.compile(\n",
    "    r\"[{}]\".format(re.escape(\"(){}/\\\"'`\")))\n",
    "pattern[\"code\"] = re.compile(\n",
    "    r\"\\b[A-Za-z_]{5,}\\b\")\n",
    "pattern[\"nonkor\"] = re.compile(\n",
    "    r\"\\b[^.0-9ㄱ-ㅎㅏ-ㅣ가-힣]+\\b\")\n",
    "pattern[\"whitespace\"] = re.compile(\n",
    "    r\"\\s{2,}\")\n",
    "\n",
    "\n",
    "pattern[\"email\"].sub(\" \", corpus)\n",
    "pattern[\"domain\"].sub(\" \",corpus)\n",
    "pattern[\"punc\"].sub(\" \", corpus)\n",
    "pattern[\"code\"].sub(\" \", corpus)\n",
    "pattern[\"nonkor\"].sub(\" \", corpus)\n",
    "pattern[\"whitespace\"].sub(\" \", corpus)\n",
    "\n",
    "from copy import copy\n",
    "corpus_ = copy(corpus)\n",
    "for _ in [\"email\",\"punc\", \"code\", \"nonkor\", \"whitespace\"]:\n",
    "    corpus_ = pattern[_].sub(\" \", corpus_)\n",
    "    \n",
    "corpus_"
   ]
  },
  {
   "cell_type": "code",
   "execution_count": 67,
   "metadata": {},
   "outputs": [
    {
     "name": "stdout",
     "output_type": "stream",
     "text": [
      "원시어절 438 343\n",
      "어절분리 471 344\n",
      "정규식분리 442 339\n",
      "품사 931 380\n",
      "형태소 바이그램 493 330\n"
     ]
    }
   ],
   "source": [
    "V1 = list()\n",
    "for _ in corpus_.split():\n",
    "    V1.append(_)\n",
    "print(\"원시어절\", len(V1), len(set(V1)))\n",
    "\n",
    "V2 = list()\n",
    "from nltk.tokenize import word_tokenize\n",
    "for _ in corpus_.split():\n",
    "    for token in word_tokenize(_):\n",
    "        V2.append(token)\n",
    "print(\"어절분리\", len(V2), len(set(V2)))\n",
    "\n",
    "V3 = list()\n",
    "from nltk.tokenize import regexp_tokenize\n",
    "for _ in corpus_.split():\n",
    "    for token in regexp_tokenize(_, r\"\\b\\w+\\b\"):\n",
    "        V3.append(token)\n",
    "print(\"정규식분리\", len(V3), len(set(V3)))\n",
    "\n",
    "V4 = list()\n",
    "for _ in corpus_.split():\n",
    "    for token in [\"/\".join(_) for _ in kkma.pos(_)]:\n",
    "        V4.append(token)\n",
    "print(\"품사\", len(V4), len(set(V4)))\n",
    "\n",
    "V5 = list()\n",
    "for _ in corpus_.split():\n",
    "    tokens = kkma.morphs(_)\n",
    "    for i in range(len(tokens)-1):\n",
    "        V5.append(\" \".join(tokens[i:i+2]))\n",
    "print(\"형태소 바이그램\", len(V5), len(set(V5)))"
   ]
  },
  {
   "cell_type": "code",
   "execution_count": 84,
   "metadata": {},
   "outputs": [
    {
     "data": {
      "text/plain": [
       "(2775, 34)"
      ]
     },
     "execution_count": 84,
     "metadata": {},
     "output_type": "execute_result"
    }
   ],
   "source": [
    "len(V1+V2+V3+V4+V5), \\\n",
    "len(set(V1+V2+V3+V4+V5).intersection(V6))"
   ]
  },
  {
   "cell_type": "code",
   "execution_count": 80,
   "metadata": {},
   "outputs": [],
   "source": [
    "V6 = list()\n",
    "for _ in corpus_.split():\n",
    "    tokens = [_[0] for _ in kkma.pos(_) \n",
    "              if re.search(r\"^NN|NP\", _[1])]\n",
    "    for i in range(len(tokens)-1):\n",
    "              V6.append(tokens[i])\n",
    "              V6.append(\" \".join(tokens[i:i+2]))"
   ]
  },
  {
   "cell_type": "code",
   "execution_count": 83,
   "metadata": {},
   "outputs": [
    {
     "name": "stdout",
     "output_type": "stream",
     "text": [
      "품사분리(명사) 78 57\n"
     ]
    }
   ],
   "source": [
    "print(\"품사분리(명사)\", len(V6), len(set(V6)))"
   ]
  },
  {
   "cell_type": "code",
   "execution_count": 79,
   "metadata": {
    "scrolled": true
   },
   "outputs": [
    {
     "data": {
      "text/plain": [
       "['동영상',\n",
       " '동영상 스트리밍',\n",
       " '스트리밍',\n",
       " '스트리밍 서비스',\n",
       " '출범',\n",
       " '출범 일',\n",
       " '일',\n",
       " '일 을',\n",
       " '케이블',\n",
       " '케이블 채널',\n",
       " '방송',\n",
       " '방송 업계',\n",
       " '급',\n",
       " '급 물살',\n",
       " '합작',\n",
       " '합작 법인',\n",
       " '양해',\n",
       " '양해 각서',\n",
       " '합작',\n",
       " '합작 법인',\n",
       " '케이블',\n",
       " '케이블 채널',\n",
       " '방송',\n",
       " '방송 업계',\n",
       " '종합',\n",
       " '종합 편성',\n",
       " '편성',\n",
       " '편성 종편',\n",
       " '방송',\n",
       " '방송 시장',\n",
       " '킹',\n",
       " '킹 덤',\n",
       " '디즈니',\n",
       " '디즈니 플러스',\n",
       " '방송',\n",
       " '방송 영상',\n",
       " '시가',\n",
       " '시가 총액',\n",
       " '원',\n",
       " '원 대인',\n",
       " '스튜디오',\n",
       " '스튜디오 드래곤',\n",
       " '예능',\n",
       " '예능 프로그램',\n",
       " '삼시',\n",
       " '삼시 세끼',\n",
       " '명',\n",
       " '명 량',\n",
       " '량',\n",
       " '량 과',\n",
       " '극',\n",
       " '극 직업',\n",
       " '국제',\n",
       " '국제 시장',\n",
       " '투자',\n",
       " '투자 배급',\n",
       " '큰손',\n",
       " '큰손 기도',\n",
       " '예능',\n",
       " '예능 프로그램',\n",
       " '방송',\n",
       " '방송 시장',\n",
       " '경쟁',\n",
       " '경쟁 관계인',\n",
       " '합작',\n",
       " '합작 법인',\n",
       " '디즈니',\n",
       " '디즈니 플러스',\n",
       " '투자',\n",
       " '투자 년',\n",
       " '자유',\n",
       " '자유 경쟁',\n",
       " '경쟁',\n",
       " '경쟁 시장',\n",
       " '계약',\n",
       " '계약 기간',\n",
       " '요금',\n",
       " '요금 제가',\n",
       " '베이',\n",
       " '베이 직',\n",
       " '강',\n",
       " '강 진구',\n",
       " '한국',\n",
       " '한국 일보',\n",
       " '페이스',\n",
       " '페이스 북',\n",
       " '한국',\n",
       " '한국 일보',\n",
       " '가기',\n",
       " '가기 네이버',\n",
       " '한국',\n",
       " '한국 일보']"
      ]
     },
     "execution_count": 79,
     "metadata": {},
     "output_type": "execute_result"
    }
   ],
   "source": [
    "V6"
   ]
  },
  {
   "cell_type": "code",
   "execution_count": 82,
   "metadata": {
    "scrolled": true
   },
   "outputs": [
    {
     "data": {
      "text/plain": [
       "{'EC': '연결 어미',\n",
       " 'ECD': '의존적 연결 어미',\n",
       " 'ECE': '대등 연결 어미',\n",
       " 'ECS': '보조적 연결 어미',\n",
       " 'EF': '종결 어미',\n",
       " 'EFA': '청유형 종결 어미',\n",
       " 'EFI': '감탄형 종결 어미',\n",
       " 'EFN': '평서형 종결 어미',\n",
       " 'EFO': '명령형 종결 어미',\n",
       " 'EFQ': '의문형 종결 어미',\n",
       " 'EFR': '존칭형 종결 어미',\n",
       " 'EP': '선어말 어미',\n",
       " 'EPH': '존칭 선어말 어미',\n",
       " 'EPP': '공손 선어말 어미',\n",
       " 'EPT': '시제 선어말 어미',\n",
       " 'ET': '전성 어미',\n",
       " 'ETD': '관형형 전성 어미',\n",
       " 'ETN': '명사형 전성 어미',\n",
       " 'IC': '감탄사',\n",
       " 'JC': '접속 조사',\n",
       " 'JK': '조사',\n",
       " 'JKC': '보격 조사',\n",
       " 'JKG': '관형격 조사',\n",
       " 'JKI': '호격 조사',\n",
       " 'JKM': '부사격 조사',\n",
       " 'JKO': '목적격 조사',\n",
       " 'JKQ': '인용격 조사',\n",
       " 'JKS': '주격 조사',\n",
       " 'JX': '보조사',\n",
       " 'MA': '부사',\n",
       " 'MAC': '접속 부사',\n",
       " 'MAG': '일반 부사',\n",
       " 'MD': '관형사',\n",
       " 'MDN': '수 관형사',\n",
       " 'MDT': '일반 관형사',\n",
       " 'NN': '명사',\n",
       " 'NNB': '일반 의존 명사',\n",
       " 'NNG': '보통명사',\n",
       " 'NNM': '단위 의존 명사',\n",
       " 'NNP': '고유명사',\n",
       " 'NP': '대명사',\n",
       " 'NR': '수사',\n",
       " 'OH': '한자',\n",
       " 'OL': '외국어',\n",
       " 'ON': '숫자',\n",
       " 'SE': '줄임표',\n",
       " 'SF': '마침표, 물음표, 느낌표',\n",
       " 'SO': '붙임표(물결,숨김,빠짐)',\n",
       " 'SP': '쉼표,가운뎃점,콜론,빗금',\n",
       " 'SS': '따옴표,괄호표,줄표',\n",
       " 'SW': '기타기호 (논리수학기호,화폐기호)',\n",
       " 'UN': '명사추정범주',\n",
       " 'VA': '형용사',\n",
       " 'VC': '지정사',\n",
       " 'VCN': \"부정 지정사, 형용사 '아니다'\",\n",
       " 'VCP': \"긍정 지정사, 서술격 조사 '이다'\",\n",
       " 'VV': '동사',\n",
       " 'VX': '보조 용언',\n",
       " 'VXA': '보조 형용사',\n",
       " 'VXV': '보조 동사',\n",
       " 'XP': '접두사',\n",
       " 'XPN': '체언 접두사',\n",
       " 'XPV': '용언 접두사',\n",
       " 'XR': '어근',\n",
       " 'XSA': '형용사 파생 접미사',\n",
       " 'XSN': '명사파생 접미사',\n",
       " 'XSV': '동사 파생 접미사'}"
      ]
     },
     "execution_count": 82,
     "metadata": {},
     "output_type": "execute_result"
    }
   ],
   "source": [
    "kkma.tagset"
   ]
  },
  {
   "cell_type": "code",
   "execution_count": null,
   "metadata": {},
   "outputs": [],
   "source": []
  }
 ],
 "metadata": {
  "kernelspec": {
   "display_name": "Python 3",
   "language": "python",
   "name": "python3"
  },
  "language_info": {
   "codemirror_mode": {
    "name": "ipython",
    "version": 3
   },
   "file_extension": ".py",
   "mimetype": "text/x-python",
   "name": "python",
   "nbconvert_exporter": "python",
   "pygments_lexer": "ipython3",
   "version": "3.7.3"
  }
 },
 "nbformat": 4,
 "nbformat_minor": 2
}
