{
 "cells": [
  {
   "cell_type": "code",
   "execution_count": 2,
   "metadata": {},
   "outputs": [
    {
     "data": {
      "text/plain": [
       "'야 이 ** 놈아!'"
      ]
     },
     "execution_count": 2,
     "metadata": {},
     "output_type": "execute_result"
    }
   ],
   "source": [
    "stop = [\"시발\", \"개새끼\"]\n",
    "\n",
    "sentence1 = \"야 이 시발 놈아!\"\n",
    "sentence2 = list()\n",
    "\n",
    "# 1. 사전\n",
    "\n",
    "for token in sentence1.split():\n",
    "    if token in stop:\n",
    "        sentence2.append(\"*\"*len(token))\n",
    "    else:\n",
    "        sentence2.append(token)\n",
    "\" \".join(sentence2)"
   ]
  },
  {
   "cell_type": "code",
   "execution_count": 3,
   "metadata": {},
   "outputs": [],
   "source": [
    "import re"
   ]
  },
  {
   "cell_type": "code",
   "execution_count": 8,
   "metadata": {},
   "outputs": [],
   "source": [
    "from string import punctuation\n",
    "from nltk import word_tokenize"
   ]
  },
  {
   "cell_type": "code",
   "execution_count": 20,
   "metadata": {},
   "outputs": [
    {
     "data": {
      "text/plain": [
       "'야 이 ** 놈아 '"
      ]
     },
     "execution_count": 20,
     "metadata": {},
     "output_type": "execute_result"
    }
   ],
   "source": [
    "stop = [\"시발\", \"개새끼\"]\n",
    "\n",
    "sentence1 = \"야 이 시발 놈아!\"\n",
    "sentence2 = list()\n",
    "\n",
    "# 1. 사전\n",
    "# 2. 정규식-기초\n",
    "# 3. 구두점 이용 토큰화\n",
    "\n",
    "# for token in sentence1.split():\n",
    "for token in word_tokenize(sentence1):\n",
    "    retoken = re.sub(r\"[%s]\" % re.escape(punctuation),\n",
    "              \"\", token)\n",
    "    if token in stop:\n",
    "        sentence2.append(\"*\"*len(retoken))\n",
    "    else:\n",
    "        sentence2.append(retoken)\n",
    "\" \".join(sentence2)"
   ]
  },
  {
   "cell_type": "code",
   "execution_count": null,
   "metadata": {},
   "outputs": [],
   "source": [
    "stop = [\"시발\", \"개새끼\"]\n",
    "\n",
    "sentence1 = \"야 이 시발 놈아!\"\n",
    "sentence2 = list()\n",
    "\n",
    "# 1. 사전\n",
    "# 2. 정규식-기초\n",
    "# 3. 구두점 이용 토큰화\n",
    "\n",
    "for token in sentence1.split():\n",
    "    retoken = re.sub(r\"[%s]\" % re.escape(punctuation),\n",
    "              \"\", token)\n",
    "    if token in stop:\n",
    "        sentence2.append(\"*\"*len(token))\n",
    "    else:\n",
    "        sentence2.append(token)\n",
    "\" \".join(sentence2)"
   ]
  },
  {
   "cell_type": "code",
   "execution_count": null,
   "metadata": {},
   "outputs": [],
   "source": []
  },
  {
   "cell_type": "code",
   "execution_count": 13,
   "metadata": {},
   "outputs": [],
   "source": [
    "def umjeol(sentence):\n",
    "    k = len(sentence) + 1\n",
    "    tokens = list(sentence)\n",
    "    ngram = []\n",
    "    for n in range(1, k):\n",
    "        for i in range(len(tokens)-(n-1)):\n",
    "            ngram.append(\"\".join(tokens[i:i+n]))\n",
    "    return ngram"
   ]
  },
  {
   "cell_type": "code",
   "execution_count": 16,
   "metadata": {},
   "outputs": [
    {
     "data": {
      "text/plain": [
       "['가', '나', '다', '라', '가나', '나다', '다라', '가나다', '나다라', '가나다라']"
      ]
     },
     "execution_count": 16,
     "metadata": {},
     "output_type": "execute_result"
    }
   ],
   "source": [
    "umjeol(\"가나다라\")"
   ]
  },
  {
   "cell_type": "code",
   "execution_count": 14,
   "metadata": {},
   "outputs": [
    {
     "data": {
      "text/plain": [
       "'야 이 ** 놈아! ***** ***'"
      ]
     },
     "execution_count": 14,
     "metadata": {},
     "output_type": "execute_result"
    }
   ],
   "source": [
    "# 음절!\n",
    "\n",
    "stop = [\"시발\", \"개새끼\"]\n",
    "\n",
    "sentence1 = \"야 이 시발 놈아! 개새끼!! 시발넘\"\n",
    "sentence2 = list()\n",
    "\n",
    "# 1. 사전\n",
    "# 2. 정규식-기초\n",
    "# 3. 구두점 이용 토큰화\n",
    "# 4. ngram\n",
    "\n",
    "for token in sentence1.split():\n",
    "    inStop = False\n",
    "    for _ in umjeol(token):\n",
    "        if _ in stop:\n",
    "            inStop = True\n",
    "            \n",
    "    if inStop:\n",
    "        sentence2.append(\"*\"*len(token))\n",
    "    else:\n",
    "        sentence2.append(token)\n",
    "\" \".join(sentence2)"
   ]
  },
  {
   "cell_type": "code",
   "execution_count": 21,
   "metadata": {},
   "outputs": [
    {
     "data": {
      "text/plain": [
       "'** 야 이 **************** ***** *** *** ***'"
      ]
     },
     "execution_count": 21,
     "metadata": {},
     "output_type": "execute_result"
    }
   ],
   "source": [
    "# 음절!\n",
    "\n",
    "stop = [\"시발\", \"개새끼\"]\n",
    "\n",
    "sentence1 = \"ㅅㅂ 야 이 시!!!!!!!!!!!발놈아! 개새끼!! 시발넘 개시발 시!발\"\n",
    "sentence2 = list()\n",
    "\n",
    "# 1. 사전\n",
    "# 2. 정규식-기초\n",
    "# 3. 구두점 이용 토큰화\n",
    "# 4. ngram\n",
    "# 5. 정규식\n",
    "\n",
    "for token in sentence1.split():\n",
    "# for token in word_tokenize(sentence1):\n",
    "    retoken = re.sub(r\"[%s]\" % re.escape(punctuation),\n",
    "              \"\", token)\n",
    "    inStop = False\n",
    "    for _ in umjeol(retoken):\n",
    "        if _ in stop:\n",
    "            inStop = True\n",
    "    \n",
    "    if re.search(r\"[ㄱ-ㅎㅏ-ㅣ]{2,}\", retoken):\n",
    "        inStop = True\n",
    "    \n",
    "    if inStop:\n",
    "        sentence2.append(\"*\"*len(token))\n",
    "    else:\n",
    "        sentence2.append(token)\n",
    "\" \".join(sentence2)"
   ]
  },
  {
   "cell_type": "code",
   "execution_count": 22,
   "metadata": {},
   "outputs": [
    {
     "data": {
      "text/plain": [
       "'~~할 시 발생할 수 있는 ~~할 **** ** 야 이 **************** ***** *** *** ***'"
      ]
     },
     "execution_count": 22,
     "metadata": {},
     "output_type": "execute_result"
    }
   ],
   "source": [
    "stop = [\"시발\", \"개새끼\"]\n",
    "\n",
    "# 욕이 아닌 일상어인데 욕 필터링에 걸릴 수도 있다.\n",
    "# 띄어쓰기를 잘못했을 뿐인데 욕 필터링에 걸릴 수도 있다.\n",
    "sentence1 = \"~~할 시 발생할 수 있는 ~~할 시발생할 ㅅㅂ 야 이 시!!!!!!!!!!!발놈아! 개새끼!! 시발넘 개시발 시!발\"\n",
    "sentence2 = list()\n",
    "\n",
    "# 1. 사전\n",
    "# 2. 정규식-기초\n",
    "# 3. 구두점 이용 토큰화\n",
    "# 4. ngram\n",
    "# 5. 정규식\n",
    "\n",
    "for token in sentence1.split():\n",
    "# for token in word_tokenize(sentence1):\n",
    "    retoken = re.sub(r\"[%s]\" % re.escape(punctuation),\n",
    "              \"\", token)\n",
    "    inStop = False\n",
    "    for _ in umjeol(retoken):\n",
    "        if _ in stop:\n",
    "            inStop = True\n",
    "    \n",
    "    if re.search(r\"[ㄱ-ㅎㅏ-ㅣ]{2,}\", retoken):\n",
    "        inStop = True\n",
    "    \n",
    "    if inStop:\n",
    "        sentence2.append(\"*\"*len(token))\n",
    "    else:\n",
    "        sentence2.append(token)\n",
    "\" \".join(sentence2)"
   ]
  },
  {
   "cell_type": "markdown",
   "metadata": {},
   "source": [
    "---"
   ]
  },
  {
   "cell_type": "code",
   "execution_count": 31,
   "metadata": {},
   "outputs": [],
   "source": [
    "from collections import defaultdict"
   ]
  },
  {
   "cell_type": "code",
   "execution_count": 38,
   "metadata": {},
   "outputs": [],
   "source": [
    "str2split = lambda s: \" \".join([\"<w>\"] + list(s) + [\"</w>\"])"
   ]
  },
  {
   "cell_type": "code",
   "execution_count": 39,
   "metadata": {},
   "outputs": [],
   "source": [
    "def findPair(data, n=2):\n",
    "    pair = defaultdict(int)\n",
    "    for k, v in data.items():\n",
    "        tokens = k.split()\n",
    "        for i in range(len(tokens) - (n-1)):\n",
    "            pair[tuple(tokens[i:i+n])] += v\n",
    "    return pair\n",
    "\n",
    "def mergePair(data, maxKey, maxValue, threshold):\n",
    "    newData = dict()\n",
    "    for k, v in data.items():\n",
    "        if maxValue > threshold:\n",
    "            newK = re.sub(\" \".join(maxKey), \n",
    "                          \"\".join(maxKey), k)\n",
    "        else:\n",
    "            newK = k\n",
    "        newData[newK] = v\n",
    "    return newData"
   ]
  },
  {
   "cell_type": "code",
   "execution_count": 143,
   "metadata": {},
   "outputs": [],
   "source": [
    "data = {\n",
    "    str2split(\"시발\"):10,\n",
    "    str2split(\"시!!!!!!발\"):10,\n",
    "    str2split(\"시1발\"):10,\n",
    "    str2split(\"시asdflkj발\"):10,\n",
    "    str2split(\"시발놈\"):10,\n",
    "    str2split(\"시발점\"):10,\n",
    "}"
   ]
  },
  {
   "cell_type": "code",
   "execution_count": 144,
   "metadata": {},
   "outputs": [],
   "source": [
    "threshold = max(data.values())\n",
    "\n",
    "for _ in range(100):\n",
    "    pair = findPair(data)\n",
    "    maxKey = max(pair, key=pair.get)\n",
    "    maxValue = pair[maxKey]\n",
    "    data = mergePair(data, maxKey, maxValue, threshold)\n",
    "    \n",
    "tokens_ = list()\n",
    "for _ in data.keys():\n",
    "    for token in _.split():\n",
    "        if len(token) > 1 and token != \"</w>\" and \\\n",
    "        not token.endswith(\"</w>\"): \n",
    "            tokens_.append(token)"
   ]
  },
  {
   "cell_type": "code",
   "execution_count": 145,
   "metadata": {},
   "outputs": [
    {
     "data": {
      "text/plain": [
       "{'<w>시발</w>': 10,\n",
       " '<w>시 !!!! !! 발</w>': 10,\n",
       " '<w>시 1 발</w>': 10,\n",
       " '<w>시 a s d f l k j 발</w>': 10,\n",
       " '<w>시발 놈 </w>': 10,\n",
       " '<w>시발 점 </w>': 10}"
      ]
     },
     "execution_count": 145,
     "metadata": {},
     "output_type": "execute_result"
    }
   ],
   "source": [
    "data"
   ]
  },
  {
   "cell_type": "code",
   "execution_count": 146,
   "metadata": {},
   "outputs": [
    {
     "data": {
      "text/plain": [
       "{'<w>시': 30, '발</w>': 30, '<w>시발': 20}"
      ]
     },
     "execution_count": 146,
     "metadata": {},
     "output_type": "execute_result"
    }
   ],
   "source": [
    "patterns = defaultdict(int)\n",
    "for sentence, freq in data.items():\n",
    "    for _ in sentence.split():\n",
    "        patterns[_] += freq\n",
    "{k:v for k,v in patterns.items() \n",
    " if v > threshold and k not in [\"<w>\", \"</w>\"]}"
   ]
  },
  {
   "cell_type": "code",
   "execution_count": 147,
   "metadata": {},
   "outputs": [
    {
     "data": {
      "text/plain": [
       "{'시': 30, '발': 30, '시발': 20}"
      ]
     },
     "execution_count": 147,
     "metadata": {},
     "output_type": "execute_result"
    }
   ],
   "source": [
    "patterns = defaultdict(int)\n",
    "for sentence, freq in data.items():\n",
    "    for _ in sentence.split():\n",
    "        patterns[_] += freq\n",
    "        \n",
    "# 패턴을 좀 더 정교하게\n",
    "{re.sub(r\"\\<\\/?w\\>\", \"\", k):v for k,v in patterns.items() \n",
    " if v > threshold and k not in [\"<w>\", \"</w>\"]}"
   ]
  },
  {
   "cell_type": "code",
   "execution_count": 148,
   "metadata": {},
   "outputs": [
    {
     "data": {
      "text/plain": [
       "defaultdict(int,\n",
       "            {'<w>시발</w>': 10,\n",
       "             '<w>시': 30,\n",
       "             '!!!!': 10,\n",
       "             '!!': 10,\n",
       "             '발</w>': 30,\n",
       "             '1': 10,\n",
       "             'a': 10,\n",
       "             's': 10,\n",
       "             'd': 10,\n",
       "             'f': 10,\n",
       "             'l': 10,\n",
       "             'k': 10,\n",
       "             'j': 10,\n",
       "             '<w>시발': 20,\n",
       "             '놈': 10,\n",
       "             '</w>': 20,\n",
       "             '점': 10})"
      ]
     },
     "execution_count": 148,
     "metadata": {},
     "output_type": "execute_result"
    }
   ],
   "source": [
    "patterns"
   ]
  },
  {
   "cell_type": "code",
   "execution_count": 149,
   "metadata": {},
   "outputs": [],
   "source": [
    "patterns = {k:v for k,v in patterns.items()\n",
    "            if v > threshold and k not in [\"<w>\", \"</w>\"]}\n",
    "startPattern = [k.replace(\"<w>\", \"\") for k in patterns \n",
    "                if k.startswith(\"<w>\")]\n",
    "endPattern = [k.replace(\"</w>\", \"\") for k in patterns \n",
    "                if k.endswith(\"</w>\")]\n",
    "termPattern = [k.replace(\"<w>\", \"\") for k in patterns \n",
    "                if not k.startswith(\"<w>\") and\n",
    "               not k.endswith(\"</w>\")]\n"
   ]
  },
  {
   "cell_type": "code",
   "execution_count": 150,
   "metadata": {},
   "outputs": [
    {
     "data": {
      "text/plain": [
       "{'<w>시': 30, '발</w>': 30, '<w>시발': 20}"
      ]
     },
     "execution_count": 150,
     "metadata": {},
     "output_type": "execute_result"
    }
   ],
   "source": [
    "patterns"
   ]
  },
  {
   "cell_type": "code",
   "execution_count": 151,
   "metadata": {},
   "outputs": [
    {
     "data": {
      "text/plain": [
       "['시', '시발']"
      ]
     },
     "execution_count": 151,
     "metadata": {},
     "output_type": "execute_result"
    }
   ],
   "source": [
    "startPattern"
   ]
  },
  {
   "cell_type": "code",
   "execution_count": 152,
   "metadata": {},
   "outputs": [
    {
     "data": {
      "text/plain": [
       "['발']"
      ]
     },
     "execution_count": 152,
     "metadata": {},
     "output_type": "execute_result"
    }
   ],
   "source": [
    "endPattern"
   ]
  },
  {
   "cell_type": "code",
   "execution_count": 153,
   "metadata": {},
   "outputs": [
    {
     "data": {
      "text/plain": [
       "[]"
      ]
     },
     "execution_count": 153,
     "metadata": {},
     "output_type": "execute_result"
    }
   ],
   "source": [
    "termPattern"
   ]
  },
  {
   "cell_type": "code",
   "execution_count": 156,
   "metadata": {},
   "outputs": [],
   "source": [
    "rePattern = list()\n",
    "for s in startPattern:    \n",
    "    for e in endPattern:\n",
    "        rePattern.append(re.compile(\n",
    "         r\"{0}.*?{1}\".format(s, e)))\n",
    "if len(termPattern) > 0:\n",
    "    rePattern.append(re.compile(\n",
    "        r\"%s\" % \"|\".join(termPattern)))"
   ]
  },
  {
   "cell_type": "code",
   "execution_count": 157,
   "metadata": {},
   "outputs": [
    {
     "data": {
      "text/plain": [
       "[re.compile(r'시.*?발', re.UNICODE), re.compile(r'시발.*?발', re.UNICODE)]"
      ]
     },
     "execution_count": 157,
     "metadata": {},
     "output_type": "execute_result"
    }
   ],
   "source": [
    "rePattern"
   ]
  },
  {
   "cell_type": "code",
   "execution_count": 158,
   "metadata": {},
   "outputs": [],
   "source": [
    "data = [\n",
    "    \"시발\",\n",
    "    \"시!!!!!!발\",\n",
    "    \"시1발\",\n",
    "    \"시asdflkj발\",\n",
    "    \"시발놈\",\n",
    "    \"시발점\"]"
   ]
  },
  {
   "cell_type": "code",
   "execution_count": 159,
   "metadata": {},
   "outputs": [
    {
     "name": "stdout",
     "output_type": "stream",
     "text": [
      "**\n",
      "********\n",
      "***\n",
      "*********\n",
      "***\n",
      "***\n"
     ]
    }
   ],
   "source": [
    "for _ in data:\n",
    "    inStop = False\n",
    "    for p in rePattern:\n",
    "        if p.search(_):\n",
    "            inStop = True\n",
    "    if inStop:\n",
    "        print(\"*\"*len(_))\n",
    "    else:\n",
    "        print(_)"
   ]
  },
  {
   "cell_type": "markdown",
   "metadata": {},
   "source": [
    "---"
   ]
  },
  {
   "cell_type": "code",
   "execution_count": 160,
   "metadata": {},
   "outputs": [
    {
     "data": {
      "text/plain": [
       "[('She', 'PRP'),\n",
       " ('sells', 'VBZ'),\n",
       " ('seashells', 'NNS'),\n",
       " ('on', 'IN'),\n",
       " ('the', 'DT'),\n",
       " ('seashore', 'NN'),\n",
       " ('.', '.')]"
      ]
     },
     "execution_count": 160,
     "metadata": {},
     "output_type": "execute_result"
    }
   ],
   "source": [
    "from nltk.tag import pos_tag\n",
    "pos_tag(word_tokenize(\"She sells seashells on the seashore.\"))"
   ]
  },
  {
   "cell_type": "code",
   "execution_count": 163,
   "metadata": {},
   "outputs": [
    {
     "name": "stdout",
     "output_type": "stream",
     "text": [
      "NN: noun, common, singular or mass\n",
      "    common-carrier cabbage knuckle-duster Casino afghan shed thermostat\n",
      "    investment slide humour falloff slick wind hyena override subhumanity\n",
      "    machinist ...\n"
     ]
    }
   ],
   "source": [
    "# 여러가지 tagset이 있다.\n",
    "# 필요에 따라 적절한 tagset을 선택해야한다.\n",
    "\n",
    "from nltk.help import upenn_tagset, brown_tagset\n",
    "upenn_tagset(\"NN\")"
   ]
  },
  {
   "cell_type": "code",
   "execution_count": 164,
   "metadata": {},
   "outputs": [
    {
     "name": "stdout",
     "output_type": "stream",
     "text": [
      "NN: noun, singular, common\n",
      "    failure burden court fire appointment awarding compensation Mayor\n",
      "    interim committee fact effect airport management surveillance jail\n",
      "    doctor intern extern night weekend duty legislation Tax Office ...\n"
     ]
    }
   ],
   "source": [
    "# brown 형태소 분석기를 이용하면 brown_tagset을 이용해야하는 것!\n",
    "\n",
    "brown_tagset(\"NN\")"
   ]
  },
  {
   "cell_type": "code",
   "execution_count": 165,
   "metadata": {
    "scrolled": true
   },
   "outputs": [
    {
     "name": "stderr",
     "output_type": "stream",
     "text": [
      "C:\\Users\\JINHYO\\Anaconda3\\lib\\site-packages\\jpype\\_core.py:210: UserWarning: \n",
      "-------------------------------------------------------------------------------\n",
      "Deprecated: convertStrings was not specified when starting the JVM. The default\n",
      "behavior in JPype will be False starting in JPype 0.8. The recommended setting\n",
      "for new code is convertStrings=False.  The legacy value of True was assumed for\n",
      "this session. If you are a user of an application that reported this warning,\n",
      "please file a ticket with the developer.\n",
      "-------------------------------------------------------------------------------\n",
      "\n",
      "  \"\"\")\n"
     ]
    },
    {
     "data": {
      "text/plain": [
       "{'EC': '연결 어미',\n",
       " 'ECD': '의존적 연결 어미',\n",
       " 'ECE': '대등 연결 어미',\n",
       " 'ECS': '보조적 연결 어미',\n",
       " 'EF': '종결 어미',\n",
       " 'EFA': '청유형 종결 어미',\n",
       " 'EFI': '감탄형 종결 어미',\n",
       " 'EFN': '평서형 종결 어미',\n",
       " 'EFO': '명령형 종결 어미',\n",
       " 'EFQ': '의문형 종결 어미',\n",
       " 'EFR': '존칭형 종결 어미',\n",
       " 'EP': '선어말 어미',\n",
       " 'EPH': '존칭 선어말 어미',\n",
       " 'EPP': '공손 선어말 어미',\n",
       " 'EPT': '시제 선어말 어미',\n",
       " 'ET': '전성 어미',\n",
       " 'ETD': '관형형 전성 어미',\n",
       " 'ETN': '명사형 전성 어미',\n",
       " 'IC': '감탄사',\n",
       " 'JC': '접속 조사',\n",
       " 'JK': '조사',\n",
       " 'JKC': '보격 조사',\n",
       " 'JKG': '관형격 조사',\n",
       " 'JKI': '호격 조사',\n",
       " 'JKM': '부사격 조사',\n",
       " 'JKO': '목적격 조사',\n",
       " 'JKQ': '인용격 조사',\n",
       " 'JKS': '주격 조사',\n",
       " 'JX': '보조사',\n",
       " 'MA': '부사',\n",
       " 'MAC': '접속 부사',\n",
       " 'MAG': '일반 부사',\n",
       " 'MD': '관형사',\n",
       " 'MDN': '수 관형사',\n",
       " 'MDT': '일반 관형사',\n",
       " 'NN': '명사',\n",
       " 'NNB': '일반 의존 명사',\n",
       " 'NNG': '보통명사',\n",
       " 'NNM': '단위 의존 명사',\n",
       " 'NNP': '고유명사',\n",
       " 'NP': '대명사',\n",
       " 'NR': '수사',\n",
       " 'OH': '한자',\n",
       " 'OL': '외국어',\n",
       " 'ON': '숫자',\n",
       " 'SE': '줄임표',\n",
       " 'SF': '마침표, 물음표, 느낌표',\n",
       " 'SO': '붙임표(물결,숨김,빠짐)',\n",
       " 'SP': '쉼표,가운뎃점,콜론,빗금',\n",
       " 'SS': '따옴표,괄호표,줄표',\n",
       " 'SW': '기타기호 (논리수학기호,화폐기호)',\n",
       " 'UN': '명사추정범주',\n",
       " 'VA': '형용사',\n",
       " 'VC': '지정사',\n",
       " 'VCN': \"부정 지정사, 형용사 '아니다'\",\n",
       " 'VCP': \"긍정 지정사, 서술격 조사 '이다'\",\n",
       " 'VV': '동사',\n",
       " 'VX': '보조 용언',\n",
       " 'VXA': '보조 형용사',\n",
       " 'VXV': '보조 동사',\n",
       " 'XP': '접두사',\n",
       " 'XPN': '체언 접두사',\n",
       " 'XPV': '용언 접두사',\n",
       " 'XR': '어근',\n",
       " 'XSA': '형용사 파생 접미사',\n",
       " 'XSN': '명사파생 접미사',\n",
       " 'XSV': '동사 파생 접미사'}"
      ]
     },
     "execution_count": 165,
     "metadata": {},
     "output_type": "execute_result"
    }
   ],
   "source": [
    "from konlpy.tag import Kkma\n",
    "# 꼬마 라고 읽음. / 서울대에서 개발\n",
    "# 세종 21 corpus를 기반으로 만들었음.\n",
    "# 가장 자세하게 분류함.\n",
    "Kkma().tagset"
   ]
  },
  {
   "cell_type": "code",
   "execution_count": 166,
   "metadata": {},
   "outputs": [
    {
     "data": {
      "text/plain": [
       "{'Adjective': '형용사',\n",
       " 'Adverb': '부사',\n",
       " 'Alpha': '알파벳',\n",
       " 'Conjunction': '접속사',\n",
       " 'Determiner': '관형사',\n",
       " 'Eomi': '어미',\n",
       " 'Exclamation': '감탄사',\n",
       " 'Foreign': '외국어, 한자 및 기타기호',\n",
       " 'Hashtag': '트위터 해쉬태그',\n",
       " 'Josa': '조사',\n",
       " 'KoreanParticle': '(ex: ㅋㅋ)',\n",
       " 'Noun': '명사',\n",
       " 'Number': '숫자',\n",
       " 'PreEomi': '선어말어미',\n",
       " 'Punctuation': '구두점',\n",
       " 'ScreenName': '트위터 아이디',\n",
       " 'Suffix': '접미사',\n",
       " 'Unknown': '미등록어',\n",
       " 'Verb': '동사'}"
      ]
     },
     "execution_count": 166,
     "metadata": {},
     "output_type": "execute_result"
    }
   ],
   "source": [
    "from konlpy.tag import Okt\n",
    "Okt().tagset"
   ]
  },
  {
   "cell_type": "code",
   "execution_count": 167,
   "metadata": {
    "scrolled": true
   },
   "outputs": [
    {
     "data": {
      "text/plain": [
       "{'E': '어미',\n",
       " 'EC': '연결 어미',\n",
       " 'EF': '종결 어미',\n",
       " 'EP': '선어말어미',\n",
       " 'ET': '전성 어미',\n",
       " 'F': '외국어',\n",
       " 'I': '독립언',\n",
       " 'II': '감탄사',\n",
       " 'J': '관계언',\n",
       " 'JC': '격조사',\n",
       " 'JP': '서술격 조사',\n",
       " 'JX': '보조사',\n",
       " 'M': '수식언',\n",
       " 'MA': '부사',\n",
       " 'MM': '관형사',\n",
       " 'N': '체언',\n",
       " 'NB': '의존명사',\n",
       " 'NC': '보통명사',\n",
       " 'NN': '수사',\n",
       " 'NP': '대명사',\n",
       " 'NQ': '고유명사',\n",
       " 'P': '용언',\n",
       " 'PA': '형용사',\n",
       " 'PV': '동사',\n",
       " 'PX': '보조 용언',\n",
       " 'S': '기호',\n",
       " 'X': '접사',\n",
       " 'XP': '접두사',\n",
       " 'XS': '접미사'}"
      ]
     },
     "execution_count": 167,
     "metadata": {},
     "output_type": "execute_result"
    }
   ],
   "source": [
    "from konlpy.tag import Hannanum\n",
    "Hannanum().tagset"
   ]
  },
  {
   "cell_type": "code",
   "execution_count": 168,
   "metadata": {
    "scrolled": true
   },
   "outputs": [
    {
     "data": {
      "text/plain": [
       "{'EC': '연결 어미',\n",
       " 'EF': '종결 어미',\n",
       " 'EP': '선어말어미',\n",
       " 'ETM': '관형형 전성 어미',\n",
       " 'ETN': '명사형 전성 어미',\n",
       " 'IC': '감탄사',\n",
       " 'JC': '접속 조사',\n",
       " 'JKB': '부사격 조사',\n",
       " 'JKC': '보격 조사',\n",
       " 'JKG': '관형격 조사',\n",
       " 'JKO': '목적격 조사',\n",
       " 'JKQ': '인용격 조사',\n",
       " 'JKS': '주격 조사',\n",
       " 'JKV': '호격 조사',\n",
       " 'JX': '보조사',\n",
       " 'MAG': '일반 부사',\n",
       " 'MAJ': '접속 부사',\n",
       " 'MM': '관형사',\n",
       " 'NA': '분석불능범주',\n",
       " 'NF': '명사추정범주',\n",
       " 'NNB': '의존 명사',\n",
       " 'NNG': '일반 명사',\n",
       " 'NNP': '고유 명사',\n",
       " 'NP': '대명사',\n",
       " 'NR': '수사',\n",
       " 'NV': '용언추정범주',\n",
       " 'SE': '줄임표',\n",
       " 'SF': '마침표, 물음표, 느낌표',\n",
       " 'SH': '한자',\n",
       " 'SL': '외국어',\n",
       " 'SN': '숫자',\n",
       " 'SO': '붙임표(물결,숨김,빠짐)',\n",
       " 'SP': '쉼표,가운뎃점,콜론,빗금',\n",
       " 'SS': '따옴표,괄호표,줄표',\n",
       " 'SW': '기타기호 (논리수학기호,화폐기호)',\n",
       " 'VA': '형용사',\n",
       " 'VCN': '부정 지정사',\n",
       " 'VCP': '긍정 지정사',\n",
       " 'VV': '동사',\n",
       " 'VX': '보조 용언',\n",
       " 'XPN': '체언 접두사',\n",
       " 'XR': '어근',\n",
       " 'XSA': '형용사 파생 접미사',\n",
       " 'XSN': '명사파생 접미사',\n",
       " 'XSV': '동사 파생 접미사'}"
      ]
     },
     "execution_count": 168,
     "metadata": {},
     "output_type": "execute_result"
    }
   ],
   "source": [
    "from konlpy.tag import Komoran\n",
    "Komoran().tagset"
   ]
  },
  {
   "cell_type": "code",
   "execution_count": null,
   "metadata": {},
   "outputs": [],
   "source": [
    "# 일본에서 만든건데 한국어에도 적용이 잘 된다.\n",
    "# 리눅스에서만 동작한다.\n",
    "\n",
    "# from konlpy.tag import Mecab\n",
    "# Mecab().tagset"
   ]
  },
  {
   "cell_type": "markdown",
   "metadata": {},
   "source": [
    "세종 21\n",
    "https://ithub.korean.go.kr/user/corpus/corpusSearchManager.do"
   ]
  },
  {
   "cell_type": "markdown",
   "metadata": {},
   "source": [
    "꼬꼬마와 세종의 품사표 비교\n",
    "http://kkma.snu.ac.kr/documents/?doc=postag"
   ]
  },
  {
   "cell_type": "code",
   "execution_count": 169,
   "metadata": {},
   "outputs": [],
   "source": [
    "kkma = Kkma()\n",
    "hannanum = Hannanum()\n",
    "okt = Okt()\n",
    "komoran = Komoran()"
   ]
  },
  {
   "cell_type": "code",
   "execution_count": 170,
   "metadata": {},
   "outputs": [
    {
     "data": {
      "text/plain": [
       "[('아버지', 'NNG'),\n",
       " ('가방', 'NNG'),\n",
       " ('에', 'JKM'),\n",
       " ('들어가', 'VV'),\n",
       " ('시', 'EPH'),\n",
       " ('ㄴ다', 'EFN')]"
      ]
     },
     "execution_count": 170,
     "metadata": {},
     "output_type": "execute_result"
    }
   ],
   "source": [
    "s = \"아버지가방에들어가신다\"\n",
    "kkma.pos(s)"
   ]
  },
  {
   "cell_type": "markdown",
   "metadata": {},
   "source": [
    "> 가방 빼고는 잘 분석하는 편이다."
   ]
  },
  {
   "cell_type": "code",
   "execution_count": 171,
   "metadata": {},
   "outputs": [
    {
     "data": {
      "text/plain": [
       "'존칭 선어말 어미'"
      ]
     },
     "execution_count": 171,
     "metadata": {},
     "output_type": "execute_result"
    }
   ],
   "source": [
    "kkma.tagset[\"EPH\"]"
   ]
  },
  {
   "cell_type": "code",
   "execution_count": 172,
   "metadata": {},
   "outputs": [
    {
     "data": {
      "text/plain": [
       "[('들어가', 'VV'),\n",
       " ('시', 'EPH'),\n",
       " ('ㄴ다', 'EFN'),\n",
       " ('.', 'SF'),\n",
       " ('들어가', 'VV'),\n",
       " ('다', 'EFN'),\n",
       " ('.', 'SF'),\n",
       " ('시', 'NNG'),\n",
       " ('를', 'JKO'),\n",
       " ('쓰', 'VV'),\n",
       " ('다', 'EFN'),\n",
       " ('.', 'SF')]"
      ]
     },
     "execution_count": 172,
     "metadata": {},
     "output_type": "execute_result"
    }
   ],
   "source": [
    "kkma.pos(\"들어가신다. 들어가다. 시를 쓰다.\")"
   ]
  },
  {
   "cell_type": "markdown",
   "metadata": {},
   "source": [
    "> 첫번째 '시'와 두번째 '시'는 다른 의미를 가진다.\n",
    ">\n",
    "> 그러므로 품사를 같이 봐야한다."
   ]
  },
  {
   "cell_type": "code",
   "execution_count": 173,
   "metadata": {},
   "outputs": [
    {
     "data": {
      "text/plain": [
       "[('아버지가방에들어가', 'N'), ('이', 'J'), ('시ㄴ다', 'E')]"
      ]
     },
     "execution_count": 173,
     "metadata": {},
     "output_type": "execute_result"
    }
   ],
   "source": [
    "# 한나눔은 최장길이를 찾는 특징이 있다.\n",
    "\n",
    "hannanum.pos(s)"
   ]
  },
  {
   "cell_type": "code",
   "execution_count": 174,
   "metadata": {},
   "outputs": [
    {
     "data": {
      "text/plain": [
       "[('아버지', 'NNG'),\n",
       " ('가방', 'NNP'),\n",
       " ('에', 'JKB'),\n",
       " ('들어가', 'VV'),\n",
       " ('시', 'EP'),\n",
       " ('ㄴ다', 'EC')]"
      ]
     },
     "execution_count": 174,
     "metadata": {},
     "output_type": "execute_result"
    }
   ],
   "source": [
    "komoran.pos(s)"
   ]
  },
  {
   "cell_type": "code",
   "execution_count": 175,
   "metadata": {},
   "outputs": [
    {
     "data": {
      "text/plain": [
       "[('아버지', 'Noun'), ('가방', 'Noun'), ('에', 'Josa'), ('들어가신다', 'Verb')]"
      ]
     },
     "execution_count": 175,
     "metadata": {},
     "output_type": "execute_result"
    }
   ],
   "source": [
    "okt.pos(s)"
   ]
  },
  {
   "cell_type": "markdown",
   "metadata": {},
   "source": [
    "### 띄어쓰기는 제대로 되었으나, 중의적인 표현을 보자"
   ]
  },
  {
   "cell_type": "code",
   "execution_count": 176,
   "metadata": {},
   "outputs": [],
   "source": [
    "s = \"하늘을 나는 자동차\""
   ]
  },
  {
   "cell_type": "code",
   "execution_count": 177,
   "metadata": {},
   "outputs": [
    {
     "data": {
      "text/plain": [
       "[('하늘', 'NNG'), ('을', 'JKO'), ('날', 'VV'), ('는', 'ETD'), ('자동차', 'NNG')]"
      ]
     },
     "execution_count": 177,
     "metadata": {},
     "output_type": "execute_result"
    }
   ],
   "source": [
    "kkma.pos(s)"
   ]
  },
  {
   "cell_type": "code",
   "execution_count": 178,
   "metadata": {},
   "outputs": [
    {
     "data": {
      "text/plain": [
       "[('하늘', 'N'), ('을', 'J'), ('나', 'N'), ('는', 'J'), ('자동차', 'N')]"
      ]
     },
     "execution_count": 178,
     "metadata": {},
     "output_type": "execute_result"
    }
   ],
   "source": [
    "# '나'를 명사로 분석해버렸다. \n",
    "# 그래서 뒤에 오는 '는'도 조사로 분석해버리는 문제가 생겼다.\n",
    "\n",
    "hannanum.pos(s)"
   ]
  },
  {
   "cell_type": "code",
   "execution_count": 179,
   "metadata": {},
   "outputs": [
    {
     "data": {
      "text/plain": [
       "[('하늘', 'NNG'), ('을', 'JKO'), ('나', 'NP'), ('는', 'JX'), ('자동차', 'NNG')]"
      ]
     },
     "execution_count": 179,
     "metadata": {},
     "output_type": "execute_result"
    }
   ],
   "source": [
    "komoran.pos(s)"
   ]
  },
  {
   "cell_type": "code",
   "execution_count": 180,
   "metadata": {},
   "outputs": [
    {
     "data": {
      "text/plain": [
       "[('하늘', 'Noun'), ('을', 'Josa'), ('나', 'Noun'), ('는', 'Josa'), ('자동차', 'Noun')]"
      ]
     },
     "execution_count": 180,
     "metadata": {},
     "output_type": "execute_result"
    }
   ],
   "source": [
    "okt.pos(s)"
   ]
  },
  {
   "cell_type": "markdown",
   "metadata": {},
   "source": [
    "성능:\n",
    "Kkma > Komoran, Okt > Hannanum\n",
    "\n",
    "단점:\n",
    "Kkma -> 터짐, 문서 몇개 돌리면 터짐\n",
    "\n",
    "Kkma가 터지면 2순위로 komoran 또는 okt를 쓰겠음. (이 수업 동안에는)"
   ]
  },
  {
   "cell_type": "code",
   "execution_count": 185,
   "metadata": {},
   "outputs": [],
   "source": [
    "def eojeol(sentence, n=2):\n",
    "    ngram = []\n",
    "    tokens = word_tokenize(sentence)\n",
    "    for i in range(len(tokens)-(n-1)):\n",
    "        ngram.append(tuple(tokens[i:i+n]))\n",
    "    return ngram"
   ]
  },
  {
   "cell_type": "code",
   "execution_count": 182,
   "metadata": {},
   "outputs": [],
   "source": [
    "from nltk import Text\n",
    "from nltk.tokenize import regexp_tokenize"
   ]
  },
  {
   "cell_type": "code",
   "execution_count": 207,
   "metadata": {},
   "outputs": [],
   "source": [
    "from konlpy.corpus import kolaw\n",
    "corpus = kolaw.open(kolaw.fileids()[0]).read()\n",
    "text1 = Text(word_tokenize(corpus))\n",
    "text2 = Text(regexp_tokenize(corpus, r\"\\b\\w+\\b\"))\n",
    "text3 = Text(kkma.morphs(corpus))\n",
    "text4 = Text(kkma.pos(corpus))"
   ]
  },
  {
   "cell_type": "code",
   "execution_count": 187,
   "metadata": {},
   "outputs": [],
   "source": [
    "tokens = list()\n",
    "for _ in corpus.split():\n",
    "    tokens.extend(umjeol(_))\n",
    "text5 = Text(tokens)\n",
    "text6 = Text(eojeol(corpus))"
   ]
  },
  {
   "cell_type": "code",
   "execution_count": 200,
   "metadata": {},
   "outputs": [],
   "source": [
    "def eojeol(sentence, n=2):\n",
    "    ngram = []\n",
    "    tokens = sentence\n",
    "    for i in range(len(tokens)-(n-1)):\n",
    "        ngram.append(tuple(tokens[i:i+n]))\n",
    "    return ngram\n",
    "\n",
    "text7 = Text(eojeol(kkma.morphs(corpus)))"
   ]
  },
  {
   "cell_type": "code",
   "execution_count": 208,
   "metadata": {},
   "outputs": [
    {
     "data": {
      "text/plain": [
       "(4178, 4640, 4325, 10053, 10053, 37477, 4639, 10052)"
      ]
     },
     "execution_count": 208,
     "metadata": {},
     "output_type": "execute_result"
    }
   ],
   "source": [
    "len(corpus.split()), text1.vocab().N(), text2.vocab().N(), text3.vocab().N(), \\\n",
    "text4.vocab().N(), text5.vocab().N(), text6.vocab().N(), text7.vocab().N()"
   ]
  },
  {
   "cell_type": "code",
   "execution_count": 209,
   "metadata": {},
   "outputs": [
    {
     "data": {
      "text/plain": [
       "(4178, 2023, 2085, 1247, 1294, 10745, 3441, 4297)"
      ]
     },
     "execution_count": 209,
     "metadata": {},
     "output_type": "execute_result"
    }
   ],
   "source": [
    "len(corpus.split()), text1.vocab().B(), text2.vocab().B(), text3.vocab().B(), \\\n",
    "text4.vocab().B(), text5.vocab().B(), text6.vocab().B(), text7.vocab().B()"
   ]
  },
  {
   "cell_type": "code",
   "execution_count": 212,
   "metadata": {},
   "outputs": [
    {
     "name": "stdout",
     "output_type": "stream",
     "text": [
      "(('.', 357), ('수', 87), ('의', 532), (('의', 'JKG'), 532), ('의', 655), (('있다', '.'), 57), (('ㄴ다', '.'), 243))\n",
      "\n",
      "((',', 101), ('①', 75), ('하', 457), (('.', 'SF'), 359), ('하', 406), (('한다', '.'), 56), (('저', '의'), 155))\n",
      "\n",
      "(('수', 87), ('또는', 70), ('.', 359), (('하', 'XSV'), 350), ('한', 403), (('수', '있다'), 56), (('.', '저'), 133))\n",
      "\n",
      "(('①', 75), ('의하여', 66), ('에', 328), (('에', 'JKM'), 328), ('에', 367), (('법률이', '정하는'), 48), (('하', 'ㄴ다'), 114))\n",
      "\n",
      "(('또는', 70), ('법률이', 57), ('는', 281), (('ㄴ다', 'EFN'), 243), ('는', 363), (('정하는', '바에'), 37), (('하', 'ㄴ'), 89))\n",
      "\n",
      "(('의하여', 66), ('있다', 57), ('ㄴ다', 243), (('ㄴ', 'ETD'), 234), ('.', 360), (('바에', '의하여'), 36), (('다', '.'), 88))\n",
      "\n",
      "(('법률이', 57), ('한다', 56), ('ㄴ', 234), (('을', 'JKO'), 211), ('다', 354), (('법률로', '정한다'), 28), (('ㄹ', '수'), 86))\n",
      "\n",
      "(('있다', 57), ('정하는', 50), ('을', 232), (('은', 'JX'), 182), ('다.', 332), (('정한다', '.'), 28), (('하', 'ㄹ'), 85))\n",
      "\n",
      "(('한다', 56), ('그', 44), ('은', 195), (('는', 'JX'), 180), ('국', 325), (('가진다', '.'), 25), (('에', '의하'), 83))\n",
      "\n",
      "(('정하는', 50), ('때에는', 42), ('이', 192), (('저', 'NP'), 155), ('법', 277), (('아니한다', '.'), 25), (('조', '①'), 78))\n",
      "\n"
     ]
    }
   ],
   "source": [
    "for _ in list(zip(text1.vocab().most_common(10),\n",
    "                 text2.vocab().most_common(10),\n",
    "                 text3.vocab().most_common(10),\n",
    "                 text4.vocab().most_common(10),\n",
    "                 text5.vocab().most_common(10),\n",
    "                 text6.vocab().most_common(10),\n",
    "                 text7.vocab().most_common(10))):\n",
    "    print(_)\n",
    "    print()"
   ]
  },
  {
   "cell_type": "markdown",
   "metadata": {},
   "source": [
    "> 음절, 형태소 분석기 만으로는 성능이 잘 안나오는 경우가 분명히 있을 것이다.\n",
    ">\n",
    "> 음절단위 패턴, 어절단위 패턴, 형태소단위 패턴 이 필요할 것이다.\n",
    ">\n",
    "> 여러가지 분석기를 써보고 직접 패턴을 찾는것도 좋다.\n",
    ">\n",
    "> 바이그램이 적당하게 쓸 만할 것이다."
   ]
  },
  {
   "cell_type": "code",
   "execution_count": 222,
   "metadata": {},
   "outputs": [],
   "source": [
    "import os\n",
    "basedir = \"practice/8일차_실습_project/헤드라인/\"\n",
    "\n",
    "corpus1 = list()\n",
    "for file in [_ for _ in os.listdir(basedir)\n",
    "            if _.startswith(\"정치-\")]:\n",
    "    with open(basedir+file, encoding=\"utf-8\") as fp:\n",
    "        corpus1.append(fp.read())\n",
    "        \n",
    "        \n",
    "corpus2 = list()\n",
    "for file in [_ for _ in os.listdir(basedir)\n",
    "            if _.startswith(\"IT 과학-\")]:\n",
    "    with open(basedir+file, encoding=\"utf-8\") as fp:\n",
    "        corpus2.append(fp.read())"
   ]
  },
  {
   "cell_type": "code",
   "execution_count": 223,
   "metadata": {},
   "outputs": [],
   "source": [
    "corpus1 = okt.pos(\"\\n\".join(corpus1))\n",
    "corpus2 = okt.pos(\"\\n\".join(corpus2))"
   ]
  },
  {
   "cell_type": "code",
   "execution_count": 224,
   "metadata": {},
   "outputs": [],
   "source": [
    "def eojeol(tokens, n=2):\n",
    "    ngram = []\n",
    "    for i in range(len(tokens)-(n-1)):\n",
    "        ngram.append(\" \".join(tokens[i:i+n]))\n",
    "    return ngram"
   ]
  },
  {
   "cell_type": "code",
   "execution_count": 225,
   "metadata": {},
   "outputs": [
    {
     "data": {
      "text/plain": [
       "[(('.', 627), ('했다 .', 238)),\n",
       " (('을', 609), ('조 장관', 85)),\n",
       " (('이', 565), ('한국 당', 80)),\n",
       " (('\"', 362), ('” 고', 71)),\n",
       " (('를', 358), ('콘텐츠 산업', 60)),\n",
       " (('의', 334), ('하고 있다', 58)),\n",
       " (('에', 305), ('\" 고', 57)),\n",
       " (('은', 281), ('있다 .', 53)),\n",
       " (('했다', 253), ('\" 며', 46)),\n",
       " ((',', 252), ('장관 은', 46))]"
      ]
     },
     "execution_count": 225,
     "metadata": {},
     "output_type": "execute_result"
    }
   ],
   "source": [
    "# 정치\n",
    "\n",
    "text1 = Text([_[0] for _ in corpus1])\n",
    "text2 = Text(eojeol([_[0] for _ in corpus1]))\n",
    "list(zip(text1.vocab().most_common(10), text2.vocab().most_common(10)))"
   ]
  },
  {
   "cell_type": "code",
   "execution_count": 227,
   "metadata": {},
   "outputs": [
    {
     "data": {
      "text/plain": [
       "[(('.', 417), ('했다 .', 72)),\n",
       " (('을', 304), ('있다 .', 70)),\n",
       " (('이', 257), ('이다 .', 63)),\n",
       " (('를', 254), ('블록 체인', 58)),\n",
       " (('에', 225), ('할 수', 45)),\n",
       " (('의', 210), ('위 한', 28)),\n",
       " (('가', 149), ('수 있다', 25)),\n",
       " (('는', 145), ('체인 게임', 25)),\n",
       " ((',', 140), ('. 이', 25)),\n",
       " (('한', 130), ('카카오 모빌리티', 24))]"
      ]
     },
     "execution_count": 227,
     "metadata": {},
     "output_type": "execute_result"
    }
   ],
   "source": [
    "# IT 과학\n",
    "\n",
    "text1 = Text([_[0] for _ in corpus2])\n",
    "text2 = Text(eojeol([_[0] for _ in corpus2]))\n",
    "list(zip(text1.vocab().most_common(10), text2.vocab().most_common(10)))"
   ]
  },
  {
   "cell_type": "markdown",
   "metadata": {},
   "source": [
    "---"
   ]
  },
  {
   "cell_type": "markdown",
   "metadata": {},
   "source": [
    "# collocation"
   ]
  },
  {
   "cell_type": "code",
   "execution_count": 258,
   "metadata": {},
   "outputs": [],
   "source": [
    "text = Text(kkma.morphs(corpus))"
   ]
  },
  {
   "cell_type": "code",
   "execution_count": 259,
   "metadata": {},
   "outputs": [
    {
     "name": "stdout",
     "output_type": "stream",
     "text": [
      "Displaying 25 of 69 matches:\n",
      "대한민국 헌법 유구 하 ㄴ 역사 와 전통 에 빛나 는 우리 대하 ㄴ 국민 은 3 · 1 운동 으로 건립 되 ㄴ 대한민국 임시 정부 의 법통 \n",
      "리 에 따르 는 책임 과 의무 를 완수 하 게 하여 , 안 으로 는 국민 생활 의 균등 하 ㄴ 향상 을 기하 고 밖 으로 는 항구적 이 ㄴ \n",
      " 에 걸치 어 개정 되 ㄴ 헌법 을 이제 국회 의 의결 을 거치 어 국민 투표 에 의하 여 개정 하 ㄴ다 . 저 의 1 장 총 강 제 1 조\n",
      "조 ① 대한민국 은 민주 공화국 이 다 . ② 대한민국 의 주권 은 국민 에게 있 고 , 모든 권력 은 국민 으로 부터 나오 ㄴ다 . 저 의\n",
      "다 . ② 대한민국 의 주권 은 국민 에게 있 고 , 모든 권력 은 국민 으로 부터 나오 ㄴ다 . 저 의 2 조 ① 대한민국 의 국민 이 되\n",
      "력 은 국민 으로 부터 나오 ㄴ다 . 저 의 2 조 ① 대한민국 의 국민 이 되 는 요건 은 법률 로 정하 ㄴ다 . ② 국가 는 법률 이 정\n",
      " 정하 ㄴ다 . ② 국가 는 법률 이 정하 는 바 에 의하 여 재외 국민 을 보호 하 ㄹ 의무 를 질 ㄴ다 . 저 의 3 조 대한민국 의 영\n",
      "의하 여 그 지위 가 보장 되 ㄴ다 . 저 의 7 조 ① 공무원 은 국민 전체 에 대하 ㄴ 봉사자 이 며 , 국민 에 대하 여 책임 을 질 \n",
      " 의 7 조 ① 공무원 은 국민 전체 에 대하 ㄴ 봉사자 이 며 , 국민 에 대하 여 책임 을 질 ㄴ다 . ② 공무원 의 신분 과 정치적 중\n",
      " 정당 은 그 목적 · 조직 과 활동 이 민주적 이 어야 하 며 , 국민 의 정치적 의사 형성 에 참여 하 는데 필요 하 ㄴ 조직 을 가지 \n",
      "과 민족 문화 의 창달 에 노력 하 여야 하 ㄴ다 . 저 의 2 장 국민 의 권리 와 의무 제 10 조 모든 국민 은 인간 으로서 의 존엄 \n",
      "하 ㄴ다 . 저 의 2 장 국민 의 권리 와 의무 제 10 조 모든 국민 은 인간 으로서 의 존엄 과 가치 를 가지 며 , 행복 을 추구 하\n",
      "이르 ㄹ 보장 하 ㄹ 의무 를 질 ㄴ다 . 저 의 11 조 ① 모든 국민 은 법 앞 에 평등 하 다 . 누구 든지 성별 · 종교 또는 사회적\n",
      "ㄴ 특권 도 이에 따르 지 아니하 ㄴ다 . 저 의 12 조 ① 모든 국민 은 신체 의 자유 를 가지 ㄴ다 . 누구 든지 법률 에 의하 지 아\n",
      " · 보안 처분 또는 강제 노역 을 받 지 아니하 ㄴ다 . ② 모든 국민 은 고문 을 받 지 아니하 며 , 형 사상 자기 에게 불리 하 ㄴ \n",
      "르 ㄹ 이유 로 처벌 하 ㄹ 수 없 다 . 저 의 13 조 ① 모든 국민 은 행위시 의 법률 에 의하 여 범죄 를 구성 하 지 아니하 는 행\n",
      "하 ㄴ 범죄 에 대하 여 거듭 처벌 받 지 아니하 ㄴ다 . ② 모든 국민 은 소급 입법 에 의하 여 참정권 의 제한 을 받 거나 재산권 을 \n",
      "제한 을 받 거나 재산권 을 박탈 당하 지 아니하 ㄴ다 . ③ 모든 국민 은 자기 의 행위 가 아니 ㄴ 친족 의 행위 로 인하 여 불 이익 \n",
      " 이익 하 ㄴ 처우 를 받 지 아니하 ㄴ다 . 저 의 14 조 모든 국민 은 거주 · 이전 의 자유 를 가지 ㄴ다 . 저 의 15 조 모든 \n",
      " 은 거주 · 이전 의 자유 를 가지 ㄴ다 . 저 의 15 조 모든 국민 은 직업 선택 의 자유 를 가지 ㄴ다 . 저 의 16 조 모든 국민\n",
      "국민 은 직업 선택 의 자유 를 가지 ㄴ다 . 저 의 16 조 모든 국민 은 주거 의 자유 를 침해 받 지 아니하 ㄴ다 . 주거 에 대하 ㄴ\n",
      "부 하 ㄴ 영장 을 제시 하 여야 하 ㄴ다 . 저 의 17 조 모든 국민 은 사생활 의 비밀 과 자유 를 침해 받 지 아니하 ㄴ다 . 저 의\n",
      "비밀 과 자유 를 침해 받 지 아니하 ㄴ다 . 저 의 18 조 모든 국민 은 통신 의 비밀 을 침해 받 지 아니하 ㄴ다 . 저 의 19 조 \n",
      "통신 의 비밀 을 침해 받 지 아니하 ㄴ다 . 저 의 19 조 모든 국민 은 양심 의 자유 를 가지 ㄴ다 . 저 의 20 조 ① 모든 국민 \n",
      " 국민 은 양심 의 자유 를 가지 ㄴ다 . 저 의 20 조 ① 모든 국민 은 종교 의 자유 를 가지 ㄴ다 . ② 국교 는 인정 되 지 아니하\n"
     ]
    }
   ],
   "source": [
    "# 단어가 있는 위치의 정보를 보여준다\n",
    "# 주변 단어에 어떤 문맥이 있는지 보고자 할때 유용할 것이다.\n",
    "\n",
    "text.concordance(\"국민\")"
   ]
  },
  {
   "cell_type": "code",
   "execution_count": 261,
   "metadata": {},
   "outputs": [
    {
     "data": {
      "image/png": "[encoded data removed]",
      "text/plain": [
       "<Figure size 432x288 with 1 Axes>"
      ]
     },
     "metadata": {
      "needs_background": "light"
     },
     "output_type": "display_data"
    }
   ],
   "source": [
    "%matplotlib inline\n",
    "\n",
    "text.dispersion_plot([\"국민\", \"대통령\", \"법\"])"
   ]
  },
  {
   "cell_type": "code",
   "execution_count": 262,
   "metadata": {},
   "outputs": [
    {
     "name": "stdout",
     "output_type": "stream",
     "text": [
      "저 국가 법관 법원 대통령 대한민국 정부 조국 국회 공무원 재판 타인 판결 근로 여자 국회의원 법률안 법령 농지 운동\n"
     ]
    }
   ],
   "source": [
    "text.similar(\"국민\")"
   ]
  },
  {
   "cell_type": "code",
   "execution_count": 263,
   "metadata": {},
   "outputs": [
    {
     "ename": "ValueError",
     "evalue": "too many values to unpack (expected 2)",
     "output_type": "error",
     "traceback": [
      "\u001b[1;31m---------------------------------------------------------------------------\u001b[0m",
      "\u001b[1;31mValueError\u001b[0m                                Traceback (most recent call last)",
      "\u001b[1;32m<ipython-input-263-35592e07579b>\u001b[0m in \u001b[0;36m<module>\u001b[1;34m\u001b[0m\n\u001b[1;32m----> 1\u001b[1;33m \u001b[0mtext\u001b[0m\u001b[1;33m.\u001b[0m\u001b[0mcollocations\u001b[0m\u001b[1;33m(\u001b[0m\u001b[1;33m)\u001b[0m\u001b[1;33m\u001b[0m\u001b[1;33m\u001b[0m\u001b[0m\n\u001b[0m",
      "\u001b[1;32m~\\Anaconda3\\lib\\site-packages\\nltk\\text.py\u001b[0m in \u001b[0;36mcollocations\u001b[1;34m(self, num, window_size)\u001b[0m\n\u001b[0;32m    442\u001b[0m \u001b[1;33m\u001b[0m\u001b[0m\n\u001b[0;32m    443\u001b[0m         collocation_strings = [\n\u001b[1;32m--> 444\u001b[1;33m             \u001b[0mw1\u001b[0m \u001b[1;33m+\u001b[0m \u001b[1;34m\" \"\u001b[0m \u001b[1;33m+\u001b[0m \u001b[0mw2\u001b[0m \u001b[1;32mfor\u001b[0m \u001b[0mw1\u001b[0m\u001b[1;33m,\u001b[0m \u001b[0mw2\u001b[0m \u001b[1;32min\u001b[0m \u001b[0mself\u001b[0m\u001b[1;33m.\u001b[0m\u001b[0mcollocation_list\u001b[0m\u001b[1;33m(\u001b[0m\u001b[0mnum\u001b[0m\u001b[1;33m,\u001b[0m \u001b[0mwindow_size\u001b[0m\u001b[1;33m)\u001b[0m\u001b[1;33m\u001b[0m\u001b[1;33m\u001b[0m\u001b[0m\n\u001b[0m\u001b[0;32m    445\u001b[0m         ]\n\u001b[0;32m    446\u001b[0m         \u001b[0mprint\u001b[0m\u001b[1;33m(\u001b[0m\u001b[0mtokenwrap\u001b[0m\u001b[1;33m(\u001b[0m\u001b[0mcollocation_strings\u001b[0m\u001b[1;33m,\u001b[0m \u001b[0mseparator\u001b[0m\u001b[1;33m=\u001b[0m\u001b[1;34m\"; \"\u001b[0m\u001b[1;33m)\u001b[0m\u001b[1;33m)\u001b[0m\u001b[1;33m\u001b[0m\u001b[1;33m\u001b[0m\u001b[0m\n",
      "\u001b[1;32m~\\Anaconda3\\lib\\site-packages\\nltk\\text.py\u001b[0m in \u001b[0;36m<listcomp>\u001b[1;34m(.0)\u001b[0m\n\u001b[0;32m    442\u001b[0m \u001b[1;33m\u001b[0m\u001b[0m\n\u001b[0;32m    443\u001b[0m         collocation_strings = [\n\u001b[1;32m--> 444\u001b[1;33m             \u001b[0mw1\u001b[0m \u001b[1;33m+\u001b[0m \u001b[1;34m\" \"\u001b[0m \u001b[1;33m+\u001b[0m \u001b[0mw2\u001b[0m \u001b[1;32mfor\u001b[0m \u001b[0mw1\u001b[0m\u001b[1;33m,\u001b[0m \u001b[0mw2\u001b[0m \u001b[1;32min\u001b[0m \u001b[0mself\u001b[0m\u001b[1;33m.\u001b[0m\u001b[0mcollocation_list\u001b[0m\u001b[1;33m(\u001b[0m\u001b[0mnum\u001b[0m\u001b[1;33m,\u001b[0m \u001b[0mwindow_size\u001b[0m\u001b[1;33m)\u001b[0m\u001b[1;33m\u001b[0m\u001b[1;33m\u001b[0m\u001b[0m\n\u001b[0m\u001b[0;32m    445\u001b[0m         ]\n\u001b[0;32m    446\u001b[0m         \u001b[0mprint\u001b[0m\u001b[1;33m(\u001b[0m\u001b[0mtokenwrap\u001b[0m\u001b[1;33m(\u001b[0m\u001b[0mcollocation_strings\u001b[0m\u001b[1;33m,\u001b[0m \u001b[0mseparator\u001b[0m\u001b[1;33m=\u001b[0m\u001b[1;34m\"; \"\u001b[0m\u001b[1;33m)\u001b[0m\u001b[1;33m)\u001b[0m\u001b[1;33m\u001b[0m\u001b[1;33m\u001b[0m\u001b[0m\n",
      "\u001b[1;31mValueError\u001b[0m: too many values to unpack (expected 2)"
     ]
    }
   ],
   "source": [
    "text.collocations()"
   ]
  },
  {
   "cell_type": "code",
   "execution_count": 239,
   "metadata": {},
   "outputs": [],
   "source": [
    "from nltk.corpus import brown, gutenberg"
   ]
  },
  {
   "cell_type": "code",
   "execution_count": 319,
   "metadata": {},
   "outputs": [],
   "source": [
    "Emma = gutenberg.open(gutenberg.fileids()[0]).read()"
   ]
  },
  {
   "cell_type": "code",
   "execution_count": 311,
   "metadata": {},
   "outputs": [],
   "source": [
    "# Emma = [_[0] for _ \n",
    "#              in pos_tag(word_tokenize(Emma.lower()))]\n",
    "\n",
    "# emma = Text(Emma)"
   ]
  },
  {
   "cell_type": "code",
   "execution_count": 321,
   "metadata": {},
   "outputs": [],
   "source": [
    "emma = Text(_[0] for _ \n",
    "             in pos_tag(word_tokenize(Emma.lower())))"
   ]
  },
  {
   "cell_type": "code",
   "execution_count": 322,
   "metadata": {},
   "outputs": [
    {
     "name": "stdout",
     "output_type": "stream",
     "text": [
      "she it he i weston you her harriet elton him me knightley jane that\n",
      "and the all there they them\n"
     ]
    }
   ],
   "source": [
    "emma.similar(\"emma\")"
   ]
  },
  {
   "cell_type": "code",
   "execution_count": 323,
   "metadata": {},
   "outputs": [
    {
     "name": "stdout",
     "output_type": "stream",
     "text": [
      "he it emma she miss weston i harriet that her there you knightley\n",
      "elton all him me what then as\n"
     ]
    }
   ],
   "source": [
    "emma.similar(\"jane\")"
   ]
  },
  {
   "cell_type": "code",
   "execution_count": 324,
   "metadata": {},
   "outputs": [
    {
     "data": {
      "image/png": "[encoded data removed]",
      "text/plain": [
       "<Figure size 432x288 with 1 Axes>"
      ]
     },
     "metadata": {
      "needs_background": "light"
     },
     "output_type": "display_data"
    }
   ],
   "source": [
    "# she가 emma와 비슷한 비중과 위치에서 사용되는걸 보니, emma는 여자일 것이다.\n",
    "# emma를 수식하면서 she를 많이 썼을 것이다.\n",
    "\n",
    "emma.dispersion_plot([\"emma\", \"jane\", \"she\"])"
   ]
  },
  {
   "cell_type": "code",
   "execution_count": 327,
   "metadata": {},
   "outputs": [],
   "source": [
    "from inspect import getsource"
   ]
  },
  {
   "cell_type": "code",
   "execution_count": 328,
   "metadata": {},
   "outputs": [
    {
     "name": "stdout",
     "output_type": "stream",
     "text": [
      "    def collocations(self, num=20, window_size=2):\n",
      "        \"\"\"\n",
      "        Print collocations derived from the text, ignoring stopwords.\n",
      "\n",
      "        :param num: The maximum number of collocations to print.\n",
      "        :type num: int\n",
      "        :param window_size: The number of tokens spanned by a collocation (default=2)\n",
      "        :type window_size: int\n",
      "        \"\"\"\n",
      "\n",
      "        collocation_strings = [\n",
      "            w1 + \" \" + w2 for w1, w2 in self.collocation_list(num, window_size)\n",
      "        ]\n",
      "        print(tokenwrap(collocation_strings, separator=\"; \"))\n",
      "\n"
     ]
    }
   ],
   "source": [
    "print(getsource(emma.collocations))"
   ]
  },
  {
   "cell_type": "code",
   "execution_count": 335,
   "metadata": {},
   "outputs": [],
   "source": [
    "collocation_strings = [\n",
    "            w1 for w1 in emma.collocation_list()\n",
    "        ]"
   ]
  },
  {
   "cell_type": "code",
   "execution_count": 341,
   "metadata": {},
   "outputs": [],
   "source": [
    "from nltk import tokenwrap"
   ]
  },
  {
   "cell_type": "code",
   "execution_count": null,
   "metadata": {},
   "outputs": [],
   "source": [
    "collocation_strings = [\n",
    "            w1 + \" \" + w2 for w1, w2 in self.collocation_list(num, window_size)\n",
    "        ]\n",
    "print(tokenwrap(collocation_strings, separator=\"; \"))"
   ]
  },
  {
   "cell_type": "code",
   "execution_count": 340,
   "metadata": {},
   "outputs": [
    {
     "name": "stdout",
     "output_type": "stream",
     "text": [
      "mr. knightley; mrs. weston; frank churchill; mr. elton; miss woodhouse; miss bates; mrs. elton; miss fairfax; every body; mr. weston; jane fairfax; every thing; mr. woodhouse; young man; great deal; dare say; maple grove; mrs. goddard; john knightley; miss smith; \n"
     ]
    }
   ],
   "source": [
    "t = \"\"\n",
    "for _ in collocation_strings:\n",
    "    t += _ +\"; \"\n",
    "print(t)"
   ]
  },
  {
   "cell_type": "code",
   "execution_count": 326,
   "metadata": {},
   "outputs": [
    {
     "data": {
      "text/plain": [
       "['mr. knightley',\n",
       " 'mrs. weston',\n",
       " 'frank churchill',\n",
       " 'mr. elton',\n",
       " 'miss woodhouse',\n",
       " 'miss bates',\n",
       " 'mrs. elton',\n",
       " 'miss fairfax',\n",
       " 'every body',\n",
       " 'mr. weston',\n",
       " 'jane fairfax',\n",
       " 'every thing',\n",
       " 'mr. woodhouse',\n",
       " 'young man',\n",
       " 'great deal',\n",
       " 'dare say',\n",
       " 'maple grove',\n",
       " 'mrs. goddard',\n",
       " 'john knightley',\n",
       " 'miss smith']"
      ]
     },
     "execution_count": 326,
     "metadata": {},
     "output_type": "execute_result"
    }
   ],
   "source": [
    "emma.collocation_list()"
   ]
  },
  {
   "cell_type": "code",
   "execution_count": 332,
   "metadata": {},
   "outputs": [],
   "source": [
    "import nltk"
   ]
  },
  {
   "cell_type": "code",
   "execution_count": 333,
   "metadata": {},
   "outputs": [
    {
     "data": {
      "text/plain": [
       "'3.4.4'"
      ]
     },
     "execution_count": 333,
     "metadata": {},
     "output_type": "execute_result"
    }
   ],
   "source": [
    "nltk.__version__"
   ]
  },
  {
   "cell_type": "code",
   "execution_count": 329,
   "metadata": {},
   "outputs": [
    {
     "ename": "ValueError",
     "evalue": "too many values to unpack (expected 2)",
     "output_type": "error",
     "traceback": [
      "\u001b[1;31m---------------------------------------------------------------------------\u001b[0m",
      "\u001b[1;31mValueError\u001b[0m                                Traceback (most recent call last)",
      "\u001b[1;32m<ipython-input-329-a936252beb65>\u001b[0m in \u001b[0;36m<module>\u001b[1;34m\u001b[0m\n\u001b[1;32m----> 1\u001b[1;33m \u001b[1;33m[\u001b[0m\u001b[0mw1\u001b[0m \u001b[1;33m+\u001b[0m \u001b[1;34m\" \"\u001b[0m \u001b[1;33m+\u001b[0m \u001b[0mw2\u001b[0m \u001b[1;32mfor\u001b[0m \u001b[0mw1\u001b[0m\u001b[1;33m,\u001b[0m \u001b[0mw2\u001b[0m \u001b[1;32min\u001b[0m \u001b[0memma\u001b[0m\u001b[1;33m.\u001b[0m\u001b[0mcollocation_list\u001b[0m\u001b[1;33m(\u001b[0m\u001b[1;33m)\u001b[0m\u001b[1;33m]\u001b[0m\u001b[1;33m\u001b[0m\u001b[1;33m\u001b[0m\u001b[0m\n\u001b[0m",
      "\u001b[1;32m<ipython-input-329-a936252beb65>\u001b[0m in \u001b[0;36m<listcomp>\u001b[1;34m(.0)\u001b[0m\n\u001b[1;32m----> 1\u001b[1;33m \u001b[1;33m[\u001b[0m\u001b[0mw1\u001b[0m \u001b[1;33m+\u001b[0m \u001b[1;34m\" \"\u001b[0m \u001b[1;33m+\u001b[0m \u001b[0mw2\u001b[0m \u001b[1;32mfor\u001b[0m \u001b[0mw1\u001b[0m\u001b[1;33m,\u001b[0m \u001b[0mw2\u001b[0m \u001b[1;32min\u001b[0m \u001b[0memma\u001b[0m\u001b[1;33m.\u001b[0m\u001b[0mcollocation_list\u001b[0m\u001b[1;33m(\u001b[0m\u001b[1;33m)\u001b[0m\u001b[1;33m]\u001b[0m\u001b[1;33m\u001b[0m\u001b[1;33m\u001b[0m\u001b[0m\n\u001b[0m",
      "\u001b[1;31mValueError\u001b[0m: too many values to unpack (expected 2)"
     ]
    }
   ],
   "source": [
    "[w1 + \" \" + w2 for w1, w2 in emma.collocation_list()]"
   ]
  },
  {
   "cell_type": "code",
   "execution_count": 325,
   "metadata": {},
   "outputs": [
    {
     "ename": "ValueError",
     "evalue": "too many values to unpack (expected 2)",
     "output_type": "error",
     "traceback": [
      "\u001b[1;31m---------------------------------------------------------------------------\u001b[0m",
      "\u001b[1;31mValueError\u001b[0m                                Traceback (most recent call last)",
      "\u001b[1;32m<ipython-input-325-e34f949159a8>\u001b[0m in \u001b[0;36m<module>\u001b[1;34m\u001b[0m\n\u001b[1;32m----> 1\u001b[1;33m \u001b[0memma\u001b[0m\u001b[1;33m.\u001b[0m\u001b[0mcollocations\u001b[0m\u001b[1;33m(\u001b[0m\u001b[1;33m)\u001b[0m\u001b[1;33m\u001b[0m\u001b[1;33m\u001b[0m\u001b[0m\n\u001b[0m",
      "\u001b[1;32m~\\Anaconda3\\lib\\site-packages\\nltk\\text.py\u001b[0m in \u001b[0;36mcollocations\u001b[1;34m(self, num, window_size)\u001b[0m\n\u001b[0;32m    442\u001b[0m \u001b[1;33m\u001b[0m\u001b[0m\n\u001b[0;32m    443\u001b[0m         collocation_strings = [\n\u001b[1;32m--> 444\u001b[1;33m             \u001b[0mw1\u001b[0m \u001b[1;33m+\u001b[0m \u001b[1;34m\" \"\u001b[0m \u001b[1;33m+\u001b[0m \u001b[0mw2\u001b[0m \u001b[1;32mfor\u001b[0m \u001b[0mw1\u001b[0m\u001b[1;33m,\u001b[0m \u001b[0mw2\u001b[0m \u001b[1;32min\u001b[0m \u001b[0mself\u001b[0m\u001b[1;33m.\u001b[0m\u001b[0mcollocation_list\u001b[0m\u001b[1;33m(\u001b[0m\u001b[0mnum\u001b[0m\u001b[1;33m,\u001b[0m \u001b[0mwindow_size\u001b[0m\u001b[1;33m)\u001b[0m\u001b[1;33m\u001b[0m\u001b[1;33m\u001b[0m\u001b[0m\n\u001b[0m\u001b[0;32m    445\u001b[0m         ]\n\u001b[0;32m    446\u001b[0m         \u001b[0mprint\u001b[0m\u001b[1;33m(\u001b[0m\u001b[0mtokenwrap\u001b[0m\u001b[1;33m(\u001b[0m\u001b[0mcollocation_strings\u001b[0m\u001b[1;33m,\u001b[0m \u001b[0mseparator\u001b[0m\u001b[1;33m=\u001b[0m\u001b[1;34m\"; \"\u001b[0m\u001b[1;33m)\u001b[0m\u001b[1;33m)\u001b[0m\u001b[1;33m\u001b[0m\u001b[1;33m\u001b[0m\u001b[0m\n",
      "\u001b[1;32m~\\Anaconda3\\lib\\site-packages\\nltk\\text.py\u001b[0m in \u001b[0;36m<listcomp>\u001b[1;34m(.0)\u001b[0m\n\u001b[0;32m    442\u001b[0m \u001b[1;33m\u001b[0m\u001b[0m\n\u001b[0;32m    443\u001b[0m         collocation_strings = [\n\u001b[1;32m--> 444\u001b[1;33m             \u001b[0mw1\u001b[0m \u001b[1;33m+\u001b[0m \u001b[1;34m\" \"\u001b[0m \u001b[1;33m+\u001b[0m \u001b[0mw2\u001b[0m \u001b[1;32mfor\u001b[0m \u001b[0mw1\u001b[0m\u001b[1;33m,\u001b[0m \u001b[0mw2\u001b[0m \u001b[1;32min\u001b[0m \u001b[0mself\u001b[0m\u001b[1;33m.\u001b[0m\u001b[0mcollocation_list\u001b[0m\u001b[1;33m(\u001b[0m\u001b[0mnum\u001b[0m\u001b[1;33m,\u001b[0m \u001b[0mwindow_size\u001b[0m\u001b[1;33m)\u001b[0m\u001b[1;33m\u001b[0m\u001b[1;33m\u001b[0m\u001b[0m\n\u001b[0m\u001b[0;32m    445\u001b[0m         ]\n\u001b[0;32m    446\u001b[0m         \u001b[0mprint\u001b[0m\u001b[1;33m(\u001b[0m\u001b[0mtokenwrap\u001b[0m\u001b[1;33m(\u001b[0m\u001b[0mcollocation_strings\u001b[0m\u001b[1;33m,\u001b[0m \u001b[0mseparator\u001b[0m\u001b[1;33m=\u001b[0m\u001b[1;34m\"; \"\u001b[0m\u001b[1;33m)\u001b[0m\u001b[1;33m)\u001b[0m\u001b[1;33m\u001b[0m\u001b[1;33m\u001b[0m\u001b[0m\n",
      "\u001b[1;31mValueError\u001b[0m: too many values to unpack (expected 2)"
     ]
    }
   ],
   "source": [
    "emma.collocations()"
   ]
  },
  {
   "cell_type": "code",
   "execution_count": 265,
   "metadata": {},
   "outputs": [],
   "source": [
    "from nltk.collocations import BigramAssocMeasures, BigramCollocationFinder"
   ]
  },
  {
   "cell_type": "code",
   "execution_count": 269,
   "metadata": {},
   "outputs": [],
   "source": [
    "bigram = BigramCollocationFinder.from_words(Emma)"
   ]
  },
  {
   "cell_type": "code",
   "execution_count": 270,
   "metadata": {},
   "outputs": [
    {
     "data": {
      "text/plain": [
       "[('26th', 'ult.'),\n",
       " ('_______', 'regiment'),\n",
       " ('_a_', '_source_'),\n",
       " ('_amor_', '_patriae_'),\n",
       " ('_and_', '_misery_'),\n",
       " ('_any_', '_thing_'),\n",
       " ('_be_', '_a_'),\n",
       " ('_caro_', '_sposo_'),\n",
       " ('_dissolved_', '_it_.'),\n",
       " ('_great_', '_way_')]"
      ]
     },
     "execution_count": 270,
     "metadata": {},
     "output_type": "execute_result"
    }
   ],
   "source": [
    "bigram.nbest(BigramAssocMeasures().pmi, 10)"
   ]
  },
  {
   "cell_type": "markdown",
   "metadata": {},
   "source": [
    "## 한글"
   ]
  },
  {
   "cell_type": "code",
   "execution_count": 273,
   "metadata": {},
   "outputs": [
    {
     "data": {
      "text/plain": [
       "[('가부', '동수'),\n",
       " ('강제', '노역'),\n",
       " ('경자', '유전'),\n",
       " ('공무', '담임'),\n",
       " ('공중', '도덕'),\n",
       " ('과반', '수가'),\n",
       " ('교전', '상태'),\n",
       " ('기본적', '인권'),\n",
       " ('노인과', '청소년'),\n",
       " ('다수', '표')]"
      ]
     },
     "execution_count": 273,
     "metadata": {},
     "output_type": "execute_result"
    }
   ],
   "source": [
    "# kolaw\n",
    "\n",
    "bigram = BigramCollocationFinder.from_words(Text(kkma.morphs(corpus)))\n",
    "bigram.nbest(BigramAssocMeasures().pmi, 10)"
   ]
  },
  {
   "cell_type": "code",
   "execution_count": 307,
   "metadata": {},
   "outputs": [
    {
     "data": {
      "image/png": "[encoded data removed]",
      "text/plain": [
       "<Figure size 432x288 with 1 Axes>"
      ]
     },
     "metadata": {
      "needs_background": "light"
     },
     "output_type": "display_data"
    }
   ],
   "source": [
    "text.dispersion_plot([\"강제\", \"노역\", \"국민\"])"
   ]
  },
  {
   "cell_type": "code",
   "execution_count": 309,
   "metadata": {},
   "outputs": [
    {
     "ename": "ValueError",
     "evalue": "too many values to unpack (expected 2)",
     "output_type": "error",
     "traceback": [
      "\u001b[1;31m---------------------------------------------------------------------------\u001b[0m",
      "\u001b[1;31mValueError\u001b[0m                                Traceback (most recent call last)",
      "\u001b[1;32m<ipython-input-309-7872000ff34d>\u001b[0m in \u001b[0;36m<module>\u001b[1;34m\u001b[0m\n\u001b[1;32m----> 1\u001b[1;33m \u001b[0mtext\u001b[0m\u001b[1;33m.\u001b[0m\u001b[0mcollocations\u001b[0m\u001b[1;33m(\u001b[0m\u001b[1;36m20\u001b[0m\u001b[1;33m,\u001b[0m \u001b[1;36m2\u001b[0m\u001b[1;33m)\u001b[0m\u001b[1;33m\u001b[0m\u001b[1;33m\u001b[0m\u001b[0m\n\u001b[0m",
      "\u001b[1;32m~\\Anaconda3\\lib\\site-packages\\nltk\\text.py\u001b[0m in \u001b[0;36mcollocations\u001b[1;34m(self, num, window_size)\u001b[0m\n\u001b[0;32m    442\u001b[0m \u001b[1;33m\u001b[0m\u001b[0m\n\u001b[0;32m    443\u001b[0m         collocation_strings = [\n\u001b[1;32m--> 444\u001b[1;33m             \u001b[0mw1\u001b[0m \u001b[1;33m+\u001b[0m \u001b[1;34m\" \"\u001b[0m \u001b[1;33m+\u001b[0m \u001b[0mw2\u001b[0m \u001b[1;32mfor\u001b[0m \u001b[0mw1\u001b[0m\u001b[1;33m,\u001b[0m \u001b[0mw2\u001b[0m \u001b[1;32min\u001b[0m \u001b[0mself\u001b[0m\u001b[1;33m.\u001b[0m\u001b[0mcollocation_list\u001b[0m\u001b[1;33m(\u001b[0m\u001b[0mnum\u001b[0m\u001b[1;33m,\u001b[0m \u001b[0mwindow_size\u001b[0m\u001b[1;33m)\u001b[0m\u001b[1;33m\u001b[0m\u001b[1;33m\u001b[0m\u001b[0m\n\u001b[0m\u001b[0;32m    445\u001b[0m         ]\n\u001b[0;32m    446\u001b[0m         \u001b[0mprint\u001b[0m\u001b[1;33m(\u001b[0m\u001b[0mtokenwrap\u001b[0m\u001b[1;33m(\u001b[0m\u001b[0mcollocation_strings\u001b[0m\u001b[1;33m,\u001b[0m \u001b[0mseparator\u001b[0m\u001b[1;33m=\u001b[0m\u001b[1;34m\"; \"\u001b[0m\u001b[1;33m)\u001b[0m\u001b[1;33m)\u001b[0m\u001b[1;33m\u001b[0m\u001b[1;33m\u001b[0m\u001b[0m\n",
      "\u001b[1;32m~\\Anaconda3\\lib\\site-packages\\nltk\\text.py\u001b[0m in \u001b[0;36m<listcomp>\u001b[1;34m(.0)\u001b[0m\n\u001b[0;32m    442\u001b[0m \u001b[1;33m\u001b[0m\u001b[0m\n\u001b[0;32m    443\u001b[0m         collocation_strings = [\n\u001b[1;32m--> 444\u001b[1;33m             \u001b[0mw1\u001b[0m \u001b[1;33m+\u001b[0m \u001b[1;34m\" \"\u001b[0m \u001b[1;33m+\u001b[0m \u001b[0mw2\u001b[0m \u001b[1;32mfor\u001b[0m \u001b[0mw1\u001b[0m\u001b[1;33m,\u001b[0m \u001b[0mw2\u001b[0m \u001b[1;32min\u001b[0m \u001b[0mself\u001b[0m\u001b[1;33m.\u001b[0m\u001b[0mcollocation_list\u001b[0m\u001b[1;33m(\u001b[0m\u001b[0mnum\u001b[0m\u001b[1;33m,\u001b[0m \u001b[0mwindow_size\u001b[0m\u001b[1;33m)\u001b[0m\u001b[1;33m\u001b[0m\u001b[1;33m\u001b[0m\u001b[0m\n\u001b[0m\u001b[0;32m    445\u001b[0m         ]\n\u001b[0;32m    446\u001b[0m         \u001b[0mprint\u001b[0m\u001b[1;33m(\u001b[0m\u001b[0mtokenwrap\u001b[0m\u001b[1;33m(\u001b[0m\u001b[0mcollocation_strings\u001b[0m\u001b[1;33m,\u001b[0m \u001b[0mseparator\u001b[0m\u001b[1;33m=\u001b[0m\u001b[1;34m\"; \"\u001b[0m\u001b[1;33m)\u001b[0m\u001b[1;33m)\u001b[0m\u001b[1;33m\u001b[0m\u001b[1;33m\u001b[0m\u001b[0m\n",
      "\u001b[1;31mValueError\u001b[0m: too many values to unpack (expected 2)"
     ]
    }
   ],
   "source": [
    "text.collocations(20, 2)"
   ]
  },
  {
   "cell_type": "markdown",
   "metadata": {},
   "source": [
    "> bigram으로 \"강제\"와 \"노역\"이 자주 붙어서 사용된다고 한다.\n",
    ">\n",
    "> lexical dispersion으로 어디에 위치하고 있는지 보고 실제로 연관이 있는지 알 수 있다."
   ]
  },
  {
   "cell_type": "code",
   "execution_count": 272,
   "metadata": {},
   "outputs": [
    {
     "data": {
      "text/plain": [
       "[('\"[', '앵커'),\n",
       " ('+', 'α'),\n",
       " ('10분', '가량'),\n",
       " ('10시', '34분'),\n",
       " ('11월', '통합진보당'),\n",
       " ('180만', '명으로'),\n",
       " ('1조', '7천억원'),\n",
       " ('200', '평'),\n",
       " ('2013년', '11월'),\n",
       " ('2016년', '동서대'),\n",
       " ('586', '들은'),\n",
       " ('5월', '30일'),\n",
       " ('6시', '30분'),\n",
       " ('6월', '께까지'),\n",
       " ('7천', '400억원'),\n",
       " ('95억', '5천만달러'),\n",
       " ('Justice', 'League'),\n",
       " ('MSI', '주가'),\n",
       " ('NBC', '리메이크'),\n",
       " ('Remember', '804')]"
      ]
     },
     "execution_count": 272,
     "metadata": {},
     "output_type": "execute_result"
    }
   ],
   "source": [
    "# 정치\n",
    "\n",
    "bigram1 = BigramCollocationFinder.from_words(\n",
    "            [_[0] for _ in corpus1])\n",
    "bigram1.nbest(BigramAssocMeasures().pmi, 20)"
   ]
  },
  {
   "cell_type": "code",
   "execution_count": 282,
   "metadata": {},
   "outputs": [
    {
     "data": {
      "image/png": "[encoded data removed]",
      "text/plain": [
       "<Figure size 432x288 with 1 Axes>"
      ]
     },
     "metadata": {
      "needs_background": "light"
     },
     "output_type": "display_data"
    }
   ],
   "source": [
    "text1.dispersion_plot([\"MSI\", \"주가\"])"
   ]
  },
  {
   "cell_type": "markdown",
   "metadata": {},
   "source": [
    "---"
   ]
  },
  {
   "cell_type": "code",
   "execution_count": 289,
   "metadata": {},
   "outputs": [
    {
     "data": {
      "text/plain": [
       "['DT', 'JJ', 'JJ', 'NN', 'NN']"
      ]
     },
     "execution_count": 289,
     "metadata": {},
     "output_type": "execute_result"
    }
   ],
   "source": [
    "from nltk.chunk.regexp import RegexpParser\n",
    "tagged_sentence = pos_tag(word_tokenize(\"The little yellow dog varettde\".lower()))\n",
    "[_[1] for _ in tagged_sentence]"
   ]
  },
  {
   "cell_type": "code",
   "execution_count": 292,
   "metadata": {},
   "outputs": [],
   "source": [
    "np = RegexpParser(\"\"\"\n",
    "    NP: {<DT><JJ>*<nnn>}\n",
    "\"\"\")"
   ]
  },
  {
   "cell_type": "code",
   "execution_count": 293,
   "metadata": {},
   "outputs": [],
   "source": [
    "np.parse(tagged_sentence).draw()"
   ]
  },
  {
   "cell_type": "code",
   "execution_count": 295,
   "metadata": {},
   "outputs": [
    {
     "data": {
      "text/plain": [
       "[('내', 'NP'),\n",
       " ('친구', 'NNG'),\n",
       " ('가', 'JKS'),\n",
       " ('잠', 'NNG'),\n",
       " ('을', 'JKO'),\n",
       " ('많이', 'MAG'),\n",
       " ('자', 'VV'),\n",
       " ('ㄴ다', 'EFN'),\n",
       " ('.', 'SF')]"
      ]
     },
     "execution_count": 295,
     "metadata": {},
     "output_type": "execute_result"
    }
   ],
   "source": [
    "kkma.pos(\"내 친구가 잠을 많이 잔다.\" )z"
   ]
  },
  {
   "cell_type": "code",
   "execution_count": 299,
   "metadata": {},
   "outputs": [],
   "source": [
    "tagged = kkma.pos(\"내 친구가 잠을 많이 잔다.\")\n",
    "\n",
    "RegexpParser(\"\"\"\n",
    "    NP: {<NP|NNG>+<JK[A-Z]>}\n",
    "    VP: {<MA.?>?<VV|VX><EF.?>}\n",
    "\"\"\").parse(tagged).draw()"
   ]
  },
  {
   "cell_type": "code",
   "execution_count": 301,
   "metadata": {},
   "outputs": [],
   "source": [
    "result = RegexpParser(\"\"\"\n",
    "    NP: {<NP|NNG>+<JK[A-Z]>}\n",
    "    VP: {<MA.?>?<VV|VX><EF.?>}\n",
    "\"\"\").parse(tagged)"
   ]
  },
  {
   "cell_type": "code",
   "execution_count": 302,
   "metadata": {},
   "outputs": [
    {
     "name": "stdout",
     "output_type": "stream",
     "text": [
      "(S\n",
      "  (NP 내/NP 친구/NNG 가/JKS)\n",
      "  (NP 잠/NNG 을/JKO)\n",
      "  (VP 많이/MAG 자/VV ㄴ다/EFN)\n",
      "  ./SF)\n",
      "(NP 내/NP 친구/NNG 가/JKS)\n",
      "(NP 잠/NNG 을/JKO)\n",
      "(VP 많이/MAG 자/VV ㄴ다/EFN)\n"
     ]
    }
   ],
   "source": [
    "trees = list(result.subtrees())\n",
    "for _ in trees:\n",
    "    print(_)"
   ]
  },
  {
   "cell_type": "code",
   "execution_count": 263,
   "metadata": {
    "scrolled": true
   },
   "outputs": [
    {
     "ename": "ValueError",
     "evalue": "too many values to unpack (expected 2)",
     "output_type": "error",
     "traceback": [
      "\u001b[1;31m---------------------------------------------------------------------------\u001b[0m",
      "\u001b[1;31mValueError\u001b[0m                                Traceback (most recent call last)",
      "\u001b[1;32m<ipython-input-263-35592e07579b>\u001b[0m in \u001b[0;36m<module>\u001b[1;34m\u001b[0m\n\u001b[1;32m----> 1\u001b[1;33m \u001b[0mtext\u001b[0m\u001b[1;33m.\u001b[0m\u001b[0mcollocations\u001b[0m\u001b[1;33m(\u001b[0m\u001b[1;33m)\u001b[0m\u001b[1;33m\u001b[0m\u001b[1;33m\u001b[0m\u001b[0m\n\u001b[0m",
      "\u001b[1;32m~\\Anaconda3\\lib\\site-packages\\nltk\\text.py\u001b[0m in \u001b[0;36mcollocations\u001b[1;34m(self, num, window_size)\u001b[0m\n\u001b[0;32m    442\u001b[0m \u001b[1;33m\u001b[0m\u001b[0m\n\u001b[0;32m    443\u001b[0m         collocation_strings = [\n\u001b[1;32m--> 444\u001b[1;33m             \u001b[0mw1\u001b[0m \u001b[1;33m+\u001b[0m \u001b[1;34m\" \"\u001b[0m \u001b[1;33m+\u001b[0m \u001b[0mw2\u001b[0m \u001b[1;32mfor\u001b[0m \u001b[0mw1\u001b[0m\u001b[1;33m,\u001b[0m \u001b[0mw2\u001b[0m \u001b[1;32min\u001b[0m \u001b[0mself\u001b[0m\u001b[1;33m.\u001b[0m\u001b[0mcollocation_list\u001b[0m\u001b[1;33m(\u001b[0m\u001b[0mnum\u001b[0m\u001b[1;33m,\u001b[0m \u001b[0mwindow_size\u001b[0m\u001b[1;33m)\u001b[0m\u001b[1;33m\u001b[0m\u001b[1;33m\u001b[0m\u001b[0m\n\u001b[0m\u001b[0;32m    445\u001b[0m         ]\n\u001b[0;32m    446\u001b[0m         \u001b[0mprint\u001b[0m\u001b[1;33m(\u001b[0m\u001b[0mtokenwrap\u001b[0m\u001b[1;33m(\u001b[0m\u001b[0mcollocation_strings\u001b[0m\u001b[1;33m,\u001b[0m \u001b[0mseparator\u001b[0m\u001b[1;33m=\u001b[0m\u001b[1;34m\"; \"\u001b[0m\u001b[1;33m)\u001b[0m\u001b[1;33m)\u001b[0m\u001b[1;33m\u001b[0m\u001b[1;33m\u001b[0m\u001b[0m\n",
      "\u001b[1;32m~\\Anaconda3\\lib\\site-packages\\nltk\\text.py\u001b[0m in \u001b[0;36m<listcomp>\u001b[1;34m(.0)\u001b[0m\n\u001b[0;32m    442\u001b[0m \u001b[1;33m\u001b[0m\u001b[0m\n\u001b[0;32m    443\u001b[0m         collocation_strings = [\n\u001b[1;32m--> 444\u001b[1;33m             \u001b[0mw1\u001b[0m \u001b[1;33m+\u001b[0m \u001b[1;34m\" \"\u001b[0m \u001b[1;33m+\u001b[0m \u001b[0mw2\u001b[0m \u001b[1;32mfor\u001b[0m \u001b[0mw1\u001b[0m\u001b[1;33m,\u001b[0m \u001b[0mw2\u001b[0m \u001b[1;32min\u001b[0m \u001b[0mself\u001b[0m\u001b[1;33m.\u001b[0m\u001b[0mcollocation_list\u001b[0m\u001b[1;33m(\u001b[0m\u001b[0mnum\u001b[0m\u001b[1;33m,\u001b[0m \u001b[0mwindow_size\u001b[0m\u001b[1;33m)\u001b[0m\u001b[1;33m\u001b[0m\u001b[1;33m\u001b[0m\u001b[0m\n\u001b[0m\u001b[0;32m    445\u001b[0m         ]\n\u001b[0;32m    446\u001b[0m         \u001b[0mprint\u001b[0m\u001b[1;33m(\u001b[0m\u001b[0mtokenwrap\u001b[0m\u001b[1;33m(\u001b[0m\u001b[0mcollocation_strings\u001b[0m\u001b[1;33m,\u001b[0m \u001b[0mseparator\u001b[0m\u001b[1;33m=\u001b[0m\u001b[1;34m\"; \"\u001b[0m\u001b[1;33m)\u001b[0m\u001b[1;33m)\u001b[0m\u001b[1;33m\u001b[0m\u001b[1;33m\u001b[0m\u001b[0m\n",
      "\u001b[1;31mValueError\u001b[0m: too many values to unpack (expected 2)"
     ]
    }
   ],
   "source": [
    "text.collocations()"
   ]
  }
 ],
 "metadata": {
  "kernelspec": {
   "display_name": "Python 3",
   "language": "python",
   "name": "python3"
  },
  "language_info": {
   "codemirror_mode": {
    "name": "ipython",
    "version": 3
   },
   "file_extension": ".py",
   "mimetype": "text/x-python",
   "name": "python",
   "nbconvert_exporter": "python",
   "pygments_lexer": "ipython3",
   "version": "3.7.3"
  }
 },
 "nbformat": 4,
 "nbformat_minor": 2
}
