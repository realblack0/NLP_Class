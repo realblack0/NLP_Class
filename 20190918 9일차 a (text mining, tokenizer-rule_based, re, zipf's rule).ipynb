{
 "cells": [
  {
   "cell_type": "markdown",
   "metadata": {},
   "source": [
    "# 자연어 처리 개요"
   ]
  },
  {
   "cell_type": "markdown",
   "metadata": {},
   "source": [
    "#### 형태소 분석: 토큰 분리, 어간 추출, 품사 부착, 색인, 벡터화\n",
    "#### 구문 분석: 문장 경계 인식, 구문 분석, 공기어, 개체명 사전 구축(PLOT, 수치, 외국어 한글표기), 개체명 인식 \n",
    "#### 의미 분석: 대용어 해소(대명사, 두문자어, 약어, 수치), 의미 중의성 해결(동명이인, 이명동인)\n",
    "#### 담론 분석: 분류, 군집, 중복, 요약, 가중치, 순위화, 토픽 모델링, 이슈 트래킹, 평판 분석, 감성분석, 복합논증 분석"
   ]
  },
  {
   "cell_type": "markdown",
   "metadata": {},
   "source": [
    "---"
   ]
  },
  {
   "cell_type": "markdown",
   "metadata": {},
   "source": [
    "# Text Mining\n",
    "- 엄밀히 말하자면 NLP와는 다르다.\n",
    "- 자연어를 처리하기 위해 의미있는 단어만 뽑는 행위."
   ]
  },
  {
   "cell_type": "markdown",
   "metadata": {},
   "source": [
    "---"
   ]
  },
  {
   "cell_type": "markdown",
   "metadata": {},
   "source": [
    "# NLTK\n",
    "- 전 세계적으로 가장 많이 사용하는 NLP library\n",
    "- python NLP 계의 scikit 같은 존재\n",
    "- 단, 한글은 지원이 안된다."
   ]
  },
  {
   "cell_type": "code",
   "execution_count": null,
   "metadata": {},
   "outputs": [],
   "source": [
    "# install이 안되어 있다면 아래 코드를 실행\n",
    "\n",
    "# !pip install nltk"
   ]
  },
  {
   "cell_type": "code",
   "execution_count": 7,
   "metadata": {},
   "outputs": [
    {
     "name": "stderr",
     "output_type": "stream",
     "text": [
      "[nltk_data] Downloading package brown to\n",
      "[nltk_data]     C:\\Users\\JINHYO\\AppData\\Roaming\\nltk_data...\n",
      "[nltk_data]   Unzipping corpora\\brown.zip.\n",
      "[nltk_data] Downloading package gutenberg to\n",
      "[nltk_data]     C:\\Users\\JINHYO\\AppData\\Roaming\\nltk_data...\n",
      "[nltk_data]   Unzipping corpora\\gutenberg.zip.\n",
      "[nltk_data] Downloading package punkt to\n",
      "[nltk_data]     C:\\Users\\JINHYO\\AppData\\Roaming\\nltk_data...\n",
      "[nltk_data]   Package punkt is already up-to-date!\n",
      "[nltk_data] Downloading package stopwords to\n",
      "[nltk_data]     C:\\Users\\JINHYO\\AppData\\Roaming\\nltk_data...\n",
      "[nltk_data]   Package stopwords is already up-to-date!\n"
     ]
    },
    {
     "data": {
      "text/plain": [
       "True"
      ]
     },
     "execution_count": 7,
     "metadata": {},
     "output_type": "execute_result"
    }
   ],
   "source": [
    "import nltk\n",
    "nltk.download(\"brown\") # 가장 보편적으로 성능 체크하는 corpus(말뭉치)\n",
    "nltk.download(\"gutenberg\") # 저작권이 종료된 작품이 다수 수록됨\n",
    "nltk.download(\"punkt\") # 구둣점 데이터\n",
    "nltk.download(\"stopwords\") # 불용어 데이터"
   ]
  },
  {
   "cell_type": "markdown",
   "metadata": {},
   "source": [
    "#### corpus 불러오기"
   ]
  },
  {
   "cell_type": "code",
   "execution_count": 9,
   "metadata": {},
   "outputs": [
    {
     "data": {
      "text/plain": [
       "(500, 'ca01')"
      ]
     },
     "execution_count": 9,
     "metadata": {},
     "output_type": "execute_result"
    }
   ],
   "source": [
    "from nltk.corpus import brown, gutenberg\n",
    "len(brown.fileids()), brown.fileids()[0]\n",
    "# corpus = brown.open(brown.fileids()[0]).read()"
   ]
  },
  {
   "cell_type": "code",
   "execution_count": 13,
   "metadata": {},
   "outputs": [],
   "source": [
    "corpus = gutenberg.open(gutenberg.fileids()[0]).read()"
   ]
  },
  {
   "cell_type": "code",
   "execution_count": 14,
   "metadata": {},
   "outputs": [
    {
     "data": {
      "text/plain": [
       "16823"
      ]
     },
     "execution_count": 14,
     "metadata": {},
     "output_type": "execute_result"
    }
   ],
   "source": [
    "# 개행으로 corpus를 나눈 것이다.\n",
    "# line으로 쪼갠 것이 곧 문장은 아니다.\n",
    "\n",
    "len(corpus.splitlines())"
   ]
  },
  {
   "cell_type": "code",
   "execution_count": 15,
   "metadata": {},
   "outputs": [
    {
     "data": {
      "text/plain": [
       "158167"
      ]
     },
     "execution_count": 15,
     "metadata": {},
     "output_type": "execute_result"
    }
   ],
   "source": [
    "# .(마침표)를 기준으로 쪼갠 것이다.\n",
    "# 개행으로 나눈 것보다는 많다.\n",
    "# .으로 쪼갠 것이 곧 문장은 아니다.\n",
    "\n",
    "len(corpus.split())"
   ]
  },
  {
   "cell_type": "markdown",
   "metadata": {},
   "source": [
    "#### sent_tokenizer\n",
    "- 말뭉치를 문장으로 나누어준다.\n",
    "- 문장 분류는 구둣점을 기반으로 한다."
   ]
  },
  {
   "cell_type": "code",
   "execution_count": 17,
   "metadata": {},
   "outputs": [
    {
     "data": {
      "text/plain": [
       "(7493,\n",
       " '[Emma by Jane Austen 1816]\\n\\nVOLUME I\\n\\nCHAPTER I\\n\\n\\nEmma Woodhouse, handsome, clever, and rich, with a comfortable home\\nand happy disposition, seemed to unite some of the best blessings\\nof existence; and had lived nearly twenty-one years in the world\\nwith very little to distress or vex her.')"
      ]
     },
     "execution_count": 17,
     "metadata": {},
     "output_type": "execute_result"
    }
   ],
   "source": [
    "# 문장으로 나누어주는 sent_tokenize를 써보니까 갯수가 위의 2개에 비해서 훨씬 줄었다.\n",
    "# sent_tokenize는 구둣점을 기반으로 쪼갠다.\n",
    "# punkt를 먼저 다운로드해둬야 사용할 수 있다.\n",
    "\n",
    "from nltk.tokenize import sent_tokenize\n",
    "sentence = sent_tokenize(corpus)\n",
    "len(sentence), sentence[0]"
   ]
  },
  {
   "cell_type": "code",
   "execution_count": 20,
   "metadata": {},
   "outputs": [
    {
     "data": {
      "text/plain": [
       "(4,\n",
       " ['\\n2047년에는 한 집 건너 한 집에 할머니와 할아버지가 살게 된다.',\n",
       "  '65세 이상 고령자 가구가 젠체의 49.6% 차지하기 때문이다.',\n",
       "  '2017년 1인 가구는 30대(17.4%)가 가장 큰 비중을 차지했지만, 2047년에는 70대(21.8%)가 가장 큰 비중으로 올라선다.',\n",
       "  '국내 가구 수는 2040년 정점을 찍은 뒤 2041년부터 줄어들 전망이다.'])"
      ]
     },
     "execution_count": 20,
     "metadata": {},
     "output_type": "execute_result"
    }
   ],
   "source": [
    "# nltk는 한국어를 지원하지 않지만, 구둣점은 만국이 비슷하게 사용하고 있으므로,한글에도 쓸 수는 있다.\n",
    "\n",
    "text = \"\"\"\n",
    "2047년에는 한 집 건너 한 집에 할머니와 할아버지가 살게 된다. 65세 이상 고령자 가구가 젠체의 49.6% 차지하기 때문이다. 2017년 1인 가구는 30대(17.4%)가 가장 큰 비중을 차지했지만, 2047년에는 70대(21.8%)가 가장 큰 비중으로 올라선다. 국내 가구 수는 2040년 정점을 찍은 뒤 2041년부터 줄어들 전망이다.\"\"\"\n",
    "len(sent_tokenize(text)), sent_tokenize(text)"
   ]
  },
  {
   "cell_type": "code",
   "execution_count": 21,
   "metadata": {},
   "outputs": [
    {
     "data": {
      "text/plain": [
       "4"
      ]
     },
     "execution_count": 21,
     "metadata": {},
     "output_type": "execute_result"
    }
   ],
   "source": [
    "# .을 ?로 바꾸어도 동일하게 4개로 나눠준다.\n",
    "# .이나 ?나 구두점이기 때문이다.\n",
    "\n",
    "len(sent_tokenize(text.replace(\".\", \"?\")))"
   ]
  },
  {
   "cell_type": "code",
   "execution_count": 22,
   "metadata": {},
   "outputs": [
    {
     "data": {
      "text/plain": [
       "['성소는 우주소녀의 멤버??!!!!!???', '!']"
      ]
     },
     "execution_count": 22,
     "metadata": {},
     "output_type": "execute_result"
    }
   ],
   "source": [
    "# 구둣점이 연속되면 맨 마지막 하나만 구둣점으로 인식한다.\n",
    "\n",
    "sent_tokenize(\"성소는 우주소녀의 멤버??!!!!!???!\")"
   ]
  },
  {
   "cell_type": "code",
   "execution_count": 27,
   "metadata": {},
   "outputs": [
    {
     "data": {
      "text/plain": [
       "<re.Match object; span=(0, 1), match='?'>"
      ]
     },
     "execution_count": 27,
     "metadata": {},
     "output_type": "execute_result"
    }
   ],
   "source": [
    "import re\n",
    "re.search(r\"[\\.\\!\\?]\", \"성소는 우주소녀의 멤버??!!!!!???!\"[12:])"
   ]
  },
  {
   "cell_type": "markdown",
   "metadata": {},
   "source": [
    "#### word_tokenizer\n",
    "- 단어를 기준으로 나눈다.\n",
    "- 단순히 공백을 단어로 하는 것은 아니다.\n",
    "- 의미 있는 부분만 단어로 인식한다. "
   ]
  },
  {
   "cell_type": "code",
   "execution_count": 30,
   "metadata": {},
   "outputs": [
    {
     "data": {
      "text/plain": [
       "(42, 58)"
      ]
     },
     "execution_count": 30,
     "metadata": {},
     "output_type": "execute_result"
    }
   ],
   "source": [
    "# python 내장기능 split을 쓰는것과 tokenizer를 쓰는 것은 다른 결과를 보여준다.\n",
    "\n",
    "from nltk.tokenize import word_tokenize\n",
    "len(text.split()), len(word_tokenize(text))"
   ]
  },
  {
   "cell_type": "code",
   "execution_count": 31,
   "metadata": {},
   "outputs": [
    {
     "data": {
      "text/plain": [
       "['성소는', \"'우주소녀'의\", '멤버인가요?']"
      ]
     },
     "execution_count": 31,
     "metadata": {},
     "output_type": "execute_result"
    }
   ],
   "source": [
    "\"성소는 '우주소녀'의 멤버인가요?\".split()"
   ]
  },
  {
   "cell_type": "code",
   "execution_count": 32,
   "metadata": {},
   "outputs": [
    {
     "data": {
      "text/plain": [
       "['성소는', \"'우주소녀\", \"'\", '의', '멤버인가요', '?']"
      ]
     },
     "execution_count": 32,
     "metadata": {},
     "output_type": "execute_result"
    }
   ],
   "source": [
    "word_tokenize(\"성소는 '우주소녀'의 멤버인가요?\")"
   ]
  },
  {
   "cell_type": "markdown",
   "metadata": {},
   "source": [
    "> word_tokenize는 split()과 다르다.\n",
    ">\n",
    "> 의미가 있는 단어 를 기준으로 쪼갠다.\n",
    ">\n",
    "> 의미가 있다고 생각하는 것은 다 단어로 취급해서 나눈다.\n",
    ">\n",
    ">    - 붙어 있는 문자라고 하더라도, 의미가 있다고 판단하면 나눈다."
   ]
  },
  {
   "cell_type": "code",
   "execution_count": 33,
   "metadata": {},
   "outputs": [
    {
     "data": {
      "text/plain": [
       "['성소는', \"'우주소녀\", \"'\", '의', '멤버인가요', '?']"
      ]
     },
     "execution_count": 33,
     "metadata": {},
     "output_type": "execute_result"
    }
   ],
   "source": [
    "word_tokenize(\"성소는 '우주소녀'의 멤버인가요?\")"
   ]
  },
  {
   "cell_type": "code",
   "execution_count": 37,
   "metadata": {},
   "outputs": [
    {
     "data": {
      "text/plain": [
       "['성소는', '``', '우주소녀', \"''\", '의', '멤버인가요', '?']"
      ]
     },
     "execution_count": 37,
     "metadata": {},
     "output_type": "execute_result"
    }
   ],
   "source": [
    "word_tokenize('성소는 \"우주소녀\"의 멤버인가요?')"
   ]
  },
  {
   "cell_type": "code",
   "execution_count": 38,
   "metadata": {},
   "outputs": [
    {
     "data": {
      "text/plain": [
       "(['이것은', '문장입니다', '.', '이것은', '문장입니다', '.'],\n",
       " ['이것은', '문장입니다.', '이것은', '문장입니다', '.'])"
      ]
     },
     "execution_count": 38,
     "metadata": {},
     "output_type": "execute_result"
    }
   ],
   "source": [
    "word_tokenize(\"이것은 문장입니다. 이것은 문장입니다.\"), \\\n",
    "word_tokenize(\"이것은 문장입니다. 이것은 문장입니다.\", preserve_line=True)"
   ]
  },
  {
   "cell_type": "markdown",
   "metadata": {},
   "source": [
    "#### TweetTokenizer\n",
    "- SNS 데이터 전용 tokenizer"
   ]
  },
  {
   "cell_type": "code",
   "execution_count": 39,
   "metadata": {},
   "outputs": [
    {
     "data": {
      "text/plain": [
       "['=', '(', ',', '=', ')', ',', ';', ')']"
      ]
     },
     "execution_count": 39,
     "metadata": {},
     "output_type": "execute_result"
    }
   ],
   "source": [
    "# 영미권에서 사용하는 이모티콘을 tokenize하면?\n",
    "\n",
    "word_tokenize(\"=(, =), ;)\")"
   ]
  },
  {
   "cell_type": "markdown",
   "metadata": {},
   "source": [
    "> 특수기호로 만든 이모티콘을 구두점이라고 판단하고 다 잘게 잘라버렸다.\n",
    ">\n",
    "> 그러나 SNS 데이터를 분석할때는 이런 이모티콘들이 의미를 갖기 때문에 남겨둬야한다.\n",
    ">\n",
    "> TweetTokenizer도 있다."
   ]
  },
  {
   "cell_type": "code",
   "execution_count": 40,
   "metadata": {},
   "outputs": [
    {
     "data": {
      "text/plain": [
       "['성소가', '너무', '좋아요', '=)', ',', '=(', ',', ';)']"
      ]
     },
     "execution_count": 40,
     "metadata": {},
     "output_type": "execute_result"
    }
   ],
   "source": [
    "from nltk.tokenize import TweetTokenizer\n",
    "\n",
    "# 이모티콘을 남겼다.\n",
    "# 영미권 SNS 데이터 tokenize하기 좋다.\n",
    "TweetTokenizer().tokenize(\"성소가 너무 좋아요 =), =(, ;)\")"
   ]
  },
  {
   "cell_type": "markdown",
   "metadata": {},
   "source": [
    "#### regexp_tokenize\n",
    "- 정규식을 기반으로 한 tokenizer"
   ]
  },
  {
   "cell_type": "code",
   "execution_count": 43,
   "metadata": {},
   "outputs": [
    {
     "data": {
      "text/plain": [
       "['성소가', '너무', '좋아요']"
      ]
     },
     "execution_count": 43,
     "metadata": {},
     "output_type": "execute_result"
    }
   ],
   "source": [
    "from nltk.tokenize import regexp_tokenize\n",
    "\n",
    "# 정규식으로 만드는 tokenize\n",
    "\n",
    "regexp_tokenize(\"성소가 너무 좋아요 =), =(, ;)\", r\"\\b(\\w+)\\b\")"
   ]
  },
  {
   "cell_type": "code",
   "execution_count": 44,
   "metadata": {},
   "outputs": [
    {
     "data": {
      "text/plain": [
       "['ㅋㅋㅋㅋ']"
      ]
     },
     "execution_count": 44,
     "metadata": {},
     "output_type": "execute_result"
    }
   ],
   "source": [
    "# 자음 반복만 걸러낼 수도 있다.\n",
    "\n",
    "regexp_tokenize(\"가^나 2019년 성소가 너무 좋아요 ㅋㅋㅋㅋ =), =(, ;)\", \n",
    "                r\"\\b([ㄱ-ㅎ]{4,})\\b\")"
   ]
  },
  {
   "cell_type": "code",
   "execution_count": 45,
   "metadata": {},
   "outputs": [
    {
     "data": {
      "text/plain": [
       "'가^나 2019년 성소가 너무 좋아요   =), =(, ;)'"
      ]
     },
     "execution_count": 45,
     "metadata": {},
     "output_type": "execute_result"
    }
   ],
   "source": [
    "# 의미없이 반복되는 자음을 정규식으로 없앨 수 있다.\n",
    "# 전처리\n",
    "\n",
    "re.sub(r\"\\b([ㄱ-ㅎ]{4,})\\b\",\n",
    "      \" \",\n",
    "      \"가^나 2019년 성소가 너무 좋아요 ㅋㅋㅋㅋ =), =(, ;)\")"
   ]
  },
  {
   "cell_type": "raw",
   "metadata": {},
   "source": [
    "Preprocessing\n",
    "1. Tokenizing\n",
    "    1.1 Sentence\n",
    "    1.2 Word(어절-단어) => Token\n",
    "        word_tokenize, tweettokenize, regexp_tokenize, re\n",
    "        ㄴ> 구두점      ㄴ> 구어체      ㄴ> 정규식 "
   ]
  },
  {
   "cell_type": "markdown",
   "metadata": {},
   "source": [
    "---"
   ]
  },
  {
   "cell_type": "markdown",
   "metadata": {},
   "source": [
    "### 어제 수집한 news 데이터에서 뉴스 본문 이외의 code 설명 줄을 정규식으로 삭제하는 전처리를 연습해보자."
   ]
  },
  {
   "cell_type": "code",
   "execution_count": 50,
   "metadata": {},
   "outputs": [],
   "source": [
    "import os \n",
    "with open(\"practice/8일차_실습_project/헤드라인/\"+os.listdir(\"practice/8일차_실습_project/헤드라인\")[0], encoding=\"utf-8\") as fp:\n",
    "    news = fp.read()"
   ]
  },
  {
   "cell_type": "code",
   "execution_count": 52,
   "metadata": {},
   "outputs": [
    {
     "data": {
      "text/plain": [
       "'//  오류를 우회하기 위한 함수 추가\\n () {}\\n\\n 및 .국내 동영상스트리밍서비스 시장을 둘러싼 싸움이 대전으로 번지고 있다. 지상파 방송 3사(KBSㆍMBCㆍSBS)와 거대 통신사 SK텔레콤이 합작 웨이브의 출범(18일)을 알리자마자 국내 대표 케이블채널 사업자인 CJ ENM과 JTBC가 합작 설립을 발표했다. OTT를 중심으로 한 국내 방송업계 재편이 급물살을 타게 됐다.CJ ENM과 JTBC는 통합 합작법인을 내년 초까지 출범시키겠다는 내용의 양해각서 를 체결했다고 17일 밝혔다. 합작법인은 CJ ENM이 1대 주주이며, JTBC가 2대 주주로 참여한다. 통합 OTT는 CJ ENM이 운영하는 티빙을 기반으로 이뤄질 예정이다. CJ ENM은 인기 케이블채널 tvN과 OCN, 엠넷 등을 보유하고 있는 방송업계 강자다. JTBC는 종합편성(종편) 채널 중 매출액이 가장 높은 방송시장의 신흥 강호다.CJ ENM과 JTBC의 통합 설립 논의는 지난해부터 이뤄졌다. 세계 최대 OTT인 넷플릭스가 지난해부터 드라마 ‘킹덤’ 등 국내 콘텐츠 투자에 본격적으로 나서면서부터다. 픽사와 마블 등을 거린 월트 디즈니의 디즈니플러스가 내년 한국 진출을 예고한 점도 두 회사의 연합을 재촉했다. CJ ENM과 JTBC는 ‘미스터 션샤인’과 ‘스카이캐슬’ 등 자사 인기 콘텐츠의 판권을 넷플릭스에 판매하는 식으로 OTT시장에 진출하는 전략을 취해 왔었다. 국내 동영상 시장이 위주로 급속히 재편되자 합작 법인 설립으로 전략을 급선회하게 됐다. 웨이브의 출범도 두 회사의 ‘동맹’에 큰 영향을 준 것으로 보인다.  관계자는 “방송ㆍ영상 사업은 속도를 가늠하기 어려울 정도로 빠르게 변화하고 있다”며 “결국 차별화된 콘텐츠를 끊임없이 생산할 뿐만 아니라, 적절히 유통할 수 이는 시스템 구축이 필수적“이라고 밝혔다.두 회사는 콘텐츠에서 상대적 우위를 차지하고 있다. CJ ENM은 시가총액 1억9,000억원대인 국내 최대 드라마 제작사 스튜디오드래곤을 자회사로 두고 있다. 예능프로그램 ‘삼시세끼’ 등의 나영석, 드라마 ‘응답하라’ 시리즈의 신원호 등 스타 PD들이 CJ ENM에 소속돼 있다. CJ ENM은 영화 ‘명량’과 ‘극한직업’ ‘국제시장’ 등을 투자배급한 영화계 큰손이기도 하다. JTBC는 예능프로그램 ‘냉장고를 부탁해’와 ‘썰전’ 등을 방영하며 콘텐츠 경쟁력을 키워왔다.두 회사의 연합으로 전통적인 의미의 방송사 개념도 사라지게 됐다. 방송시장에서 경쟁관계인 CJ ENM과 JTBC는 합작법인을 통해 오리지널 콘텐츠를 공동 제작할 예정이다. 넷플릭스와 디즈니플러스라는 글로벌 공룡 기업과 맞서기 위한 나름의 비책인 셈이다. CJ ENM과 JTBC는 국내 OTT에 서로의 콘텐츠를 묶어서 유통할 계획도 가지고 있다. 웨이브는 오리지널 콘텐츠 확보를 위한 제작 투자(2023년까지 3,000억원)를 예고했지만, 지상파 3사의 콘텐츠 합작은 고려하지 않고 있다.  관계자는 “JTBC와 긴밀한 협력을 통해 국내는 물론 글로벌 시장에서 통할 수 있는 콘텐츠를 지속적으로 제작할 것”이라며 “완전한 자유경쟁시장이기에 다른 콘텐츠 사업자 및 통신사 누구와도 손을 잡을 수 있다”고 밝혔다.콘텐츠 확보 경쟁은 더욱 치열해질 전망이다. 당장 넷플릭스의 한국 내 입지가 좁아지게 됐다. CJ ENM과 JTBC는 넷플릭스에 방영권 판매를 중단하거나, 기존보다 높은 가격을 요구할 가능성이 크다. 넷플릭스는 내년부터 마블 스튜디오 영화 등, 계약기간이 종료된 디즈니 콘텐츠를 제공하지 못한다. 웨이브의 사정도 비슷하다. 소비자 입장에선 선택의 폭이 넓어졌다. OTT 경쟁이 치열해지며 요금제가 낮아질 확률이 높다. 웨이브는 기본 요금인 베이직을 월 7,900원에 책정했다. 넷플릭스가 같은 수준의 상품을 9,500원에 판매하는 것에 대한 고려로 풀이된다. CJ ENM과 통합 OTT는 초기 회원을 확보하기 위해 이들보다 낮은 가의 요금제를 제시할 가능성이 크다.강진구 기자 @ .com▶[한국일보 페이스북 친구맺기] [한국일보 홈 바로가기]▶네이버 채널에서 한국일보를 구독하세요!'"
      ]
     },
     "execution_count": 52,
     "metadata": {},
     "output_type": "execute_result"
    }
   ],
   "source": [
    "# 간단하게 맛보기 수준으로 함.\n",
    "# 이렇게 해서 코드는 지웠지만, 이메일 주소와 같이 영문으로 된 본문 내용도 삭제되었다.\n",
    "# 이메일을 정규식으로 만들어서 보존 시키면 된다. => 전처리하는 순서도 중요하다\n",
    "# \n",
    "\n",
    "re.sub(r\"\\b[A-Za-z_ ()]{5,}\\b\", \" \", news)"
   ]
  },
  {
   "cell_type": "markdown",
   "metadata": {},
   "source": [
    "---"
   ]
  },
  {
   "cell_type": "markdown",
   "metadata": {},
   "source": [
    "# 영어 형태소 분석기\n",
    "- 우리는 안 쓸 것이니 간단히 보자"
   ]
  },
  {
   "cell_type": "code",
   "execution_count": 54,
   "metadata": {},
   "outputs": [
    {
     "name": "stderr",
     "output_type": "stream",
     "text": [
      "[nltk_data] Downloading package averaged_perceptron_tagger to\n",
      "[nltk_data]     C:\\Users\\JINHYO\\AppData\\Roaming\\nltk_data...\n",
      "[nltk_data]   Unzipping taggers\\averaged_perceptron_tagger.zip.\n"
     ]
    },
    {
     "data": {
      "text/plain": [
       "True"
      ]
     },
     "execution_count": 54,
     "metadata": {},
     "output_type": "execute_result"
    }
   ],
   "source": [
    "from nltk.tag import pos_tag\n",
    "nltk.download('averaged_perceptron_tagger')"
   ]
  },
  {
   "cell_type": "code",
   "execution_count": 55,
   "metadata": {
    "scrolled": true
   },
   "outputs": [
    {
     "data": {
      "text/plain": [
       "[('[', 'NNS'),\n",
       " ('Emma', 'NNP'),\n",
       " ('by', 'IN'),\n",
       " ('Jane', 'NNP'),\n",
       " ('Austen', 'NNP'),\n",
       " ('1816', 'CD'),\n",
       " (']', 'NNP'),\n",
       " ('VOLUME', 'NNP'),\n",
       " ('I', 'PRP'),\n",
       " ('CHAPTER', 'VBP'),\n",
       " ('I', 'PRP'),\n",
       " ('Emma', 'NNP'),\n",
       " ('Woodhouse', 'NNP'),\n",
       " (',', ','),\n",
       " ('handsome', 'NN'),\n",
       " (',', ','),\n",
       " ('clever', 'NN'),\n",
       " (',', ','),\n",
       " ('and', 'CC'),\n",
       " ('rich', 'JJ'),\n",
       " (',', ','),\n",
       " ('with', 'IN'),\n",
       " ('a', 'DT'),\n",
       " ('comfortable', 'JJ'),\n",
       " ('home', 'NN'),\n",
       " ('and', 'CC'),\n",
       " ('happy', 'JJ'),\n",
       " ('disposition', 'NN'),\n",
       " (',', ','),\n",
       " ('seemed', 'VBD'),\n",
       " ('to', 'TO'),\n",
       " ('unite', 'VB'),\n",
       " ('some', 'DT'),\n",
       " ('of', 'IN'),\n",
       " ('the', 'DT'),\n",
       " ('best', 'JJS'),\n",
       " ('blessings', 'NNS'),\n",
       " ('of', 'IN'),\n",
       " ('existence', 'NN'),\n",
       " (';', ':'),\n",
       " ('and', 'CC'),\n",
       " ('had', 'VBD'),\n",
       " ('lived', 'VBN'),\n",
       " ('nearly', 'RB'),\n",
       " ('twenty-one', 'CD'),\n",
       " ('years', 'NNS'),\n",
       " ('in', 'IN'),\n",
       " ('the', 'DT'),\n",
       " ('world', 'NN'),\n",
       " ('with', 'IN'),\n",
       " ('very', 'RB'),\n",
       " ('little', 'JJ'),\n",
       " ('to', 'TO'),\n",
       " ('distress', 'VB'),\n",
       " ('or', 'CC'),\n",
       " ('vex', 'VB'),\n",
       " ('her', 'PRP'),\n",
       " ('.', '.')]"
      ]
     },
     "execution_count": 55,
     "metadata": {},
     "output_type": "execute_result"
    }
   ],
   "source": [
    "# token들을 넣으면, 품사를 매칭해준다.\n",
    "\n",
    "pos_tag(word_tokenize(sentence[0]))"
   ]
  },
  {
   "cell_type": "code",
   "execution_count": 57,
   "metadata": {},
   "outputs": [
    {
     "name": "stderr",
     "output_type": "stream",
     "text": [
      "[nltk_data] Downloading package tagsets to\n",
      "[nltk_data]     C:\\Users\\JINHYO\\AppData\\Roaming\\nltk_data...\n",
      "[nltk_data]   Unzipping help\\tagsets.zip.\n"
     ]
    },
    {
     "data": {
      "text/plain": [
       "True"
      ]
     },
     "execution_count": 57,
     "metadata": {},
     "output_type": "execute_result"
    }
   ],
   "source": [
    "from nltk.help import upenn_tagset\n",
    "nltk.download('tagsets')"
   ]
  },
  {
   "cell_type": "code",
   "execution_count": 58,
   "metadata": {},
   "outputs": [
    {
     "name": "stdout",
     "output_type": "stream",
     "text": [
      "NNP: noun, proper, singular\n",
      "    Motown Venneboerger Czestochwa Ranzer Conchita Trumplane Christos\n",
      "    Oceanside Escobar Kreisler Sawyer Cougar Yvette Ervin ODI Darryl CTCA\n",
      "    Shannon A.K.C. Meltex Liverpool ...\n"
     ]
    }
   ],
   "source": [
    "# 품사 설명\n",
    "\n",
    "upenn_tagset(\"NNP\")"
   ]
  },
  {
   "cell_type": "markdown",
   "metadata": {},
   "source": [
    "---"
   ]
  },
  {
   "cell_type": "markdown",
   "metadata": {},
   "source": [
    "# tokenizer의 중요성"
   ]
  },
  {
   "cell_type": "code",
   "execution_count": 72,
   "metadata": {},
   "outputs": [],
   "source": [
    "from nltk import Text"
   ]
  },
  {
   "cell_type": "code",
   "execution_count": 62,
   "metadata": {},
   "outputs": [],
   "source": [
    "# word_tokenizer를 이용해서 분석\n",
    "\n",
    "text = Text(word_tokenize(corpus), name=\"Emma\")"
   ]
  },
  {
   "cell_type": "code",
   "execution_count": 64,
   "metadata": {},
   "outputs": [
    {
     "data": {
      "text/plain": [
       "<Text: Emma>"
      ]
     },
     "execution_count": 64,
     "metadata": {},
     "output_type": "execute_result"
    }
   ],
   "source": [
    "# Text 인스턴스의 첫 줄은 name이다.\n",
    "\n",
    "text"
   ]
  },
  {
   "cell_type": "code",
   "execution_count": 63,
   "metadata": {},
   "outputs": [
    {
     "data": {
      "text/plain": [
       "(191785, 8406)"
      ]
     },
     "execution_count": 63,
     "metadata": {},
     "output_type": "execute_result"
    }
   ],
   "source": [
    "# N은 전체 token의 수\n",
    "# B는 unique한 token의 수\n",
    "\n",
    "text.vocab().N(), text.vocab().B()"
   ]
  },
  {
   "cell_type": "markdown",
   "metadata": {},
   "source": [
    "> 해석: word_tokenize로 분석해보니, 총 191785개의 단어(token)으로 구성된 소설이지만, 실제 사용된 단어의 갯수는 8046개이다."
   ]
  },
  {
   "cell_type": "code",
   "execution_count": 67,
   "metadata": {},
   "outputs": [],
   "source": [
    "# pos_tag를 이용해서 분석\n",
    "\n",
    "ttext = Text([\"/\".join(_) for _ in pos_tag(word_tokenize(corpus))],\n",
    "            name=\"Tagged Emma\")"
   ]
  },
  {
   "cell_type": "code",
   "execution_count": 66,
   "metadata": {},
   "outputs": [
    {
     "data": {
      "text/plain": [
       "'Life/NNP'"
      ]
     },
     "execution_count": 66,
     "metadata": {},
     "output_type": "execute_result"
    }
   ],
   "source": [
    "# 단어와 품사를 하나로 합쳐주었다.\n",
    "\n",
    "\"/\".join(pos_tag(word_tokenize(\"Life is too short.\"))[0])"
   ]
  },
  {
   "cell_type": "code",
   "execution_count": 69,
   "metadata": {},
   "outputs": [
    {
     "data": {
      "text/plain": [
       "(191785, 10974)"
      ]
     },
     "execution_count": 69,
     "metadata": {},
     "output_type": "execute_result"
    }
   ],
   "source": [
    "# pos_tag를 이용해서 분석\n",
    "\n",
    "ttext.vocab().N(), ttext.vocab().B()"
   ]
  },
  {
   "cell_type": "markdown",
   "metadata": {},
   "source": [
    "> pos_tag는 문법적 특성을 포함해서 toeknize한다.\n",
    ">\n",
    "> 동일한 단어라도, 품사가 다르면 다른 단어로 분류했을 것이다.\n",
    ">\n",
    "> 고로, word_tokenize와 단어의 총 갯수는 같지만, unique한 단어의 갯수는 더 늘어났다.\n",
    ">\n",
    "> 해석: pos_tag로 분석해보니, 총 191785개의 단어(token)으로 구성된 소설이지만, 실제 사용된 단어(문법적 특성을 고려)의 갯수는 10974개이다."
   ]
  },
  {
   "cell_type": "code",
   "execution_count": 71,
   "metadata": {},
   "outputs": [
    {
     "data": {
      "text/plain": [
       "(158167, 17409)"
      ]
     },
     "execution_count": 71,
     "metadata": {},
     "output_type": "execute_result"
    }
   ],
   "source": [
    "# python 자체 split 기능을 통한 분석\n",
    "\n",
    "len(corpus.split()), len(set(corpus.split()))"
   ]
  },
  {
   "cell_type": "markdown",
   "metadata": {},
   "source": [
    "> python 자체 기능을 이용해서 단어를 쪼개보니 tokenizer를 썼을 때보다 전체 단어수가 적다 => 세밀하지 못하다.\n",
    ">\n",
    "> unique한 단어의 수가 tokenizer를 썼을 때보다 많다 => 통계적으로 봤을때, 확률을 내기에 불리하다.\n",
    ">\n",
    "> 그러므로, tokenizer가 중요하다."
   ]
  },
  {
   "cell_type": "markdown",
   "metadata": {},
   "source": [
    "---"
   ]
  },
  {
   "cell_type": "markdown",
   "metadata": {},
   "source": [
    "# zipf's law\n",
    "- 수식으로 증명되지는 않았지만, 경험적으로 증명된 법칙\n",
    "- 단어의 빈도수 그래프와, 순위의 역순 그래프는 일치한다."
   ]
  },
  {
   "cell_type": "code",
   "execution_count": 73,
   "metadata": {},
   "outputs": [],
   "source": [
    "import matplotlib.pyplot as plt"
   ]
  },
  {
   "cell_type": "code",
   "execution_count": 100,
   "metadata": {},
   "outputs": [
    {
     "data": {
      "text/plain": [
       "[<matplotlib.lines.Line2D at 0x1b045794f28>]"
      ]
     },
     "execution_count": 100,
     "metadata": {},
     "output_type": "execute_result"
    },
    {
     "data": {
      "image/png": "[encoded data removed]",
      "text/plain": [
       "<Figure size 432x288 with 1 Axes>"
      ]
     },
     "metadata": {
      "needs_background": "light"
     },
     "output_type": "display_data"
    }
   ],
   "source": [
    "# 빈도수 그래프\n",
    "\n",
    "plt.plot([_[1] for _ in sorted(ttext.vocab().items(), key=lambda x: x[1], reverse=True)]) # 빈도순대로 정렬"
   ]
  },
  {
   "cell_type": "code",
   "execution_count": 99,
   "metadata": {},
   "outputs": [
    {
     "data": {
      "text/plain": [
       "[<matplotlib.lines.Line2D at 0x1b051629dd8>]"
      ]
     },
     "execution_count": 99,
     "metadata": {},
     "output_type": "execute_result"
    },
    {
     "data": {
      "image/png": "[encoded data removed]",
      "text/plain": [
       "<Figure size 432x288 with 1 Axes>"
      ]
     },
     "metadata": {
      "needs_background": "light"
     },
     "output_type": "display_data"
    }
   ],
   "source": [
    "# 순위의 역순 그래프\n",
    "\n",
    "plt.plot([1/_ for _ in range(1,ttext.vocab().B())])"
   ]
  },
  {
   "cell_type": "markdown",
   "metadata": {},
   "source": [
    "---"
   ]
  },
  {
   "cell_type": "markdown",
   "metadata": {},
   "source": [
    "# koNLpy\n",
    "\n",
    "- 한글로 된 형태소 분석 라이브러리. \n",
    "- 무료이고 잘 만들었다. (이 전까지는 대학연구기관에서 유료로 대여했어야 했다.)\n",
    "- 설치방법: http://bitly.kr/85NpbM"
   ]
  },
  {
   "cell_type": "code",
   "execution_count": 3,
   "metadata": {},
   "outputs": [],
   "source": [
    "from konlpy.tag import Kkma"
   ]
  },
  {
   "cell_type": "code",
   "execution_count": 6,
   "metadata": {},
   "outputs": [
    {
     "data": {
      "text/plain": [
       "[('우주', 'NNG'),\n",
       " ('소녀', 'NNG'),\n",
       " ('의', 'JKG'),\n",
       " ('멤버', 'NNG'),\n",
       " ('는', 'JX'),\n",
       " ('성소', 'NNG'),\n",
       " ('이', 'VCP'),\n",
       " ('다', 'EFN'),\n",
       " ('.', 'SF')]"
      ]
     },
     "execution_count": 6,
     "metadata": {},
     "output_type": "execute_result"
    }
   ],
   "source": [
    "Kkma().pos(\"우주소녀의 멤버는 성소이다.\")"
   ]
  },
  {
   "cell_type": "code",
   "execution_count": null,
   "metadata": {},
   "outputs": [],
   "source": []
  }
 ],
 "metadata": {
  "kernelspec": {
   "display_name": "Python 3",
   "language": "python",
   "name": "python3"
  },
  "language_info": {
   "codemirror_mode": {
    "name": "ipython",
    "version": 3
   },
   "file_extension": ".py",
   "mimetype": "text/x-python",
   "name": "python",
   "nbconvert_exporter": "python",
   "pygments_lexer": "ipython3",
   "version": "3.7.3"
  }
 },
 "nbformat": 4,
 "nbformat_minor": 2
}
