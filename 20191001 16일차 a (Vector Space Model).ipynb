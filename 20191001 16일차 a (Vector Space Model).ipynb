{
 "cells": [
  {
   "cell_type": "code",
   "execution_count": 1,
   "metadata": {},
   "outputs": [],
   "source": [
    "from collections import defaultdict\n",
    "from math import log\n",
    "\n",
    "tf1 = lambda t: 1\n",
    "tf2 = lambda _struct: _struct[1]\n",
    "tf3 = lambda t:0\n",
    "tf4 = lambda _struct, t: log(1 + _struct[1])\n",
    "tf6 = lambda tf, maxtf, a:a+(1-a)*(tf/maxtf)\n",
    "tf5 = lambda tf, maxtf: tf6(tf, maxtf, 0.5)\n",
    "idf1 = lambda df, N:log(N/df)\n",
    "idf2 = lambda df, N:log(N/(1+df))\n",
    "idf3 = lambda df, N:log((1 + N-df)/df)"
   ]
  },
  {
   "cell_type": "code",
   "execution_count": 2,
   "metadata": {},
   "outputs": [],
   "source": [
    "_Collections = [\n",
    "    [\"A\", \"A\", \"A\",  \"A\", \"A\"],\n",
    "    [\"A\", \"A\", \"A\",  \"A\", \"B\"],\n",
    "    [\"A\", \"A\", \"A\",  \"A\", \"C\"],\n",
    "]\n",
    "\n",
    "_Vocabulary = list()\n",
    "_Lexicon = defaultdict(lambda: -1)\n",
    "_Document = defaultdict(int)\n",
    "_Posting = list()\n",
    "\n",
    "for d in _Collections:\n",
    "    _localPosting = defaultdict(int)\n",
    "    for t in d:\n",
    "        if t not in _Vocabulary:\n",
    "            _Vocabulary.append(t)\n",
    "        _localPosting[t] += 1\n",
    "    docID = len(_Document)\n",
    "    _Document[docID] = max(_localPosting.values())\n",
    "    for t, f in _localPosting.items():\n",
    "        ptr = _Lexicon[t]\n",
    "        nextPtr = len(_Posting)\n",
    "        _Posting.append((docID, f, ptr))\n",
    "        _Lexicon[t] = nextPtr"
   ]
  },
  {
   "cell_type": "markdown",
   "metadata": {},
   "source": [
    "# Euclidean distance"
   ]
  },
  {
   "attachments": {
    "image.png": {
     "image/png": "[encoded data removed]"
    }
   },
   "cell_type": "markdown",
   "metadata": {},
   "source": [
    "![image.png](attachment:image.png)"
   ]
  },
  {
   "cell_type": "markdown",
   "metadata": {},
   "source": [
    "문제: summation을 할때, vocabulary에 속하는 모든 t(단어)에 대해서 실행하는데 t는 query에 없는 단어일수도 있다. 이때 penalty가 발생한다.\n",
    "\n"
   ]
  },
  {
   "cell_type": "code",
   "execution_count": 6,
   "metadata": {},
   "outputs": [],
   "source": [
    "distance = lambda x1, x2: (x2- x1)**2"
   ]
  },
  {
   "cell_type": "code",
   "execution_count": 7,
   "metadata": {},
   "outputs": [
    {
     "name": "stdout",
     "output_type": "stream",
     "text": [
      "단어:A, 문서:2, 빈도:4, 최고빈도:4, 가중치=-0.29\n",
      "단어:A, 문서:1, 빈도:4, 최고빈도:4, 가중치=-0.29\n",
      "단어:A, 문서:0, 빈도:5, 최고빈도:5, 가중치=-0.29\n",
      "단어:B, 문서:1, 빈도:1, 최고빈도:4, 가중치=0.10\n",
      "단어:C, 문서:2, 빈도:1, 최고빈도:4, 가중치=0.10\n"
     ]
    }
   ],
   "source": [
    "N = len(_Collections)\n",
    "_Weight = list()\n",
    "_WLexicon = defaultdict(lambda:{\"Posting\":None, \"DF\":0})\n",
    "_DocLength = defaultdict(float)\n",
    "for t, ptr in _Lexicon.items():\n",
    "    dfPtr = ptr\n",
    "    df = 0\n",
    "    while dfPtr != -1:\n",
    "        _struct = _Posting[dfPtr]\n",
    "        df += 1\n",
    "        dfPtr = _struct[-1]\n",
    "    \n",
    "    wptr = len(_Weight)\n",
    "    while ptr != -1:\n",
    "        _struct = _Posting[ptr]\n",
    "        tf = _struct[1]\n",
    "        maxtf = _Document[_struct[0]]\n",
    "        w = tf6(tf, maxtf, 0)* idf2(df, N)\n",
    "        print(\"단어:{0}, 문서:{1}, 빈도:{2}, 최고빈도:{3}, 가중치={4:.2f}\"\n",
    "              .format(\n",
    "                  t, _struct[0], _struct[1],\n",
    "                  maxtf, w))\n",
    "        \n",
    "        ptr = _struct[-1]\n",
    "        \n",
    "        wStruct = (_struct[0], w)\n",
    "        _Weight.append(wStruct)\n",
    "        _DocLength[_struct[0]] += distance(0, w)\n",
    "    _WLexicon[t][\"Posting\"] = wptr\n",
    "    _WLexicon[t][\"DF\"] = df"
   ]
  },
  {
   "cell_type": "code",
   "execution_count": 8,
   "metadata": {},
   "outputs": [],
   "source": [
    "from math import sqrt\n",
    "\n",
    "Q = \"B B B\"\n",
    "result = defaultdict(float)\n",
    "QueryRepr = defaultdict(int)\n",
    "QueryWeight = defaultdict(float)\n",
    "for t in Q.split():\n",
    "    if t in _Vocabulary:\n",
    "        QueryRepr[t] += 1\n",
    "maxQuery = max(QueryRepr.values())\n",
    "for t, f in QueryRepr.items():\n",
    "    w = tf6(f, maxQuery, 0)*idf1(_WLexicon[t][\"DF\"], N)\n",
    "    QueryWeight[t] = w\n",
    "\n",
    "for t in _Vocabulary:\n",
    "    ptr = _WLexicon[t][\"Posting\"]\n",
    "    df = _WLexicon[t][\"DF\"]\n",
    "    for _struct in _Weight[ptr:ptr+df]:\n",
    "        _struct[0] # => 문서\n",
    "        _struct[1] # => 가중치\n",
    "        result[_struct[0]] = distance(QueryWeight[t],\n",
    "                                      _struct[1])\n",
    "    \n",
    "result = {d:sqrt(dist)  for d, dist in result.items()}"
   ]
  },
  {
   "cell_type": "code",
   "execution_count": 9,
   "metadata": {},
   "outputs": [
    {
     "data": {
      "text/plain": [
       "{2: 0.1013662770270411, 1: 0.9972460116410686, 0: 0.2876820724517809}"
      ]
     },
     "execution_count": 9,
     "metadata": {},
     "output_type": "execute_result"
    }
   ],
   "source": [
    "result"
   ]
  },
  {
   "cell_type": "markdown",
   "metadata": {},
   "source": [
    ">\\* 용어\n",
    ">\n",
    ">concept = controlled words"
   ]
  },
  {
   "cell_type": "code",
   "execution_count": 10,
   "metadata": {},
   "outputs": [],
   "source": [
    "# 여기 안되지 왜?!\n",
    "\n",
    "Q = \"A A A A B\"\n",
    "result = defaultdict(float)\n",
    "QueryRepr = defaultdict(int)\n",
    "QueryWeight = defaultdict(float)\n",
    "QueryLength = 0.0\n",
    "for t in Q.split():\n",
    "    if t in _Vocabulary:\n",
    "        QueryRepr[t] += 1\n",
    "maxQuery = max(QueryRepr.values())\n",
    "for t, f in QueryRepr.items():\n",
    "    w = tf6(f, maxQuery, 0)*idf2(_WLexicon[t][\"DF\"], N)\n",
    "    QueryWeight[t]= w\n",
    "    QueryLength += distance(0,w)\n",
    "\n",
    "for t in QueryRepr:\n",
    "    ptr = _WLexicon[t][\"Posting\"]\n",
    "    df = _WLexicon[t][\"DF\"]\n",
    "    for _struct in _Weight[ptr:ptr+df]:\n",
    "        _struct[0] # => 문서\n",
    "        _struct[1] # => 가중치\n",
    "        result[_struct[0]] += QueryWeight[t] * _struct[1]    \n",
    "result = {d:ip/(sqrt(QueryLength)*sqrt(_DocLength[d]))\n",
    "          for d, ip in result.items()}"
   ]
  },
  {
   "cell_type": "code",
   "execution_count": 11,
   "metadata": {},
   "outputs": [
    {
     "data": {
      "text/plain": [
       "defaultdict(float,\n",
       "            {2: 0.09303609692847455,\n",
       "             1: 0.09303609692847455,\n",
       "             0: 0.08276097481015171})"
      ]
     },
     "execution_count": 11,
     "metadata": {},
     "output_type": "execute_result"
    }
   ],
   "source": [
    "_DocLength"
   ]
  },
  {
   "cell_type": "code",
   "execution_count": 12,
   "metadata": {},
   "outputs": [
    {
     "data": {
      "text/plain": [
       "{2: 0.889557682904279, 1: 1.0000000000000002, 0: 0.9431636564797644}"
      ]
     },
     "execution_count": 12,
     "metadata": {},
     "output_type": "execute_result"
    }
   ],
   "source": [
    "result"
   ]
  },
  {
   "cell_type": "markdown",
   "metadata": {},
   "source": [
    "---"
   ]
  },
  {
   "cell_type": "code",
   "execution_count": 14,
   "metadata": {},
   "outputs": [],
   "source": [
    "# Posting File\n",
    "from struct import pack, unpack\n",
    "\n",
    "_Collections = [\n",
    "    [\"A\", \"A\", \"A\",  \"A\", \"A\"],\n",
    "    [\"A\", \"A\", \"A\",  \"A\", \"B\"],\n",
    "    [\"A\", \"A\", \"A\",  \"A\", \"C\"],\n",
    "]\n",
    "\n",
    "_Vocabulary = list()\n",
    "_Lexicon = defaultdict(lambda: -1)\n",
    "_Document = defaultdict(int)\n",
    "_Posting = list()\n",
    "\n",
    "fp = open(\"posting.dat\", \"wb\")\n",
    "\n",
    "for d in _Collections:\n",
    "    _localPosting = defaultdict(int)\n",
    "    for t in d:\n",
    "        if t not in _Vocabulary:\n",
    "            _Vocabulary.append(t)\n",
    "        _localPosting[t] += 1\n",
    "    docID = len(_Document)\n",
    "    _Document[docID] = max(_localPosting.values())\n",
    "    for t, f in _localPosting.items():\n",
    "        ptr = _Lexicon[t]\n",
    "#         nextPtr = len(_Posting)\n",
    "#         _Posting.append((docID, f, ptr))\n",
    "        nextPtr = fp.tell()\n",
    "        fp.write(pack(\"iii\", docID, f, ptr))\n",
    "        _Lexicon[t] = nextPtr\n",
    "        \n",
    "fp.close()"
   ]
  },
  {
   "cell_type": "code",
   "execution_count": 15,
   "metadata": {},
   "outputs": [
    {
     "name": "stdout",
     "output_type": "stream",
     "text": [
      "단어:A, 문서:2, 빈도:4, 최고빈도:4,         가중치=-0.29\n",
      "단어:A, 문서:1, 빈도:4, 최고빈도:4,         가중치=-0.29\n",
      "단어:A, 문서:0, 빈도:5, 최고빈도:5,         가중치=-0.29\n",
      "단어:B, 문서:1, 빈도:1, 최고빈도:4,         가중치=0.10\n",
      "단어:C, 문서:2, 빈도:1, 최고빈도:4,         가중치=0.10\n"
     ]
    }
   ],
   "source": [
    "N = len(_Collections)\n",
    "_Weight = list()\n",
    "_WLexicon = defaultdict(lambda:{\"Posting\":None, \"DF\":0})\n",
    "_DocLength = defaultdict(float)\n",
    "\n",
    "fp = open(\"posting.dat\", \"rb\")\n",
    "wp = open(\"weight.dat\", \"wb\")\n",
    "\n",
    "for t, ptr in _Lexicon.items():\n",
    "    dfPtr = ptr\n",
    "    df = 0\n",
    "    while dfPtr != -1:\n",
    "#         _struct = _Posting[dfPtr]\n",
    "        fp.seek(dfPtr)\n",
    "        _struct = unpack(\"iii\", fp.read(4*3))\n",
    "        df += 1\n",
    "        dfPtr = _struct[-1]\n",
    "        \n",
    "#     wptr = len(_Weight)\n",
    "    wptr = wp.tell()\n",
    "    while ptr != -1:\n",
    "#         _struct = _Posting[ptr]\n",
    "        fp.seek(ptr)\n",
    "        _struct = unpack(\"iii\", fp.read(4*3))\n",
    "        tf = _struct[1]\n",
    "        maxtf = _Document[_struct[0]]\n",
    "        w = tf6(tf, maxtf, 0)* idf2(df, N)\n",
    "        print(\"단어:{0}, 문서:{1}, 빈도:{2}, 최고빈도:{3}, \\\n",
    "        가중치={4:.2f}\"\n",
    "              .format(\n",
    "                  t, _struct[0], _struct[1],\n",
    "                  maxtf, w))\n",
    "        ptr = _struct[-1]\n",
    "        \n",
    "#         wStruct = (_struct[0], w)\n",
    "#         _Weight.append(wStruct)\n",
    "        wp.write(pack(\"if\", _struct[0], w))\n",
    "        _DocLength[_struct[0]] += distance(0, w)\n",
    "    _WLexicon[t][\"Posting\"] = wptr\n",
    "    _WLexicon[t][\"DF\"] = df\n",
    "    \n",
    "fp.close()\n",
    "wp.close()"
   ]
  },
  {
   "cell_type": "code",
   "execution_count": 16,
   "metadata": {},
   "outputs": [],
   "source": [
    "from math import sqrt\n",
    "Q = \"A A A A B\"\n",
    "result = defaultdict(float)\n",
    "QueryRepr = defaultdict(int)\n",
    "QueryWeight = defaultdict(float)\n",
    "QueryLength = 0.0\n",
    "for t in Q.split():\n",
    "    if t in _Vocabulary:\n",
    "        QueryRepr[t] += 1\n",
    "maxQuery = max(QueryRepr.values())\n",
    "fp = open(\"weight.dat\", \"rb\")\n",
    "for t, f in QueryRepr.items():\n",
    "    w = tf6(f, maxQuery, 0)*idf2(_WLexicon[t][\"DF\"], N)\n",
    "    QueryWeight[t]= w\n",
    "    QueryLength += distance(0,w)\n",
    "\n",
    "for t in QueryRepr:\n",
    "    ptr = _WLexicon[t][\"Posting\"]\n",
    "    df = _WLexicon[t][\"DF\"]\n",
    "    fp.seek(ptr)\n",
    "    for i in range(df):\n",
    "        _struct = unpack(\"if\", fp.read(4*2))\n",
    "        _struct[0] # => 문서\n",
    "        _struct[1] # => 가중치\n",
    "        result[_struct[0]] += QueryWeight[t] * _struct[1]  \n",
    "result = {d:ip/(sqrt(QueryLength)*sqrt(_DocLength[d]))\n",
    "          for d, ip in result.items()}\n",
    "\n",
    "fp.close()"
   ]
  },
  {
   "cell_type": "code",
   "execution_count": 17,
   "metadata": {},
   "outputs": [
    {
     "data": {
      "text/plain": [
       "{2: 0.8895577255065847, 1: 1.0000000393683177, 0: 0.9431637016493439}"
      ]
     },
     "execution_count": 17,
     "metadata": {},
     "output_type": "execute_result"
    }
   ],
   "source": [
    "result"
   ]
  },
  {
   "cell_type": "markdown",
   "metadata": {},
   "source": [
    "---"
   ]
  },
  {
   "cell_type": "code",
   "execution_count": 18,
   "metadata": {},
   "outputs": [
    {
     "name": "stderr",
     "output_type": "stream",
     "text": [
      "C:\\Users\\JINHYO\\Anaconda3\\lib\\site-packages\\jpype\\_core.py:210: UserWarning: \n",
      "-------------------------------------------------------------------------------\n",
      "Deprecated: convertStrings was not specified when starting the JVM. The default\n",
      "behavior in JPype will be False starting in JPype 0.8. The recommended setting\n",
      "for new code is convertStrings=False.  The legacy value of True was assumed for\n",
      "this session. If you are a user of an application that reported this warning,\n",
      "please file a ticket with the developer.\n",
      "-------------------------------------------------------------------------------\n",
      "\n",
      "  \"\"\")\n"
     ]
    }
   ],
   "source": [
    "from konlpy.corpus import kobill\n",
    "from konlpy.tag import Kkma\n",
    "from struct import pack, unpack\n",
    "\n",
    "Lexicon = defaultdict(lambda:{\"ptr\":-1, \"df\":0})\n",
    "Documents = defaultdict(lambda:{\n",
    "    \"length\":0.0, \"ttf\":0, \"max\":0})\n",
    "DocumentsList = list()\n",
    "\n",
    "kkma = Kkma()\n",
    "\n",
    "fp = open(\"inverted.dat\", \"wb\")\n",
    "\n",
    "for docName in kobill.fileids():\n",
    "    document = kobill.open(docName).read()\n",
    "    localPostings = defaultdict(int)\n",
    "    DocID = len(DocumentsList)\n",
    "    DocumentsList.append(docName)\n",
    "    \n",
    "    for term in [_ for _ in kkma.morphs(document)\n",
    "              if 1 < len(_) < 6]:\n",
    "        localPostings[term] += 1\n",
    "    Documents[DocID][\"ttf\"] = sum(localPostings.values())\n",
    "    Documents[DocID][\"max\"] = max(localPostings.values())\n",
    "            \n",
    "    for term, freq in localPostings.items():\n",
    "        ptr = Lexicon[term][\"ptr\"]\n",
    "        postingPtr= fp.tell()\n",
    "        fp.write(pack(\"iii\", DocID, freq, ptr))\n",
    "        Lexicon[term][\"ptr\"] = postingPtr\n",
    "        Lexicon[term][\"df\"] += 1\n",
    "        \n",
    "fp.close()"
   ]
  },
  {
   "cell_type": "code",
   "execution_count": 19,
   "metadata": {},
   "outputs": [
    {
     "data": {
      "text/plain": [
       "defaultdict(<function __main__.<lambda>()>,\n",
       "            {0: {'length': 0.0, 'ttf': 883, 'max': 123},\n",
       "             1: {'length': 0.0, 'ttf': 883, 'max': 119},\n",
       "             2: {'length': 0.0, 'ttf': 1039, 'max': 200},\n",
       "             3: {'length': 0.0, 'ttf': 893, 'max': 92},\n",
       "             4: {'length': 0.0, 'ttf': 213, 'max': 11},\n",
       "             5: {'length': 0.0, 'ttf': 346, 'max': 35},\n",
       "             6: {'length': 0.0, 'ttf': 1803, 'max': 122},\n",
       "             7: {'length': 0.0, 'ttf': 672, 'max': 35},\n",
       "             8: {'length': 0.0, 'ttf': 642, 'max': 31},\n",
       "             9: {'length': 0.0, 'ttf': 1855, 'max': 430}})"
      ]
     },
     "execution_count": 19,
     "metadata": {},
     "output_type": "execute_result"
    }
   ],
   "source": [
    "Documents"
   ]
  },
  {
   "cell_type": "code",
   "execution_count": 20,
   "metadata": {},
   "outputs": [],
   "source": [
    "# Indexer => Weighting(weight.dat)\n",
    "from math import log2\n",
    "\n",
    "fp1 = open(\"inverted.dat\", \"rb\")\n",
    "fp2 = open(\"weight.dat\", \"wb\")\n",
    "N = len(DocumentsList)\n",
    "for term, termStruct in Lexicon.items():\n",
    "    ptr = termStruct[\"ptr\"]\n",
    "    wPtr = fp2.tell()\n",
    "    while ptr != -1:\n",
    "        fp1.seek(ptr)\n",
    "        _struct = unpack(\"iii\", fp1.read(4*3)) # 12byte\n",
    "        _struct[0] # => 문서 ID\n",
    "        _struct[1] # => 해당 문서에서의 빈도(tf)\n",
    "        TF = _struct[1] / Documents[_struct[0]][\"max\"]\n",
    "        IDF = log2(N/termStruct[\"df\"])\n",
    "        Documents[_struct[0]][\"length\"] += TF*IDF\n",
    "        fp2.write(pack(\"if\", _struct[0], TF*IDF))\n",
    "        ptr = _struct[-1]\n",
    "    Lexicon[term][\"ptr\"] = wPtr\n",
    "fp2.close()\n",
    "fp1.close()"
   ]
  },
  {
   "cell_type": "code",
   "execution_count": 21,
   "metadata": {},
   "outputs": [],
   "source": [
    "Query = \"현행법은 입법예고와 행정예고를 통하여 정책 결정 과정에\"\n",
    "\n",
    "localPostings = defaultdict(int)\n",
    "\n",
    "for term in [_ for _ in kkma.morphs(Query)\n",
    "                if 1 < len(_) < 6]:\n",
    "    localPostings[term] += 1\n",
    "maxTF = max(localPostings.values())\n",
    "\n",
    "for term, freq, in localPostings.items():\n",
    "    TF = freq/maxTF\n",
    "    IDF = log2(N/Lexicon[term][\"df\"])\n",
    "    localPostings[term] = TF*IDF"
   ]
  },
  {
   "cell_type": "code",
   "execution_count": 22,
   "metadata": {},
   "outputs": [
    {
     "data": {
      "text/plain": [
       "defaultdict(int,\n",
       "            {'현행법': 0.5,\n",
       "             '입법': 1.660964047443681,\n",
       "             '예고': 3.321928094887362,\n",
       "             '행정': 0.3684827970831031,\n",
       "             '통하': 1.160964047443681,\n",
       "             '정책': 0.2572865864148791,\n",
       "             '결정': 1.660964047443681,\n",
       "             '과정': 0.6609640474436812})"
      ]
     },
     "execution_count": 22,
     "metadata": {},
     "output_type": "execute_result"
    }
   ],
   "source": [
    "localPostings"
   ]
  },
  {
   "cell_type": "markdown",
   "metadata": {},
   "source": [
    "# 정리"
   ]
  },
  {
   "cell_type": "code",
   "execution_count": 32,
   "metadata": {},
   "outputs": [
    {
     "name": "stdout",
     "output_type": "stream",
     "text": [
      "{'1809892.txt': 0.9785681821197749}\n",
      "{'1809892.txt': {'거리': 0.9785681821197749, '단어수': 0}}\n",
      "교육공무원법 일부개정법률안\n",
      "\n",
      "(정의화의원 대표발의 )\n",
      "\n",
      "{'1809890.txt': 1.1213888599844724}\n",
      "{'1809890.txt': {'거리': 1.1213888599844724, '단어수': 0}}\n",
      "지방공무원법 일부개정법률안\n",
      "\n",
      "(정의화의원 대표발의 )\n",
      "\n",
      "{'1809891.txt': 1.1454561206043383}\n",
      "{'1809891.txt': {'거리': 1.1454561206043383, '단어수': 0}}\n",
      "국가공무원법 일부개정법률안\n",
      "\n",
      "(정의화의원 대표발의 )\n",
      "\n",
      "{'1809893.txt': 1.3363030928544017}\n",
      "{'1809893.txt': {'거리': 1.3363030928544017, '단어수': 0}}\n",
      "남녀고용평등과 일 ·가정 양립 지원에 관한 법률 \n",
      "\n",
      "일부개정법률안\n",
      "\n",
      "{'1809899.txt': 1.5382427458729653}\n",
      "{'1809899.txt': {'거리': 1.5382427458729653, '단어수': 0}}\n",
      "결혼중개업의 관리에 관한 법률 일부개정법률안\n",
      "\n",
      "(한선교의원 대표발의 )\n",
      "\n",
      "{'1809895.txt': 2.3306777198717277}\n",
      "{'1809895.txt': {'거리': 2.3306777198717277, '단어수': 0}}\n",
      "하도급거래 공정화에 관한 법률 일부개정법률안\n",
      "\n",
      "(유선호의원 대표발의 )\n",
      "\n",
      "{'1809896.txt': 3.0498591928696674}\n",
      "{'1809896.txt': {'거리': 3.0498591928696674, '단어수': 0}}\n",
      "행정절차법 일부개정법률안\n",
      "\n",
      "(유선호의원 대표발의 )\n",
      "\n",
      "{'1809898.txt': 4.807353198923258}\n",
      "{'1809898.txt': {'거리': 4.807353198923258, '단어수': 0}}\n",
      "국군부대의 소말리아 해역 파견연장 동의안\n",
      "\n",
      "의안\n",
      "\n",
      "{'1809897.txt': 5.050448921893771}\n",
      "{'1809897.txt': {'거리': 5.050448921893771, '단어수': 0}}\n",
      "국군부대의 아랍에미리트(UAE)군 교육훈련 지원 등에 \n",
      "관한 파견 동의안\n",
      "\n",
      "\n",
      "{'1809894.txt': 6.478089528366782}\n",
      "{'1809894.txt': {'거리': 6.478089528366782, '단어수': 0}}\n",
      "고등교육법 일부개정법률안\n",
      "\n",
      "(안상수의원 대표발의 )\n",
      "\n"
     ]
    }
   ],
   "source": [
    "# Relevance(Euclidean, Cosine Theta)\n",
    "# 1. Euclidean\n",
    "searchResult = defaultdict(float)\n",
    "fp = open(\"weight.dat\", \"rb\")\n",
    "for term, termStruct in Lexicon.items():\n",
    "    ptr = termStruct[\"ptr\"]\n",
    "    fp.seek(ptr)\n",
    "    for _ in range(termStruct[\"df\"]):\n",
    "        _struct = unpack(\"if\", fp.read(4*2))\n",
    "        qw = localPostings[term] # 이름은 나중에 바꾸시구여\n",
    "        dw = _struct[1]\n",
    "        searchResult[_struct[0]] += (qw-dw)**2\n",
    "fp.close()\n",
    "\n",
    "searchResult = {d:sqrt(dist)\n",
    "               for d, dist in searchResult.items()}\n",
    "\n",
    "for d, dist in {DocumentsList[_[0]]:_[1]\n",
    "                for _ in sorted(searchResult.items(), \n",
    "                        key=lambda r:r[1])}.items():\n",
    "    print({d:dist})\n",
    "    print({d:{\"거리\":dist, \"단어수\": Documents[d][\"ttf\"]}})\n",
    "    print(\"\\n\".join(kobill.open(d).read().splitlines()[:3]))\n",
    "    print()\n",
    "    "
   ]
  },
  {
   "cell_type": "markdown",
   "metadata": {},
   "source": [
    "---\n",
    "내일 수업시간에 다시 해주시"
   ]
  },
  {
   "cell_type": "markdown",
   "metadata": {},
   "source": [
    "# Cosine simiilarty"
   ]
  },
  {
   "attachments": {},
   "cell_type": "markdown",
   "metadata": {},
   "source": [
    "- euclidean distance와 다르게 summation할때 다르다. \n",
    "    - 𝑡∈𝑞∩𝑑\n",
    "\n",
    "- svm은 l1, l2를 고를 필요가 없다.\n",
    "\n",
    "- 보통 개발할 때 수집/학습 서버 1대, 서비스 제공 서버 1대 해서 총 2대를 쓴다. (실시간처럼 느끼게 한다.)\n",
    "\n"
   ]
  },
  {
   "cell_type": "code",
   "execution_count": 33,
   "metadata": {},
   "outputs": [
    {
     "ename": "NameError",
     "evalue": "name 'angle' is not defined",
     "output_type": "error",
     "traceback": [
      "\u001b[1;31m---------------------------------------------------------------------------\u001b[0m",
      "\u001b[1;31mNameError\u001b[0m                                 Traceback (most recent call last)",
      "\u001b[1;32m<ipython-input-33-87226f7377ee>\u001b[0m in \u001b[0;36m<module>\u001b[1;34m\u001b[0m\n\u001b[0;32m     14\u001b[0m \u001b[1;33m\u001b[0m\u001b[0m\n\u001b[0;32m     15\u001b[0m searchResult = {d:angle/sqrt(Documents[d][\"length\"])\n\u001b[1;32m---> 16\u001b[1;33m                for d, anglef in searchResult.items()}\n\u001b[0m\u001b[0;32m     17\u001b[0m \u001b[1;33m\u001b[0m\u001b[0m\n\u001b[0;32m     18\u001b[0m for d, dist in {_[0]:_[1]\n",
      "\u001b[1;32m<ipython-input-33-87226f7377ee>\u001b[0m in \u001b[0;36m<dictcomp>\u001b[1;34m(.0)\u001b[0m\n\u001b[0;32m     14\u001b[0m \u001b[1;33m\u001b[0m\u001b[0m\n\u001b[0;32m     15\u001b[0m searchResult = {d:angle/sqrt(Documents[d][\"length\"])\n\u001b[1;32m---> 16\u001b[1;33m                for d, anglef in searchResult.items()}\n\u001b[0m\u001b[0;32m     17\u001b[0m \u001b[1;33m\u001b[0m\u001b[0m\n\u001b[0;32m     18\u001b[0m for d, dist in {_[0]:_[1]\n",
      "\u001b[1;31mNameError\u001b[0m: name 'angle' is not defined"
     ]
    }
   ],
   "source": [
    "# Relevance(Euclidean, Cosine Theta)\n",
    "# 2. Cosine Theta\n",
    "searchResult = defaultdict(float)\n",
    "fp = open(\"weight.dat\", \"rb\")\n",
    "for term, termStruct in Lexicon.items():\n",
    "    ptr = Lexicon[term][\"ptr\"]\n",
    "    fp.seek(ptr)\n",
    "    for _ in range(termStruct[\"df\"]):\n",
    "        _struct = unpack(\"if\", fp.read(4*2))\n",
    "        qw = localPostings[term] # 이름은 나중에 바꾸시구여\n",
    "        dw = _struct[1]\n",
    "        searchResult[_struct[0]] += (qw-dw)\n",
    "fp.close()\n",
    "\n",
    "searchResult = {d:angle/sqrt(Documents[d][\"length\"])\n",
    "               for d, anglef in searchResult.items()}\n",
    "\n",
    "for d, dist in {_[0]:_[1]\n",
    "                for _ in sorted(searchResult.items(), \n",
    "                        key=lambda r:r[1], reverse=True)}.items():\n",
    "    print({d:dist})\n",
    "    print({d:{\"각도\":dist, \"단어수\": Documents[d][\"ttf\"]}})\n",
    "    print(\"\\n\".join(kobill.open(DocumentsList[d]).read().\\\n",
    "         splitlines()[:3]))\n",
    "    "
   ]
  },
  {
   "cell_type": "code",
   "execution_count": null,
   "metadata": {},
   "outputs": [],
   "source": []
  }
 ],
 "metadata": {
  "kernelspec": {
   "display_name": "Python 3",
   "language": "python",
   "name": "python3"
  },
  "language_info": {
   "codemirror_mode": {
    "name": "ipython",
    "version": 3
   },
   "file_extension": ".py",
   "mimetype": "text/x-python",
   "name": "python",
   "nbconvert_exporter": "python",
   "pygments_lexer": "ipython3",
   "version": "3.7.3"
  }
 },
 "nbformat": 4,
 "nbformat_minor": 2
}
