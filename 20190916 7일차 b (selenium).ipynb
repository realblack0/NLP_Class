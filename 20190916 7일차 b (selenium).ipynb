{
 "cells": [
  {
   "cell_type": "markdown",
   "metadata": {},
   "source": [
    "# Selenium\n",
    "- web browser를 새로 띄워서 원격 조종한다.\n",
    "- browser를 쓰기 때문에 header 정보를 줄 필요가 없다. (편리)\n",
    "- browser를 쓰기 때문에 해석된 결과물을 볼 수 있다. (편리)\n",
    "    - DHTML 이라 할지라도, 렌더링된 HTML을 받아서 DOM을 만들 수 있다.\n",
    "- Selenium으로 scraping하면 잘 못 사용하고 있는 것이다.\n",
    "    - cookies나 session을 이용하기 위해서 사용하는 것이 좋다.\n",
    "    - Selenium은 DHTML같이 해석하기 어려운 웹사이트를 scrap하기 위해서 사용하는 것이 좋다."
   ]
  },
  {
   "cell_type": "markdown",
   "metadata": {},
   "source": [
    "### 사전 준비\n",
    "- https://chromedriver.chromium.org/downloads\n",
    "- 자기가 사용 중인 Chrome의 버전과, 운영체제에 맞게 chromedriver를 다운로드 받는다.\n",
    "- chrome버전 확인은 \"Chrome 맞춤설정 및 제어\"(세로로 점 세개 아이콘) => 도움말 => Chrome 정보 에서 확인할 수 있다.\n",
    "- 다운로드한 파일은 압축을 풀어서 현재 작업 중인 파일과 같은 폴더에 넣어준다."
   ]
  },
  {
   "cell_type": "code",
   "execution_count": 3,
   "metadata": {},
   "outputs": [
    {
     "name": "stdout",
     "output_type": "stream",
     "text": [
      "Requirement already satisfied: selenium in c:\\users\\jinhyo\\anaconda3\\lib\\site-packages (3.141.0)\n",
      "Requirement already satisfied: urllib3 in c:\\users\\jinhyo\\anaconda3\\lib\\site-packages (from selenium) (1.24.1)\n"
     ]
    },
    {
     "name": "stderr",
     "output_type": "stream",
     "text": [
      "WARNING: You are using pip version 19.2.1, however version 19.2.3 is available.\n",
      "You should consider upgrading via the 'python -m pip install --upgrade pip' command.\n"
     ]
    }
   ],
   "source": [
    "!pip install selenium"
   ]
  },
  {
   "cell_type": "code",
   "execution_count": 36,
   "metadata": {},
   "outputs": [],
   "source": [
    "from selenium import webdriver\n",
    "\n",
    "# chromedriver.exe 파일의 경로를 인자로 전달한다.\n",
    "# 현재 작업중인 파일과 같은 폴더에 있으면 인자를 안 줘도 된다.\n",
    "\n",
    "# 실행하면 새로운 크롬 창이 뜬다.\n",
    "driver = webdriver.Chrome()"
   ]
  },
  {
   "cell_type": "code",
   "execution_count": 37,
   "metadata": {},
   "outputs": [],
   "source": [
    "# 원하는 사이트로 이동\n",
    "\n",
    "driver.get(\"http://example.webscraping.com/places/default/search\")"
   ]
  },
  {
   "cell_type": "markdown",
   "metadata": {},
   "source": [
    "> browser 자체가 가지고 있는 dom을 이용해서 select할 수 있다.\n",
    ">\n",
    "> BeutifurlSoup과 비슷하다."
   ]
  },
  {
   "cell_type": "code",
   "execution_count": 38,
   "metadata": {},
   "outputs": [],
   "source": [
    "# 검색창을 선택해보자.\n",
    "\n",
    "searchTerm = driver.find_element_by_id(\"search_term\")"
   ]
  },
  {
   "cell_type": "code",
   "execution_count": 39,
   "metadata": {},
   "outputs": [
    {
     "data": {
      "text/plain": [
       "''"
      ]
     },
     "execution_count": 39,
     "metadata": {},
     "output_type": "execute_result"
    }
   ],
   "source": [
    "# 현재는 아무 글자가 없으므로 비어있다... => ? \n",
    "\n",
    "searchTerm.text"
   ]
  },
  {
   "cell_type": "code",
   "execution_count": 40,
   "metadata": {},
   "outputs": [],
   "source": [
    "# 검색어를 입력해보자.\n",
    "# 실행 후 원격 브라우저를 확인해보면 korea가 검색창에 입력되어 있다.\n",
    "\n",
    "searchTerm.send_keys(\"korea\")"
   ]
  },
  {
   "cell_type": "code",
   "execution_count": 41,
   "metadata": {},
   "outputs": [],
   "source": [
    "# 검색 버튼을 찾아보자\n",
    "\n",
    "submitBtn = driver.find_element_by_css_selector(\"input[type=submit]\")"
   ]
  },
  {
   "cell_type": "code",
   "execution_count": 42,
   "metadata": {},
   "outputs": [],
   "source": [
    "# click 메서드로 클릭할 수 있다.\n",
    "\n",
    "submitBtn.click()"
   ]
  },
  {
   "cell_type": "code",
   "execution_count": 43,
   "metadata": {},
   "outputs": [
    {
     "data": {
      "text/plain": [
       "'North Korea\\nSouth Korea'"
      ]
     },
     "execution_count": 43,
     "metadata": {},
     "output_type": "execute_result"
    }
   ],
   "source": [
    "# \n",
    "\n",
    "resultDiv = driver.find_element_by_xpath(\"//div[@id='results']\")\n",
    "resultDiv.text"
   ]
  },
  {
   "cell_type": "code",
   "execution_count": 44,
   "metadata": {},
   "outputs": [],
   "source": [
    "t = resultDiv.find_element_by_xpath(\".//a\")"
   ]
  },
  {
   "cell_type": "code",
   "execution_count": null,
   "metadata": {},
   "outputs": [],
   "source": [
    "# web browser로 이미 렌더링했기 때문에 full url이 나온다.\n",
    "# urljoin을 따로 할 필요가 없음.\n",
    "\n",
    "for _ in resultDiv.find_elements_by_xpath(\".//img\"):\n",
    "    print(_.get_attribute(\"src\"))"
   ]
  },
  {
   "cell_type": "markdown",
   "metadata": {},
   "source": [
    "----"
   ]
  },
  {
   "cell_type": "code",
   "execution_count": 25,
   "metadata": {},
   "outputs": [],
   "source": [
    "import requests\n",
    "from bs4 import BeautifulSoup"
   ]
  },
  {
   "cell_type": "code",
   "execution_count": 24,
   "metadata": {},
   "outputs": [],
   "source": [
    "dom = BeautifulSoup(driver.page_source, \"lxml\")"
   ]
  },
  {
   "cell_type": "code",
   "execution_count": 26,
   "metadata": {},
   "outputs": [
    {
     "name": "stdout",
     "output_type": "stream",
     "text": [
      "http://example.webscraping.com/places/static/images/flags/kp.png\n",
      "http://example.webscraping.com/places/static/images/flags/kr.png\n"
     ]
    }
   ],
   "source": [
    "for _ in dom.select_one(\"#results\").select(\"img\"):\n",
    "    print(requests.compat.urljoin(driver.current_url, _[\"src\"]))"
   ]
  },
  {
   "cell_type": "code",
   "execution_count": 27,
   "metadata": {},
   "outputs": [
    {
     "name": "stdout",
     "output_type": "stream",
     "text": [
      "http://example.webscraping.com/places/default/view/North-Korea-165\n",
      "http://example.webscraping.com/places/default/view/South-Korea-211\n"
     ]
    }
   ],
   "source": [
    "for _ in dom.select_one(\"#results\").select(\"a\"):\n",
    "    print(requests.compat.urljoin(driver.current_url, _[\"href\"]))"
   ]
  },
  {
   "cell_type": "markdown",
   "metadata": {},
   "source": [
    "Driver -> URL -> Response(HTML) -> 검색 -> AJAX -> Response(Data) -> \n",
    "(\\*) Rendering -> Browsing -> find_함수(URL join)"
   ]
  },
  {
   "cell_type": "markdown",
   "metadata": {},
   "source": [
    "---"
   ]
  },
  {
   "cell_type": "markdown",
   "metadata": {},
   "source": [
    "> web driver를 종료할때는 직접 창을 닫지 말고 반드시 driver.close()를 이용하세요!"
   ]
  },
  {
   "cell_type": "code",
   "execution_count": 29,
   "metadata": {},
   "outputs": [
    {
     "data": {
      "text/plain": [
       "['CDwindow-369887B2E182EE5288A77688565541E6']"
      ]
     },
     "execution_count": 29,
     "metadata": {},
     "output_type": "execute_result"
    }
   ],
   "source": [
    "# 현재 켜져있는 web driver의 목록\n",
    "\n",
    "driver.window_handles"
   ]
  },
  {
   "cell_type": "code",
   "execution_count": 35,
   "metadata": {},
   "outputs": [],
   "source": [
    "# 현재 작업중인 web driver를 종료\n",
    "\n",
    "driver.close()"
   ]
  },
  {
   "cell_type": "code",
   "execution_count": 31,
   "metadata": {
    "scrolled": true
   },
   "outputs": [
    {
     "ename": "InvalidSessionIdException",
     "evalue": "Message: invalid session id\n",
     "output_type": "error",
     "traceback": [
      "\u001b[1;31m---------------------------------------------------------------------------\u001b[0m",
      "\u001b[1;31mInvalidSessionIdException\u001b[0m                 Traceback (most recent call last)",
      "\u001b[1;32m<ipython-input-31-9c67282c353e>\u001b[0m in \u001b[0;36m<module>\u001b[1;34m\u001b[0m\n\u001b[1;32m----> 1\u001b[1;33m \u001b[0mdriver\u001b[0m\u001b[1;33m.\u001b[0m\u001b[0mwindow_handles\u001b[0m\u001b[1;33m\u001b[0m\u001b[1;33m\u001b[0m\u001b[0m\n\u001b[0m",
      "\u001b[1;32m~\\Anaconda3\\lib\\site-packages\\selenium\\webdriver\\remote\\webdriver.py\u001b[0m in \u001b[0;36mwindow_handles\u001b[1;34m(self)\u001b[0m\n\u001b[0;32m    722\u001b[0m         \"\"\"\n\u001b[0;32m    723\u001b[0m         \u001b[1;32mif\u001b[0m \u001b[0mself\u001b[0m\u001b[1;33m.\u001b[0m\u001b[0mw3c\u001b[0m\u001b[1;33m:\u001b[0m\u001b[1;33m\u001b[0m\u001b[1;33m\u001b[0m\u001b[0m\n\u001b[1;32m--> 724\u001b[1;33m             \u001b[1;32mreturn\u001b[0m \u001b[0mself\u001b[0m\u001b[1;33m.\u001b[0m\u001b[0mexecute\u001b[0m\u001b[1;33m(\u001b[0m\u001b[0mCommand\u001b[0m\u001b[1;33m.\u001b[0m\u001b[0mW3C_GET_WINDOW_HANDLES\u001b[0m\u001b[1;33m)\u001b[0m\u001b[1;33m[\u001b[0m\u001b[1;34m'value'\u001b[0m\u001b[1;33m]\u001b[0m\u001b[1;33m\u001b[0m\u001b[1;33m\u001b[0m\u001b[0m\n\u001b[0m\u001b[0;32m    725\u001b[0m         \u001b[1;32melse\u001b[0m\u001b[1;33m:\u001b[0m\u001b[1;33m\u001b[0m\u001b[1;33m\u001b[0m\u001b[0m\n\u001b[0;32m    726\u001b[0m             \u001b[1;32mreturn\u001b[0m \u001b[0mself\u001b[0m\u001b[1;33m.\u001b[0m\u001b[0mexecute\u001b[0m\u001b[1;33m(\u001b[0m\u001b[0mCommand\u001b[0m\u001b[1;33m.\u001b[0m\u001b[0mGET_WINDOW_HANDLES\u001b[0m\u001b[1;33m)\u001b[0m\u001b[1;33m[\u001b[0m\u001b[1;34m'value'\u001b[0m\u001b[1;33m]\u001b[0m\u001b[1;33m\u001b[0m\u001b[1;33m\u001b[0m\u001b[0m\n",
      "\u001b[1;32m~\\Anaconda3\\lib\\site-packages\\selenium\\webdriver\\remote\\webdriver.py\u001b[0m in \u001b[0;36mexecute\u001b[1;34m(self, driver_command, params)\u001b[0m\n\u001b[0;32m    319\u001b[0m         \u001b[0mresponse\u001b[0m \u001b[1;33m=\u001b[0m \u001b[0mself\u001b[0m\u001b[1;33m.\u001b[0m\u001b[0mcommand_executor\u001b[0m\u001b[1;33m.\u001b[0m\u001b[0mexecute\u001b[0m\u001b[1;33m(\u001b[0m\u001b[0mdriver_command\u001b[0m\u001b[1;33m,\u001b[0m \u001b[0mparams\u001b[0m\u001b[1;33m)\u001b[0m\u001b[1;33m\u001b[0m\u001b[1;33m\u001b[0m\u001b[0m\n\u001b[0;32m    320\u001b[0m         \u001b[1;32mif\u001b[0m \u001b[0mresponse\u001b[0m\u001b[1;33m:\u001b[0m\u001b[1;33m\u001b[0m\u001b[1;33m\u001b[0m\u001b[0m\n\u001b[1;32m--> 321\u001b[1;33m             \u001b[0mself\u001b[0m\u001b[1;33m.\u001b[0m\u001b[0merror_handler\u001b[0m\u001b[1;33m.\u001b[0m\u001b[0mcheck_response\u001b[0m\u001b[1;33m(\u001b[0m\u001b[0mresponse\u001b[0m\u001b[1;33m)\u001b[0m\u001b[1;33m\u001b[0m\u001b[1;33m\u001b[0m\u001b[0m\n\u001b[0m\u001b[0;32m    322\u001b[0m             response['value'] = self._unwrap_value(\n\u001b[0;32m    323\u001b[0m                 response.get('value', None))\n",
      "\u001b[1;32m~\\Anaconda3\\lib\\site-packages\\selenium\\webdriver\\remote\\errorhandler.py\u001b[0m in \u001b[0;36mcheck_response\u001b[1;34m(self, response)\u001b[0m\n\u001b[0;32m    240\u001b[0m                 \u001b[0malert_text\u001b[0m \u001b[1;33m=\u001b[0m \u001b[0mvalue\u001b[0m\u001b[1;33m[\u001b[0m\u001b[1;34m'alert'\u001b[0m\u001b[1;33m]\u001b[0m\u001b[1;33m.\u001b[0m\u001b[0mget\u001b[0m\u001b[1;33m(\u001b[0m\u001b[1;34m'text'\u001b[0m\u001b[1;33m)\u001b[0m\u001b[1;33m\u001b[0m\u001b[1;33m\u001b[0m\u001b[0m\n\u001b[0;32m    241\u001b[0m             \u001b[1;32mraise\u001b[0m \u001b[0mexception_class\u001b[0m\u001b[1;33m(\u001b[0m\u001b[0mmessage\u001b[0m\u001b[1;33m,\u001b[0m \u001b[0mscreen\u001b[0m\u001b[1;33m,\u001b[0m \u001b[0mstacktrace\u001b[0m\u001b[1;33m,\u001b[0m \u001b[0malert_text\u001b[0m\u001b[1;33m)\u001b[0m\u001b[1;33m\u001b[0m\u001b[1;33m\u001b[0m\u001b[0m\n\u001b[1;32m--> 242\u001b[1;33m         \u001b[1;32mraise\u001b[0m \u001b[0mexception_class\u001b[0m\u001b[1;33m(\u001b[0m\u001b[0mmessage\u001b[0m\u001b[1;33m,\u001b[0m \u001b[0mscreen\u001b[0m\u001b[1;33m,\u001b[0m \u001b[0mstacktrace\u001b[0m\u001b[1;33m)\u001b[0m\u001b[1;33m\u001b[0m\u001b[1;33m\u001b[0m\u001b[0m\n\u001b[0m\u001b[0;32m    243\u001b[0m \u001b[1;33m\u001b[0m\u001b[0m\n\u001b[0;32m    244\u001b[0m     \u001b[1;32mdef\u001b[0m \u001b[0m_value_or_default\u001b[0m\u001b[1;33m(\u001b[0m\u001b[0mself\u001b[0m\u001b[1;33m,\u001b[0m \u001b[0mobj\u001b[0m\u001b[1;33m,\u001b[0m \u001b[0mkey\u001b[0m\u001b[1;33m,\u001b[0m \u001b[0mdefault\u001b[0m\u001b[1;33m)\u001b[0m\u001b[1;33m:\u001b[0m\u001b[1;33m\u001b[0m\u001b[1;33m\u001b[0m\u001b[0m\n",
      "\u001b[1;31mInvalidSessionIdException\u001b[0m: Message: invalid session id\n"
     ]
    }
   ],
   "source": [
    "# 현재 켜져있는 web driver가 없으므로 에러를 발생시킴\n",
    "\n",
    "driver.window_handles"
   ]
  },
  {
   "cell_type": "markdown",
   "metadata": {},
   "source": [
    "---"
   ]
  },
  {
   "cell_type": "markdown",
   "metadata": {},
   "source": [
    "# 네이버 실습"
   ]
  },
  {
   "cell_type": "markdown",
   "metadata": {},
   "source": [
    "### 로그인 정보 "
   ]
  },
  {
   "cell_type": "code",
   "execution_count": 49,
   "metadata": {},
   "outputs": [],
   "source": [
    "import json"
   ]
  },
  {
   "cell_type": "code",
   "execution_count": 71,
   "metadata": {},
   "outputs": [],
   "source": [
    "with open(\"naver_id.json\", \"r\", encoding=\"utf-8\") as fp:\n",
    "    account = fp.read()"
   ]
  },
  {
   "cell_type": "code",
   "execution_count": 72,
   "metadata": {},
   "outputs": [],
   "source": [
    "account = json.loads(account)"
   ]
  },
  {
   "cell_type": "markdown",
   "metadata": {},
   "source": [
    "---"
   ]
  },
  {
   "cell_type": "markdown",
   "metadata": {},
   "source": [
    "### webdriver 이용"
   ]
  },
  {
   "cell_type": "code",
   "execution_count": 73,
   "metadata": {},
   "outputs": [],
   "source": [
    "driver = webdriver.Chrome()\n",
    "driver.get(\"https://www.naver.com\")"
   ]
  },
  {
   "cell_type": "markdown",
   "metadata": {},
   "source": [
    "> 바로 네이버 메일의 url을 가도 된다.\n",
    ">\n",
    "> 그러나, 일부 웹사이트에서는 사람이 하듯이 정상적인 절차로 접속하지 않으면, bot으로 인식하고 차단하는 경우가 있다.\n",
    ">\n",
    "> 마치 사람인양, main 사이트부터 접속해서 메일함으로 접속하면 문제없다.\n",
    ">\n",
    "> 어떤 사이트로부터 접속했는지는 headers의 referer를 통해서 확인할 수 있다."
   ]
  },
  {
   "cell_type": "code",
   "execution_count": 74,
   "metadata": {},
   "outputs": [],
   "source": [
    "# 네이버 메일로 가기 버튼 클릭\n",
    "\n",
    "driver.find_element_by_css_selector(\".an_a.mn_mail\").click()"
   ]
  },
  {
   "cell_type": "code",
   "execution_count": 75,
   "metadata": {},
   "outputs": [],
   "source": [
    "# id 입력\n",
    "\n",
    "driver.find_element_by_name(\"id\").send_keys(naver_id[\"id\"])"
   ]
  },
  {
   "cell_type": "code",
   "execution_count": 77,
   "metadata": {},
   "outputs": [],
   "source": [
    "# pw 입력\n",
    "\n",
    "driver.find_element_by_xpath(\"//input[@id='pw']\").send_keys(naver_id[\"pw\"])"
   ]
  },
  {
   "cell_type": "code",
   "execution_count": 78,
   "metadata": {},
   "outputs": [],
   "source": [
    "# 입력 버튼 클릭\n",
    "\n",
    "driver.find_element_by_css_selector(\"input.btn_global[type=submit]\").click()"
   ]
  },
  {
   "cell_type": "markdown",
   "metadata": {},
   "source": [
    "> capcha는 어떻게 할 수 없다.\n",
    ">\n",
    "> capcha가 뜨면 수동으로 로그인하자."
   ]
  },
  {
   "cell_type": "code",
   "execution_count": 82,
   "metadata": {},
   "outputs": [],
   "source": [
    "# 스팸 메일함으로 이동\n",
    "# +는 형제 노드이다.\n",
    " \n",
    "driver.find_element_by_css_selector(\"span.item_wrap.bu6 > i.ico_mbox + a\").click()"
   ]
  },
  {
   "cell_type": "code",
   "execution_count": 84,
   "metadata": {},
   "outputs": [
    {
     "name": "stdout",
     "output_type": "stream",
     "text": [
      "스팸자동이동\n",
      "(광고) 차 바꾸고 싶을때!!! 보증금 ZERO 신차 장기렌트가 무료견적 받아보세요~\n",
      "시스템차단\n",
      "해외정품 비/아/그/라 종합 남성 사이트 클릭 <<\n",
      "시스템차단\n",
      "2019 이벤트 정품 비/아/그/라 할인행사중\n",
      "시스템차단\n",
      "2019 이벤트 정품 비/아/그/라 할인행사중\n",
      "스팸자동이동\n",
      "ONLY 4 HOURS LEFT: Do this before bed … or miss out forever\n",
      "스팸자동이동\n",
      "EXPIRES AT 12 MIDNIGHT: Your LAST shot at getting “5G Rich”\n",
      "시스템차단\n",
      "정품 비/아/그/라 구입 이제 집에서 클릭 한번으로 쉽게\n",
      "스팸자동이동\n",
      "Named inside: Three 5G stocks surging 3x the S&P! NOW!\n",
      "스팸자동이동\n",
      "[URGENT] Critical Warning About Tomorrow Night\n",
      "스팸자동이동\n",
      "[DBGuide.net] 빅데이터 최고전략가 1기 교육생 모집중!! (접수기간 : 9월 22일까지)\n",
      "스팸자동이동\n",
      "(광고) [깜짝선물] 추석명절을 맞아 특별한 선물을 준비했습니다.\n",
      "시스템차단\n",
      "해외정품 비/아/그/라 종합 남성 사이트 클릭 <<\n",
      "시스템차단\n",
      "프리미엄 온라인 남성 종합 쇼핑몰 정품 비/아/그/라\n",
      "시스템차단\n",
      "정품 비/아/그/라 종합 사이트 남자 Click 이벤트중\n",
      "스팸자동이동\n",
      "[EXPIRING SOON] Your roadmap to systematic 5G windfalls\n"
     ]
    }
   ],
   "source": [
    "# 스팸메일함의 메일 목록을 읽어보자\n",
    "\n",
    "for _ in driver.find_elements_by_css_selector(\"div.subject\"):\n",
    "    print(_.text)"
   ]
  },
  {
   "cell_type": "code",
   "execution_count": 86,
   "metadata": {},
   "outputs": [
    {
     "name": "stdout",
     "output_type": "stream",
     "text": [
      "스팸자동이동에 분류됨메일 제목:(광고) 차 바꾸고 싶을때!!! 보증금 ZERO 신차 장기렌트가 무료견적 받아보세요~메일 내용 미리보기 레이어 열림새 창으로 메일 보기\n",
      "시스템차단에 분류됨메일 제목:해외정품 비/아/그/라 종합 남성 사이트 클릭  <<메일 내용 미리보기 레이어 열림새 창으로 메일 보기\n",
      "시스템차단에 분류됨메일 제목:2019 이벤트 정품 비/아/그/라 할인행사중메일 내용 미리보기 레이어 열림새 창으로 메일 보기\n",
      "시스템차단에 분류됨메일 제목:2019 이벤트 정품 비/아/그/라 할인행사중메일 내용 미리보기 레이어 열림새 창으로 메일 보기\n",
      "스팸자동이동에 분류됨메일 제목:ONLY 4 HOURS LEFT: Do this before bed … or miss out forever메일 내용 미리보기 레이어 열림새 창으로 메일 보기\n",
      "스팸자동이동에 분류됨메일 제목:EXPIRES AT 12 MIDNIGHT: Your LAST shot at getting “5G Rich”메일 내용 미리보기 레이어 열림새 창으로 메일 보기\n",
      "시스템차단에 분류됨메일 제목:정품 비/아/그/라 구입 이제 집에서 클릭 한번으로 쉽게메일 내용 미리보기 레이어 열림새 창으로 메일 보기\n",
      "스팸자동이동에 분류됨메일 제목:Named inside: Three 5G stocks surging 3x the S&P! NOW!메일 내용 미리보기 레이어 열림새 창으로 메일 보기\n",
      "스팸자동이동에 분류됨메일 제목:[URGENT] Critical Warning About Tomorrow Night메일 내용 미리보기 레이어 열림새 창으로 메일 보기\n",
      "스팸자동이동에 분류됨메일 제목:[DBGuide.net] 빅데이터 최고전략가 1기 교육생 모집중!! (접수기간 : 9월 22일까지)메일 내용 미리보기 레이어 열림새 창으로 메일 보기\n",
      "스팸자동이동에 분류됨메일 제목:(광고) [깜짝선물] 추석명절을 맞아 특별한 선물을 준비했습니다.메일 내용 미리보기 레이어 열림새 창으로 메일 보기\n",
      "시스템차단에 분류됨메일 제목:해외정품 비/아/그/라 종합 남성 사이트 클릭  <<메일 내용 미리보기 레이어 열림새 창으로 메일 보기\n",
      "시스템차단에 분류됨메일 제목:프리미엄 온라인 남성 종합 쇼핑몰 정품 비/아/그/라메일 내용 미리보기 레이어 열림새 창으로 메일 보기\n",
      "시스템차단에 분류됨메일 제목:정품 비/아/그/라 종합 사이트 남자 Click 이벤트중메일 내용 미리보기 레이어 열림새 창으로 메일 보기\n",
      "스팸자동이동에 분류됨메일 제목:[EXPIRING SOON] Your roadmap to systematic 5G windfalls메일 내용 미리보기 레이어 열림새 창으로 메일 보기\n"
     ]
    }
   ],
   "source": [
    "# BeautifulSoup으로 dom을 만들어서 찾을 수도 있다.\n",
    "# webdriver의 select한 객체와, BeautifulSoup의 select한 객체는 서로 type이 달라서 호환되지 않는다.\n",
    "\n",
    "dom = BeautifulSoup(driver.page_source, \"lxml\")\n",
    "for _ in dom.select(\"div.subject\"):\n",
    "    print(_.text)"
   ]
  },
  {
   "cell_type": "markdown",
   "metadata": {},
   "source": [
    "---"
   ]
  },
  {
   "cell_type": "markdown",
   "metadata": {},
   "source": [
    "# 로그인 cookie를 얻어서 session에 입력하기"
   ]
  },
  {
   "cell_type": "markdown",
   "metadata": {},
   "source": [
    "> 로그인하기 전에 개발자 도구에서 cookies를 확인해보면 값이 몇개 없다."
   ]
  },
  {
   "attachments": {
    "image.png": {
     "image/png": "[encoded data removed]"
    }
   },
   "cell_type": "markdown",
   "metadata": {},
   "source": [
    "![image.png](attachment:image.png)"
   ]
  },
  {
   "cell_type": "markdown",
   "metadata": {},
   "source": [
    "> 로그인 후에 cookies를 확인해보면 값이 많이 늘었다. \n",
    ">\n",
    "> 로그인 정보를 cookies로 가지고 있는 상태이다."
   ]
  },
  {
   "attachments": {
    "image.png": {
     "image/png": "[encoded data removed]"
    }
   },
   "cell_type": "markdown",
   "metadata": {},
   "source": [
    "![image.png](attachment:image.png)"
   ]
  },
  {
   "cell_type": "code",
   "execution_count": 87,
   "metadata": {},
   "outputs": [
    {
     "name": "stdout",
     "output_type": "stream",
     "text": [
      "NIPD\n",
      "1\n",
      "NNB\n",
      "244NERXEFZ7V2\n",
      "NID_JKL\n",
      "WLsA62LCikvGfuZbICwhTFuHcZgCvUdKKz2WMtueTog=\n",
      "nid_inf\n",
      "1532511236\n",
      "NMUSER\n",
      "YXYmFAEwaqbsFxKlaxEZ+rwqpXvlKqnwFxM/FouXaAUZaqEwKogsKAnsadEsFAK9FqUXaw/wFxRpad/syqvs6xRpadUs6xnstonsarRTBdRLa9vstonsH405pzk/7xt5W4d5W4JrpBU5MreR7A2lKAgsbrkoWrlvMBil7605pzk/7xt5W4d5W4JrpBU5MreR7A2lKAgs\n",
      "NID_SES\n",
      "AAABpwY98ls6OLaAYcu5ZzHuy7JTe56MqwO/LHvZPGvzTjcRl6lrx8SdyW8XZxVq0mYMxLQ+zoo1vGu93EhwjfZkQvbVRBc+9SQCarKfqxWLQVHhZinsvvUNNq1OgrqFYqxFeVgUpNUvLav9o67kAEuk0wh8j3KDlaKY/xmNHrT/Eo9NLj55J7RnEaSkmBtu6mS3qBpTsHngjanbvjrDeTu2GwvAoCTcAShmAkzhgczXjCzJT40TZjFCTykaYjo5Bs48N8Debz5rZSC/Z7dEaCBmW6GlBCZQf+ylAlA2ts5/M3VuQNLtjE3BYGtfq6xyRculMxVgsm5mf9yBcflICD3slWObjMZP9sWrHov4VyijvqVYnheAzzXH3RtnY7abaTw9jHA57BHXTaYQ04ldljtf4xRRv+l3fAdawo0zDNEyL7VZq3LKVgqMcomC8l39koF8dh0tux40nuYuK9dgqo2YGhCGWe8uLWd8gmEKBx5JRgeMNUPMhMjm9Rh63HOh4PnAC5yQIHQ7mnBWlCXUHP+IMN7j6/MBwjSzVTe2iWbL7NK6wvPgoiAV4QwdJ/6snpuvdQ==\n",
      "NID_AUT\n",
      "d1IcIZGsEehr8jEhrHqBeNt5oXeTxLzbicsThQapQy7HWj/HDpVZhjIrEU6Tvb/B\n"
     ]
    }
   ],
   "source": [
    "# 현재 driver가 가지고 있는 쿠키 정보를 보자\n",
    "\n",
    "for _ in driver.get_cookies():\n",
    "    print(_[\"name\"])\n",
    "    print(_[\"value\"])"
   ]
  },
  {
   "cell_type": "code",
   "execution_count": 89,
   "metadata": {},
   "outputs": [],
   "source": [
    "# session 객체에 쿠키를 저장하자.\n",
    "\n",
    "session = requests.Session()\n",
    "for _ in driver.get_cookies():\n",
    "    session.cookies.set(_[\"name\"], _[\"value\"])"
   ]
  },
  {
   "cell_type": "code",
   "execution_count": 90,
   "metadata": {},
   "outputs": [
    {
     "data": {
      "text/plain": [
       "<RequestsCookieJar[Cookie(version=0, name='NID_AUT', value='d1IcIZGsEehr8jEhrHqBeNt5oXeTxLzbicsThQapQy7HWj/HDpVZhjIrEU6Tvb/B', port=None, port_specified=False, domain='', domain_specified=False, domain_initial_dot=False, path='/', path_specified=True, secure=False, expires=None, discard=True, comment=None, comment_url=None, rest={'HttpOnly': None}, rfc2109=False), Cookie(version=0, name='NID_JKL', value='WLsA62LCikvGfuZbICwhTFuHcZgCvUdKKz2WMtueTog=', port=None, port_specified=False, domain='', domain_specified=False, domain_initial_dot=False, path='/', path_specified=True, secure=False, expires=None, discard=True, comment=None, comment_url=None, rest={'HttpOnly': None}, rfc2109=False), Cookie(version=0, name='NID_SES', value='AAABpi03Z032AcMwfgiNV9l6k2Drhz69gezTNIJmR7JpAMcqz/rqnCQB/7aQxjPoT/Zt5dle3XBiepMKBzsh6ruCLFo9jSTOO23Sc/x+yAuIW9quOEnerUwbVWgiwoNfNC/DwDaEbpXvnHxTt/9WWRsuz9JXzG5a8CeVBrkvGhYbk0fjUfJJckZYaIl7cwjb/iRMp/pctCpTRXQP454fMTXeeyh8V0bJaePovfvO+OwOVcpV0OD7HDkJqpYZ5vSuwgANGv8JVGkO+e+M4lqsjFu0aP3erwq5b0lOjFCkcx1DTuhgwp4jMlsqCksF9QdbXnSw+T2L4LUmKdjvCm+ySWXnmL6G5jtESS86bvHApZKQaP+HirPe+KwSuRipTur3Fxeyoj6og5JQvUk+tIe92seRZV1skROO/yZ8L613krMCQw6q2QUQoX3mup7tJn9tRlksilvLEYD0d+sEu0wrA9rp7Kf32A+uw8JrkWJ1buzq6Kws0osHGDV7kagpRsCoCAuetp5WPuY/oAPr9rhJ5T/jBGuQEo2pRExpPbN0ZEJdR7cshwapYrSs/WDDP2PmO3x6cQ==', port=None, port_specified=False, domain='', domain_specified=False, domain_initial_dot=False, path='/', path_specified=True, secure=False, expires=None, discard=True, comment=None, comment_url=None, rest={'HttpOnly': None}, rfc2109=False), Cookie(version=0, name='NIPD', value='1', port=None, port_specified=False, domain='', domain_specified=False, domain_initial_dot=False, path='/', path_specified=True, secure=False, expires=None, discard=True, comment=None, comment_url=None, rest={'HttpOnly': None}, rfc2109=False), Cookie(version=0, name='NMUSER', value='YXYmFAEwaqbsFxKlaxEZ+rwqpXvlKqnwFxM/FouXaAUZaqEwKogsKAnsadEsFAK9FqUXaw/wFxRpad/syqvs6xRpadUs6xnstonsarRTBdRLa9vstonsH405pzk/7xt5W4d5W4JrpBU5MreR7A2lKAgsbrkoWrlvMBil7605pzk/7xt5W4d5W4JrpBU5MreR7A2lKAgs', port=None, port_specified=False, domain='', domain_specified=False, domain_initial_dot=False, path='/', path_specified=True, secure=False, expires=None, discard=True, comment=None, comment_url=None, rest={'HttpOnly': None}, rfc2109=False), Cookie(version=0, name='NNB', value='244NERXEFZ7V2', port=None, port_specified=False, domain='', domain_specified=False, domain_initial_dot=False, path='/', path_specified=True, secure=False, expires=None, discard=True, comment=None, comment_url=None, rest={'HttpOnly': None}, rfc2109=False), Cookie(version=0, name='nid_inf', value='1532511236', port=None, port_specified=False, domain='', domain_specified=False, domain_initial_dot=False, path='/', path_specified=True, secure=False, expires=None, discard=True, comment=None, comment_url=None, rest={'HttpOnly': None}, rfc2109=False)]>"
      ]
     },
     "execution_count": 90,
     "metadata": {},
     "output_type": "execute_result"
    }
   ],
   "source": [
    "# session에 쿠키값이 저장되었다.\n",
    "\n",
    "session.cookies"
   ]
  },
  {
   "cell_type": "code",
   "execution_count": 96,
   "metadata": {},
   "outputs": [
    {
     "data": {
      "text/plain": [
       "'{\"Result\":\"FAIL\",\"Message\":\"\", \"LoginStatus\":\"NOLOGIN\"}'"
      ]
     },
     "execution_count": 96,
     "metadata": {},
     "output_type": "execute_result"
    }
   ],
   "source": [
    "# spam 메일함에 접근하기.\n",
    "# cookie 값이 없이, 네이버 메일에 접근하면 로그인이 안되어있다는 메시지가 뜬다.\n",
    "\n",
    "url = \"https://mail.naver.com/json/list/?page=1&sortField=1&sortType=0&folderSN=5&type=&isUnread=false&u=wlsgy93\"\n",
    "resp= requests.get(url)\n",
    "resp.text"
   ]
  },
  {
   "cell_type": "code",
   "execution_count": 97,
   "metadata": {},
   "outputs": [
    {
     "data": {
      "text/plain": [
       "''"
      ]
     },
     "execution_count": 97,
     "metadata": {},
     "output_type": "execute_result"
    }
   ],
   "source": [
    "# session이 cookie 값을 물고 있다.\n",
    "# 하지만 get 방식을 썼기 때문에 제대로 응답이 오지 않았다.\n",
    "# post 방식을 써야한다.\n",
    "\n",
    "resp = session.get(url)\n",
    "resp.text"
   ]
  },
  {
   "cell_type": "code",
   "execution_count": 98,
   "metadata": {},
   "outputs": [
    {
     "data": {
      "text/plain": [
       "{'currentTime': 1568618335,\n",
       " 'lastPage': 2,\n",
       " 'Message': '',\n",
       " 'pageSize': 15,\n",
       " 'unreadCount': 16,\n",
       " 'mailData': [{'mailSN': 74981,\n",
       "   'folderSN': 5,\n",
       "   'folderName': None,\n",
       "   'iconType': 0,\n",
       "   'status': 2097152,\n",
       "   'from': {'name': '롯데 신차 장기 렌터카', 'email': 'a-tools01@ebiznetworks.kr'},\n",
       "   'subject': '(광고) 차 바꾸고 싶을때!!! 보증금 ZERO 신차 장기렌트가 무료견적 받아보세요~',\n",
       "   'receivedTime': 1568611819,\n",
       "   'sentTime': 1568609780,\n",
       "   'size': 6610,\n",
       "   'attachCount': 0,\n",
       "   'iDomainEmail': 'wlsgy93@naver.com',\n",
       "   'priority': 3,\n",
       "   'securityLevel': None,\n",
       "   'reSend': False,\n",
       "   'color': '#ffffff',\n",
       "   'preview': '',\n",
       "   'mimeSN': '1568611819.832549.63963.18176',\n",
       "   'toList': [{'name': '', 'email': 'wlsgy93@naver.com'}],\n",
       "   'spamType': 'AUTO_MOVE',\n",
       "   'attachInfo': [],\n",
       "   'threadId': '<210425335.48134.1568611819810@[218.145.69.125]>',\n",
       "   'bccList': [],\n",
       "   'receiveByBcc': False,\n",
       "   'threadCount': 0,\n",
       "   'unreadThreadCount': 0,\n",
       "   'firstLocatedTime': 1568611819,\n",
       "   'remindAt': 0,\n",
       "   'threadRemindAt': 0,\n",
       "   'threadRemindFlag': 0,\n",
       "   'category': -1,\n",
       "   'lastLocatedTime': 1568612878,\n",
       "   'bigFile': False,\n",
       "   'toMe': True,\n",
       "   'statusHex': '200000',\n",
       "   'isDomainMail': False},\n",
       "  {'mailSN': 74980,\n",
       "   'folderSN': 5,\n",
       "   'folderName': None,\n",
       "   'iconType': 0,\n",
       "   'status': 274880012288,\n",
       "   'from': {'name': '민주은', 'email': 'wygqj@nexon.com'},\n",
       "   'subject': '해외정품 비/아/그/라 종합 남성 사이트 클릭  &lt;&lt;',\n",
       "   'receivedTime': 1568610685,\n",
       "   'sentTime': 0,\n",
       "   'size': 12410,\n",
       "   'attachCount': 0,\n",
       "   'iDomainEmail': 'wlsgy93@naver.com',\n",
       "   'priority': 3,\n",
       "   'securityLevel': None,\n",
       "   'reSend': False,\n",
       "   'color': '#ffffff',\n",
       "   'preview': '',\n",
       "   'mimeSN': '1568610685.985964.62811.46848',\n",
       "   'toList': [{'name': '', 'email': 'wlsgy93@naver.com'}],\n",
       "   'spamType': 'SYSTEM_DEFINE',\n",
       "   'attachInfo': [],\n",
       "   'threadId': '',\n",
       "   'bccList': [],\n",
       "   'receiveByBcc': False,\n",
       "   'threadCount': 0,\n",
       "   'unreadThreadCount': 0,\n",
       "   'firstLocatedTime': 1568610685,\n",
       "   'remindAt': 0,\n",
       "   'threadRemindAt': 0,\n",
       "   'threadRemindFlag': 0,\n",
       "   'category': -1,\n",
       "   'lastLocatedTime': 0,\n",
       "   'bigFile': False,\n",
       "   'toMe': True,\n",
       "   'statusHex': '4000202000',\n",
       "   'isDomainMail': False},\n",
       "  {'mailSN': 74954,\n",
       "   'folderSN': 5,\n",
       "   'folderName': None,\n",
       "   'iconType': 0,\n",
       "   'status': 274880012288,\n",
       "   'from': {'name': '윤주희', 'email': 'ipfgi@nexon.com'},\n",
       "   'subject': '2019 이벤트 정품 비/아/그/라 할인행사중',\n",
       "   'receivedTime': 1568465145,\n",
       "   'sentTime': 0,\n",
       "   'size': 12401,\n",
       "   'attachCount': 0,\n",
       "   'iDomainEmail': 'wlsgy93@naver.com',\n",
       "   'priority': 3,\n",
       "   'securityLevel': None,\n",
       "   'reSend': False,\n",
       "   'color': '#ffffff',\n",
       "   'preview': '',\n",
       "   'mimeSN': '1568465145.530955.56674.63232',\n",
       "   'toList': [{'name': '', 'email': 'wlsgy93@naver.com'}],\n",
       "   'spamType': 'SYSTEM_DEFINE',\n",
       "   'attachInfo': [],\n",
       "   'threadId': '',\n",
       "   'bccList': [],\n",
       "   'receiveByBcc': False,\n",
       "   'threadCount': 0,\n",
       "   'unreadThreadCount': 0,\n",
       "   'firstLocatedTime': 1568465145,\n",
       "   'remindAt': 0,\n",
       "   'threadRemindAt': 0,\n",
       "   'threadRemindFlag': 0,\n",
       "   'category': -1,\n",
       "   'lastLocatedTime': 0,\n",
       "   'bigFile': False,\n",
       "   'toMe': True,\n",
       "   'statusHex': '4000202000',\n",
       "   'isDomainMail': False},\n",
       "  {'mailSN': 74951,\n",
       "   'folderSN': 5,\n",
       "   'folderName': None,\n",
       "   'iconType': 0,\n",
       "   'status': 274880012288,\n",
       "   'from': {'name': '송라연', 'email': 'kukmh@nexon.com'},\n",
       "   'subject': '2019 이벤트 정품 비/아/그/라 할인행사중',\n",
       "   'receivedTime': 1568428900,\n",
       "   'sentTime': 0,\n",
       "   'size': 12380,\n",
       "   'attachCount': 0,\n",
       "   'iDomainEmail': 'wlsgy93@naver.com',\n",
       "   'priority': 3,\n",
       "   'securityLevel': None,\n",
       "   'reSend': False,\n",
       "   'color': '#ffffff',\n",
       "   'preview': '',\n",
       "   'mimeSN': '1568428901.435440.668.26368',\n",
       "   'toList': [{'name': '', 'email': 'wlsgy93@naver.com'}],\n",
       "   'spamType': 'SYSTEM_DEFINE',\n",
       "   'attachInfo': [],\n",
       "   'threadId': '',\n",
       "   'bccList': [],\n",
       "   'receiveByBcc': False,\n",
       "   'threadCount': 0,\n",
       "   'unreadThreadCount': 0,\n",
       "   'firstLocatedTime': 1568428900,\n",
       "   'remindAt': 0,\n",
       "   'threadRemindAt': 0,\n",
       "   'threadRemindFlag': 0,\n",
       "   'category': -1,\n",
       "   'lastLocatedTime': 0,\n",
       "   'bigFile': False,\n",
       "   'toMe': True,\n",
       "   'statusHex': '4000202000',\n",
       "   'isDomainMail': False},\n",
       "  {'mailSN': 74913,\n",
       "   'folderSN': 5,\n",
       "   'folderName': None,\n",
       "   'iconType': 0,\n",
       "   'status': 2097152,\n",
       "   'from': {'name': 'Martin D. Weiss, PhD',\n",
       "    'email': 'noreply@eml.weissratings.com'},\n",
       "   'subject': 'ONLY 4 HOURS LEFT: Do this before bed … or miss out forever',\n",
       "   'receivedTime': 1568160970,\n",
       "   'sentTime': 1568160965,\n",
       "   'size': 15743,\n",
       "   'attachCount': 0,\n",
       "   'iDomainEmail': 'wlsgy93@naver.com',\n",
       "   'priority': 3,\n",
       "   'securityLevel': None,\n",
       "   'reSend': False,\n",
       "   'color': '#ffffff',\n",
       "   'preview': '',\n",
       "   'mimeSN': '1568160970.683466.62372.26368',\n",
       "   'toList': [{'name': '', 'email': 'wlsgy93@naver.com'}],\n",
       "   'spamType': 'AUTO_MOVE',\n",
       "   'attachInfo': [],\n",
       "   'threadId': '<1573528120.1086658906.1568160965733.JavaMail.mktmail@sjmas03.marketo.org>',\n",
       "   'bccList': [],\n",
       "   'receiveByBcc': False,\n",
       "   'threadCount': 0,\n",
       "   'unreadThreadCount': 0,\n",
       "   'firstLocatedTime': 1568160970,\n",
       "   'remindAt': 0,\n",
       "   'threadRemindAt': 0,\n",
       "   'threadRemindFlag': 0,\n",
       "   'category': -1,\n",
       "   'lastLocatedTime': 1568170077,\n",
       "   'bigFile': False,\n",
       "   'toMe': True,\n",
       "   'statusHex': '200000',\n",
       "   'isDomainMail': False},\n",
       "  {'mailSN': 74907,\n",
       "   'folderSN': 5,\n",
       "   'folderName': None,\n",
       "   'iconType': 0,\n",
       "   'status': 2097152,\n",
       "   'from': {'name': 'Martin D. Weiss, PhD',\n",
       "    'email': 'noreply@eml.weissratings.com'},\n",
       "   'subject': 'EXPIRES AT 12 MIDNIGHT: Your LAST shot at getting “5G Rich”',\n",
       "   'receivedTime': 1568139376,\n",
       "   'sentTime': 1568139371,\n",
       "   'size': 13753,\n",
       "   'attachCount': 0,\n",
       "   'iDomainEmail': 'wlsgy93@naver.com',\n",
       "   'priority': 3,\n",
       "   'securityLevel': None,\n",
       "   'reSend': False,\n",
       "   'color': '#ffffff',\n",
       "   'preview': '',\n",
       "   'mimeSN': '1568139376.332267.58378.1792',\n",
       "   'toList': [{'name': '', 'email': 'wlsgy93@naver.com'}],\n",
       "   'spamType': 'AUTO_MOVE',\n",
       "   'attachInfo': [],\n",
       "   'threadId': '<143172650.1059141109.1568139371202.JavaMail.mktmail@sjmas02.marketo.org>',\n",
       "   'bccList': [],\n",
       "   'receiveByBcc': False,\n",
       "   'threadCount': 0,\n",
       "   'unreadThreadCount': 0,\n",
       "   'firstLocatedTime': 1568139376,\n",
       "   'remindAt': 0,\n",
       "   'threadRemindAt': 0,\n",
       "   'threadRemindFlag': 0,\n",
       "   'category': -1,\n",
       "   'lastLocatedTime': 1568155544,\n",
       "   'bigFile': False,\n",
       "   'toMe': True,\n",
       "   'statusHex': '200000',\n",
       "   'isDomainMail': False},\n",
       "  {'mailSN': 74892,\n",
       "   'folderSN': 5,\n",
       "   'folderName': None,\n",
       "   'iconType': 0,\n",
       "   'status': 274880012288,\n",
       "   'from': {'name': '김지원', 'email': 'swqla@nexon.com'},\n",
       "   'subject': '정품 비/아/그/라 구입 이제 집에서 클릭 한번으로 쉽게',\n",
       "   'receivedTime': 1568112520,\n",
       "   'sentTime': 0,\n",
       "   'size': 12395,\n",
       "   'attachCount': 0,\n",
       "   'iDomainEmail': 'wlsgy93@naver.com',\n",
       "   'priority': 3,\n",
       "   'securityLevel': None,\n",
       "   'reSend': False,\n",
       "   'color': '#ffffff',\n",
       "   'preview': '',\n",
       "   'mimeSN': '1568112520.691453.10513.50944',\n",
       "   'toList': [{'name': '', 'email': 'wlsgy93@naver.com'}],\n",
       "   'spamType': 'SYSTEM_DEFINE',\n",
       "   'attachInfo': [],\n",
       "   'threadId': '',\n",
       "   'bccList': [],\n",
       "   'receiveByBcc': False,\n",
       "   'threadCount': 0,\n",
       "   'unreadThreadCount': 0,\n",
       "   'firstLocatedTime': 1568112520,\n",
       "   'remindAt': 0,\n",
       "   'threadRemindAt': 0,\n",
       "   'threadRemindFlag': 0,\n",
       "   'category': -1,\n",
       "   'lastLocatedTime': 0,\n",
       "   'bigFile': False,\n",
       "   'toMe': True,\n",
       "   'statusHex': '4000202000',\n",
       "   'isDomainMail': False},\n",
       "  {'mailSN': 74878,\n",
       "   'folderSN': 5,\n",
       "   'folderName': None,\n",
       "   'iconType': 0,\n",
       "   'status': 2097152,\n",
       "   'from': {'name': 'Martin D. Weiss, PhD',\n",
       "    'email': 'noreply@eml.weissratings.com'},\n",
       "   'subject': 'Named inside: Three 5G stocks surging 3x the S&amp;P! NOW!',\n",
       "   'receivedTime': 1568060109,\n",
       "   'sentTime': 1568060104,\n",
       "   'size': 12233,\n",
       "   'attachCount': 0,\n",
       "   'iDomainEmail': 'wlsgy93@naver.com',\n",
       "   'priority': 3,\n",
       "   'securityLevel': None,\n",
       "   'reSend': False,\n",
       "   'color': '#ffffff',\n",
       "   'preview': '',\n",
       "   'mimeSN': '1568060109.586962.40192.59136',\n",
       "   'toList': [{'name': '', 'email': 'wlsgy93@naver.com'}],\n",
       "   'spamType': 'AUTO_MOVE',\n",
       "   'attachInfo': [],\n",
       "   'threadId': '<1344070528.1264484346.1568060104033.JavaMail.mktmail@sjmas01.marketo.org>',\n",
       "   'bccList': [],\n",
       "   'receiveByBcc': False,\n",
       "   'threadCount': 0,\n",
       "   'unreadThreadCount': 0,\n",
       "   'firstLocatedTime': 1568060109,\n",
       "   'remindAt': 0,\n",
       "   'threadRemindAt': 0,\n",
       "   'threadRemindFlag': 0,\n",
       "   'category': -1,\n",
       "   'lastLocatedTime': 1568076000,\n",
       "   'bigFile': False,\n",
       "   'toMe': True,\n",
       "   'statusHex': '200000',\n",
       "   'isDomainMail': False},\n",
       "  {'mailSN': 74875,\n",
       "   'folderSN': 5,\n",
       "   'folderName': None,\n",
       "   'iconType': 0,\n",
       "   'status': 2097152,\n",
       "   'from': {'name': 'Martin D. Weiss, PhD',\n",
       "    'email': 'noreply@eml.weissratings.com'},\n",
       "   'subject': '[URGENT] Critical Warning About Tomorrow Night',\n",
       "   'receivedTime': 1568045718,\n",
       "   'sentTime': 1568045713,\n",
       "   'size': 12325,\n",
       "   'attachCount': 0,\n",
       "   'iDomainEmail': 'wlsgy93@naver.com',\n",
       "   'priority': 3,\n",
       "   'securityLevel': None,\n",
       "   'reSend': False,\n",
       "   'color': '#ffffff',\n",
       "   'preview': '',\n",
       "   'mimeSN': '1568045718.156160.50002.50944',\n",
       "   'toList': [{'name': '', 'email': 'wlsgy93@naver.com'}],\n",
       "   'spamType': 'AUTO_MOVE',\n",
       "   'attachInfo': [],\n",
       "   'threadId': '<1538882298.1013925346.1568045713024.JavaMail.mktmail@sjmas02.marketo.org>',\n",
       "   'bccList': [],\n",
       "   'receiveByBcc': False,\n",
       "   'threadCount': 0,\n",
       "   'unreadThreadCount': 0,\n",
       "   'firstLocatedTime': 1568045718,\n",
       "   'remindAt': 0,\n",
       "   'threadRemindAt': 0,\n",
       "   'threadRemindFlag': 0,\n",
       "   'category': -1,\n",
       "   'lastLocatedTime': 1568081608,\n",
       "   'bigFile': False,\n",
       "   'toMe': True,\n",
       "   'statusHex': '200000',\n",
       "   'isDomainMail': False},\n",
       "  {'mailSN': 74867,\n",
       "   'folderSN': 5,\n",
       "   'folderName': None,\n",
       "   'iconType': 0,\n",
       "   'status': 2097152,\n",
       "   'from': {'name': 'DBGuide', 'email': 'newsletter@dbguide.net'},\n",
       "   'subject': '[DBGuide.net] 빅데이터 최고전략가 1기 교육생 모집중!! (접수기간 : 9월 22일까지)',\n",
       "   'receivedTime': 1568018919,\n",
       "   'sentTime': 1568018919,\n",
       "   'size': 22741,\n",
       "   'attachCount': 0,\n",
       "   'iDomainEmail': 'wlsgy93@naver.com',\n",
       "   'priority': 3,\n",
       "   'securityLevel': None,\n",
       "   'reSend': False,\n",
       "   'color': '#ffffff',\n",
       "   'preview': '',\n",
       "   'mimeSN': '1568018919.249157.40192.34560',\n",
       "   'toList': [{'name': '신진효님', 'email': 'wlsgy93@naver.com'}],\n",
       "   'spamType': 'AUTO_MOVE',\n",
       "   'attachInfo': [],\n",
       "   'threadId': '',\n",
       "   'bccList': [],\n",
       "   'receiveByBcc': False,\n",
       "   'threadCount': 0,\n",
       "   'unreadThreadCount': 0,\n",
       "   'firstLocatedTime': 1568018919,\n",
       "   'remindAt': 0,\n",
       "   'threadRemindAt': 0,\n",
       "   'threadRemindFlag': 0,\n",
       "   'category': -1,\n",
       "   'lastLocatedTime': 1568021244,\n",
       "   'bigFile': False,\n",
       "   'toMe': True,\n",
       "   'statusHex': '200000',\n",
       "   'isDomainMail': False},\n",
       "  {'mailSN': 74862,\n",
       "   'folderSN': 5,\n",
       "   'folderName': None,\n",
       "   'iconType': 0,\n",
       "   'status': 2097152,\n",
       "   'from': {'name': '강성희', 'email': 'support@dsschool.co.kr'},\n",
       "   'subject': '(광고) [깜짝선물] 추석명절을 맞아 특별한 선물을 준비했습니다.',\n",
       "   'receivedTime': 1568010671,\n",
       "   'sentTime': 1568010614,\n",
       "   'size': 83238,\n",
       "   'attachCount': 0,\n",
       "   'iDomainEmail': 'wlsgy93@naver.com',\n",
       "   'priority': 3,\n",
       "   'securityLevel': None,\n",
       "   'reSend': False,\n",
       "   'color': '#ffffff',\n",
       "   'preview': '',\n",
       "   'mimeSN': '1568010671.373888.38515.42752',\n",
       "   'toList': [{'name': '', 'email': 'wlsgy93@naver.com'}],\n",
       "   'spamType': 'AUTO_MOVE',\n",
       "   'attachInfo': [],\n",
       "   'threadId': '<4aacf587078cd8fe09b11345c.6df0a4922d.20190909062947.60f51ca822.0bbf1ef4@mail240.sea22.mcdlv.net>',\n",
       "   'bccList': [],\n",
       "   'receiveByBcc': False,\n",
       "   'threadCount': 0,\n",
       "   'unreadThreadCount': 0,\n",
       "   'firstLocatedTime': 1568010671,\n",
       "   'remindAt': 0,\n",
       "   'threadRemindAt': 0,\n",
       "   'threadRemindFlag': 0,\n",
       "   'category': -1,\n",
       "   'lastLocatedTime': 1568011167,\n",
       "   'bigFile': False,\n",
       "   'toMe': True,\n",
       "   'statusHex': '200000',\n",
       "   'isDomainMail': False},\n",
       "  {'mailSN': 74856,\n",
       "   'folderSN': 5,\n",
       "   'folderName': None,\n",
       "   'iconType': 0,\n",
       "   'status': 274880012288,\n",
       "   'from': {'name': '류희자', 'email': 'biltt@nexon.com'},\n",
       "   'subject': '해외정품 비/아/그/라 종합 남성 사이트 클릭  &lt;&lt;',\n",
       "   'receivedTime': 1568003776,\n",
       "   'sentTime': 0,\n",
       "   'size': 12395,\n",
       "   'attachCount': 0,\n",
       "   'iDomainEmail': 'wlsgy93@naver.com',\n",
       "   'priority': 3,\n",
       "   'securityLevel': None,\n",
       "   'reSend': False,\n",
       "   'color': '#ffffff',\n",
       "   'preview': '',\n",
       "   'mimeSN': '1568003777.730187.50002.50944',\n",
       "   'toList': [{'name': '', 'email': 'wlsgy93@naver.com'}],\n",
       "   'spamType': 'SYSTEM_DEFINE',\n",
       "   'attachInfo': [],\n",
       "   'threadId': '',\n",
       "   'bccList': [],\n",
       "   'receiveByBcc': False,\n",
       "   'threadCount': 0,\n",
       "   'unreadThreadCount': 0,\n",
       "   'firstLocatedTime': 1568003776,\n",
       "   'remindAt': 0,\n",
       "   'threadRemindAt': 0,\n",
       "   'threadRemindFlag': 0,\n",
       "   'category': -1,\n",
       "   'lastLocatedTime': 0,\n",
       "   'bigFile': False,\n",
       "   'toMe': True,\n",
       "   'statusHex': '4000202000',\n",
       "   'isDomainMail': False},\n",
       "  {'mailSN': 74847,\n",
       "   'folderSN': 5,\n",
       "   'folderName': None,\n",
       "   'iconType': 0,\n",
       "   'status': 274880012288,\n",
       "   'from': {'name': '정희빈', 'email': 'znnwr@nexon.com'},\n",
       "   'subject': '프리미엄 온라인 남성 종합 쇼핑몰 정품 비/아/그/라',\n",
       "   'receivedTime': 1567937380,\n",
       "   'sentTime': 0,\n",
       "   'size': 12421,\n",
       "   'attachCount': 0,\n",
       "   'iDomainEmail': 'wlsgy93@naver.com',\n",
       "   'priority': 3,\n",
       "   'securityLevel': None,\n",
       "   'reSend': False,\n",
       "   'color': '#ffffff',\n",
       "   'preview': '',\n",
       "   'mimeSN': '1567937380.105733.26003.9984',\n",
       "   'toList': [{'name': '', 'email': 'wlsgy93@naver.com'}],\n",
       "   'spamType': 'SYSTEM_DEFINE',\n",
       "   'attachInfo': [],\n",
       "   'threadId': '',\n",
       "   'bccList': [],\n",
       "   'receiveByBcc': False,\n",
       "   'threadCount': 0,\n",
       "   'unreadThreadCount': 0,\n",
       "   'firstLocatedTime': 1567937380,\n",
       "   'remindAt': 0,\n",
       "   'threadRemindAt': 0,\n",
       "   'threadRemindFlag': 0,\n",
       "   'category': -1,\n",
       "   'lastLocatedTime': 0,\n",
       "   'bigFile': False,\n",
       "   'toMe': True,\n",
       "   'statusHex': '4000202000',\n",
       "   'isDomainMail': False},\n",
       "  {'mailSN': 74839,\n",
       "   'folderSN': 5,\n",
       "   'folderName': None,\n",
       "   'iconType': 0,\n",
       "   'status': 274880012288,\n",
       "   'from': {'name': '이라정', 'email': 'zuwxt@nexon.com'},\n",
       "   'subject': '정품 비/아/그/라 종합 사이트 남자 Click 이벤트중',\n",
       "   'receivedTime': 1567862728,\n",
       "   'sentTime': 0,\n",
       "   'size': 12417,\n",
       "   'attachCount': 0,\n",
       "   'iDomainEmail': 'wlsgy93@naver.com',\n",
       "   'priority': 3,\n",
       "   'securityLevel': None,\n",
       "   'reSend': False,\n",
       "   'color': '#ffffff',\n",
       "   'preview': '',\n",
       "   'mimeSN': '1567862728.576177.48115.38656',\n",
       "   'toList': [{'name': '', 'email': 'wlsgy93@naver.com'}],\n",
       "   'spamType': 'SYSTEM_DEFINE',\n",
       "   'attachInfo': [],\n",
       "   'threadId': '',\n",
       "   'bccList': [],\n",
       "   'receiveByBcc': False,\n",
       "   'threadCount': 0,\n",
       "   'unreadThreadCount': 0,\n",
       "   'firstLocatedTime': 1567862728,\n",
       "   'remindAt': 0,\n",
       "   'threadRemindAt': 0,\n",
       "   'threadRemindFlag': 0,\n",
       "   'category': -1,\n",
       "   'lastLocatedTime': 0,\n",
       "   'bigFile': False,\n",
       "   'toMe': True,\n",
       "   'statusHex': '4000202000',\n",
       "   'isDomainMail': False},\n",
       "  {'mailSN': 74837,\n",
       "   'folderSN': 5,\n",
       "   'folderName': None,\n",
       "   'iconType': 0,\n",
       "   'status': 2097152,\n",
       "   'from': {'name': 'Martin D. Weiss, PhD',\n",
       "    'email': 'noreply@eml.weissratings.com'},\n",
       "   'subject': '[EXPIRING SOON] Your roadmap to systematic 5G windfalls',\n",
       "   'receivedTime': 1567862190,\n",
       "   'sentTime': 1567862183,\n",
       "   'size': 13451,\n",
       "   'attachCount': 0,\n",
       "   'iDomainEmail': 'wlsgy93@naver.com',\n",
       "   'priority': 3,\n",
       "   'securityLevel': None,\n",
       "   'reSend': False,\n",
       "   'color': '#ffffff',\n",
       "   'preview': '',\n",
       "   'mimeSN': '1567862190.108623.47607.18176',\n",
       "   'toList': [{'name': '', 'email': 'wlsgy93@naver.com'}],\n",
       "   'spamType': 'AUTO_MOVE',\n",
       "   'attachInfo': [],\n",
       "   'threadId': '<736469318.994980293.1567862183066.JavaMail.mktmail@sjmas03.marketo.org>',\n",
       "   'bccList': [],\n",
       "   'receiveByBcc': False,\n",
       "   'threadCount': 0,\n",
       "   'unreadThreadCount': 0,\n",
       "   'firstLocatedTime': 1567862190,\n",
       "   'remindAt': 0,\n",
       "   'threadRemindAt': 0,\n",
       "   'threadRemindFlag': 0,\n",
       "   'category': -1,\n",
       "   'lastLocatedTime': 1567870936,\n",
       "   'bigFile': False,\n",
       "   'toMe': True,\n",
       "   'statusHex': '200000',\n",
       "   'isDomainMail': False}],\n",
       " 'folderName': '스팸메일함',\n",
       " 'totalCount': 16,\n",
       " 'listCount': 15,\n",
       " 'Result': 'OK'}"
      ]
     },
     "execution_count": 98,
     "metadata": {},
     "output_type": "execute_result"
    }
   ],
   "source": [
    "resp = session.post(url)\n",
    "resp.json()"
   ]
  },
  {
   "cell_type": "code",
   "execution_count": 99,
   "metadata": {},
   "outputs": [
    {
     "data": {
      "text/plain": [
       "15"
      ]
     },
     "execution_count": 99,
     "metadata": {},
     "output_type": "execute_result"
    }
   ],
   "source": [
    "len(resp.json()[\"mailData\"])"
   ]
  },
  {
   "cell_type": "code",
   "execution_count": 100,
   "metadata": {},
   "outputs": [
    {
     "name": "stdout",
     "output_type": "stream",
     "text": [
      "(광고) 차 바꾸고 싶을때!!! 보증금 ZERO 신차 장기렌트가 무료견적 받아보세요~\n",
      "해외정품 비/아/그/라 종합 남성 사이트 클릭  &lt;&lt;\n",
      "2019 이벤트 정품 비/아/그/라 할인행사중\n",
      "2019 이벤트 정품 비/아/그/라 할인행사중\n",
      "ONLY 4 HOURS LEFT: Do this before bed … or miss out forever\n",
      "EXPIRES AT 12 MIDNIGHT: Your LAST shot at getting “5G Rich”\n",
      "정품 비/아/그/라 구입 이제 집에서 클릭 한번으로 쉽게\n",
      "Named inside: Three 5G stocks surging 3x the S&amp;P! NOW!\n",
      "[URGENT] Critical Warning About Tomorrow Night\n",
      "[DBGuide.net] 빅데이터 최고전략가 1기 교육생 모집중!! (접수기간 : 9월 22일까지)\n",
      "(광고) [깜짝선물] 추석명절을 맞아 특별한 선물을 준비했습니다.\n",
      "해외정품 비/아/그/라 종합 남성 사이트 클릭  &lt;&lt;\n",
      "프리미엄 온라인 남성 종합 쇼핑몰 정품 비/아/그/라\n",
      "정품 비/아/그/라 종합 사이트 남자 Click 이벤트중\n",
      "[EXPIRING SOON] Your roadmap to systematic 5G windfalls\n"
     ]
    }
   ],
   "source": [
    "# 스팸 메일의 제목을 뽑아보자.\n",
    "\n",
    "for _ in resp.json()[\"mailData\"]:\n",
    "    print(_[\"subject\"])"
   ]
  },
  {
   "cell_type": "code",
   "execution_count": 101,
   "metadata": {},
   "outputs": [],
   "source": [
    "driver.close()"
   ]
  },
  {
   "cell_type": "markdown",
   "metadata": {},
   "source": [
    "---"
   ]
  },
  {
   "cell_type": "markdown",
   "metadata": {},
   "source": [
    "# kt에서 실습"
   ]
  },
  {
   "cell_type": "code",
   "execution_count": 102,
   "metadata": {},
   "outputs": [],
   "source": [
    "driver = webdriver.Chrome()"
   ]
  },
  {
   "cell_type": "code",
   "execution_count": 103,
   "metadata": {},
   "outputs": [],
   "source": [
    "driver.get(\"http://www.kt.com\")"
   ]
  },
  {
   "cell_type": "code",
   "execution_count": 107,
   "metadata": {},
   "outputs": [
    {
     "name": "stdout",
     "output_type": "stream",
     "text": [
      "로그인\n",
      "회원가입\n",
      "간편조회\n",
      "간편가입\n",
      "요금조회\n",
      "소액결제\n",
      "요금제변경\n",
      "해외로밍\n"
     ]
    }
   ],
   "source": [
    "# 로그인 버튼 찾기\n",
    "# 특정할만한 attribute가 없으므로 구조를 이용해서 찾아야한다.\n",
    "\n",
    "for _ in driver.find_elements_by_css_selector(\n",
    "    \"span.quick a\"):\n",
    "    print(_.text)"
   ]
  },
  {
   "cell_type": "code",
   "execution_count": 106,
   "metadata": {},
   "outputs": [
    {
     "name": "stdout",
     "output_type": "stream",
     "text": [
      "로그인\n"
     ]
    }
   ],
   "source": [
    "# :first-child는 첫번째 자식을 고르라는 뜻이다. \n",
    "\n",
    "for _ in driver.find_elements_by_css_selector(\n",
    "    \"span.quick:first-child a:first-child\"):\n",
    "    print(_.text)"
   ]
  },
  {
   "cell_type": "code",
   "execution_count": 109,
   "metadata": {},
   "outputs": [],
   "source": [
    "# 로그인 창이 새로 뜰 것이다.\n",
    "\n",
    "driver.find_elements_by_css_selector(\n",
    "    \"span.quick:first-child a:first-child\")[0].click()"
   ]
  },
  {
   "cell_type": "code",
   "execution_count": 110,
   "metadata": {},
   "outputs": [
    {
     "data": {
      "text/plain": [
       "['CDwindow-00C3E75A73D70F3FB269D56EBBEA9A10',\n",
       " 'CDwindow-CE4FADA9DDEF7E0381F49C7A910DED6E']"
      ]
     },
     "execution_count": 110,
     "metadata": {},
     "output_type": "execute_result"
    }
   ],
   "source": [
    "# 로그인창이 새로 떳기 때문에 window_handles가 2개로 늘었났다.\n",
    "# 새로 뜨는 창은 리스트 뒤에 계속 붙는다.\n",
    "\n",
    "driver.window_handles"
   ]
  },
  {
   "cell_type": "code",
   "execution_count": 111,
   "metadata": {},
   "outputs": [
    {
     "name": "stderr",
     "output_type": "stream",
     "text": [
      "C:\\Users\\JINHYO\\Anaconda3\\lib\\site-packages\\ipykernel_launcher.py:3: DeprecationWarning: use driver.switch_to.window instead\n",
      "  This is separate from the ipykernel package so we can avoid doing imports until\n"
     ]
    }
   ],
   "source": [
    "# 새로 뜬 로그인창으로 이동하기\n",
    "\n",
    "driver.switch_to_window(driver.window_handles[-1])"
   ]
  },
  {
   "cell_type": "code",
   "execution_count": 113,
   "metadata": {},
   "outputs": [],
   "source": [
    "# 연습용으로 아이디 입력\n",
    "\n",
    "driver.find_element_by_css_selector(\"#userId\").send_keys(\"test\")"
   ]
  },
  {
   "cell_type": "code",
   "execution_count": 114,
   "metadata": {},
   "outputs": [],
   "source": [
    "# 연습용으로 password 입력까지만.\n",
    "\n",
    "driver.find_element_by_css_selector(\"#password1\").send_keys(\"test\")"
   ]
  },
  {
   "cell_type": "code",
   "execution_count": 115,
   "metadata": {},
   "outputs": [],
   "source": [
    "# 창 닫기\n",
    "\n",
    "driver.close()"
   ]
  },
  {
   "cell_type": "code",
   "execution_count": 116,
   "metadata": {},
   "outputs": [
    {
     "name": "stderr",
     "output_type": "stream",
     "text": [
      "C:\\Users\\JINHYO\\Anaconda3\\lib\\site-packages\\ipykernel_launcher.py:3: DeprecationWarning: use driver.switch_to.window instead\n",
      "  This is separate from the ipykernel package so we can avoid doing imports until\n"
     ]
    }
   ],
   "source": [
    "# 원래 브라우저로 돌아가기\n",
    "\n",
    "driver.switch_to_window(driver.window_handles[0])"
   ]
  },
  {
   "cell_type": "markdown",
   "metadata": {},
   "source": [
    "# 네이버 웹툰에서 실습"
   ]
  },
  {
   "cell_type": "code",
   "execution_count": 117,
   "metadata": {},
   "outputs": [],
   "source": [
    "driver.get(\"https://comic.naver.com\")"
   ]
  },
  {
   "cell_type": "code",
   "execution_count": 120,
   "metadata": {},
   "outputs": [],
   "source": [
    "driver.find_elements_by_css_selector(\".webtoon_area  > .bigimg > a\")[0].click()"
   ]
  },
  {
   "cell_type": "code",
   "execution_count": 123,
   "metadata": {
    "scrolled": true
   },
   "outputs": [
    {
     "name": "stdout",
     "output_type": "stream",
     "text": [
      "https://image-comic.pstatic.net/webtoon/183559/447/20190822100037_686d5ca293677b4420a129345a7914e3_IMAG01_1.jpg\n",
      "https://image-comic.pstatic.net/webtoon/183559/447/20190822100037_686d5ca293677b4420a129345a7914e3_IMAG01_2.jpg\n",
      "https://image-comic.pstatic.net/webtoon/183559/447/20190822100037_686d5ca293677b4420a129345a7914e3_IMAG01_3.jpg\n",
      "https://image-comic.pstatic.net/webtoon/183559/447/20190822100037_686d5ca293677b4420a129345a7914e3_IMAG01_4.jpg\n",
      "https://image-comic.pstatic.net/webtoon/183559/447/20190822100037_686d5ca293677b4420a129345a7914e3_IMAG01_5.jpg\n",
      "https://image-comic.pstatic.net/webtoon/183559/447/20190822100037_686d5ca293677b4420a129345a7914e3_IMAG01_6.jpg\n",
      "https://image-comic.pstatic.net/webtoon/183559/447/20190822100037_686d5ca293677b4420a129345a7914e3_IMAG01_7.jpg\n",
      "https://image-comic.pstatic.net/webtoon/183559/447/20190822100037_686d5ca293677b4420a129345a7914e3_IMAG01_8.jpg\n",
      "https://image-comic.pstatic.net/webtoon/183559/447/20190822100037_686d5ca293677b4420a129345a7914e3_IMAG01_9.jpg\n",
      "https://image-comic.pstatic.net/webtoon/183559/447/20190822100037_686d5ca293677b4420a129345a7914e3_IMAG01_10.jpg\n",
      "https://image-comic.pstatic.net/webtoon/183559/447/20190822100037_686d5ca293677b4420a129345a7914e3_IMAG01_11.jpg\n",
      "https://image-comic.pstatic.net/webtoon/183559/447/20190822100037_686d5ca293677b4420a129345a7914e3_IMAG01_12.jpg\n",
      "https://image-comic.pstatic.net/webtoon/183559/447/20190822100037_686d5ca293677b4420a129345a7914e3_IMAG01_13.jpg\n",
      "https://image-comic.pstatic.net/webtoon/183559/447/20190822100037_686d5ca293677b4420a129345a7914e3_IMAG01_14.jpg\n",
      "https://image-comic.pstatic.net/webtoon/183559/447/20190822100037_686d5ca293677b4420a129345a7914e3_IMAG01_15.jpg\n",
      "https://image-comic.pstatic.net/webtoon/183559/447/20190822100037_686d5ca293677b4420a129345a7914e3_IMAG01_16.jpg\n",
      "https://image-comic.pstatic.net/webtoon/183559/447/20190822100037_686d5ca293677b4420a129345a7914e3_IMAG01_17.jpg\n",
      "https://image-comic.pstatic.net/webtoon/183559/447/20190822100037_686d5ca293677b4420a129345a7914e3_IMAG01_18.jpg\n",
      "https://image-comic.pstatic.net/webtoon/183559/447/20190822100037_686d5ca293677b4420a129345a7914e3_IMAG01_19.jpg\n",
      "https://image-comic.pstatic.net/webtoon/183559/447/20190822100037_686d5ca293677b4420a129345a7914e3_IMAG01_20.jpg\n",
      "https://image-comic.pstatic.net/webtoon/183559/447/20190822100037_686d5ca293677b4420a129345a7914e3_IMAG01_21.jpg\n",
      "https://image-comic.pstatic.net/webtoon/183559/447/20190822100037_686d5ca293677b4420a129345a7914e3_IMAG01_22.jpg\n",
      "https://image-comic.pstatic.net/webtoon/183559/447/20190822100037_686d5ca293677b4420a129345a7914e3_IMAG01_23.jpg\n",
      "https://image-comic.pstatic.net/webtoon/183559/447/20190822100037_686d5ca293677b4420a129345a7914e3_IMAG01_24.jpg\n",
      "https://image-comic.pstatic.net/webtoon/183559/447/20190822100037_686d5ca293677b4420a129345a7914e3_IMAG01_25.jpg\n",
      "https://image-comic.pstatic.net/webtoon/183559/447/20190822100037_686d5ca293677b4420a129345a7914e3_IMAG01_26.jpg\n",
      "https://image-comic.pstatic.net/webtoon/183559/447/20190822100037_686d5ca293677b4420a129345a7914e3_IMAG01_27.jpg\n",
      "https://image-comic.pstatic.net/webtoon/183559/447/20190822100037_686d5ca293677b4420a129345a7914e3_IMAG01_28.jpg\n",
      "https://image-comic.pstatic.net/webtoon/183559/447/20190822100037_686d5ca293677b4420a129345a7914e3_IMAG01_29.jpg\n",
      "https://image-comic.pstatic.net/webtoon/183559/447/20190822100037_686d5ca293677b4420a129345a7914e3_IMAG01_30.jpg\n",
      "https://image-comic.pstatic.net/webtoon/183559/447/20190822100037_686d5ca293677b4420a129345a7914e3_IMAG01_31.jpg\n",
      "https://image-comic.pstatic.net/webtoon/183559/447/20190822100037_686d5ca293677b4420a129345a7914e3_IMAG01_32.jpg\n",
      "https://image-comic.pstatic.net/webtoon/183559/447/20190822100037_686d5ca293677b4420a129345a7914e3_IMAG01_33.jpg\n",
      "https://image-comic.pstatic.net/webtoon/183559/447/20190822100037_686d5ca293677b4420a129345a7914e3_IMAG01_34.jpg\n",
      "https://image-comic.pstatic.net/webtoon/183559/447/20190822100037_686d5ca293677b4420a129345a7914e3_IMAG01_35.jpg\n",
      "https://image-comic.pstatic.net/webtoon/183559/447/20190822100037_686d5ca293677b4420a129345a7914e3_IMAG01_36.jpg\n",
      "https://image-comic.pstatic.net/webtoon/183559/447/20190822100037_686d5ca293677b4420a129345a7914e3_IMAG01_37.jpg\n",
      "https://image-comic.pstatic.net/webtoon/183559/447/20190822100037_686d5ca293677b4420a129345a7914e3_IMAG01_38.jpg\n",
      "https://image-comic.pstatic.net/webtoon/183559/447/20190822100037_686d5ca293677b4420a129345a7914e3_IMAG01_39.jpg\n",
      "https://image-comic.pstatic.net/webtoon/183559/447/20190822100037_686d5ca293677b4420a129345a7914e3_IMAG01_40.jpg\n",
      "https://image-comic.pstatic.net/webtoon/183559/447/20190822100037_686d5ca293677b4420a129345a7914e3_IMAG01_41.jpg\n",
      "https://image-comic.pstatic.net/webtoon/183559/447/20190822100037_686d5ca293677b4420a129345a7914e3_IMAG01_42.jpg\n",
      "https://image-comic.pstatic.net/webtoon/183559/447/20190822100037_686d5ca293677b4420a129345a7914e3_IMAG01_43.jpg\n",
      "https://image-comic.pstatic.net/webtoon/183559/447/20190822100037_686d5ca293677b4420a129345a7914e3_IMAG01_44.jpg\n",
      "https://image-comic.pstatic.net/webtoon/183559/447/20190822100037_686d5ca293677b4420a129345a7914e3_IMAG01_45.jpg\n",
      "https://image-comic.pstatic.net/webtoon/183559/447/20190822100037_686d5ca293677b4420a129345a7914e3_IMAG01_46.jpg\n",
      "https://image-comic.pstatic.net/webtoon/183559/447/20190822100037_686d5ca293677b4420a129345a7914e3_IMAG01_47.jpg\n",
      "https://image-comic.pstatic.net/webtoon/183559/447/20190822100037_686d5ca293677b4420a129345a7914e3_IMAG01_48.jpg\n",
      "https://image-comic.pstatic.net/webtoon/183559/447/20190822100037_686d5ca293677b4420a129345a7914e3_IMAG01_49.jpg\n",
      "https://image-comic.pstatic.net/webtoon/183559/447/20190822100037_686d5ca293677b4420a129345a7914e3_IMAG01_50.jpg\n",
      "https://image-comic.pstatic.net/webtoon/183559/447/20190822100037_686d5ca293677b4420a129345a7914e3_IMAG01_51.jpg\n",
      "https://image-comic.pstatic.net/webtoon/183559/447/20190822100037_686d5ca293677b4420a129345a7914e3_IMAG01_52.jpg\n",
      "https://image-comic.pstatic.net/webtoon/183559/447/20190822100037_686d5ca293677b4420a129345a7914e3_IMAG01_53.jpg\n",
      "https://image-comic.pstatic.net/webtoon/183559/447/20190822100037_686d5ca293677b4420a129345a7914e3_IMAG01_54.jpg\n",
      "https://image-comic.pstatic.net/webtoon/183559/447/20190822100037_686d5ca293677b4420a129345a7914e3_IMAG01_55.jpg\n",
      "https://image-comic.pstatic.net/webtoon/183559/447/20190822100037_686d5ca293677b4420a129345a7914e3_IMAG01_56.jpg\n",
      "https://image-comic.pstatic.net/webtoon/183559/447/20190822100037_686d5ca293677b4420a129345a7914e3_IMAG01_57.jpg\n",
      "https://image-comic.pstatic.net/webtoon/183559/447/20190822100037_686d5ca293677b4420a129345a7914e3_IMAG01_58.jpg\n",
      "https://image-comic.pstatic.net/webtoon/183559/447/20190822100037_686d5ca293677b4420a129345a7914e3_IMAG01_59.jpg\n",
      "https://image-comic.pstatic.net/webtoon/183559/447/20190822100037_686d5ca293677b4420a129345a7914e3_IMAG01_60.jpg\n",
      "https://image-comic.pstatic.net/webtoon/183559/447/20190822100037_686d5ca293677b4420a129345a7914e3_IMAG01_61.jpg\n",
      "https://image-comic.pstatic.net/webtoon/183559/447/20190822100037_686d5ca293677b4420a129345a7914e3_IMAG01_62.jpg\n",
      "https://image-comic.pstatic.net/webtoon/183559/447/20190822100037_686d5ca293677b4420a129345a7914e3_IMAG01_63.jpg\n",
      "https://image-comic.pstatic.net/webtoon/183559/447/20190822100037_686d5ca293677b4420a129345a7914e3_IMAG01_64.jpg\n",
      "https://image-comic.pstatic.net/webtoon/183559/447/20190822100037_686d5ca293677b4420a129345a7914e3_IMAG01_65.jpg\n",
      "https://image-comic.pstatic.net/webtoon/183559/447/20190822100037_686d5ca293677b4420a129345a7914e3_IMAG01_66.jpg\n",
      "https://image-comic.pstatic.net/webtoon/183559/447/20190822100037_686d5ca293677b4420a129345a7914e3_IMAG01_67.jpg\n",
      "https://image-comic.pstatic.net/webtoon/183559/447/20190822100037_686d5ca293677b4420a129345a7914e3_IMAG01_68.jpg\n",
      "https://image-comic.pstatic.net/webtoon/183559/447/20190822100037_686d5ca293677b4420a129345a7914e3_IMAG01_69.jpg\n",
      "https://image-comic.pstatic.net/webtoon/183559/447/20190822100037_686d5ca293677b4420a129345a7914e3_IMAG01_70.jpg\n",
      "https://image-comic.pstatic.net/webtoon/183559/447/20190822100037_686d5ca293677b4420a129345a7914e3_IMAG01_71.jpg\n",
      "https://image-comic.pstatic.net/webtoon/183559/447/20190822100037_686d5ca293677b4420a129345a7914e3_IMAG01_72.jpg\n",
      "https://image-comic.pstatic.net/webtoon/183559/447/20190822100037_686d5ca293677b4420a129345a7914e3_IMAG01_73.jpg\n",
      "https://image-comic.pstatic.net/webtoon/183559/447/20190822100037_686d5ca293677b4420a129345a7914e3_IMAG01_74.jpg\n",
      "https://image-comic.pstatic.net/webtoon/183559/447/20190822100037_686d5ca293677b4420a129345a7914e3_IMAG01_75.jpg\n"
     ]
    },
    {
     "name": "stdout",
     "output_type": "stream",
     "text": [
      "https://image-comic.pstatic.net/webtoon/183559/447/20190822100037_686d5ca293677b4420a129345a7914e3_IMAG01_76.jpg\n"
     ]
    }
   ],
   "source": [
    "for _ in driver.find_elements_by_css_selector(\".wt_viewer > img\"):\n",
    "    print(_.get_attribute(\"src\"))"
   ]
  },
  {
   "cell_type": "code",
   "execution_count": 129,
   "metadata": {},
   "outputs": [
    {
     "data": {
      "text/plain": [
       "76"
      ]
     },
     "execution_count": 129,
     "metadata": {},
     "output_type": "execute_result"
    }
   ],
   "source": [
    "len([_ for _ in driver.find_elements_by_css_selector(\".wt_viewer > img\")])"
   ]
  },
  {
   "cell_type": "code",
   "execution_count": 126,
   "metadata": {},
   "outputs": [],
   "source": [
    "import os\n",
    "os.mkdir(\"webtoon_crawling\")"
   ]
  },
  {
   "cell_type": "code",
   "execution_count": 128,
   "metadata": {},
   "outputs": [],
   "source": [
    "for _ in driver.find_elements_by_css_selector(\".wt_viewer > img\"):\n",
    "#     print(_.get_attribute(\"src\"))\n",
    "    resp = requests.get(_.get_attribute(\"src\"))\n",
    "    with open(\"webtoon_crawling/\" + resp.url.split(\"/\")[-1], \"wb\") as fp:\n",
    "        fp.write(resp.content)"
   ]
  },
  {
   "cell_type": "code",
   "execution_count": 131,
   "metadata": {},
   "outputs": [
    {
     "name": "stderr",
     "output_type": "stream",
     "text": [
      "C:\\Users\\JINHYO\\Anaconda3\\lib\\site-packages\\ipykernel_launcher.py:1: DeprecationWarning: use driver.switch_to.frame instead\n",
      "  \"\"\"Entry point for launching an IPython kernel.\n"
     ]
    }
   ],
   "source": [
    "# 댓글은 iframe으로 감싸져있다.\n",
    "# iframe으로 들어가기.\n",
    "\n",
    "iframe = driver.find_element_by_css_selector(\"#commentIframe\")\n",
    "driver.switch_to_frame(iframe)"
   ]
  },
  {
   "cell_type": "code",
   "execution_count": 137,
   "metadata": {},
   "outputs": [
    {
     "data": {
      "text/plain": [
       "<selenium.webdriver.remote.webelement.WebElement (session=\"f278cc982fe5a72883cf32e8e33c346c\", element=\"20cc5089-9b77-4ae7-9e52-d668cc37e4ad\")>"
      ]
     },
     "execution_count": 137,
     "metadata": {},
     "output_type": "execute_result"
    }
   ],
   "source": [
    "driver.find_element_by_css_selector(\"#cbox_module\")"
   ]
  },
  {
   "cell_type": "code",
   "execution_count": 135,
   "metadata": {},
   "outputs": [
    {
     "name": "stdout",
     "output_type": "stream",
     "text": [
      "알리스타 바루스 봇듀 갑니다\n",
      "화이트코인 하락할 기미가 보이지 않는다;;\n",
      "라크 아무생각 없이 저 창 던져서 도와줄 거 같은데 ㅋㅋㅋㅋㅋㅋㅋㅋㅋㅋ\n",
      "원로는 우렉 몇 손가락일까\n",
      "아무리봐도 에반켈 코끼리의 힘이 더 쎄보인다..\n",
      "술취해서 개되는것도 전신의태인가요?\n",
      "다음화에 전신의태하면 진짜 야마 진짜 개 되나요?\n",
      "마지막 빅브리더 닮았네\n",
      "마도라코 랭커들 꽤 오랜 엑스트라였는데 결국 화이트식사였네\n",
      "현재까지의 밤에게 우호적인 하이랭커급인맥총정리우렉마지노(월하익송 부단장,랭킹4위)백련(월하익송 단장,랭킹9위)하진성(고대의괴물,퍼그원로,밤의 1번째스승)카라카(퍼그슬레이어,자하드의왕자)유리자하드(자하드의공주,하가문직계)포비더구스트앙(10가주,랭킹14위,엄빠친구)아를렌그레이스(엄마,불로불사니 어딘가에 생존중)에반에드록(자하드가 수속길잡이)유한성(2층 총시험감독관)베이로드야마(퍼그 제8번째권좌의 슬레이어)에반켈(전 2층 지배자,랭킹60위,밤의 제2번째스승)화이트(퍼그 10번째 권좌의 슬레이어,아리에가문직계)미르치아루슬렉(탑의실질적인악,퍼그 제1슬레이어,랭킹15위)대충꼽았는데 이정도... 탑최고인맥\n",
      "에반켈 스승맞춤형 캐릭터네요오브 - 밤 고대종 - 라크연가문불꽃 - 쿤\n",
      "역시 들소네요 고대종은 인도&힌두교 신화를 따온것\n",
      "이번화에서 크게 주목해야될 것은 2가지임.1. 밤이 내려가면서 얼굴에 무늬가 더 넓게 나타남.아마 베이로드의 첫째형에게 가까워져서인데, 정신적으로 연결되어 심장에 걸린 주술을 해제하게 되지 않을까 싶음.2. 라크가 루엔이라는 창을 사용할 것도 있지만고대종의 힘을 지닌 사람이 2명이나 있기에라크가 네이티브 원의 후손으로서 어떤 각성을 하게 될 계기가 있음.한 예로 전에 에반켈이 불을 사용하는 모습을 보고 라크가 반응했던 것이 있음.\n",
      "여태껏 나온 퍼그 길잡이들은 다 붉은 마녀네\n",
      "난 진짜 살면서 이렇게 모든 캐릭터의 개성이 살아있는 만화는 처음봤다. 사실상 연재하는 만화중 가장 꼭대기에 있다고해도 무방한 원피스조차 여캐들이 다들 너무 비슷하게 생겼다는 말이 많은데 신의 탑은 진짜 다들 개성이 뚜렷함작가님이 캐릭터 구성하는데 얼마나 노력하시는지 보임ㅋㅋ\n"
     ]
    }
   ],
   "source": [
    "# 댓글 가져오기\n",
    "\n",
    "for _ in driver.find_elements_by_css_selector(\".u_cbox_contents\"):\n",
    "    print(_.text)"
   ]
  },
  {
   "cell_type": "code",
   "execution_count": 140,
   "metadata": {},
   "outputs": [
    {
     "name": "stderr",
     "output_type": "stream",
     "text": [
      "C:\\Users\\JINHYO\\Anaconda3\\lib\\site-packages\\ipykernel_launcher.py:3: DeprecationWarning: use driver.switch_to.default_content instead\n",
      "  This is separate from the ipykernel package so we can avoid doing imports until\n"
     ]
    }
   ],
   "source": [
    "# iframe에서 나오기\n",
    "\n",
    "driver.switch_to_default_content()"
   ]
  },
  {
   "cell_type": "code",
   "execution_count": 141,
   "metadata": {},
   "outputs": [
    {
     "data": {
      "text/plain": [
       "'https://comic.naver.com/webtoon/detail.nhn?titleId=183559&no=447&amp;weekday=mon'"
      ]
     },
     "execution_count": 141,
     "metadata": {},
     "output_type": "execute_result"
    }
   ],
   "source": [
    "driver.current_url"
   ]
  },
  {
   "cell_type": "markdown",
   "metadata": {},
   "source": [
    "# 무얼 하고 있었더라..."
   ]
  },
  {
   "cell_type": "code",
   "execution_count": 143,
   "metadata": {},
   "outputs": [],
   "source": [
    "url = driver.find_element_by_css_selector(\"#commentIframe\").get_attribute(\"src\")\n",
    "resp = requests.get(url, headers={\"User-Agent\": \"Mozilla/5.0 (Windows NT 10.0; Win64; x64) AppleWebKit/537.36 (KHTML, like Gecko) Chrome/77.0.3865.75 Safari/537.36\"})"
   ]
  },
  {
   "cell_type": "code",
   "execution_count": 146,
   "metadata": {},
   "outputs": [],
   "source": [
    "dom = BeautifulSoup(resp.text, \"lxml\")"
   ]
  },
  {
   "cell_type": "markdown",
   "metadata": {},
   "source": [
    "# 최종 과제\n",
    "\n",
    "Selenium\n",
    "- 쿠팡 로그인\n",
    "- 쿠키\n",
    "\n",
    "Session\n",
    "- 쿠키 전달\n",
    "- 마이페이지 주문목록 가져오기"
   ]
  },
  {
   "cell_type": "markdown",
   "metadata": {},
   "source": [
    "#### 쿠팡 로그인"
   ]
  },
  {
   "cell_type": "code",
   "execution_count": 149,
   "metadata": {},
   "outputs": [],
   "source": [
    "driver.get(\"https://www.coupang.com/\")"
   ]
  },
  {
   "cell_type": "code",
   "execution_count": 151,
   "metadata": {},
   "outputs": [],
   "source": [
    "with open(\"coopang_id.json\", \"r\", encoding=\"utf-8\") as fp:\n",
    "    account = fp.read()"
   ]
  },
  {
   "cell_type": "code",
   "execution_count": 153,
   "metadata": {},
   "outputs": [],
   "source": [
    "account = json.loads(account)"
   ]
  },
  {
   "cell_type": "code",
   "execution_count": 158,
   "metadata": {},
   "outputs": [],
   "source": [
    "driver.find_element_by_css_selector(\".my-coupang.more\").click()"
   ]
  },
  {
   "cell_type": "code",
   "execution_count": 159,
   "metadata": {},
   "outputs": [],
   "source": [
    "driver.find_element_by_id(\"login-email-input\").send_keys(account[\"id\"])"
   ]
  },
  {
   "cell_type": "code",
   "execution_count": 160,
   "metadata": {},
   "outputs": [],
   "source": [
    "driver.find_element_by_id(\"login-password-input\").send_keys(account[\"pw\"])"
   ]
  },
  {
   "cell_type": "code",
   "execution_count": 162,
   "metadata": {},
   "outputs": [],
   "source": [
    "driver.find_element_by_css_selector(\"button[type=submit]\").click()"
   ]
  },
  {
   "cell_type": "markdown",
   "metadata": {},
   "source": [
    "#### 쿠키"
   ]
  },
  {
   "cell_type": "code",
   "execution_count": 169,
   "metadata": {},
   "outputs": [
    {
     "data": {
      "text/plain": [
       "[{'domain': '.coupang.com',\n",
       "  'expiry': 1568708162,\n",
       "  'httpOnly': False,\n",
       "  'name': 'baby-isWide',\n",
       "  'path': '/',\n",
       "  'secure': False,\n",
       "  'value': 'small'},\n",
       " {'domain': '.coupang.com',\n",
       "  'httpOnly': False,\n",
       "  'name': 'CPUSR_RL',\n",
       "  'path': '/',\n",
       "  'secure': False,\n",
       "  'value': 'eDFBp3pmeV8eN36q1CdZKeTt2A%2FtyFA3T6acFwc2Hvqk%2BFbqX%2BxBtaCoVYQSX8tYxsmYugN6JQlCSQSEuEW%2FiqAcuYXla8e19EfdaSj5kogxs0HaL8wXHLAeJp6%2Be3TQKokSlGzAeYul1CkrtPMOXnaOchoP9cQHYRrhXi9XV5VABC8RqTMW7ECzbpuELov5AUPwN9TupqxHGdmuTMxw5HTiIfGt8N7%2F1ZTTElY6WmUGnm8CTiUFOSNf5zpu7XJQSMRBRSboyASnUxQYhjQzwt%2BppHKRISkRauEUUsBYmhAkee1xUPIArj8N6eLUwj8XBC4zox6e6TSXAIX8DV%2BT7p2dKPaR%2FIhV%2BEYEhgJ4Q3E%3D'},\n",
       " {'domain': '.coupang.com',\n",
       "  'expiry': 1576397762,\n",
       "  'httpOnly': False,\n",
       "  'name': '_fbp',\n",
       "  'path': '/',\n",
       "  'secure': False,\n",
       "  'value': 'fb.1.1568621475835.1369191519'},\n",
       " {'domain': '.coupang.com',\n",
       "  'httpOnly': True,\n",
       "  'name': 'CUPT',\n",
       "  'path': '/',\n",
       "  'secure': False,\n",
       "  'value': '-XOA-D4gG_PdKy6Q8r8-HFzczwPitRGlwoIqqGyhHhdgOM-GXXiBWZEjGlzVPbLO4gEKIFhaOX5avFlpcPEKmhMdiUivAL1Bii5wO8vQA6U_i2X0wtoqpzCDmFxCfUiqHYs4RAOUnBOU1h_0xIObrNyRFKRazLw9-K3yJ9HwCYjPp6NUdyVCpv63bg_Pac0n'},\n",
       " {'domain': '.coupang.com',\n",
       "  'httpOnly': True,\n",
       "  'name': 'CSID',\n",
       "  'path': '/',\n",
       "  'secure': False,\n",
       "  'value': 'Xzj9jfPAH_r_EO5SuHQ2Vnyi6yFBitP4bFNuNOBwy6kV10Iew6OYfMUvMRIDCMVVmEk53M1-3Vn9z9olJQNoQw'},\n",
       " {'domain': '.coupang.com',\n",
       "  'expiry': 1600157760.824105,\n",
       "  'httpOnly': False,\n",
       "  'name': 'trackingNumber',\n",
       "  'path': '/',\n",
       "  'secure': False,\n",
       "  'value': '\"eURscU9tL3prSWhtQURQRmExaGVkM1JmbEhZcmVEZ1ZOcmVlVlVjNU9JU2dQcXZ3eUZVeFdGNnk2ejJIamFnZXZFWGJRWmJzMysrV25SUTdyMmlNNG5WS3JnQ3ZlVEl3YXBETVVPNDFUN3JGSWw2L0p5VXJTSHM5d1p3cno3VnNsaVlPM1NpeUVzNlNvVFViZG5zQ2R3PT0=\"'},\n",
       " {'domain': '.coupang.com',\n",
       "  'expiry': 3039850688.824085,\n",
       "  'httpOnly': False,\n",
       "  'name': 'gd1',\n",
       "  'path': '/',\n",
       "  'secure': False,\n",
       "  'value': 'Y'},\n",
       " {'domain': '.coupang.com',\n",
       "  'expiry': 1600157765.947625,\n",
       "  'httpOnly': False,\n",
       "  'name': 'member_srl',\n",
       "  'path': '/',\n",
       "  'secure': False,\n",
       "  'value': '117273927'},\n",
       " {'domain': '.coupang.com',\n",
       "  'expiry': 1568628675.346344,\n",
       "  'httpOnly': True,\n",
       "  'name': 'ak_bmsc',\n",
       "  'path': '/',\n",
       "  'secure': False,\n",
       "  'value': 'D1E6C55B842C9ADBA7D0543BBC210FEE68467A657A3C0000A2437F5D15AA5655~plVlIx7ZOWaF8736GnCMT2IScLy9PiGDhqdb4as+VqxMLFO6d5g6kuCGMiVz0/F0sZQoQgMgEp4Zh4EfIZqKFb8p+QZWetdQpldmq+LxwLFagnetNbxfr5r9xOcQkieFG4nDyQb6hU0rjXKYq4kS7LrlnSxYLAzPGnLzmR7VUvfEggDxkvjXEonaQk5UQDdxDRLqHoaP7J2zwgKI0yStkyQO5yBEXdDUvYgJbSxMrpNNgiqtLnA40CsqFetAC2E46pcoEkPPi/4tmaPiCGLrBRSggsgLC/SMipid5t2JyqQlY='},\n",
       " {'domain': '.coupang.com',\n",
       "  'expiry': 1602785475,\n",
       "  'httpOnly': False,\n",
       "  'name': 'cto_lwid',\n",
       "  'path': '/',\n",
       "  'secure': False,\n",
       "  'value': '7fd6bc2c-3984-4fc7-aefd-c7cc2102d99c'},\n",
       " {'domain': '.coupang.com',\n",
       "  'expiry': 1568708162,\n",
       "  'httpOnly': False,\n",
       "  'name': 'EVT_CBW_NOTI',\n",
       "  'path': '/',\n",
       "  'secure': False,\n",
       "  'value': 'Y'},\n",
       " {'domain': '.coupang.com',\n",
       "  'expiry': 1568623275.100452,\n",
       "  'httpOnly': False,\n",
       "  'name': 'overrideAbTestGroup',\n",
       "  'path': '/',\n",
       "  'secure': False,\n",
       "  'value': '%5B%5D'},\n",
       " {'domain': '.coupang.com',\n",
       "  'httpOnly': False,\n",
       "  'name': 'ILOGIN',\n",
       "  'path': '/',\n",
       "  'secure': False,\n",
       "  'value': 'Y'},\n",
       " {'domain': '.coupang.com',\n",
       "  'expiry': 1883981763.382213,\n",
       "  'httpOnly': False,\n",
       "  'name': 'PCID',\n",
       "  'path': '/',\n",
       "  'secure': False,\n",
       "  'value': '22007976946493841324202'},\n",
       " {'domain': '.coupang.com',\n",
       "  'expiry': 1569053765.947658,\n",
       "  'httpOnly': False,\n",
       "  'name': 'sid',\n",
       "  'path': '/',\n",
       "  'secure': False,\n",
       "  'value': '07e998d0fc8d4a678ea3f4bb022a0388d6e201bd'}]"
      ]
     },
     "execution_count": 169,
     "metadata": {},
     "output_type": "execute_result"
    }
   ],
   "source": [
    "driver.get_cookies()"
   ]
  },
  {
   "cell_type": "markdown",
   "metadata": {},
   "source": [
    "#### 쿠키 전달"
   ]
  },
  {
   "cell_type": "code",
   "execution_count": 167,
   "metadata": {},
   "outputs": [],
   "source": [
    "session = requests.Session()"
   ]
  },
  {
   "cell_type": "code",
   "execution_count": 168,
   "metadata": {},
   "outputs": [],
   "source": [
    "for _ in driver.get_cookies():\n",
    "#     print(_[\"name\"])\n",
    "#     print(_[\"value\"])\n",
    "    session.cookies.set(_[\"name\"], _[\"value\"])"
   ]
  },
  {
   "cell_type": "markdown",
   "metadata": {},
   "source": [
    "#### 마이페이지 주문목록 가져오기"
   ]
  },
  {
   "cell_type": "code",
   "execution_count": 176,
   "metadata": {},
   "outputs": [],
   "source": [
    "resp = session.get(driver.current_url)"
   ]
  },
  {
   "cell_type": "code",
   "execution_count": 177,
   "metadata": {},
   "outputs": [],
   "source": [
    "dom = BeautifulSoup(resp.text, \"lxml\")"
   ]
  },
  {
   "cell_type": "code",
   "execution_count": 178,
   "metadata": {},
   "outputs": [
    {
     "data": {
      "text/plain": [
       "'주문일 2019/3/4\\n\\n\\n\\n주문상세보기 \\n\\n\\n\\n\\n\\n\\n\\n\\n\\n\\n\\n레이어 닫기\\n\\n\\n\\n\\n\\n          판매자 정보\\n        \\n\\n\\n판매자명\\n뮤마스\\n\\n\\n연락처\\n053-217-7579\\n\\n\\n\\n\\n            판매자 뮤마스님에 문의하실 것이 있으세요?\\n          \\n\\n\\n\\n\\n              주민번호, 전화번호, 이메일 등 개인정보를 남기면 타인에 의해 도용될 수 있습니다.\\n              개인정보는 상품문의에 남기지 마세요.\\n            \\n\\n\\n              문의하신 내역은\\n              마이쿠팡 >\\n                고객센터 > 문의내역에서\\n              확인하실 수 있습니다.\\n            \\n\\n\\n\\n              판매자에게 1:1 문의하기\\n            \\n\\n\\n\\n\\n\\n\\n\\n주문 박스 단위\\n\\n\\n\\n\\n\\n\\n\\n\\n\\n\\n\\n\\n\\n\\n\\n\\n\\n\\n\\n\\n\\n\\n\\n\\n\\n\\n\\n\\n\\n\\n  바로와 코시나 규조토 욕실매트 + 미끄럼 방지패드\\n                        바로와 코시나 규조토 욕실매트 + 미끄럼 방지패드, 그레이, L(60 x 39 cm)\\n                      \\n\\n\\n                    \\n                      11,100원 /\\n                    \\n\\n                    \\n                      \\n                      \\n                        \\n                          1개\\n                        \\n                      \\n                    \\n\\n                    \\n                      \\n                        \\n                      \\n\\n                    \\n                  \\n\\n\\n\\n\\n\\n\\n\\n\\n\\n\\n배송완료\\n\\n\\n                    화요일 3/5 도착\\n                  \\n\\n\\n\\n\\n\\n                      배송조회\\n                    \\n\\n\\n\\n                                교환신청\\n                              \\n\\n\\n\\n                              반품신청\\n                            \\n\\n\\n구매후기 쓰기'"
      ]
     },
     "execution_count": 178,
     "metadata": {},
     "output_type": "execute_result"
    }
   ],
   "source": [
    "dom.select(\"#listContainer > div\")[0].text.strip()"
   ]
  },
  {
   "cell_type": "code",
   "execution_count": 184,
   "metadata": {},
   "outputs": [
    {
     "data": {
      "text/plain": [
       "'바로와 코시나 규조토 욕실매트 + 미끄럼 방지패드\\n                        바로와 코시나 규조토 욕실매트 + 미끄럼 방지패드, 그레이, L(60 x 39 cm)'"
      ]
     },
     "execution_count": 184,
     "metadata": {},
     "output_type": "execute_result"
    }
   ],
   "source": [
    "dom.select(\".my-order-unit__info-name.my-font--13\")[0].text.strip()"
   ]
  },
  {
   "cell_type": "code",
   "execution_count": 185,
   "metadata": {},
   "outputs": [
    {
     "data": {
      "text/plain": [
       "'https://my.coupang.com/purchase/list'"
      ]
     },
     "execution_count": 185,
     "metadata": {},
     "output_type": "execute_result"
    }
   ],
   "source": [
    "driver.current_url"
   ]
  },
  {
   "cell_type": "code",
   "execution_count": 192,
   "metadata": {},
   "outputs": [
    {
     "name": "stderr",
     "output_type": "stream",
     "text": [
      "C:\\Users\\JINHYO\\Anaconda3\\lib\\site-packages\\ipykernel_launcher.py:1: DeprecationWarning: use driver.switch_to.window instead\n",
      "  \"\"\"Entry point for launching an IPython kernel.\n"
     ]
    }
   ],
   "source": [
    "driver.switch_to_window(driver.window_handles[0])\n",
    "driver.close()"
   ]
  },
  {
   "cell_type": "code",
   "execution_count": null,
   "metadata": {},
   "outputs": [],
   "source": []
  }
 ],
 "metadata": {
  "kernelspec": {
   "display_name": "Python 3",
   "language": "python",
   "name": "python3"
  },
  "language_info": {
   "codemirror_mode": {
    "name": "ipython",
    "version": 3
   },
   "file_extension": ".py",
   "mimetype": "text/x-python",
   "name": "python",
   "nbconvert_exporter": "python",
   "pygments_lexer": "ipython3",
   "version": "3.7.3"
  }
 },
 "nbformat": 4,
 "nbformat_minor": 2
}
